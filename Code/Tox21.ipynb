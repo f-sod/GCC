{
 "cells": [
  {
   "cell_type": "markdown",
   "metadata": {},
   "source": [
    "# Tox 21"
   ]
  },
  {
   "cell_type": "markdown",
   "metadata": {},
   "source": [
    "The main goal of Tox21 is to develop better toxicity assessment methods that use high-throughput screening and computational methods to replace traditional animal testing.\n",
    "\n",
    "In the assay they use thousands of chemicals to test their interaction with a wide range of biological targets using high-throughput assays. Focuses on understanding how chemicals affect biological pathways relevant to disease or adverse outcomes.\n",
    "\n",
    "→ Common use of the dataset (Task):  \n",
    "- Focus on **understanding chemical toxicity** at a systemic level, including **effects on various biological pathways**.\n",
    "- Data is often used for risk assessment and regulatory decision-making.\n",
    "- We will focus on the toxocity pathwa : NR signaling , by retrieving assay readout "
   ]
  },
  {
   "cell_type": "markdown",
   "metadata": {},
   "source": [
    "## The files"
   ]
  },
  {
   "cell_type": "markdown",
   "metadata": {},
   "source": [
    "- *Tox21_assay_list.xltx* : Exhaustive list of assay conducted on NR. A total of 38 assay are conducted on NR \n",
    "- *tox21_10k_library_info.xls* : List of compouds tested in the assay with their CID and CAS identifier, unified identifier for \n",
    "- *Tox21Assay_SLPs and Descriptoons_2016* : 38 assay compressed, each folder have 4 files, we are interested in concatenating the __.aggregated.txt__ files into one csv file"
   ]
  },
  {
   "cell_type": "markdown",
   "metadata": {},
   "source": [
    "- Known target toward NR ; AR, ERα, FXR, PPARδ, PPARγ, RXR, TRβ, VDR, GR, hPXR, AhR, rPXR, CAR, ERR"
   ]
  },
  {
   "cell_type": "markdown",
   "metadata": {},
   "source": [
    "## Import Libraries"
   ]
  },
  {
   "cell_type": "code",
   "execution_count": 1,
   "metadata": {},
   "outputs": [],
   "source": [
    "import re\n",
    "import sys\n",
    "import warnings\n",
    "import glob , os\n",
    "import pandas as pd"
   ]
  },
  {
   "cell_type": "markdown",
   "metadata": {},
   "source": [
    "## Load the files"
   ]
  },
  {
   "cell_type": "code",
   "execution_count": 2,
   "metadata": {},
   "outputs": [
    {
     "data": {
      "text/html": [
       "<div>\n",
       "<style scoped>\n",
       "    .dataframe tbody tr th:only-of-type {\n",
       "        vertical-align: middle;\n",
       "    }\n",
       "\n",
       "    .dataframe tbody tr th {\n",
       "        vertical-align: top;\n",
       "    }\n",
       "\n",
       "    .dataframe thead th {\n",
       "        text-align: right;\n",
       "    }\n",
       "</style>\n",
       "<table border=\"1\" class=\"dataframe\">\n",
       "  <thead>\n",
       "    <tr style=\"text-align: right;\">\n",
       "      <th></th>\n",
       "      <th>Protocol Name</th>\n",
       "      <th>Assay Target</th>\n",
       "      <th>Target Category</th>\n",
       "      <th>Cell Line</th>\n",
       "      <th>Cell Type</th>\n",
       "    </tr>\n",
       "  </thead>\n",
       "  <tbody>\n",
       "    <tr>\n",
       "      <th>0</th>\n",
       "      <td>tox21-ache-p3</td>\n",
       "      <td>AChE (colormetric)</td>\n",
       "      <td>Neurotoxicity</td>\n",
       "      <td>SH-SY5Y</td>\n",
       "      <td>Neuroblast</td>\n",
       "    </tr>\n",
       "    <tr>\n",
       "      <th>1</th>\n",
       "      <td>tox21-ache-p4</td>\n",
       "      <td>AChE (fluorescent)</td>\n",
       "      <td>Neurotoxicity</td>\n",
       "      <td>SH-SY5Y</td>\n",
       "      <td>Neuroblast</td>\n",
       "    </tr>\n",
       "    <tr>\n",
       "      <th>2</th>\n",
       "      <td>tox21-ache-p5</td>\n",
       "      <td>AChE</td>\n",
       "      <td>Neurotoxicity</td>\n",
       "      <td>NaN</td>\n",
       "      <td>Biochemical</td>\n",
       "    </tr>\n",
       "    <tr>\n",
       "      <th>3</th>\n",
       "      <td>tox21-ahr-p1</td>\n",
       "      <td>AhR</td>\n",
       "      <td>NR</td>\n",
       "      <td>HepG2</td>\n",
       "      <td>Liver</td>\n",
       "    </tr>\n",
       "    <tr>\n",
       "      <th>4</th>\n",
       "      <td>tox21-ap1-agonist-p1</td>\n",
       "      <td>AP-1 agonist</td>\n",
       "      <td>SR</td>\n",
       "      <td>ME-180</td>\n",
       "      <td>Cervical Cancer</td>\n",
       "    </tr>\n",
       "  </tbody>\n",
       "</table>\n",
       "</div>"
      ],
      "text/plain": [
       "          Protocol Name        Assay Target Target Category Cell Line  \\\n",
       "0         tox21-ache-p3  AChE (colormetric)   Neurotoxicity   SH-SY5Y   \n",
       "1         tox21-ache-p4  AChE (fluorescent)   Neurotoxicity   SH-SY5Y   \n",
       "2         tox21-ache-p5                AChE   Neurotoxicity       NaN   \n",
       "3         tox21-ahr-p1                  AhR              NR     HepG2   \n",
       "4  tox21-ap1-agonist-p1        AP-1 agonist              SR    ME-180   \n",
       "\n",
       "         Cell Type  \n",
       "0       Neuroblast  \n",
       "1       Neuroblast  \n",
       "2      Biochemical  \n",
       "3            Liver  \n",
       "4  Cervical Cancer  "
      ]
     },
     "execution_count": 2,
     "metadata": {},
     "output_type": "execute_result"
    }
   ],
   "source": [
    "assay_list = pd.read_excel('../Data_reviewed/Tox21/Tox21_assay_list.xltx')\n",
    "assay_list.head()\n"
   ]
  },
  {
   "cell_type": "code",
   "execution_count": 3,
   "metadata": {},
   "outputs": [
    {
     "name": "stdout",
     "output_type": "stream",
     "text": [
      "There are 38 NR different assays in the Tox21 dataset\n"
     ]
    },
    {
     "data": {
      "text/html": [
       "<div>\n",
       "<style scoped>\n",
       "    .dataframe tbody tr th:only-of-type {\n",
       "        vertical-align: middle;\n",
       "    }\n",
       "\n",
       "    .dataframe tbody tr th {\n",
       "        vertical-align: top;\n",
       "    }\n",
       "\n",
       "    .dataframe thead th {\n",
       "        text-align: right;\n",
       "    }\n",
       "</style>\n",
       "<table border=\"1\" class=\"dataframe\">\n",
       "  <thead>\n",
       "    <tr style=\"text-align: right;\">\n",
       "      <th></th>\n",
       "      <th>Protocol Name</th>\n",
       "      <th>Assay Target</th>\n",
       "      <th>Target Category</th>\n",
       "      <th>Cell Line</th>\n",
       "      <th>Cell Type</th>\n",
       "    </tr>\n",
       "  </thead>\n",
       "  <tbody>\n",
       "    <tr>\n",
       "      <th>3</th>\n",
       "      <td>tox21-ahr-p1</td>\n",
       "      <td>AhR</td>\n",
       "      <td>NR</td>\n",
       "      <td>HepG2</td>\n",
       "      <td>Liver</td>\n",
       "    </tr>\n",
       "    <tr>\n",
       "      <th>5</th>\n",
       "      <td>tox21-ar-bla-agonist-p1</td>\n",
       "      <td>AR-BLA agonist</td>\n",
       "      <td>NR</td>\n",
       "      <td>HEK293</td>\n",
       "      <td>Kidney</td>\n",
       "    </tr>\n",
       "    <tr>\n",
       "      <th>6</th>\n",
       "      <td>tox21-ar-bla-antagonist-p1</td>\n",
       "      <td>AR-BLA antagonist</td>\n",
       "      <td>NR</td>\n",
       "      <td>HEK293</td>\n",
       "      <td>Kidney</td>\n",
       "    </tr>\n",
       "    <tr>\n",
       "      <th>7</th>\n",
       "      <td>tox21-ar-mda-kb2-luc-agonist-p1</td>\n",
       "      <td>AR-MDA agonist</td>\n",
       "      <td>NR</td>\n",
       "      <td>MDA-MB-453</td>\n",
       "      <td>Breast Cancer</td>\n",
       "    </tr>\n",
       "    <tr>\n",
       "      <th>8</th>\n",
       "      <td>tox21-ar-mda-kb2-luc-agonist-p3</td>\n",
       "      <td>AR-MDA agonist (with antagonist)</td>\n",
       "      <td>NR</td>\n",
       "      <td>MDA-MB-453</td>\n",
       "      <td>Breast Cancer</td>\n",
       "    </tr>\n",
       "    <tr>\n",
       "      <th>9</th>\n",
       "      <td>tox21-ar-mda-kb2-luc-antagonist-p1</td>\n",
       "      <td>AR-MDA antagonist</td>\n",
       "      <td>NR</td>\n",
       "      <td>MDA-MB-453</td>\n",
       "      <td>Breast Cancer</td>\n",
       "    </tr>\n",
       "    <tr>\n",
       "      <th>10</th>\n",
       "      <td>tox21-ar-mda-kb2-luc-antagonist-p2</td>\n",
       "      <td>AR-MDA antagonist (lower agonist)</td>\n",
       "      <td>NR</td>\n",
       "      <td>MDA-MB-453</td>\n",
       "      <td>Breast Cancer</td>\n",
       "    </tr>\n",
       "    <tr>\n",
       "      <th>13</th>\n",
       "      <td>tox21-car-agonist-p1</td>\n",
       "      <td>CAR agonist</td>\n",
       "      <td>NR</td>\n",
       "      <td>HepG2</td>\n",
       "      <td>Liver</td>\n",
       "    </tr>\n",
       "    <tr>\n",
       "      <th>14</th>\n",
       "      <td>tox21-car-antagonist-p1</td>\n",
       "      <td>CAR antagonist</td>\n",
       "      <td>NR</td>\n",
       "      <td>HepG2</td>\n",
       "      <td>Liver</td>\n",
       "    </tr>\n",
       "    <tr>\n",
       "      <th>19</th>\n",
       "      <td>tox21-er-bla-agonist-p2</td>\n",
       "      <td>ER-BLA agonist</td>\n",
       "      <td>NR</td>\n",
       "      <td>HEK293</td>\n",
       "      <td>Kidney</td>\n",
       "    </tr>\n",
       "    <tr>\n",
       "      <th>20</th>\n",
       "      <td>tox21-er-bla-antagonist-p1</td>\n",
       "      <td>ER-BLA antagonist</td>\n",
       "      <td>NR</td>\n",
       "      <td>HEK293</td>\n",
       "      <td>Kidney</td>\n",
       "    </tr>\n",
       "    <tr>\n",
       "      <th>21</th>\n",
       "      <td>tox21-er-luc-bg1-4e2-agonist-p2</td>\n",
       "      <td>ER-BG1 agonist</td>\n",
       "      <td>NR</td>\n",
       "      <td>BG1</td>\n",
       "      <td>Ovarian</td>\n",
       "    </tr>\n",
       "    <tr>\n",
       "      <th>22</th>\n",
       "      <td>tox21-er-luc-bg1-4e2-agonist-p4</td>\n",
       "      <td>ER-BG1 agonist (with antagonist)</td>\n",
       "      <td>NR</td>\n",
       "      <td>BG1</td>\n",
       "      <td>Ovarian</td>\n",
       "    </tr>\n",
       "    <tr>\n",
       "      <th>23</th>\n",
       "      <td>tox21-er-luc-bg1-4e2-antagonist-p1</td>\n",
       "      <td>ER-BG1 antagonist</td>\n",
       "      <td>NR</td>\n",
       "      <td>BG1</td>\n",
       "      <td>Ovarian</td>\n",
       "    </tr>\n",
       "    <tr>\n",
       "      <th>24</th>\n",
       "      <td>tox21-er-luc-bg1-4e2-antagonist-p2</td>\n",
       "      <td>ER-BG1 antagonist (lower agonist)</td>\n",
       "      <td>NR</td>\n",
       "      <td>BG1</td>\n",
       "      <td>Ovarian</td>\n",
       "    </tr>\n",
       "    <tr>\n",
       "      <th>25</th>\n",
       "      <td>tox21-erb-bla-antagonist-p1</td>\n",
       "      <td>ER-beta antagonist</td>\n",
       "      <td>NR</td>\n",
       "      <td>HEK293</td>\n",
       "      <td>Kidney</td>\n",
       "    </tr>\n",
       "    <tr>\n",
       "      <th>26</th>\n",
       "      <td>tox21-erb-bla-p1</td>\n",
       "      <td>ER-beta agonist</td>\n",
       "      <td>NR</td>\n",
       "      <td>HEK293</td>\n",
       "      <td>Kidney</td>\n",
       "    </tr>\n",
       "    <tr>\n",
       "      <th>27</th>\n",
       "      <td>tox21-err-p1</td>\n",
       "      <td>ERR</td>\n",
       "      <td>NR</td>\n",
       "      <td>HEK293</td>\n",
       "      <td>Kidney</td>\n",
       "    </tr>\n",
       "    <tr>\n",
       "      <th>29</th>\n",
       "      <td>tox21-fxr-bla-agonist-p2</td>\n",
       "      <td>FXR-BLA agonist</td>\n",
       "      <td>NR</td>\n",
       "      <td>HEK293</td>\n",
       "      <td>Kidney</td>\n",
       "    </tr>\n",
       "    <tr>\n",
       "      <th>30</th>\n",
       "      <td>tox21-fxr-bla-antagonist-p1</td>\n",
       "      <td>FXR-BLA antagonist</td>\n",
       "      <td>NR</td>\n",
       "      <td>HEK293</td>\n",
       "      <td>Kidney</td>\n",
       "    </tr>\n",
       "    <tr>\n",
       "      <th>31</th>\n",
       "      <td>tox21-gh3-tre-agonist-p1</td>\n",
       "      <td>TR-beta agonist</td>\n",
       "      <td>NR</td>\n",
       "      <td>GH3</td>\n",
       "      <td>Rat pituitary</td>\n",
       "    </tr>\n",
       "    <tr>\n",
       "      <th>32</th>\n",
       "      <td>tox21-gh3-tre-antagonist-p1</td>\n",
       "      <td>TR-beta antagonist</td>\n",
       "      <td>NR</td>\n",
       "      <td>GH3</td>\n",
       "      <td>Rat pituitary</td>\n",
       "    </tr>\n",
       "    <tr>\n",
       "      <th>33</th>\n",
       "      <td>tox21-gr-hela-bla-agonist-p1</td>\n",
       "      <td>GR-BLA agonist</td>\n",
       "      <td>NR</td>\n",
       "      <td>HeLa</td>\n",
       "      <td>Cervical Cancer</td>\n",
       "    </tr>\n",
       "    <tr>\n",
       "      <th>34</th>\n",
       "      <td>tox21-gr-hela-bla-antagonist-p1</td>\n",
       "      <td>GR-BLA antagonist</td>\n",
       "      <td>NR</td>\n",
       "      <td>HeLa</td>\n",
       "      <td>Cervical Cancer</td>\n",
       "    </tr>\n",
       "    <tr>\n",
       "      <th>54</th>\n",
       "      <td>tox21-pgc-err-p1</td>\n",
       "      <td>PGC-ERR</td>\n",
       "      <td>NR</td>\n",
       "      <td>HEK293</td>\n",
       "      <td>Kidney</td>\n",
       "    </tr>\n",
       "    <tr>\n",
       "      <th>55</th>\n",
       "      <td>tox21-ppard-bla-agonist-p1</td>\n",
       "      <td>PPAR-delta-BLA agonist</td>\n",
       "      <td>NR</td>\n",
       "      <td>HEK293</td>\n",
       "      <td>Kidney</td>\n",
       "    </tr>\n",
       "    <tr>\n",
       "      <th>56</th>\n",
       "      <td>tox21-ppard-bla-antagonist-p1</td>\n",
       "      <td>PPAR-delta-BLA antagonist</td>\n",
       "      <td>NR</td>\n",
       "      <td>HEK293</td>\n",
       "      <td>Kidney</td>\n",
       "    </tr>\n",
       "    <tr>\n",
       "      <th>57</th>\n",
       "      <td>tox21-pparg-bla-agonist-p1</td>\n",
       "      <td>PPAR-gamma agonist</td>\n",
       "      <td>NR</td>\n",
       "      <td>HEK293</td>\n",
       "      <td>Kidney</td>\n",
       "    </tr>\n",
       "    <tr>\n",
       "      <th>58</th>\n",
       "      <td>tox21-pparg-bla-antagonist-p1</td>\n",
       "      <td>PPAR-gamma antagonist</td>\n",
       "      <td>NR</td>\n",
       "      <td>HEK293</td>\n",
       "      <td>Kidney</td>\n",
       "    </tr>\n",
       "    <tr>\n",
       "      <th>59</th>\n",
       "      <td>tox21-pr-bla-agonist-p1</td>\n",
       "      <td>PR-BLA agonist</td>\n",
       "      <td>NR</td>\n",
       "      <td>HEK293</td>\n",
       "      <td>Kidney</td>\n",
       "    </tr>\n",
       "    <tr>\n",
       "      <th>60</th>\n",
       "      <td>tox21-pr-bla-antagonist-p1</td>\n",
       "      <td>PR-BLA antagonist</td>\n",
       "      <td>NR</td>\n",
       "      <td>HEK293</td>\n",
       "      <td>Kidney</td>\n",
       "    </tr>\n",
       "    <tr>\n",
       "      <th>61</th>\n",
       "      <td>tox21-pxr-p1</td>\n",
       "      <td>PXR agonist</td>\n",
       "      <td>NR</td>\n",
       "      <td>HepG2</td>\n",
       "      <td>Liver</td>\n",
       "    </tr>\n",
       "    <tr>\n",
       "      <th>62</th>\n",
       "      <td>tox21-rar-agonist-p1</td>\n",
       "      <td>RAR agonist</td>\n",
       "      <td>NR</td>\n",
       "      <td>C3H10T1/2</td>\n",
       "      <td>Murine embryo fibroblast</td>\n",
       "    </tr>\n",
       "    <tr>\n",
       "      <th>63</th>\n",
       "      <td>tox21-rar-antagonist-p2</td>\n",
       "      <td>RAR antagonist</td>\n",
       "      <td>NR</td>\n",
       "      <td>C3H10T1/2</td>\n",
       "      <td>Murine embryo fibroblast</td>\n",
       "    </tr>\n",
       "    <tr>\n",
       "      <th>65</th>\n",
       "      <td>tox21-ror-cho-antagonist-p1</td>\n",
       "      <td>ROR antagonist</td>\n",
       "      <td>NR</td>\n",
       "      <td>CHO</td>\n",
       "      <td>Hamster</td>\n",
       "    </tr>\n",
       "    <tr>\n",
       "      <th>69</th>\n",
       "      <td>tox21-rxr-bla-agonist-p1</td>\n",
       "      <td>RXR-BLA</td>\n",
       "      <td>NR</td>\n",
       "      <td>HEK293</td>\n",
       "      <td>Kidney</td>\n",
       "    </tr>\n",
       "    <tr>\n",
       "      <th>80</th>\n",
       "      <td>tox21-vdr-bla-agonist-p1</td>\n",
       "      <td>VDR-BLA agonist</td>\n",
       "      <td>NR</td>\n",
       "      <td>HEK293</td>\n",
       "      <td>Kidney</td>\n",
       "    </tr>\n",
       "    <tr>\n",
       "      <th>81</th>\n",
       "      <td>tox21-vdr-bla-antagonist-p1</td>\n",
       "      <td>VDR-BLA antagonist</td>\n",
       "      <td>NR</td>\n",
       "      <td>HEK293</td>\n",
       "      <td>Kidney</td>\n",
       "    </tr>\n",
       "  </tbody>\n",
       "</table>\n",
       "</div>"
      ],
      "text/plain": [
       "                         Protocol Name                       Assay Target  \\\n",
       "3                        tox21-ahr-p1                                 AhR   \n",
       "5             tox21-ar-bla-agonist-p1                      AR-BLA agonist   \n",
       "6           tox21-ar-bla-antagonist-p1                  AR-BLA antagonist   \n",
       "7     tox21-ar-mda-kb2-luc-agonist-p1                      AR-MDA agonist   \n",
       "8      tox21-ar-mda-kb2-luc-agonist-p3   AR-MDA agonist (with antagonist)   \n",
       "9   tox21-ar-mda-kb2-luc-antagonist-p1                  AR-MDA antagonist   \n",
       "10  tox21-ar-mda-kb2-luc-antagonist-p2  AR-MDA antagonist (lower agonist)   \n",
       "13                tox21-car-agonist-p1                        CAR agonist   \n",
       "14             tox21-car-antagonist-p1                     CAR antagonist   \n",
       "19            tox21-er-bla-agonist-p2                      ER-BLA agonist   \n",
       "20          tox21-er-bla-antagonist-p1                  ER-BLA antagonist   \n",
       "21    tox21-er-luc-bg1-4e2-agonist-p2                      ER-BG1 agonist   \n",
       "22     tox21-er-luc-bg1-4e2-agonist-p4   ER-BG1 agonist (with antagonist)   \n",
       "23  tox21-er-luc-bg1-4e2-antagonist-p1                  ER-BG1 antagonist   \n",
       "24  tox21-er-luc-bg1-4e2-antagonist-p2  ER-BG1 antagonist (lower agonist)   \n",
       "25         tox21-erb-bla-antagonist-p1                 ER-beta antagonist   \n",
       "26                    tox21-erb-bla-p1                    ER-beta agonist   \n",
       "27                        tox21-err-p1                                ERR   \n",
       "29            tox21-fxr-bla-agonist-p2                    FXR-BLA agonist   \n",
       "30         tox21-fxr-bla-antagonist-p1                 FXR-BLA antagonist   \n",
       "31            tox21-gh3-tre-agonist-p1                    TR-beta agonist   \n",
       "32         tox21-gh3-tre-antagonist-p1                 TR-beta antagonist   \n",
       "33        tox21-gr-hela-bla-agonist-p1                     GR-BLA agonist   \n",
       "34     tox21-gr-hela-bla-antagonist-p1                  GR-BLA antagonist   \n",
       "54                    tox21-pgc-err-p1                            PGC-ERR   \n",
       "55          tox21-ppard-bla-agonist-p1             PPAR-delta-BLA agonist   \n",
       "56       tox21-ppard-bla-antagonist-p1          PPAR-delta-BLA antagonist   \n",
       "57         tox21-pparg-bla-agonist-p1                  PPAR-gamma agonist   \n",
       "58       tox21-pparg-bla-antagonist-p1              PPAR-gamma antagonist   \n",
       "59             tox21-pr-bla-agonist-p1                     PR-BLA agonist   \n",
       "60          tox21-pr-bla-antagonist-p1                  PR-BLA antagonist   \n",
       "61                        tox21-pxr-p1                        PXR agonist   \n",
       "62                tox21-rar-agonist-p1                        RAR agonist   \n",
       "63             tox21-rar-antagonist-p2                     RAR antagonist   \n",
       "65         tox21-ror-cho-antagonist-p1                     ROR antagonist   \n",
       "69            tox21-rxr-bla-agonist-p1                            RXR-BLA   \n",
       "80            tox21-vdr-bla-agonist-p1                    VDR-BLA agonist   \n",
       "81         tox21-vdr-bla-antagonist-p1                 VDR-BLA antagonist   \n",
       "\n",
       "   Target Category   Cell Line                 Cell Type  \n",
       "3               NR       HepG2                     Liver  \n",
       "5               NR      HEK293                    Kidney  \n",
       "6               NR      HEK293                    Kidney  \n",
       "7               NR  MDA-MB-453             Breast Cancer  \n",
       "8               NR  MDA-MB-453             Breast Cancer  \n",
       "9               NR  MDA-MB-453             Breast Cancer  \n",
       "10              NR  MDA-MB-453             Breast Cancer  \n",
       "13              NR       HepG2                     Liver  \n",
       "14              NR       HepG2                     Liver  \n",
       "19              NR      HEK293                    Kidney  \n",
       "20              NR      HEK293                    Kidney  \n",
       "21              NR         BG1                   Ovarian  \n",
       "22              NR         BG1                   Ovarian  \n",
       "23              NR         BG1                   Ovarian  \n",
       "24              NR         BG1                   Ovarian  \n",
       "25              NR      HEK293                    Kidney  \n",
       "26              NR      HEK293                    Kidney  \n",
       "27              NR      HEK293                    Kidney  \n",
       "29              NR      HEK293                    Kidney  \n",
       "30              NR      HEK293                    Kidney  \n",
       "31              NR         GH3             Rat pituitary  \n",
       "32              NR         GH3             Rat pituitary  \n",
       "33              NR        HeLa           Cervical Cancer  \n",
       "34              NR        HeLa           Cervical Cancer  \n",
       "54              NR      HEK293                    Kidney  \n",
       "55              NR      HEK293                    Kidney  \n",
       "56              NR      HEK293                    Kidney  \n",
       "57              NR      HEK293                    Kidney  \n",
       "58              NR      HEK293                    Kidney  \n",
       "59              NR      HEK293                    Kidney  \n",
       "60              NR      HEK293                    Kidney  \n",
       "61              NR       HepG2                     Liver  \n",
       "62              NR   C3H10T1/2  Murine embryo fibroblast  \n",
       "63              NR   C3H10T1/2  Murine embryo fibroblast  \n",
       "65              NR         CHO                   Hamster  \n",
       "69              NR      HEK293                    Kidney  \n",
       "80              NR      HEK293                    Kidney  \n",
       "81              NR      HEK293                    Kidney  "
      ]
     },
     "execution_count": 3,
     "metadata": {},
     "output_type": "execute_result"
    }
   ],
   "source": [
    "assay_list_nr = assay_list[assay_list['Target Category'] == 'NR']\n",
    "print(f'There are {len(assay_list_nr)} NR different assays in the Tox21 dataset')\n",
    "assay_list_nr"
   ]
  },
  {
   "cell_type": "code",
   "execution_count": 4,
   "metadata": {},
   "outputs": [
    {
     "name": "stdout",
     "output_type": "stream",
     "text": [
      "There are 18 different NR receptors tested in the Tox21 dataset\n"
     ]
    }
   ],
   "source": [
    "receptor =  assay_list_nr['Protocol Name'].str.replace(r'[\\xa0]','', regex=True).str.split('-').str[1]\n",
    "receptor = list(set(receptor))\n",
    "print(f'There are {len(receptor)} different NR receptors tested in the Tox21 dataset')"
   ]
  },
  {
   "cell_type": "markdown",
   "metadata": {},
   "source": [
    "We will only retain the protocols conducted under the same assay readout, specifically the BLA (b-lactamase) reporter gene assay. Different assay readouts are as follows:\n",
    "\n",
    "- **Luminescence**: e.g., AR-MDA_TOX21_SLP_Version1.0 (non-receptor signaling)\n",
    "- **Luciferase Reporter**: e.g., tox21-ahr-p1 (Aryl Hydrocarbon Receptor (AhR)); CAR1_TOX21_SLP_Version1.0\n",
    "\n",
    "Please note that the assay version **Version1.0** is indicated as **-p1** in the assay name."
   ]
  },
  {
   "cell_type": "code",
   "execution_count": 5,
   "metadata": {},
   "outputs": [
    {
     "name": "stdout",
     "output_type": "stream",
     "text": [
      "There are 19 BLA assays for 10 unique receptors, namely ['fxr', 'vdr', 'gr', 'rxr', 'erb', 'ar', 'pr', 'er', 'pparg', 'ppard'].\n"
     ]
    }
   ],
   "source": [
    "blactamase_assay = []\n",
    "\n",
    "for assay in assay_list_nr['Protocol Name']:\n",
    "\n",
    "    if assay.split('-')[2] == 'bla' or (len(assay.split('-')) > 3 and assay.split('-')[3] == 'bla'):\n",
    "        blactamase_assay.append(assay)\n",
    "\n",
    "unique_receptors = list(set(item.split('-')[1] for item in blactamase_assay))\n",
    "\n",
    "# Print the results\n",
    "print(f\"There are {len(blactamase_assay)} BLA assays for {len(unique_receptors)} unique receptors, namely {unique_receptors}.\")"
   ]
  },
  {
   "cell_type": "code",
   "execution_count": 6,
   "metadata": {},
   "outputs": [],
   "source": [
    "blactamase_assay = [assay.replace('\\xa0', '') for assay in blactamase_assay]"
   ]
  },
  {
   "cell_type": "markdown",
   "metadata": {},
   "source": [
    "We load the library of 10,000 compounds and the Tox21Assay_SLPS assay from 2016, available for download [here](https://clowder.edap-cluster.com/datasets/63602c6de4b04f6bb13dc4d4)"
   ]
  },
  {
   "cell_type": "code",
   "execution_count": 7,
   "metadata": {},
   "outputs": [],
   "source": [
    "path = ('../Data_reviewed/Tox21/Assay_aggregrated')"
   ]
  },
  {
   "cell_type": "code",
   "execution_count": 8,
   "metadata": {},
   "outputs": [
    {
     "name": "stdout",
     "output_type": "stream",
     "text": [
      "There is 8948 unique compounds in the Tox21 aggegated dataset\n"
     ]
    }
   ],
   "source": [
    "all_assay = glob.glob(os.path.join(path, \"*.txt\"))\n",
    "non_empty_assays = [pd.read_table(f) for f in all_assay if not pd.read_table(f).empty]\n",
    "Tox21_assay = pd.concat(non_empty_assays, ignore_index=True)\n",
    "Tox21_assay.to_csv('../Data_reviewed/Tox21/Tox21_assay_aggregrated.csv', index=False)\n",
    "print(f\"There is {Tox21_assay['CAS'].nunique()} unique compounds in the Tox21 aggegated dataset\")"
   ]
  },
  {
   "cell_type": "code",
   "execution_count": 9,
   "metadata": {},
   "outputs": [
    {
     "name": "stdout",
     "output_type": "stream",
     "text": [
      "There is 8947 unique compounds in the Tox21 chemical library dataset\n"
     ]
    }
   ],
   "source": [
    "library_info = pd.read_csv('../Data_reviewed/Tox21/tox21_10k_library_info.tsv', delimiter='\\t')\n",
    "print(f\"There is {library_info['CAS'].nunique()} unique compounds in the Tox21 chemical library dataset\")\n"
   ]
  },
  {
   "cell_type": "code",
   "execution_count": 10,
   "metadata": {},
   "outputs": [
    {
     "name": "stdout",
     "output_type": "stream",
     "text": [
      "There are 32 different assays retrieved, not all of directed toward  NR assays.\n"
     ]
    }
   ],
   "source": [
    "print(f\"There are {Tox21_assay['PROTOCOL_NAME'].nunique()} different assays retrieved, not all of directed toward  NR assays.\")"
   ]
  },
  {
   "cell_type": "markdown",
   "metadata": {},
   "source": [
    "- We only keep the assay that are relevant for us , ie, assay toward NR ; AR, ERα, FXR, PPARδ, PPARγ, RXR, TRβ, VDR, GR, hPXR, AhR, rPXR, CAR, ERR"
   ]
  },
  {
   "cell_type": "code",
   "execution_count": 11,
   "metadata": {},
   "outputs": [
    {
     "name": "stdout",
     "output_type": "stream",
     "text": [
      "There are 15 BLA readout assays toward NR receptor .\n"
     ]
    }
   ],
   "source": [
    "Tox21_assay = Tox21_assay[Tox21_assay['PROTOCOL_NAME'].isin(blactamase_assay)]\n",
    "print(f\"There are {Tox21_assay['PROTOCOL_NAME'].nunique()} BLA readout assays toward NR receptor .\")"
   ]
  },
  {
   "cell_type": "code",
   "execution_count": 12,
   "metadata": {},
   "outputs": [
    {
     "data": {
      "text/plain": [
       "['tox21-ar-bla-agonist-p1',\n",
       " 'tox21-ar-bla-antagonist-p1',\n",
       " 'tox21-er-bla-agonist-p2',\n",
       " 'tox21-er-bla-antagonist-p1',\n",
       " 'tox21-fxr-bla-agonist-p2',\n",
       " 'tox21-fxr-bla-antagonist-p1',\n",
       " 'tox21-gr-hela-bla-agonist-p1',\n",
       " 'tox21-gr-hela-bla-antagonist-p1',\n",
       " 'tox21-ppard-bla-agonist-p1',\n",
       " 'tox21-ppard-bla-antagonist-p1',\n",
       " 'tox21-pparg-bla-agonist-p1',\n",
       " 'tox21-pparg-bla-antagonist-p1',\n",
       " 'tox21-rxr-bla-agonist-p1',\n",
       " 'tox21-vdr-bla-agonist-p1',\n",
       " 'tox21-vdr-bla-antagonist-p1']"
      ]
     },
     "execution_count": 12,
     "metadata": {},
     "output_type": "execute_result"
    }
   ],
   "source": [
    "sorted_protocol_names = sorted(set(Tox21_assay['PROTOCOL_NAME']))\n",
    "sorted_protocol_names"
   ]
  },
  {
   "cell_type": "code",
   "execution_count": 13,
   "metadata": {},
   "outputs": [],
   "source": [
    "Tox21_annotation = Tox21_assay.merge( library_info, on='SAMPLE_ID', how='right')\n",
    "Tox21_annotation.to_csv('../Data_reviewed/Tox21/Tox21_annotation.csv',index=False)"
   ]
  },
  {
   "cell_type": "markdown",
   "metadata": {},
   "source": [
    "Load morphology annotation file : \n",
    "- See how many compound overlap in BBC047 and Tox21"
   ]
  },
  {
   "cell_type": "code",
   "execution_count": 14,
   "metadata": {},
   "outputs": [],
   "source": [
    "#profiles = pd.read_table('../pubchem_annotation_morpho.csv')\n",
    "#profiles.rename(columns={'CID': 'PUBCHEM_CID'}, inplace=True)\n",
    "#print(f\"There are {profiles['PUBCHEM_CID'].nunique()} unique compounds in the profiles dataset\")\n",
    "#print(f'There are {profiles[\"PUBCHEM_CID\"].isin(Tox21_annotation[\"PUBCHEM_CID\"]).sum()} compounds in the BBC047 dataset that are also in the Tox21 library')\n",
    "#profiles.head(2)\n",
    "\n"
   ]
  },
  {
   "cell_type": "markdown",
   "metadata": {},
   "source": [
    "We used PubChem to retrieve the CID for the 30,615 unique substances tested in BBC047. Since CPD_NAME can identify several molecules without considering stereochemistry, we used Metadata_broad_sample to query PubChem for the CID. If this was unsuccessful, we used the SMILES representation. Five molecules were not identified, resulting in 30,397 unique substances. The CID retrieval code in get_assays was last run on 27/10/2024, taking approximately 4 hours.\n",
    "the outpout is saved under _pubchem_annotation_october.pkl_\n"
   ]
  },
  {
   "cell_type": "code",
   "execution_count": 15,
   "metadata": {},
   "outputs": [],
   "source": [
    "annotations_update = pd.read_pickle('../../Morpheus_Flo/data/pubchem_annotation1.pkl')"
   ]
  },
  {
   "cell_type": "code",
   "execution_count": 16,
   "metadata": {},
   "outputs": [
    {
     "data": {
      "text/html": [
       "<div>\n",
       "<style scoped>\n",
       "    .dataframe tbody tr th:only-of-type {\n",
       "        vertical-align: middle;\n",
       "    }\n",
       "\n",
       "    .dataframe tbody tr th {\n",
       "        vertical-align: top;\n",
       "    }\n",
       "\n",
       "    .dataframe thead th {\n",
       "        text-align: right;\n",
       "    }\n",
       "</style>\n",
       "<table border=\"1\" class=\"dataframe\">\n",
       "  <thead>\n",
       "    <tr style=\"text-align: right;\">\n",
       "      <th></th>\n",
       "      <th>PUBCHEM_CID</th>\n",
       "      <th>CPD_NAMES</th>\n",
       "    </tr>\n",
       "  </thead>\n",
       "  <tbody>\n",
       "    <tr>\n",
       "      <th>0</th>\n",
       "      <td>679</td>\n",
       "      <td>DMSO</td>\n",
       "    </tr>\n",
       "    <tr>\n",
       "      <th>1</th>\n",
       "      <td>2122</td>\n",
       "      <td>BRD-A56675431-001-04-0</td>\n",
       "    </tr>\n",
       "    <tr>\n",
       "      <th>2</th>\n",
       "      <td>3654103</td>\n",
       "      <td>BRD-A51829654-001-01-4</td>\n",
       "    </tr>\n",
       "    <tr>\n",
       "      <th>3</th>\n",
       "      <td>223368</td>\n",
       "      <td>BRD-K04046242-001-03-6</td>\n",
       "    </tr>\n",
       "    <tr>\n",
       "      <th>4</th>\n",
       "      <td>3016</td>\n",
       "      <td>BRD-K16508793-001-01-8</td>\n",
       "    </tr>\n",
       "  </tbody>\n",
       "</table>\n",
       "</div>"
      ],
      "text/plain": [
       "   PUBCHEM_CID               CPD_NAMES\n",
       "0          679                    DMSO\n",
       "1         2122  BRD-A56675431-001-04-0\n",
       "2      3654103  BRD-A51829654-001-01-4\n",
       "3       223368  BRD-K04046242-001-03-6\n",
       "4         3016  BRD-K16508793-001-01-8"
      ]
     },
     "execution_count": 16,
     "metadata": {},
     "output_type": "execute_result"
    }
   ],
   "source": [
    "annotations_update.rename(columns={'CID': 'PUBCHEM_CID'}, inplace=True)\n",
    "annotations_update.head(5)"
   ]
  },
  {
   "cell_type": "code",
   "execution_count": 17,
   "metadata": {},
   "outputs": [
    {
     "name": "stdout",
     "output_type": "stream",
     "text": [
      "There are 30397 unique compounds in the unprocessed profiles dataset\n"
     ]
    }
   ],
   "source": [
    "print(f\"There are {annotations_update['PUBCHEM_CID'].nunique()} unique compounds in the unprocessed profiles dataset\")"
   ]
  },
  {
   "cell_type": "code",
   "execution_count": 18,
   "metadata": {},
   "outputs": [
    {
     "name": "stdout",
     "output_type": "stream",
     "text": [
      "There are 658 compounds in the BBC047 dataset that are also in the Tox21 library\n"
     ]
    }
   ],
   "source": [
    "print(f'There are {annotations_update[\"PUBCHEM_CID\"].isin(Tox21_annotation[\"PUBCHEM_CID\"]).sum()} compounds in the BBC047 dataset that are also in the Tox21 library')"
   ]
  },
  {
   "cell_type": "markdown",
   "metadata": {},
   "source": [
    "Now we merge the morphology file and the tox21"
   ]
  },
  {
   "cell_type": "code",
   "execution_count": 19,
   "metadata": {},
   "outputs": [],
   "source": [
    "BBC047_mol = annotations_update['PUBCHEM_CID'].to_list() # profiles['PUBCHEM_CID'].to_list()\n",
    "Tox = Tox21_annotation[Tox21_annotation['PUBCHEM_CID'].isin(BBC047_mol)]"
   ]
  },
  {
   "cell_type": "code",
   "execution_count": 20,
   "metadata": {},
   "outputs": [
    {
     "name": "stdout",
     "output_type": "stream",
     "text": [
      "There are 4 sample data types, namely ['activity', 'viability', 'signal', 'control']\n"
     ]
    }
   ],
   "source": [
    "print(f\"There are {Tox['SAMPLE_DATA_TYPE'].nunique()} sample data types, namely {list(Tox['SAMPLE_DATA_TYPE'].unique())}\")"
   ]
  },
  {
   "cell_type": "markdown",
   "metadata": {},
   "source": [
    "We are only interested in the activity"
   ]
  },
  {
   "cell_type": "code",
   "execution_count": 21,
   "metadata": {},
   "outputs": [],
   "source": [
    "Tox_activity = Tox[Tox['SAMPLE_DATA_TYPE'] == 'activity']"
   ]
  },
  {
   "cell_type": "code",
   "execution_count": 22,
   "metadata": {},
   "outputs": [
    {
     "name": "stdout",
     "output_type": "stream",
     "text": [
      "There are 651 unique sample molecules in the BBC047 dataset tested in Tox21 assays\n"
     ]
    }
   ],
   "source": [
    "print(f\"There are {Tox_activity['SAMPLE_NAME_x'].nunique()} unique sample molecules in the BBC047 dataset tested in Tox21 assays\")"
   ]
  },
  {
   "cell_type": "code",
   "execution_count": 23,
   "metadata": {},
   "outputs": [],
   "source": [
    "Tox_activity.to_csv('../Data_parsed/Tox21_activity_BBC047.csv',index=False)"
   ]
  },
  {
   "cell_type": "markdown",
   "metadata": {},
   "source": [
    "## Dataset curation ; some descriptive analysis"
   ]
  },
  {
   "cell_type": "code",
   "execution_count": 24,
   "metadata": {},
   "outputs": [],
   "source": [
    "import plotly.express as px"
   ]
  },
  {
   "cell_type": "markdown",
   "metadata": {},
   "source": [
    "We first start by counting the number of compound (unique) per assay (unique)"
   ]
  },
  {
   "cell_type": "code",
   "execution_count": 25,
   "metadata": {},
   "outputs": [],
   "source": [
    "assay_compound = {}\n",
    "for asssay in Tox_activity['PROTOCOL_NAME'].unique():\n",
    "    assay_compound[asssay] = Tox_activity[Tox_activity['PROTOCOL_NAME'] == asssay].CAS_x.nunique()"
   ]
  },
  {
   "cell_type": "code",
   "execution_count": 26,
   "metadata": {},
   "outputs": [
    {
     "data": {
      "text/plain": [
       "{'tox21-gr-hela-bla-antagonist-p1': 647,\n",
       " 'tox21-pparg-bla-agonist-p1': 647,\n",
       " 'tox21-ppard-bla-antagonist-p1': 578,\n",
       " 'tox21-er-bla-antagonist-p1': 647,\n",
       " 'tox21-rxr-bla-agonist-p1': 582,\n",
       " 'tox21-pparg-bla-antagonist-p1': 578,\n",
       " 'tox21-fxr-bla-antagonist-p1': 578,\n",
       " 'tox21-fxr-bla-agonist-p2': 578,\n",
       " 'tox21-vdr-bla-antagonist-p1': 578,\n",
       " 'tox21-er-bla-agonist-p2': 647,\n",
       " 'tox21-ar-bla-agonist-p1': 647,\n",
       " 'tox21-gr-hela-bla-agonist-p1': 647,\n",
       " 'tox21-vdr-bla-agonist-p1': 578,\n",
       " 'tox21-ppard-bla-agonist-p1': 578,\n",
       " 'tox21-ar-bla-antagonist-p1': 647}"
      ]
     },
     "execution_count": 26,
     "metadata": {},
     "output_type": "execute_result"
    }
   ],
   "source": [
    "assay_compound"
   ]
  },
  {
   "cell_type": "code",
   "execution_count": 27,
   "metadata": {},
   "outputs": [],
   "source": [
    "assay_compound_df = pd.DataFrame(list(assay_compound.items()), columns=['Assay', 'Compound'])\n",
    "assay_compound_df = assay_compound_df.sort_values(by='Compound', ascending=True)"
   ]
  },
  {
   "cell_type": "code",
   "execution_count": 28,
   "metadata": {},
   "outputs": [
    {
     "data": {
      "application/vnd.plotly.v1+json": {
       "config": {
        "plotlyServerURL": "https://plot.ly"
       },
       "data": [
        {
         "alignmentgroup": "True",
         "hovertemplate": "Assay=%{x}<br>Compound=%{y}<extra></extra>",
         "legendgroup": "",
         "marker": {
          "color": "#636efa",
          "pattern": {
           "shape": ""
          }
         },
         "name": "",
         "offsetgroup": "",
         "orientation": "v",
         "showlegend": false,
         "textposition": "auto",
         "type": "bar",
         "x": [
          "tox21-ppard-bla-antagonist-p1",
          "tox21-pparg-bla-antagonist-p1",
          "tox21-fxr-bla-antagonist-p1",
          "tox21-fxr-bla-agonist-p2",
          "tox21-vdr-bla-antagonist-p1",
          "tox21-vdr-bla-agonist-p1",
          "tox21-ppard-bla-agonist-p1",
          "tox21-rxr-bla-agonist-p1",
          "tox21-gr-hela-bla-antagonist-p1",
          "tox21-pparg-bla-agonist-p1",
          "tox21-er-bla-antagonist-p1",
          "tox21-er-bla-agonist-p2",
          "tox21-ar-bla-agonist-p1",
          "tox21-gr-hela-bla-agonist-p1",
          "tox21-ar-bla-antagonist-p1"
         ],
         "xaxis": "x",
         "y": [
          578,
          578,
          578,
          578,
          578,
          578,
          578,
          582,
          647,
          647,
          647,
          647,
          647,
          647,
          647
         ],
         "yaxis": "y"
        }
       ],
       "layout": {
        "barmode": "relative",
        "legend": {
         "tracegroupgap": 0
        },
        "template": {
         "data": {
          "bar": [
           {
            "error_x": {
             "color": "#2a3f5f"
            },
            "error_y": {
             "color": "#2a3f5f"
            },
            "marker": {
             "line": {
              "color": "#E5ECF6",
              "width": 0.5
             },
             "pattern": {
              "fillmode": "overlay",
              "size": 10,
              "solidity": 0.2
             }
            },
            "type": "bar"
           }
          ],
          "barpolar": [
           {
            "marker": {
             "line": {
              "color": "#E5ECF6",
              "width": 0.5
             },
             "pattern": {
              "fillmode": "overlay",
              "size": 10,
              "solidity": 0.2
             }
            },
            "type": "barpolar"
           }
          ],
          "carpet": [
           {
            "aaxis": {
             "endlinecolor": "#2a3f5f",
             "gridcolor": "white",
             "linecolor": "white",
             "minorgridcolor": "white",
             "startlinecolor": "#2a3f5f"
            },
            "baxis": {
             "endlinecolor": "#2a3f5f",
             "gridcolor": "white",
             "linecolor": "white",
             "minorgridcolor": "white",
             "startlinecolor": "#2a3f5f"
            },
            "type": "carpet"
           }
          ],
          "choropleth": [
           {
            "colorbar": {
             "outlinewidth": 0,
             "ticks": ""
            },
            "type": "choropleth"
           }
          ],
          "contour": [
           {
            "colorbar": {
             "outlinewidth": 0,
             "ticks": ""
            },
            "colorscale": [
             [
              0,
              "#0d0887"
             ],
             [
              0.1111111111111111,
              "#46039f"
             ],
             [
              0.2222222222222222,
              "#7201a8"
             ],
             [
              0.3333333333333333,
              "#9c179e"
             ],
             [
              0.4444444444444444,
              "#bd3786"
             ],
             [
              0.5555555555555556,
              "#d8576b"
             ],
             [
              0.6666666666666666,
              "#ed7953"
             ],
             [
              0.7777777777777778,
              "#fb9f3a"
             ],
             [
              0.8888888888888888,
              "#fdca26"
             ],
             [
              1,
              "#f0f921"
             ]
            ],
            "type": "contour"
           }
          ],
          "contourcarpet": [
           {
            "colorbar": {
             "outlinewidth": 0,
             "ticks": ""
            },
            "type": "contourcarpet"
           }
          ],
          "heatmap": [
           {
            "colorbar": {
             "outlinewidth": 0,
             "ticks": ""
            },
            "colorscale": [
             [
              0,
              "#0d0887"
             ],
             [
              0.1111111111111111,
              "#46039f"
             ],
             [
              0.2222222222222222,
              "#7201a8"
             ],
             [
              0.3333333333333333,
              "#9c179e"
             ],
             [
              0.4444444444444444,
              "#bd3786"
             ],
             [
              0.5555555555555556,
              "#d8576b"
             ],
             [
              0.6666666666666666,
              "#ed7953"
             ],
             [
              0.7777777777777778,
              "#fb9f3a"
             ],
             [
              0.8888888888888888,
              "#fdca26"
             ],
             [
              1,
              "#f0f921"
             ]
            ],
            "type": "heatmap"
           }
          ],
          "heatmapgl": [
           {
            "colorbar": {
             "outlinewidth": 0,
             "ticks": ""
            },
            "colorscale": [
             [
              0,
              "#0d0887"
             ],
             [
              0.1111111111111111,
              "#46039f"
             ],
             [
              0.2222222222222222,
              "#7201a8"
             ],
             [
              0.3333333333333333,
              "#9c179e"
             ],
             [
              0.4444444444444444,
              "#bd3786"
             ],
             [
              0.5555555555555556,
              "#d8576b"
             ],
             [
              0.6666666666666666,
              "#ed7953"
             ],
             [
              0.7777777777777778,
              "#fb9f3a"
             ],
             [
              0.8888888888888888,
              "#fdca26"
             ],
             [
              1,
              "#f0f921"
             ]
            ],
            "type": "heatmapgl"
           }
          ],
          "histogram": [
           {
            "marker": {
             "pattern": {
              "fillmode": "overlay",
              "size": 10,
              "solidity": 0.2
             }
            },
            "type": "histogram"
           }
          ],
          "histogram2d": [
           {
            "colorbar": {
             "outlinewidth": 0,
             "ticks": ""
            },
            "colorscale": [
             [
              0,
              "#0d0887"
             ],
             [
              0.1111111111111111,
              "#46039f"
             ],
             [
              0.2222222222222222,
              "#7201a8"
             ],
             [
              0.3333333333333333,
              "#9c179e"
             ],
             [
              0.4444444444444444,
              "#bd3786"
             ],
             [
              0.5555555555555556,
              "#d8576b"
             ],
             [
              0.6666666666666666,
              "#ed7953"
             ],
             [
              0.7777777777777778,
              "#fb9f3a"
             ],
             [
              0.8888888888888888,
              "#fdca26"
             ],
             [
              1,
              "#f0f921"
             ]
            ],
            "type": "histogram2d"
           }
          ],
          "histogram2dcontour": [
           {
            "colorbar": {
             "outlinewidth": 0,
             "ticks": ""
            },
            "colorscale": [
             [
              0,
              "#0d0887"
             ],
             [
              0.1111111111111111,
              "#46039f"
             ],
             [
              0.2222222222222222,
              "#7201a8"
             ],
             [
              0.3333333333333333,
              "#9c179e"
             ],
             [
              0.4444444444444444,
              "#bd3786"
             ],
             [
              0.5555555555555556,
              "#d8576b"
             ],
             [
              0.6666666666666666,
              "#ed7953"
             ],
             [
              0.7777777777777778,
              "#fb9f3a"
             ],
             [
              0.8888888888888888,
              "#fdca26"
             ],
             [
              1,
              "#f0f921"
             ]
            ],
            "type": "histogram2dcontour"
           }
          ],
          "mesh3d": [
           {
            "colorbar": {
             "outlinewidth": 0,
             "ticks": ""
            },
            "type": "mesh3d"
           }
          ],
          "parcoords": [
           {
            "line": {
             "colorbar": {
              "outlinewidth": 0,
              "ticks": ""
             }
            },
            "type": "parcoords"
           }
          ],
          "pie": [
           {
            "automargin": true,
            "type": "pie"
           }
          ],
          "scatter": [
           {
            "fillpattern": {
             "fillmode": "overlay",
             "size": 10,
             "solidity": 0.2
            },
            "type": "scatter"
           }
          ],
          "scatter3d": [
           {
            "line": {
             "colorbar": {
              "outlinewidth": 0,
              "ticks": ""
             }
            },
            "marker": {
             "colorbar": {
              "outlinewidth": 0,
              "ticks": ""
             }
            },
            "type": "scatter3d"
           }
          ],
          "scattercarpet": [
           {
            "marker": {
             "colorbar": {
              "outlinewidth": 0,
              "ticks": ""
             }
            },
            "type": "scattercarpet"
           }
          ],
          "scattergeo": [
           {
            "marker": {
             "colorbar": {
              "outlinewidth": 0,
              "ticks": ""
             }
            },
            "type": "scattergeo"
           }
          ],
          "scattergl": [
           {
            "marker": {
             "colorbar": {
              "outlinewidth": 0,
              "ticks": ""
             }
            },
            "type": "scattergl"
           }
          ],
          "scattermapbox": [
           {
            "marker": {
             "colorbar": {
              "outlinewidth": 0,
              "ticks": ""
             }
            },
            "type": "scattermapbox"
           }
          ],
          "scatterpolar": [
           {
            "marker": {
             "colorbar": {
              "outlinewidth": 0,
              "ticks": ""
             }
            },
            "type": "scatterpolar"
           }
          ],
          "scatterpolargl": [
           {
            "marker": {
             "colorbar": {
              "outlinewidth": 0,
              "ticks": ""
             }
            },
            "type": "scatterpolargl"
           }
          ],
          "scatterternary": [
           {
            "marker": {
             "colorbar": {
              "outlinewidth": 0,
              "ticks": ""
             }
            },
            "type": "scatterternary"
           }
          ],
          "surface": [
           {
            "colorbar": {
             "outlinewidth": 0,
             "ticks": ""
            },
            "colorscale": [
             [
              0,
              "#0d0887"
             ],
             [
              0.1111111111111111,
              "#46039f"
             ],
             [
              0.2222222222222222,
              "#7201a8"
             ],
             [
              0.3333333333333333,
              "#9c179e"
             ],
             [
              0.4444444444444444,
              "#bd3786"
             ],
             [
              0.5555555555555556,
              "#d8576b"
             ],
             [
              0.6666666666666666,
              "#ed7953"
             ],
             [
              0.7777777777777778,
              "#fb9f3a"
             ],
             [
              0.8888888888888888,
              "#fdca26"
             ],
             [
              1,
              "#f0f921"
             ]
            ],
            "type": "surface"
           }
          ],
          "table": [
           {
            "cells": {
             "fill": {
              "color": "#EBF0F8"
             },
             "line": {
              "color": "white"
             }
            },
            "header": {
             "fill": {
              "color": "#C8D4E3"
             },
             "line": {
              "color": "white"
             }
            },
            "type": "table"
           }
          ]
         },
         "layout": {
          "annotationdefaults": {
           "arrowcolor": "#2a3f5f",
           "arrowhead": 0,
           "arrowwidth": 1
          },
          "autotypenumbers": "strict",
          "coloraxis": {
           "colorbar": {
            "outlinewidth": 0,
            "ticks": ""
           }
          },
          "colorscale": {
           "diverging": [
            [
             0,
             "#8e0152"
            ],
            [
             0.1,
             "#c51b7d"
            ],
            [
             0.2,
             "#de77ae"
            ],
            [
             0.3,
             "#f1b6da"
            ],
            [
             0.4,
             "#fde0ef"
            ],
            [
             0.5,
             "#f7f7f7"
            ],
            [
             0.6,
             "#e6f5d0"
            ],
            [
             0.7,
             "#b8e186"
            ],
            [
             0.8,
             "#7fbc41"
            ],
            [
             0.9,
             "#4d9221"
            ],
            [
             1,
             "#276419"
            ]
           ],
           "sequential": [
            [
             0,
             "#0d0887"
            ],
            [
             0.1111111111111111,
             "#46039f"
            ],
            [
             0.2222222222222222,
             "#7201a8"
            ],
            [
             0.3333333333333333,
             "#9c179e"
            ],
            [
             0.4444444444444444,
             "#bd3786"
            ],
            [
             0.5555555555555556,
             "#d8576b"
            ],
            [
             0.6666666666666666,
             "#ed7953"
            ],
            [
             0.7777777777777778,
             "#fb9f3a"
            ],
            [
             0.8888888888888888,
             "#fdca26"
            ],
            [
             1,
             "#f0f921"
            ]
           ],
           "sequentialminus": [
            [
             0,
             "#0d0887"
            ],
            [
             0.1111111111111111,
             "#46039f"
            ],
            [
             0.2222222222222222,
             "#7201a8"
            ],
            [
             0.3333333333333333,
             "#9c179e"
            ],
            [
             0.4444444444444444,
             "#bd3786"
            ],
            [
             0.5555555555555556,
             "#d8576b"
            ],
            [
             0.6666666666666666,
             "#ed7953"
            ],
            [
             0.7777777777777778,
             "#fb9f3a"
            ],
            [
             0.8888888888888888,
             "#fdca26"
            ],
            [
             1,
             "#f0f921"
            ]
           ]
          },
          "colorway": [
           "#636efa",
           "#EF553B",
           "#00cc96",
           "#ab63fa",
           "#FFA15A",
           "#19d3f3",
           "#FF6692",
           "#B6E880",
           "#FF97FF",
           "#FECB52"
          ],
          "font": {
           "color": "#2a3f5f"
          },
          "geo": {
           "bgcolor": "white",
           "lakecolor": "white",
           "landcolor": "#E5ECF6",
           "showlakes": true,
           "showland": true,
           "subunitcolor": "white"
          },
          "hoverlabel": {
           "align": "left"
          },
          "hovermode": "closest",
          "mapbox": {
           "style": "light"
          },
          "paper_bgcolor": "white",
          "plot_bgcolor": "#E5ECF6",
          "polar": {
           "angularaxis": {
            "gridcolor": "white",
            "linecolor": "white",
            "ticks": ""
           },
           "bgcolor": "#E5ECF6",
           "radialaxis": {
            "gridcolor": "white",
            "linecolor": "white",
            "ticks": ""
           }
          },
          "scene": {
           "xaxis": {
            "backgroundcolor": "#E5ECF6",
            "gridcolor": "white",
            "gridwidth": 2,
            "linecolor": "white",
            "showbackground": true,
            "ticks": "",
            "zerolinecolor": "white"
           },
           "yaxis": {
            "backgroundcolor": "#E5ECF6",
            "gridcolor": "white",
            "gridwidth": 2,
            "linecolor": "white",
            "showbackground": true,
            "ticks": "",
            "zerolinecolor": "white"
           },
           "zaxis": {
            "backgroundcolor": "#E5ECF6",
            "gridcolor": "white",
            "gridwidth": 2,
            "linecolor": "white",
            "showbackground": true,
            "ticks": "",
            "zerolinecolor": "white"
           }
          },
          "shapedefaults": {
           "line": {
            "color": "#2a3f5f"
           }
          },
          "ternary": {
           "aaxis": {
            "gridcolor": "white",
            "linecolor": "white",
            "ticks": ""
           },
           "baxis": {
            "gridcolor": "white",
            "linecolor": "white",
            "ticks": ""
           },
           "bgcolor": "#E5ECF6",
           "caxis": {
            "gridcolor": "white",
            "linecolor": "white",
            "ticks": ""
           }
          },
          "title": {
           "x": 0.05
          },
          "xaxis": {
           "automargin": true,
           "gridcolor": "white",
           "linecolor": "white",
           "ticks": "",
           "title": {
            "standoff": 15
           },
           "zerolinecolor": "white",
           "zerolinewidth": 2
          },
          "yaxis": {
           "automargin": true,
           "gridcolor": "white",
           "linecolor": "white",
           "ticks": "",
           "title": {
            "standoff": 15
           },
           "zerolinecolor": "white",
           "zerolinewidth": 2
          }
         }
        },
        "title": {
         "text": "Number of compounds tested in each assay"
        },
        "xaxis": {
         "anchor": "y",
         "domain": [
          0,
          1
         ],
         "title": {
          "text": "Assay"
         }
        },
        "yaxis": {
         "anchor": "x",
         "domain": [
          0,
          1
         ],
         "title": {
          "text": "Compound"
         }
        }
       }
      }
     },
     "metadata": {},
     "output_type": "display_data"
    }
   ],
   "source": [
    "fig = px.bar(assay_compound_df, x='Assay', y='Compound', title='Number of compounds tested in each assay')\n",
    "fig.show()"
   ]
  },
  {
   "cell_type": "markdown",
   "metadata": {},
   "source": [
    "-  look at all combinations of how sets intersect : using the upsetplot and library we will show the overlap of compound between the assays"
   ]
  },
  {
   "cell_type": "code",
   "execution_count": 29,
   "metadata": {},
   "outputs": [],
   "source": [
    "import upsetplot\n",
    "from collections import defaultdict\n",
    "import matplotlib.pyplot as plt\n",
    "from upsetplot import UpSet\n",
    "from upsetplot import UpSet, from_memberships"
   ]
  },
  {
   "cell_type": "code",
   "execution_count": 30,
   "metadata": {},
   "outputs": [],
   "source": [
    "assay_data = {}\n",
    "for asssay in blactamase_assay:\n",
    "    assay_data[asssay] = Tox_activity[Tox_activity['PROTOCOL_NAME'] == asssay].CAS_x.unique().tolist()"
   ]
  },
  {
   "cell_type": "code",
   "execution_count": 31,
   "metadata": {},
   "outputs": [
    {
     "name": "stdout",
     "output_type": "stream",
     "text": [
      "there are 15 assays\n"
     ]
    },
    {
     "name": "stderr",
     "output_type": "stream",
     "text": [
      "/Users/flodje_uds/anaconda3/envs/GCC_DL_Endocrinology/lib/python3.9/site-packages/upsetplot/data.py:303: FutureWarning:\n",
      "\n",
      "Downcasting object dtype arrays on .fillna, .ffill, .bfill is deprecated and will change in a future version. Call result.infer_objects(copy=False) instead. To opt-in to the future behavior, set `pd.set_option('future.no_silent_downcasting', True)`\n",
      "\n",
      "/Users/flodje_uds/anaconda3/envs/GCC_DL_Endocrinology/lib/python3.9/site-packages/upsetplot/plotting.py:795: FutureWarning:\n",
      "\n",
      "A value is trying to be set on a copy of a DataFrame or Series through chained assignment using an inplace method.\n",
      "The behavior will change in pandas 3.0. This inplace method will never work because the intermediate object on which we are setting values always behaves as a copy.\n",
      "\n",
      "For example, when doing 'df[col].method(value, inplace=True)', try using 'df.method({col: value}, inplace=True)' or df[col] = df[col].method(value) instead, to perform the operation inplace on the original object.\n",
      "\n",
      "\n",
      "\n",
      "/Users/flodje_uds/anaconda3/envs/GCC_DL_Endocrinology/lib/python3.9/site-packages/upsetplot/plotting.py:796: FutureWarning:\n",
      "\n",
      "A value is trying to be set on a copy of a DataFrame or Series through chained assignment using an inplace method.\n",
      "The behavior will change in pandas 3.0. This inplace method will never work because the intermediate object on which we are setting values always behaves as a copy.\n",
      "\n",
      "For example, when doing 'df[col].method(value, inplace=True)', try using 'df.method({col: value}, inplace=True)' or df[col] = df[col].method(value) instead, to perform the operation inplace on the original object.\n",
      "\n",
      "\n",
      "\n",
      "/Users/flodje_uds/anaconda3/envs/GCC_DL_Endocrinology/lib/python3.9/site-packages/upsetplot/plotting.py:797: FutureWarning:\n",
      "\n",
      "A value is trying to be set on a copy of a DataFrame or Series through chained assignment using an inplace method.\n",
      "The behavior will change in pandas 3.0. This inplace method will never work because the intermediate object on which we are setting values always behaves as a copy.\n",
      "\n",
      "For example, when doing 'df[col].method(value, inplace=True)', try using 'df.method({col: value}, inplace=True)' or df[col] = df[col].method(value) instead, to perform the operation inplace on the original object.\n",
      "\n",
      "\n",
      "\n",
      "/Users/flodje_uds/anaconda3/envs/GCC_DL_Endocrinology/lib/python3.9/site-packages/upsetplot/plotting.py:798: FutureWarning:\n",
      "\n",
      "A value is trying to be set on a copy of a DataFrame or Series through chained assignment using an inplace method.\n",
      "The behavior will change in pandas 3.0. This inplace method will never work because the intermediate object on which we are setting values always behaves as a copy.\n",
      "\n",
      "For example, when doing 'df[col].method(value, inplace=True)', try using 'df.method({col: value}, inplace=True)' or df[col] = df[col].method(value) instead, to perform the operation inplace on the original object.\n",
      "\n",
      "\n",
      "\n"
     ]
    },
    {
     "data": {
      "text/plain": [
       "<Figure size 1200x1000 with 0 Axes>"
      ]
     },
     "metadata": {},
     "output_type": "display_data"
    },
    {
     "data": {
      "image/png": "[encoded data removed]",
      "text/plain": [
       "<Figure size 1180.56x486.111 with 4 Axes>"
      ]
     },
     "metadata": {},
     "output_type": "display_data"
    }
   ],
   "source": [
    "\n",
    "\n",
    "# -  le probleme vient du dataset on ne travaille pas avec Tox_activity['PROTOCOL_NAME'].unique():\n",
    "assay_data = {}\n",
    "for assay in Tox_activity['PROTOCOL_NAME'].unique():\n",
    "    assay_data[assay] = Tox_activity[Tox_activity['PROTOCOL_NAME'] == assay].CAS_x.unique().tolist()\n",
    "print(f'there are {len(assay_data.keys())} assays')\n",
    "# Step 1: Create the molecule list\n",
    "molecules = list(set(mol for mol_list in assay_data.values() for mol in mol_list))  # Convert set to list\n",
    "\n",
    "# Step 2: Create a DataFrame where rows are molecules, columns are assays, and values indicate presence (1) or absence (0)\n",
    "df = pd.DataFrame(0, index=molecules, columns=assay_data.keys())\n",
    "for assay, mol_list in assay_data.items():\n",
    "    df.loc[mol_list, assay] = 1\n",
    "\n",
    "# Convert 1/0 to True/False for binary presence/absence\n",
    "df = df.astype(bool)\n",
    "\n",
    "# Step 3: Convert the DataFrame into a format suitable for upsetplot\n",
    "# Using DataFrame directly\n",
    "upset_data = upsetplot.from_memberships(df.index[df.sum(axis=1)], data=df.sum(axis=1))\n",
    "\n",
    "# Step 4: Plot the UpSet plot with explicit counts\n",
    "upset = upsetplot.UpSet(upset_data, show_counts='%d', element_size=50, subset_size='count', orientation='vertical')\n",
    "\n",
    "# Display the plot\n",
    "plt.figure(figsize=(12, 10))  # Adjust size as necessary\n",
    "upset.plot()\n",
    "\n",
    "plt.title(\"UpSet Plot Showing Molecule Intersections Across Assays\")\n",
    "plt.show()\n"
   ]
  },
  {
   "cell_type": "code",
   "execution_count": 32,
   "metadata": {},
   "outputs": [
    {
     "name": "stderr",
     "output_type": "stream",
     "text": [
      "/Users/flodje_uds/anaconda3/envs/GCC_DL_Endocrinology/lib/python3.9/site-packages/upsetplot/data.py:303: FutureWarning:\n",
      "\n",
      "Downcasting object dtype arrays on .fillna, .ffill, .bfill is deprecated and will change in a future version. Call result.infer_objects(copy=False) instead. To opt-in to the future behavior, set `pd.set_option('future.no_silent_downcasting', True)`\n",
      "\n",
      "/Users/flodje_uds/anaconda3/envs/GCC_DL_Endocrinology/lib/python3.9/site-packages/upsetplot/plotting.py:795: FutureWarning:\n",
      "\n",
      "A value is trying to be set on a copy of a DataFrame or Series through chained assignment using an inplace method.\n",
      "The behavior will change in pandas 3.0. This inplace method will never work because the intermediate object on which we are setting values always behaves as a copy.\n",
      "\n",
      "For example, when doing 'df[col].method(value, inplace=True)', try using 'df.method({col: value}, inplace=True)' or df[col] = df[col].method(value) instead, to perform the operation inplace on the original object.\n",
      "\n",
      "\n",
      "\n",
      "/Users/flodje_uds/anaconda3/envs/GCC_DL_Endocrinology/lib/python3.9/site-packages/upsetplot/plotting.py:796: FutureWarning:\n",
      "\n",
      "A value is trying to be set on a copy of a DataFrame or Series through chained assignment using an inplace method.\n",
      "The behavior will change in pandas 3.0. This inplace method will never work because the intermediate object on which we are setting values always behaves as a copy.\n",
      "\n",
      "For example, when doing 'df[col].method(value, inplace=True)', try using 'df.method({col: value}, inplace=True)' or df[col] = df[col].method(value) instead, to perform the operation inplace on the original object.\n",
      "\n",
      "\n",
      "\n",
      "/Users/flodje_uds/anaconda3/envs/GCC_DL_Endocrinology/lib/python3.9/site-packages/upsetplot/plotting.py:797: FutureWarning:\n",
      "\n",
      "A value is trying to be set on a copy of a DataFrame or Series through chained assignment using an inplace method.\n",
      "The behavior will change in pandas 3.0. This inplace method will never work because the intermediate object on which we are setting values always behaves as a copy.\n",
      "\n",
      "For example, when doing 'df[col].method(value, inplace=True)', try using 'df.method({col: value}, inplace=True)' or df[col] = df[col].method(value) instead, to perform the operation inplace on the original object.\n",
      "\n",
      "\n",
      "\n",
      "/Users/flodje_uds/anaconda3/envs/GCC_DL_Endocrinology/lib/python3.9/site-packages/upsetplot/plotting.py:798: FutureWarning:\n",
      "\n",
      "A value is trying to be set on a copy of a DataFrame or Series through chained assignment using an inplace method.\n",
      "The behavior will change in pandas 3.0. This inplace method will never work because the intermediate object on which we are setting values always behaves as a copy.\n",
      "\n",
      "For example, when doing 'df[col].method(value, inplace=True)', try using 'df.method({col: value}, inplace=True)' or df[col] = df[col].method(value) instead, to perform the operation inplace on the original object.\n",
      "\n",
      "\n",
      "\n"
     ]
    },
    {
     "data": {
      "image/png": "[encoded data removed]",
      "text/plain": [
       "<Figure size 1180.56x486.111 with 4 Axes>"
      ]
     },
     "metadata": {},
     "output_type": "display_data"
    }
   ],
   "source": [
    "\n",
    "molecules = list(set(mol for mol_list in assay_data.values() for mol in mol_list))  # Convert set to list\n",
    "\n",
    "# Create a DataFrame where rows are molecules, columns are assays, and values indicate presence (1) or absence (0)\n",
    "df = pd.DataFrame(0, index=molecules, columns=assay_data.keys())\n",
    "for assay, mol_list in assay_data.items():\n",
    "    df.loc[mol_list, assay] = 1\n",
    "\n",
    "# Convert 1/0 to True/False for binary presence/absence\n",
    "df = df.astype(bool)\n",
    "\n",
    "# Step 2: Convert the DataFrame into a format suitable for upsetplot\n",
    "# Use df.sum(axis=1) to count the number of True values across the rows (molecules)\n",
    "upset_data = upsetplot.from_memberships(df.index[df.sum(axis=1)], data=df.sum(axis=1))\n",
    "\n",
    "# Step 3: Plot the UpSet plot with explicit counts\n",
    "upset = upsetplot.UpSet(upset_data, show_counts='%d', element_size=50, subset_size='count',orientation='vertical')  # Use explicit counts\n",
    "upset.plot()\n",
    "\n",
    "# Display the plot\n",
    "plt.show()"
   ]
  },
  {
   "cell_type": "markdown",
   "metadata": {},
   "source": [
    "## Endocrine active molecule "
   ]
  },
  {
   "cell_type": "markdown",
   "metadata": {},
   "source": [
    "We aim to create a dataset of endocrine-active molecules. Each compound as tested twice for each assay. If the assay outcomes are inconsistent, we will exclude the assay for that compound. Additionally, if an assay is inconclusive—meaning the experimenters could not determine whether the molecule was an agonist, antagonist, inactive, or active—the assay will be discarded. Finally, we will evaluate the remaining assays: if at least one is active, the molecule will be classified as endocrine-active; if all assays are inactive, the compound will be classified as inactive."
   ]
  },
  {
   "cell_type": "markdown",
   "metadata": {},
   "source": [
    "We 1st consider the assay measuring the *activty*, therefore we will focus on the *channel outcome* column., reflecting the outcome of the assay under investigation. "
   ]
  },
  {
   "cell_type": "markdown",
   "metadata": {},
   "source": [
    "Note : If an assay measures two channels (e.g., a receptor activity channel and a cell viability channel), the CHANNEL_OUTCOME might be “Active” for the receptor but “Inactive” for cell viability. The overall ASSAY_OUTCOME could then be “Inconclusive” or “Active” depending on how the results are interpreted."
   ]
  },
  {
   "cell_type": "code",
   "execution_count": 33,
   "metadata": {},
   "outputs": [
    {
     "data": {
      "text/html": [
       "<div>\n",
       "<style scoped>\n",
       "    .dataframe tbody tr th:only-of-type {\n",
       "        vertical-align: middle;\n",
       "    }\n",
       "\n",
       "    .dataframe tbody tr th {\n",
       "        vertical-align: top;\n",
       "    }\n",
       "\n",
       "    .dataframe thead th {\n",
       "        text-align: right;\n",
       "    }\n",
       "</style>\n",
       "<table border=\"1\" class=\"dataframe\">\n",
       "  <thead>\n",
       "    <tr style=\"text-align: right;\">\n",
       "      <th></th>\n",
       "      <th>SAMPLE_ID</th>\n",
       "      <th>PROTOCOL_NAME</th>\n",
       "      <th>SAMPLE_DATA_TYPE</th>\n",
       "      <th>TOX21_ID_x</th>\n",
       "      <th>SAMPLE_NAME_x</th>\n",
       "      <th>CAS_x</th>\n",
       "      <th>ASSAY_OUTCOME</th>\n",
       "      <th>CHANNEL_OUTCOME</th>\n",
       "      <th>AC50</th>\n",
       "      <th>EFFICACY</th>\n",
       "      <th>...</th>\n",
       "      <th>FLAG</th>\n",
       "      <th>TOX21_ID_y</th>\n",
       "      <th>CAS_y</th>\n",
       "      <th>PUBCHEM_SID_y</th>\n",
       "      <th>SAMPLE_NAME_y</th>\n",
       "      <th>PURITY_RATING_y</th>\n",
       "      <th>PURITY_RATING_4M</th>\n",
       "      <th>PUBCHEM_CID</th>\n",
       "      <th>LAST_MODIFIED</th>\n",
       "      <th>SMILES</th>\n",
       "    </tr>\n",
       "  </thead>\n",
       "  <tbody>\n",
       "    <tr>\n",
       "      <th>224</th>\n",
       "      <td>NCGC00255047-01</td>\n",
       "      <td>tox21-gr-hela-bla-antagonist-p1</td>\n",
       "      <td>activity</td>\n",
       "      <td>Tox21_301149</td>\n",
       "      <td>Benzocaine</td>\n",
       "      <td>94-09-7</td>\n",
       "      <td>inactive</td>\n",
       "      <td>inactive</td>\n",
       "      <td>0.0</td>\n",
       "      <td>144211466.0</td>\n",
       "      <td>...</td>\n",
       "      <td>NaN</td>\n",
       "      <td>Tox21_301149</td>\n",
       "      <td>94-09-7</td>\n",
       "      <td>144211466</td>\n",
       "      <td>Benzocaine</td>\n",
       "      <td>A</td>\n",
       "      <td>A</td>\n",
       "      <td>2337.0</td>\n",
       "      <td>16-JAN-19 01.02.54.000000000 PM</td>\n",
       "      <td>Nc1ccc(cc1)C(=O)OCC</td>\n",
       "    </tr>\n",
       "    <tr>\n",
       "      <th>228</th>\n",
       "      <td>NCGC00255047-01</td>\n",
       "      <td>tox21-pparg-bla-agonist-p1</td>\n",
       "      <td>activity</td>\n",
       "      <td>Tox21_301149</td>\n",
       "      <td>Benzocaine</td>\n",
       "      <td>94-09-7</td>\n",
       "      <td>inactive</td>\n",
       "      <td>inactive</td>\n",
       "      <td>0.0</td>\n",
       "      <td>144211466.0</td>\n",
       "      <td>...</td>\n",
       "      <td>NaN</td>\n",
       "      <td>Tox21_301149</td>\n",
       "      <td>94-09-7</td>\n",
       "      <td>144211466</td>\n",
       "      <td>Benzocaine</td>\n",
       "      <td>A</td>\n",
       "      <td>A</td>\n",
       "      <td>2337.0</td>\n",
       "      <td>16-JAN-19 01.02.54.000000000 PM</td>\n",
       "      <td>Nc1ccc(cc1)C(=O)OCC</td>\n",
       "    </tr>\n",
       "  </tbody>\n",
       "</table>\n",
       "<p>2 rows × 26 columns</p>\n",
       "</div>"
      ],
      "text/plain": [
       "           SAMPLE_ID                    PROTOCOL_NAME SAMPLE_DATA_TYPE  \\\n",
       "224  NCGC00255047-01  tox21-gr-hela-bla-antagonist-p1         activity   \n",
       "228  NCGC00255047-01       tox21-pparg-bla-agonist-p1         activity   \n",
       "\n",
       "       TOX21_ID_x SAMPLE_NAME_x    CAS_x ASSAY_OUTCOME CHANNEL_OUTCOME  AC50  \\\n",
       "224  Tox21_301149    Benzocaine  94-09-7      inactive        inactive   0.0   \n",
       "228  Tox21_301149    Benzocaine  94-09-7      inactive        inactive   0.0   \n",
       "\n",
       "        EFFICACY  ... FLAG        TOX21_ID_y    CAS_y PUBCHEM_SID_y  \\\n",
       "224  144211466.0  ...      NaN  Tox21_301149  94-09-7     144211466   \n",
       "228  144211466.0  ...      NaN  Tox21_301149  94-09-7     144211466   \n",
       "\n",
       "    SAMPLE_NAME_y  PURITY_RATING_y  PURITY_RATING_4M PUBCHEM_CID  \\\n",
       "224    Benzocaine                A                 A      2337.0   \n",
       "228    Benzocaine                A                 A      2337.0   \n",
       "\n",
       "                       LAST_MODIFIED               SMILES  \n",
       "224  16-JAN-19 01.02.54.000000000 PM  Nc1ccc(cc1)C(=O)OCC  \n",
       "228  16-JAN-19 01.02.54.000000000 PM  Nc1ccc(cc1)C(=O)OCC  \n",
       "\n",
       "[2 rows x 26 columns]"
      ]
     },
     "execution_count": 33,
     "metadata": {},
     "output_type": "execute_result"
    }
   ],
   "source": [
    "Tox_activity.head(2)"
   ]
  },
  {
   "cell_type": "code",
   "execution_count": 34,
   "metadata": {},
   "outputs": [],
   "source": [
    "molecule_list = list(Tox_activity['PUBCHEM_CID'].unique()) #SAMPLE_NAME_x\n",
    "Endocrine_activity = Tox_activity.copy(deep=True)\n",
    "assay_list_endocrine = list(Endocrine_activity['PROTOCOL_NAME'].unique())"
   ]
  },
  {
   "cell_type": "code",
   "execution_count": 35,
   "metadata": {},
   "outputs": [],
   "source": [
    "activity_dict = {}"
   ]
  },
  {
   "cell_type": "code",
   "execution_count": 36,
   "metadata": {},
   "outputs": [],
   "source": [
    "def define_endocrine_activity(mol_list, assay_list, data, activity_dict):\n",
    "    \"\"\"\n",
    "    Process list of molecules overlapping with BBC047 by checking their assay outcomes and define their endocrine activity status.\n",
    "    \n",
    "    Parameters:\n",
    "    mol_list (list): List of molecules to process.\n",
    "    assay_list (list): List of assays to check for each molecule.\n",
    "    data (DataFrame): DataFrame containing assay data for different molecules.\n",
    "    activity_dict (dict): Dictionary to store activity status ('active' or 'inactive') for each molecule.\n",
    "    \n",
    "    Returns:\n",
    "    DataFrame: Updated data_test after filtering out rows based on conditions.\n",
    "    dict: Updated activity_dict with activity status of molecules.\n",
    "    \"\"\"\n",
    "    #check \n",
    "    for mol in mol_list:\n",
    "        view_mol = data[data['PUBCHEM_CID'] == mol].copy() #'SAMPLE_NAME_y'\n",
    "\n",
    "        for assay in assay_list:\n",
    "            view_assay = view_mol[view_mol['PROTOCOL_NAME'] == assay].copy()\n",
    "\n",
    "\n",
    "            if len(set(view_assay['CHANNEL_OUTCOME'])) > 1:\n",
    "                data = data[~data.index.isin(view_assay.index)]\n",
    "\n",
    "            if any(re.search(r'\\binconclusive\\b', outcome) for outcome in view_assay['CHANNEL_OUTCOME']):\n",
    "                data = data[~data.index.isin(view_assay.index)]\n",
    "                continue\n",
    "        if any(re.search(r'\\bactive\\b', outcome) for outcome in set(view_mol['CHANNEL_OUTCOME'])):\n",
    "            activity_dict[mol] = 'active'\n",
    "        else:\n",
    "            activity_dict[mol] = 'inactive'\n",
    "\n",
    "    return data, activity_dict\n"
   ]
  },
  {
   "cell_type": "code",
   "execution_count": 37,
   "metadata": {},
   "outputs": [],
   "source": [
    "updated_data , activity = define_endocrine_activity(molecule_list, assay_list_endocrine, Endocrine_activity, activity_dict)"
   ]
  },
  {
   "cell_type": "code",
   "execution_count": 38,
   "metadata": {},
   "outputs": [],
   "source": [
    "# Compter les occurrences de 'active' et 'inactive'\n",
    "active_count = sum(1 for value in activity_dict.values() if value == 'active')\n",
    "inactive_count = sum(1 for value in activity_dict.values() if value == 'inactive')"
   ]
  },
  {
   "cell_type": "code",
   "execution_count": 39,
   "metadata": {},
   "outputs": [
    {
     "name": "stdout",
     "output_type": "stream",
     "text": [
      "Number of active molecules: 328\n",
      "Number of inactive molecules: 323\n"
     ]
    }
   ],
   "source": [
    "print(f'Number of active molecules: {active_count}')\n",
    "print(f'Number of inactive molecules: {inactive_count}')"
   ]
  },
  {
   "cell_type": "markdown",
   "metadata": {},
   "source": [
    "_Note_: This activity is defined in relation to all NR (nuclear receptor) tested in Tox21, which are classified as endocrine active molecules. We do not consider GPCRs (G protein-coupled receptors) as a pathway for endocrine activity for this case.\n",
    "\n",
    "Therefore, if a molecule is classified as active in at least one assay after removing inconsistent and inconclusive results, it will be annotated as active. For example, p,p’-DDT is inactive in 8 out of the 9 remaining assays; however, it is active in all 3 replicates of the *Tox21 ER-Bla Agonist P2* assay and will be annotated as endocrine active.\n",
    "\n"
   ]
  },
  {
   "cell_type": "code",
   "execution_count": 40,
   "metadata": {},
   "outputs": [
    {
     "data": {
      "text/html": [
       "<div>\n",
       "<style scoped>\n",
       "    .dataframe tbody tr th:only-of-type {\n",
       "        vertical-align: middle;\n",
       "    }\n",
       "\n",
       "    .dataframe tbody tr th {\n",
       "        vertical-align: top;\n",
       "    }\n",
       "\n",
       "    .dataframe thead th {\n",
       "        text-align: right;\n",
       "    }\n",
       "</style>\n",
       "<table border=\"1\" class=\"dataframe\">\n",
       "  <thead>\n",
       "    <tr style=\"text-align: right;\">\n",
       "      <th></th>\n",
       "      <th>SAMPLE_ID</th>\n",
       "      <th>PROTOCOL_NAME</th>\n",
       "      <th>SAMPLE_DATA_TYPE</th>\n",
       "      <th>TOX21_ID_x</th>\n",
       "      <th>SAMPLE_NAME_x</th>\n",
       "      <th>CAS_x</th>\n",
       "      <th>ASSAY_OUTCOME</th>\n",
       "      <th>CHANNEL_OUTCOME</th>\n",
       "      <th>AC50</th>\n",
       "      <th>EFFICACY</th>\n",
       "      <th>...</th>\n",
       "      <th>FLAG</th>\n",
       "      <th>TOX21_ID_y</th>\n",
       "      <th>CAS_y</th>\n",
       "      <th>PUBCHEM_SID_y</th>\n",
       "      <th>SAMPLE_NAME_y</th>\n",
       "      <th>PURITY_RATING_y</th>\n",
       "      <th>PURITY_RATING_4M</th>\n",
       "      <th>PUBCHEM_CID</th>\n",
       "      <th>LAST_MODIFIED</th>\n",
       "      <th>SMILES</th>\n",
       "    </tr>\n",
       "  </thead>\n",
       "  <tbody>\n",
       "    <tr>\n",
       "      <th>652</th>\n",
       "      <td>NCGC00091071-01</td>\n",
       "      <td>tox21-er-bla-agonist-p2</td>\n",
       "      <td>activity</td>\n",
       "      <td>Tox21_111076</td>\n",
       "      <td>p,p'-DDT</td>\n",
       "      <td>50-29-3</td>\n",
       "      <td>active agonist</td>\n",
       "      <td>active agonist</td>\n",
       "      <td>9.153109</td>\n",
       "      <td>13.640247</td>\n",
       "      <td>...</td>\n",
       "      <td>NaN</td>\n",
       "      <td>Tox21_111076</td>\n",
       "      <td>50-29-3</td>\n",
       "      <td>144204627</td>\n",
       "      <td>p,p'-DDT</td>\n",
       "      <td>A</td>\n",
       "      <td>NaN</td>\n",
       "      <td>3036.0</td>\n",
       "      <td>16-JAN-19 01.02.54.000000000 PM</td>\n",
       "      <td>Clc1ccc(cc1)C(c2ccc(Cl)cc2)C(Cl)(Cl)Cl</td>\n",
       "    </tr>\n",
       "    <tr>\n",
       "      <th>167891</th>\n",
       "      <td>NCGC00259046-01</td>\n",
       "      <td>tox21-er-bla-agonist-p2</td>\n",
       "      <td>activity</td>\n",
       "      <td>Tox21_201495</td>\n",
       "      <td>p,p'-DDT</td>\n",
       "      <td>50-29-3</td>\n",
       "      <td>active agonist</td>\n",
       "      <td>active agonist</td>\n",
       "      <td>15.601063</td>\n",
       "      <td>17.120012</td>\n",
       "      <td>...</td>\n",
       "      <td>NaN</td>\n",
       "      <td>Tox21_201495</td>\n",
       "      <td>50-29-3</td>\n",
       "      <td>144208693</td>\n",
       "      <td>p,p'-DDT</td>\n",
       "      <td>A</td>\n",
       "      <td>A</td>\n",
       "      <td>3036.0</td>\n",
       "      <td>16-JAN-19 01.02.54.000000000 PM</td>\n",
       "      <td>Clc1ccc(cc1)C(c2ccc(Cl)cc2)C(Cl)(Cl)Cl</td>\n",
       "    </tr>\n",
       "    <tr>\n",
       "      <th>494246</th>\n",
       "      <td>NCGC00254176-01</td>\n",
       "      <td>tox21-er-bla-agonist-p2</td>\n",
       "      <td>activity</td>\n",
       "      <td>Tox21_300067</td>\n",
       "      <td>p,p'-DDT</td>\n",
       "      <td>50-29-3</td>\n",
       "      <td>active agonist</td>\n",
       "      <td>active agonist</td>\n",
       "      <td>30.903154</td>\n",
       "      <td>28.554962</td>\n",
       "      <td>...</td>\n",
       "      <td>NaN</td>\n",
       "      <td>Tox21_300067</td>\n",
       "      <td>50-29-3</td>\n",
       "      <td>144210387</td>\n",
       "      <td>p,p'-DDT</td>\n",
       "      <td>A</td>\n",
       "      <td>A</td>\n",
       "      <td>3036.0</td>\n",
       "      <td>16-JAN-19 01.02.54.000000000 PM</td>\n",
       "      <td>Clc1ccc(cc1)C(c2ccc(Cl)cc2)C(Cl)(Cl)Cl</td>\n",
       "    </tr>\n",
       "    <tr>\n",
       "      <th>167865</th>\n",
       "      <td>NCGC00259046-01</td>\n",
       "      <td>tox21-ppard-bla-antagonist-p1</td>\n",
       "      <td>activity</td>\n",
       "      <td>Tox21_201495</td>\n",
       "      <td>p,p'-DDT</td>\n",
       "      <td>50-29-3</td>\n",
       "      <td>inactive</td>\n",
       "      <td>inactive</td>\n",
       "      <td>0.000000</td>\n",
       "      <td>144208693.0</td>\n",
       "      <td>...</td>\n",
       "      <td>NaN</td>\n",
       "      <td>Tox21_201495</td>\n",
       "      <td>50-29-3</td>\n",
       "      <td>144208693</td>\n",
       "      <td>p,p'-DDT</td>\n",
       "      <td>A</td>\n",
       "      <td>A</td>\n",
       "      <td>3036.0</td>\n",
       "      <td>16-JAN-19 01.02.54.000000000 PM</td>\n",
       "      <td>Clc1ccc(cc1)C(c2ccc(Cl)cc2)C(Cl)(Cl)Cl</td>\n",
       "    </tr>\n",
       "    <tr>\n",
       "      <th>248778</th>\n",
       "      <td>NCGC00091071-08</td>\n",
       "      <td>tox21-ppard-bla-antagonist-p1</td>\n",
       "      <td>activity</td>\n",
       "      <td>Tox21_111076_1</td>\n",
       "      <td>p,p'-DDT</td>\n",
       "      <td>50-29-3</td>\n",
       "      <td>inactive</td>\n",
       "      <td>inactive</td>\n",
       "      <td>0.000000</td>\n",
       "      <td>170465529.0</td>\n",
       "      <td>...</td>\n",
       "      <td>NaN</td>\n",
       "      <td>Tox21_111076_1</td>\n",
       "      <td>50-29-3</td>\n",
       "      <td>170465529</td>\n",
       "      <td>p,p'-DDT</td>\n",
       "      <td>F</td>\n",
       "      <td>NaN</td>\n",
       "      <td>3036.0</td>\n",
       "      <td>16-JAN-19 01.02.54.000000000 PM</td>\n",
       "      <td>Clc1ccc(cc1)C(c2ccc(Cl)cc2)C(Cl)(Cl)Cl</td>\n",
       "    </tr>\n",
       "    <tr>\n",
       "      <th>494221</th>\n",
       "      <td>NCGC00254176-01</td>\n",
       "      <td>tox21-ppard-bla-antagonist-p1</td>\n",
       "      <td>activity</td>\n",
       "      <td>Tox21_300067</td>\n",
       "      <td>p,p'-DDT</td>\n",
       "      <td>50-29-3</td>\n",
       "      <td>inactive</td>\n",
       "      <td>inactive</td>\n",
       "      <td>0.000000</td>\n",
       "      <td>144210387.0</td>\n",
       "      <td>...</td>\n",
       "      <td>NaN</td>\n",
       "      <td>Tox21_300067</td>\n",
       "      <td>50-29-3</td>\n",
       "      <td>144210387</td>\n",
       "      <td>p,p'-DDT</td>\n",
       "      <td>A</td>\n",
       "      <td>A</td>\n",
       "      <td>3036.0</td>\n",
       "      <td>16-JAN-19 01.02.54.000000000 PM</td>\n",
       "      <td>Clc1ccc(cc1)C(c2ccc(Cl)cc2)C(Cl)(Cl)Cl</td>\n",
       "    </tr>\n",
       "    <tr>\n",
       "      <th>167877</th>\n",
       "      <td>NCGC00259046-01</td>\n",
       "      <td>tox21-pparg-bla-antagonist-p1</td>\n",
       "      <td>activity</td>\n",
       "      <td>Tox21_201495</td>\n",
       "      <td>p,p'-DDT</td>\n",
       "      <td>50-29-3</td>\n",
       "      <td>inactive</td>\n",
       "      <td>inactive</td>\n",
       "      <td>0.000000</td>\n",
       "      <td>144208693.0</td>\n",
       "      <td>...</td>\n",
       "      <td>NaN</td>\n",
       "      <td>Tox21_201495</td>\n",
       "      <td>50-29-3</td>\n",
       "      <td>144208693</td>\n",
       "      <td>p,p'-DDT</td>\n",
       "      <td>A</td>\n",
       "      <td>A</td>\n",
       "      <td>3036.0</td>\n",
       "      <td>16-JAN-19 01.02.54.000000000 PM</td>\n",
       "      <td>Clc1ccc(cc1)C(c2ccc(Cl)cc2)C(Cl)(Cl)Cl</td>\n",
       "    </tr>\n",
       "    <tr>\n",
       "      <th>248786</th>\n",
       "      <td>NCGC00091071-08</td>\n",
       "      <td>tox21-pparg-bla-antagonist-p1</td>\n",
       "      <td>activity</td>\n",
       "      <td>Tox21_111076_1</td>\n",
       "      <td>p,p'-DDT</td>\n",
       "      <td>50-29-3</td>\n",
       "      <td>inactive</td>\n",
       "      <td>inactive</td>\n",
       "      <td>0.000000</td>\n",
       "      <td>170465529.0</td>\n",
       "      <td>...</td>\n",
       "      <td>NaN</td>\n",
       "      <td>Tox21_111076_1</td>\n",
       "      <td>50-29-3</td>\n",
       "      <td>170465529</td>\n",
       "      <td>p,p'-DDT</td>\n",
       "      <td>F</td>\n",
       "      <td>NaN</td>\n",
       "      <td>3036.0</td>\n",
       "      <td>16-JAN-19 01.02.54.000000000 PM</td>\n",
       "      <td>Clc1ccc(cc1)C(c2ccc(Cl)cc2)C(Cl)(Cl)Cl</td>\n",
       "    </tr>\n",
       "    <tr>\n",
       "      <th>494233</th>\n",
       "      <td>NCGC00254176-01</td>\n",
       "      <td>tox21-pparg-bla-antagonist-p1</td>\n",
       "      <td>activity</td>\n",
       "      <td>Tox21_300067</td>\n",
       "      <td>p,p'-DDT</td>\n",
       "      <td>50-29-3</td>\n",
       "      <td>inactive</td>\n",
       "      <td>inactive</td>\n",
       "      <td>0.000000</td>\n",
       "      <td>144210387.0</td>\n",
       "      <td>...</td>\n",
       "      <td>NaN</td>\n",
       "      <td>Tox21_300067</td>\n",
       "      <td>50-29-3</td>\n",
       "      <td>144210387</td>\n",
       "      <td>p,p'-DDT</td>\n",
       "      <td>A</td>\n",
       "      <td>A</td>\n",
       "      <td>3036.0</td>\n",
       "      <td>16-JAN-19 01.02.54.000000000 PM</td>\n",
       "      <td>Clc1ccc(cc1)C(c2ccc(Cl)cc2)C(Cl)(Cl)Cl</td>\n",
       "    </tr>\n",
       "    <tr>\n",
       "      <th>167902</th>\n",
       "      <td>NCGC00259046-01</td>\n",
       "      <td>tox21-vdr-bla-agonist-p1</td>\n",
       "      <td>activity</td>\n",
       "      <td>Tox21_201495</td>\n",
       "      <td>p,p'-DDT</td>\n",
       "      <td>50-29-3</td>\n",
       "      <td>inactive</td>\n",
       "      <td>inactive</td>\n",
       "      <td>0.000000</td>\n",
       "      <td>144208693.0</td>\n",
       "      <td>...</td>\n",
       "      <td>NaN</td>\n",
       "      <td>Tox21_201495</td>\n",
       "      <td>50-29-3</td>\n",
       "      <td>144208693</td>\n",
       "      <td>p,p'-DDT</td>\n",
       "      <td>A</td>\n",
       "      <td>A</td>\n",
       "      <td>3036.0</td>\n",
       "      <td>16-JAN-19 01.02.54.000000000 PM</td>\n",
       "      <td>Clc1ccc(cc1)C(c2ccc(Cl)cc2)C(Cl)(Cl)Cl</td>\n",
       "    </tr>\n",
       "    <tr>\n",
       "      <th>248802</th>\n",
       "      <td>NCGC00091071-08</td>\n",
       "      <td>tox21-vdr-bla-agonist-p1</td>\n",
       "      <td>activity</td>\n",
       "      <td>Tox21_111076_1</td>\n",
       "      <td>p,p'-DDT</td>\n",
       "      <td>50-29-3</td>\n",
       "      <td>inactive</td>\n",
       "      <td>inactive</td>\n",
       "      <td>0.000000</td>\n",
       "      <td>170465529.0</td>\n",
       "      <td>...</td>\n",
       "      <td>NaN</td>\n",
       "      <td>Tox21_111076_1</td>\n",
       "      <td>50-29-3</td>\n",
       "      <td>170465529</td>\n",
       "      <td>p,p'-DDT</td>\n",
       "      <td>F</td>\n",
       "      <td>NaN</td>\n",
       "      <td>3036.0</td>\n",
       "      <td>16-JAN-19 01.02.54.000000000 PM</td>\n",
       "      <td>Clc1ccc(cc1)C(c2ccc(Cl)cc2)C(Cl)(Cl)Cl</td>\n",
       "    </tr>\n",
       "    <tr>\n",
       "      <th>494258</th>\n",
       "      <td>NCGC00254176-01</td>\n",
       "      <td>tox21-vdr-bla-agonist-p1</td>\n",
       "      <td>activity</td>\n",
       "      <td>Tox21_300067</td>\n",
       "      <td>p,p'-DDT</td>\n",
       "      <td>50-29-3</td>\n",
       "      <td>inactive</td>\n",
       "      <td>inactive</td>\n",
       "      <td>0.000000</td>\n",
       "      <td>144210387.0</td>\n",
       "      <td>...</td>\n",
       "      <td>NaN</td>\n",
       "      <td>Tox21_300067</td>\n",
       "      <td>50-29-3</td>\n",
       "      <td>144210387</td>\n",
       "      <td>p,p'-DDT</td>\n",
       "      <td>A</td>\n",
       "      <td>A</td>\n",
       "      <td>3036.0</td>\n",
       "      <td>16-JAN-19 01.02.54.000000000 PM</td>\n",
       "      <td>Clc1ccc(cc1)C(c2ccc(Cl)cc2)C(Cl)(Cl)Cl</td>\n",
       "    </tr>\n",
       "    <tr>\n",
       "      <th>167889</th>\n",
       "      <td>NCGC00259046-01</td>\n",
       "      <td>tox21-vdr-bla-antagonist-p1</td>\n",
       "      <td>activity</td>\n",
       "      <td>Tox21_201495</td>\n",
       "      <td>p,p'-DDT</td>\n",
       "      <td>50-29-3</td>\n",
       "      <td>inactive</td>\n",
       "      <td>inactive</td>\n",
       "      <td>0.000000</td>\n",
       "      <td>144208693.0</td>\n",
       "      <td>...</td>\n",
       "      <td>NaN</td>\n",
       "      <td>Tox21_201495</td>\n",
       "      <td>50-29-3</td>\n",
       "      <td>144208693</td>\n",
       "      <td>p,p'-DDT</td>\n",
       "      <td>A</td>\n",
       "      <td>A</td>\n",
       "      <td>3036.0</td>\n",
       "      <td>16-JAN-19 01.02.54.000000000 PM</td>\n",
       "      <td>Clc1ccc(cc1)C(c2ccc(Cl)cc2)C(Cl)(Cl)Cl</td>\n",
       "    </tr>\n",
       "    <tr>\n",
       "      <th>248798</th>\n",
       "      <td>NCGC00091071-08</td>\n",
       "      <td>tox21-vdr-bla-antagonist-p1</td>\n",
       "      <td>activity</td>\n",
       "      <td>Tox21_111076_1</td>\n",
       "      <td>p,p'-DDT</td>\n",
       "      <td>50-29-3</td>\n",
       "      <td>inactive</td>\n",
       "      <td>inactive</td>\n",
       "      <td>0.000000</td>\n",
       "      <td>170465529.0</td>\n",
       "      <td>...</td>\n",
       "      <td>NaN</td>\n",
       "      <td>Tox21_111076_1</td>\n",
       "      <td>50-29-3</td>\n",
       "      <td>170465529</td>\n",
       "      <td>p,p'-DDT</td>\n",
       "      <td>F</td>\n",
       "      <td>NaN</td>\n",
       "      <td>3036.0</td>\n",
       "      <td>16-JAN-19 01.02.54.000000000 PM</td>\n",
       "      <td>Clc1ccc(cc1)C(c2ccc(Cl)cc2)C(Cl)(Cl)Cl</td>\n",
       "    </tr>\n",
       "    <tr>\n",
       "      <th>494245</th>\n",
       "      <td>NCGC00254176-01</td>\n",
       "      <td>tox21-vdr-bla-antagonist-p1</td>\n",
       "      <td>activity</td>\n",
       "      <td>Tox21_300067</td>\n",
       "      <td>p,p'-DDT</td>\n",
       "      <td>50-29-3</td>\n",
       "      <td>inactive</td>\n",
       "      <td>inactive</td>\n",
       "      <td>0.000000</td>\n",
       "      <td>144210387.0</td>\n",
       "      <td>...</td>\n",
       "      <td>NaN</td>\n",
       "      <td>Tox21_300067</td>\n",
       "      <td>50-29-3</td>\n",
       "      <td>144210387</td>\n",
       "      <td>p,p'-DDT</td>\n",
       "      <td>A</td>\n",
       "      <td>A</td>\n",
       "      <td>3036.0</td>\n",
       "      <td>16-JAN-19 01.02.54.000000000 PM</td>\n",
       "      <td>Clc1ccc(cc1)C(c2ccc(Cl)cc2)C(Cl)(Cl)Cl</td>\n",
       "    </tr>\n",
       "  </tbody>\n",
       "</table>\n",
       "<p>15 rows × 26 columns</p>\n",
       "</div>"
      ],
      "text/plain": [
       "              SAMPLE_ID                  PROTOCOL_NAME SAMPLE_DATA_TYPE  \\\n",
       "652     NCGC00091071-01        tox21-er-bla-agonist-p2         activity   \n",
       "167891  NCGC00259046-01        tox21-er-bla-agonist-p2         activity   \n",
       "494246  NCGC00254176-01        tox21-er-bla-agonist-p2         activity   \n",
       "167865  NCGC00259046-01  tox21-ppard-bla-antagonist-p1         activity   \n",
       "248778  NCGC00091071-08  tox21-ppard-bla-antagonist-p1         activity   \n",
       "494221  NCGC00254176-01  tox21-ppard-bla-antagonist-p1         activity   \n",
       "167877  NCGC00259046-01  tox21-pparg-bla-antagonist-p1         activity   \n",
       "248786  NCGC00091071-08  tox21-pparg-bla-antagonist-p1         activity   \n",
       "494233  NCGC00254176-01  tox21-pparg-bla-antagonist-p1         activity   \n",
       "167902  NCGC00259046-01       tox21-vdr-bla-agonist-p1         activity   \n",
       "248802  NCGC00091071-08       tox21-vdr-bla-agonist-p1         activity   \n",
       "494258  NCGC00254176-01       tox21-vdr-bla-agonist-p1         activity   \n",
       "167889  NCGC00259046-01    tox21-vdr-bla-antagonist-p1         activity   \n",
       "248798  NCGC00091071-08    tox21-vdr-bla-antagonist-p1         activity   \n",
       "494245  NCGC00254176-01    tox21-vdr-bla-antagonist-p1         activity   \n",
       "\n",
       "            TOX21_ID_x SAMPLE_NAME_x    CAS_x   ASSAY_OUTCOME CHANNEL_OUTCOME  \\\n",
       "652       Tox21_111076      p,p'-DDT  50-29-3  active agonist  active agonist   \n",
       "167891    Tox21_201495      p,p'-DDT  50-29-3  active agonist  active agonist   \n",
       "494246    Tox21_300067      p,p'-DDT  50-29-3  active agonist  active agonist   \n",
       "167865    Tox21_201495      p,p'-DDT  50-29-3        inactive        inactive   \n",
       "248778  Tox21_111076_1      p,p'-DDT  50-29-3        inactive        inactive   \n",
       "494221    Tox21_300067      p,p'-DDT  50-29-3        inactive        inactive   \n",
       "167877    Tox21_201495      p,p'-DDT  50-29-3        inactive        inactive   \n",
       "248786  Tox21_111076_1      p,p'-DDT  50-29-3        inactive        inactive   \n",
       "494233    Tox21_300067      p,p'-DDT  50-29-3        inactive        inactive   \n",
       "167902    Tox21_201495      p,p'-DDT  50-29-3        inactive        inactive   \n",
       "248802  Tox21_111076_1      p,p'-DDT  50-29-3        inactive        inactive   \n",
       "494258    Tox21_300067      p,p'-DDT  50-29-3        inactive        inactive   \n",
       "167889    Tox21_201495      p,p'-DDT  50-29-3        inactive        inactive   \n",
       "248798  Tox21_111076_1      p,p'-DDT  50-29-3        inactive        inactive   \n",
       "494245    Tox21_300067      p,p'-DDT  50-29-3        inactive        inactive   \n",
       "\n",
       "             AC50     EFFICACY  ... FLAG          TOX21_ID_y    CAS_y  \\\n",
       "652      9.153109    13.640247  ...      NaN    Tox21_111076  50-29-3   \n",
       "167891  15.601063    17.120012  ...      NaN    Tox21_201495  50-29-3   \n",
       "494246  30.903154    28.554962  ...      NaN    Tox21_300067  50-29-3   \n",
       "167865   0.000000  144208693.0  ...      NaN    Tox21_201495  50-29-3   \n",
       "248778   0.000000  170465529.0  ...      NaN  Tox21_111076_1  50-29-3   \n",
       "494221   0.000000  144210387.0  ...      NaN    Tox21_300067  50-29-3   \n",
       "167877   0.000000  144208693.0  ...      NaN    Tox21_201495  50-29-3   \n",
       "248786   0.000000  170465529.0  ...      NaN  Tox21_111076_1  50-29-3   \n",
       "494233   0.000000  144210387.0  ...      NaN    Tox21_300067  50-29-3   \n",
       "167902   0.000000  144208693.0  ...      NaN    Tox21_201495  50-29-3   \n",
       "248802   0.000000  170465529.0  ...      NaN  Tox21_111076_1  50-29-3   \n",
       "494258   0.000000  144210387.0  ...      NaN    Tox21_300067  50-29-3   \n",
       "167889   0.000000  144208693.0  ...      NaN    Tox21_201495  50-29-3   \n",
       "248798   0.000000  170465529.0  ...      NaN  Tox21_111076_1  50-29-3   \n",
       "494245   0.000000  144210387.0  ...      NaN    Tox21_300067  50-29-3   \n",
       "\n",
       "       PUBCHEM_SID_y SAMPLE_NAME_y  PURITY_RATING_y  PURITY_RATING_4M  \\\n",
       "652        144204627      p,p'-DDT                A               NaN   \n",
       "167891     144208693      p,p'-DDT                A                 A   \n",
       "494246     144210387      p,p'-DDT                A                 A   \n",
       "167865     144208693      p,p'-DDT                A                 A   \n",
       "248778     170465529      p,p'-DDT                F               NaN   \n",
       "494221     144210387      p,p'-DDT                A                 A   \n",
       "167877     144208693      p,p'-DDT                A                 A   \n",
       "248786     170465529      p,p'-DDT                F               NaN   \n",
       "494233     144210387      p,p'-DDT                A                 A   \n",
       "167902     144208693      p,p'-DDT                A                 A   \n",
       "248802     170465529      p,p'-DDT                F               NaN   \n",
       "494258     144210387      p,p'-DDT                A                 A   \n",
       "167889     144208693      p,p'-DDT                A                 A   \n",
       "248798     170465529      p,p'-DDT                F               NaN   \n",
       "494245     144210387      p,p'-DDT                A                 A   \n",
       "\n",
       "       PUBCHEM_CID                    LAST_MODIFIED  \\\n",
       "652         3036.0  16-JAN-19 01.02.54.000000000 PM   \n",
       "167891      3036.0  16-JAN-19 01.02.54.000000000 PM   \n",
       "494246      3036.0  16-JAN-19 01.02.54.000000000 PM   \n",
       "167865      3036.0  16-JAN-19 01.02.54.000000000 PM   \n",
       "248778      3036.0  16-JAN-19 01.02.54.000000000 PM   \n",
       "494221      3036.0  16-JAN-19 01.02.54.000000000 PM   \n",
       "167877      3036.0  16-JAN-19 01.02.54.000000000 PM   \n",
       "248786      3036.0  16-JAN-19 01.02.54.000000000 PM   \n",
       "494233      3036.0  16-JAN-19 01.02.54.000000000 PM   \n",
       "167902      3036.0  16-JAN-19 01.02.54.000000000 PM   \n",
       "248802      3036.0  16-JAN-19 01.02.54.000000000 PM   \n",
       "494258      3036.0  16-JAN-19 01.02.54.000000000 PM   \n",
       "167889      3036.0  16-JAN-19 01.02.54.000000000 PM   \n",
       "248798      3036.0  16-JAN-19 01.02.54.000000000 PM   \n",
       "494245      3036.0  16-JAN-19 01.02.54.000000000 PM   \n",
       "\n",
       "                                        SMILES  \n",
       "652     Clc1ccc(cc1)C(c2ccc(Cl)cc2)C(Cl)(Cl)Cl  \n",
       "167891  Clc1ccc(cc1)C(c2ccc(Cl)cc2)C(Cl)(Cl)Cl  \n",
       "494246  Clc1ccc(cc1)C(c2ccc(Cl)cc2)C(Cl)(Cl)Cl  \n",
       "167865  Clc1ccc(cc1)C(c2ccc(Cl)cc2)C(Cl)(Cl)Cl  \n",
       "248778  Clc1ccc(cc1)C(c2ccc(Cl)cc2)C(Cl)(Cl)Cl  \n",
       "494221  Clc1ccc(cc1)C(c2ccc(Cl)cc2)C(Cl)(Cl)Cl  \n",
       "167877  Clc1ccc(cc1)C(c2ccc(Cl)cc2)C(Cl)(Cl)Cl  \n",
       "248786  Clc1ccc(cc1)C(c2ccc(Cl)cc2)C(Cl)(Cl)Cl  \n",
       "494233  Clc1ccc(cc1)C(c2ccc(Cl)cc2)C(Cl)(Cl)Cl  \n",
       "167902  Clc1ccc(cc1)C(c2ccc(Cl)cc2)C(Cl)(Cl)Cl  \n",
       "248802  Clc1ccc(cc1)C(c2ccc(Cl)cc2)C(Cl)(Cl)Cl  \n",
       "494258  Clc1ccc(cc1)C(c2ccc(Cl)cc2)C(Cl)(Cl)Cl  \n",
       "167889  Clc1ccc(cc1)C(c2ccc(Cl)cc2)C(Cl)(Cl)Cl  \n",
       "248798  Clc1ccc(cc1)C(c2ccc(Cl)cc2)C(Cl)(Cl)Cl  \n",
       "494245  Clc1ccc(cc1)C(c2ccc(Cl)cc2)C(Cl)(Cl)Cl  \n",
       "\n",
       "[15 rows x 26 columns]"
      ]
     },
     "execution_count": 40,
     "metadata": {},
     "output_type": "execute_result"
    }
   ],
   "source": [
    "view_mol = updated_data[updated_data['SAMPLE_NAME_x'] == \"p,p'-DDT\"].copy() #CAS_x ; 50-29-3 \n",
    "# Trier le DataFrame view_mol en fonction de la colonne 'PROTOCOL_NAME'\n",
    "\n",
    "view_mol.sort_values(by='PROTOCOL_NAME')"
   ]
  },
  {
   "cell_type": "code",
   "execution_count": 41,
   "metadata": {},
   "outputs": [
    {
     "data": {
      "text/plain": [
       "array(['tox21-er-bla-agonist-p2', 'tox21-ppard-bla-antagonist-p1',\n",
       "       'tox21-pparg-bla-antagonist-p1', 'tox21-vdr-bla-antagonist-p1',\n",
       "       'tox21-vdr-bla-agonist-p1'], dtype=object)"
      ]
     },
     "execution_count": 41,
     "metadata": {},
     "output_type": "execute_result"
    }
   ],
   "source": [
    "view_mol['PROTOCOL_NAME'].unique()"
   ]
  },
  {
   "cell_type": "markdown",
   "metadata": {},
   "source": [
    "## Save the data "
   ]
  },
  {
   "cell_type": "markdown",
   "metadata": {},
   "source": [
    "He save as a csv file the data we need to merge to the BBC047 dataset. That is the activity status, the name of the molecule, the smiles and CID.\n"
   ]
  },
  {
   "cell_type": "code",
   "execution_count": 42,
   "metadata": {},
   "outputs": [
    {
     "data": {
      "text/html": [
       "<div>\n",
       "<style scoped>\n",
       "    .dataframe tbody tr th:only-of-type {\n",
       "        vertical-align: middle;\n",
       "    }\n",
       "\n",
       "    .dataframe tbody tr th {\n",
       "        vertical-align: top;\n",
       "    }\n",
       "\n",
       "    .dataframe thead th {\n",
       "        text-align: right;\n",
       "    }\n",
       "</style>\n",
       "<table border=\"1\" class=\"dataframe\">\n",
       "  <thead>\n",
       "    <tr style=\"text-align: right;\">\n",
       "      <th></th>\n",
       "      <th>PUBCHEM_CID</th>\n",
       "      <th>Endocrine_activity</th>\n",
       "    </tr>\n",
       "  </thead>\n",
       "  <tbody>\n",
       "    <tr>\n",
       "      <th>0</th>\n",
       "      <td>2337.0</td>\n",
       "      <td>active</td>\n",
       "    </tr>\n",
       "    <tr>\n",
       "      <th>1</th>\n",
       "      <td>107715.0</td>\n",
       "      <td>active</td>\n",
       "    </tr>\n",
       "  </tbody>\n",
       "</table>\n",
       "</div>"
      ],
      "text/plain": [
       "   PUBCHEM_CID Endocrine_activity\n",
       "0       2337.0             active\n",
       "1     107715.0             active"
      ]
     },
     "execution_count": 42,
     "metadata": {},
     "output_type": "execute_result"
    }
   ],
   "source": [
    "endocrine_annotation_cleaned = pd.DataFrame(list(activity.items()), columns=['PUBCHEM_CID', 'Endocrine_activity']) #CPD_NAME\n",
    "Endocrine_activity['PUBCHEM_CID'] = Endocrine_activity['PUBCHEM_CID'].astype(int)\n",
    "endocrine_annotation_cleaned.head(2)\n"
   ]
  },
  {
   "cell_type": "code",
   "execution_count": 43,
   "metadata": {},
   "outputs": [
    {
     "data": {
      "text/html": [
       "<div>\n",
       "<style scoped>\n",
       "    .dataframe tbody tr th:only-of-type {\n",
       "        vertical-align: middle;\n",
       "    }\n",
       "\n",
       "    .dataframe tbody tr th {\n",
       "        vertical-align: top;\n",
       "    }\n",
       "\n",
       "    .dataframe thead th {\n",
       "        text-align: right;\n",
       "    }\n",
       "</style>\n",
       "<table border=\"1\" class=\"dataframe\">\n",
       "  <thead>\n",
       "    <tr style=\"text-align: right;\">\n",
       "      <th></th>\n",
       "      <th>SAMPLE_ID</th>\n",
       "      <th>PROTOCOL_NAME</th>\n",
       "      <th>SAMPLE_DATA_TYPE</th>\n",
       "      <th>TOX21_ID_x</th>\n",
       "      <th>SAMPLE_NAME_x</th>\n",
       "      <th>CAS_x</th>\n",
       "      <th>ASSAY_OUTCOME</th>\n",
       "      <th>CHANNEL_OUTCOME</th>\n",
       "      <th>AC50</th>\n",
       "      <th>EFFICACY</th>\n",
       "      <th>...</th>\n",
       "      <th>FLAG</th>\n",
       "      <th>TOX21_ID_y</th>\n",
       "      <th>CAS_y</th>\n",
       "      <th>PUBCHEM_SID_y</th>\n",
       "      <th>SAMPLE_NAME_y</th>\n",
       "      <th>PURITY_RATING_y</th>\n",
       "      <th>PURITY_RATING_4M</th>\n",
       "      <th>PUBCHEM_CID</th>\n",
       "      <th>LAST_MODIFIED</th>\n",
       "      <th>SMILES</th>\n",
       "    </tr>\n",
       "  </thead>\n",
       "  <tbody>\n",
       "    <tr>\n",
       "      <th>224</th>\n",
       "      <td>NCGC00255047-01</td>\n",
       "      <td>tox21-gr-hela-bla-antagonist-p1</td>\n",
       "      <td>activity</td>\n",
       "      <td>Tox21_301149</td>\n",
       "      <td>Benzocaine</td>\n",
       "      <td>94-09-7</td>\n",
       "      <td>inactive</td>\n",
       "      <td>inactive</td>\n",
       "      <td>0.0</td>\n",
       "      <td>144211466.0</td>\n",
       "      <td>...</td>\n",
       "      <td>NaN</td>\n",
       "      <td>Tox21_301149</td>\n",
       "      <td>94-09-7</td>\n",
       "      <td>144211466</td>\n",
       "      <td>Benzocaine</td>\n",
       "      <td>A</td>\n",
       "      <td>A</td>\n",
       "      <td>2337</td>\n",
       "      <td>16-JAN-19 01.02.54.000000000 PM</td>\n",
       "      <td>Nc1ccc(cc1)C(=O)OCC</td>\n",
       "    </tr>\n",
       "    <tr>\n",
       "      <th>228</th>\n",
       "      <td>NCGC00255047-01</td>\n",
       "      <td>tox21-pparg-bla-agonist-p1</td>\n",
       "      <td>activity</td>\n",
       "      <td>Tox21_301149</td>\n",
       "      <td>Benzocaine</td>\n",
       "      <td>94-09-7</td>\n",
       "      <td>inactive</td>\n",
       "      <td>inactive</td>\n",
       "      <td>0.0</td>\n",
       "      <td>144211466.0</td>\n",
       "      <td>...</td>\n",
       "      <td>NaN</td>\n",
       "      <td>Tox21_301149</td>\n",
       "      <td>94-09-7</td>\n",
       "      <td>144211466</td>\n",
       "      <td>Benzocaine</td>\n",
       "      <td>A</td>\n",
       "      <td>A</td>\n",
       "      <td>2337</td>\n",
       "      <td>16-JAN-19 01.02.54.000000000 PM</td>\n",
       "      <td>Nc1ccc(cc1)C(=O)OCC</td>\n",
       "    </tr>\n",
       "    <tr>\n",
       "      <th>234</th>\n",
       "      <td>NCGC00255047-01</td>\n",
       "      <td>tox21-ppard-bla-antagonist-p1</td>\n",
       "      <td>activity</td>\n",
       "      <td>Tox21_301149</td>\n",
       "      <td>Benzocaine</td>\n",
       "      <td>94-09-7</td>\n",
       "      <td>inactive</td>\n",
       "      <td>inactive</td>\n",
       "      <td>0.0</td>\n",
       "      <td>144211466.0</td>\n",
       "      <td>...</td>\n",
       "      <td>NaN</td>\n",
       "      <td>Tox21_301149</td>\n",
       "      <td>94-09-7</td>\n",
       "      <td>144211466</td>\n",
       "      <td>Benzocaine</td>\n",
       "      <td>A</td>\n",
       "      <td>A</td>\n",
       "      <td>2337</td>\n",
       "      <td>16-JAN-19 01.02.54.000000000 PM</td>\n",
       "      <td>Nc1ccc(cc1)C(=O)OCC</td>\n",
       "    </tr>\n",
       "  </tbody>\n",
       "</table>\n",
       "<p>3 rows × 26 columns</p>\n",
       "</div>"
      ],
      "text/plain": [
       "           SAMPLE_ID                    PROTOCOL_NAME SAMPLE_DATA_TYPE  \\\n",
       "224  NCGC00255047-01  tox21-gr-hela-bla-antagonist-p1         activity   \n",
       "228  NCGC00255047-01       tox21-pparg-bla-agonist-p1         activity   \n",
       "234  NCGC00255047-01    tox21-ppard-bla-antagonist-p1         activity   \n",
       "\n",
       "       TOX21_ID_x SAMPLE_NAME_x    CAS_x ASSAY_OUTCOME CHANNEL_OUTCOME  AC50  \\\n",
       "224  Tox21_301149    Benzocaine  94-09-7      inactive        inactive   0.0   \n",
       "228  Tox21_301149    Benzocaine  94-09-7      inactive        inactive   0.0   \n",
       "234  Tox21_301149    Benzocaine  94-09-7      inactive        inactive   0.0   \n",
       "\n",
       "        EFFICACY  ... FLAG        TOX21_ID_y    CAS_y PUBCHEM_SID_y  \\\n",
       "224  144211466.0  ...      NaN  Tox21_301149  94-09-7     144211466   \n",
       "228  144211466.0  ...      NaN  Tox21_301149  94-09-7     144211466   \n",
       "234  144211466.0  ...      NaN  Tox21_301149  94-09-7     144211466   \n",
       "\n",
       "    SAMPLE_NAME_y  PURITY_RATING_y  PURITY_RATING_4M PUBCHEM_CID  \\\n",
       "224    Benzocaine                A                 A        2337   \n",
       "228    Benzocaine                A                 A        2337   \n",
       "234    Benzocaine                A                 A        2337   \n",
       "\n",
       "                       LAST_MODIFIED               SMILES  \n",
       "224  16-JAN-19 01.02.54.000000000 PM  Nc1ccc(cc1)C(=O)OCC  \n",
       "228  16-JAN-19 01.02.54.000000000 PM  Nc1ccc(cc1)C(=O)OCC  \n",
       "234  16-JAN-19 01.02.54.000000000 PM  Nc1ccc(cc1)C(=O)OCC  \n",
       "\n",
       "[3 rows x 26 columns]"
      ]
     },
     "execution_count": 43,
     "metadata": {},
     "output_type": "execute_result"
    }
   ],
   "source": [
    "Endocrine_activity.head(3)"
   ]
  },
  {
   "cell_type": "code",
   "execution_count": 44,
   "metadata": {},
   "outputs": [],
   "source": [
    "Endocrine_activity = Endocrine_activity[['CAS_x','SMILES','PUBCHEM_CID','SAMPLE_NAME_x']]\n",
    "Endocrine_activity.rename(columns={'SAMPLE_NAME_x':'CPD_NAME', 'CAS_x':'CAS'}, inplace=True)"
   ]
  },
  {
   "cell_type": "code",
   "execution_count": 45,
   "metadata": {},
   "outputs": [],
   "source": [
    "Endocrine_activity = endocrine_annotation_cleaned.merge(Endocrine_activity, on='PUBCHEM_CID', how='right')"
   ]
  },
  {
   "cell_type": "code",
   "execution_count": 46,
   "metadata": {},
   "outputs": [
    {
     "data": {
      "text/html": [
       "<div>\n",
       "<style scoped>\n",
       "    .dataframe tbody tr th:only-of-type {\n",
       "        vertical-align: middle;\n",
       "    }\n",
       "\n",
       "    .dataframe tbody tr th {\n",
       "        vertical-align: top;\n",
       "    }\n",
       "\n",
       "    .dataframe thead th {\n",
       "        text-align: right;\n",
       "    }\n",
       "</style>\n",
       "<table border=\"1\" class=\"dataframe\">\n",
       "  <thead>\n",
       "    <tr style=\"text-align: right;\">\n",
       "      <th></th>\n",
       "      <th>PUBCHEM_CID</th>\n",
       "      <th>Endocrine_activity</th>\n",
       "    </tr>\n",
       "  </thead>\n",
       "  <tbody>\n",
       "    <tr>\n",
       "      <th>0</th>\n",
       "      <td>2337.0</td>\n",
       "      <td>active</td>\n",
       "    </tr>\n",
       "    <tr>\n",
       "      <th>1</th>\n",
       "      <td>107715.0</td>\n",
       "      <td>active</td>\n",
       "    </tr>\n",
       "    <tr>\n",
       "      <th>2</th>\n",
       "      <td>3036.0</td>\n",
       "      <td>active</td>\n",
       "    </tr>\n",
       "    <tr>\n",
       "      <th>3</th>\n",
       "      <td>72139.0</td>\n",
       "      <td>active</td>\n",
       "    </tr>\n",
       "    <tr>\n",
       "      <th>4</th>\n",
       "      <td>8362.0</td>\n",
       "      <td>active</td>\n",
       "    </tr>\n",
       "    <tr>\n",
       "      <th>...</th>\n",
       "      <td>...</td>\n",
       "      <td>...</td>\n",
       "    </tr>\n",
       "    <tr>\n",
       "      <th>646</th>\n",
       "      <td>127404.0</td>\n",
       "      <td>active</td>\n",
       "    </tr>\n",
       "    <tr>\n",
       "      <th>647</th>\n",
       "      <td>5278.0</td>\n",
       "      <td>inactive</td>\n",
       "    </tr>\n",
       "    <tr>\n",
       "      <th>648</th>\n",
       "      <td>5282593.0</td>\n",
       "      <td>inactive</td>\n",
       "    </tr>\n",
       "    <tr>\n",
       "      <th>649</th>\n",
       "      <td>5035.0</td>\n",
       "      <td>active</td>\n",
       "    </tr>\n",
       "    <tr>\n",
       "      <th>650</th>\n",
       "      <td>2724.0</td>\n",
       "      <td>inactive</td>\n",
       "    </tr>\n",
       "  </tbody>\n",
       "</table>\n",
       "<p>651 rows × 2 columns</p>\n",
       "</div>"
      ],
      "text/plain": [
       "     PUBCHEM_CID Endocrine_activity\n",
       "0         2337.0             active\n",
       "1       107715.0             active\n",
       "2         3036.0             active\n",
       "3        72139.0             active\n",
       "4         8362.0             active\n",
       "..           ...                ...\n",
       "646     127404.0             active\n",
       "647       5278.0           inactive\n",
       "648    5282593.0           inactive\n",
       "649       5035.0             active\n",
       "650       2724.0           inactive\n",
       "\n",
       "[651 rows x 2 columns]"
      ]
     },
     "execution_count": 46,
     "metadata": {},
     "output_type": "execute_result"
    }
   ],
   "source": [
    "endocrine_annotation_cleaned"
   ]
  },
  {
   "cell_type": "code",
   "execution_count": 47,
   "metadata": {},
   "outputs": [],
   "source": [
    "Endocrine_activity['PUBCHEM_CID'] = Endocrine_activity['PUBCHEM_CID'].astype(int)\n",
    "Endocrine_activity = Endocrine_activity.groupby('PUBCHEM_CID').first().reset_index()"
   ]
  },
  {
   "cell_type": "code",
   "execution_count": 48,
   "metadata": {},
   "outputs": [
    {
     "data": {
      "text/html": [
       "<div>\n",
       "<style scoped>\n",
       "    .dataframe tbody tr th:only-of-type {\n",
       "        vertical-align: middle;\n",
       "    }\n",
       "\n",
       "    .dataframe tbody tr th {\n",
       "        vertical-align: top;\n",
       "    }\n",
       "\n",
       "    .dataframe thead th {\n",
       "        text-align: right;\n",
       "    }\n",
       "</style>\n",
       "<table border=\"1\" class=\"dataframe\">\n",
       "  <thead>\n",
       "    <tr style=\"text-align: right;\">\n",
       "      <th></th>\n",
       "      <th>PUBCHEM_CID</th>\n",
       "      <th>Endocrine_activity</th>\n",
       "      <th>CAS</th>\n",
       "      <th>SMILES</th>\n",
       "      <th>CPD_NAME</th>\n",
       "    </tr>\n",
       "  </thead>\n",
       "  <tbody>\n",
       "    <tr>\n",
       "      <th>0</th>\n",
       "      <td>323</td>\n",
       "      <td>inactive</td>\n",
       "      <td>91-64-5</td>\n",
       "      <td>O=C1C=Cc2ccccc2O1</td>\n",
       "      <td>Coumarin</td>\n",
       "    </tr>\n",
       "    <tr>\n",
       "      <th>1</th>\n",
       "      <td>338</td>\n",
       "      <td>inactive</td>\n",
       "      <td>69-72-7</td>\n",
       "      <td>OC(=O)c1ccccc1O</td>\n",
       "      <td>Salicylic acid</td>\n",
       "    </tr>\n",
       "  </tbody>\n",
       "</table>\n",
       "</div>"
      ],
      "text/plain": [
       "   PUBCHEM_CID Endocrine_activity      CAS             SMILES        CPD_NAME\n",
       "0          323           inactive  91-64-5  O=C1C=Cc2ccccc2O1        Coumarin\n",
       "1          338           inactive  69-72-7    OC(=O)c1ccccc1O  Salicylic acid"
      ]
     },
     "execution_count": 48,
     "metadata": {},
     "output_type": "execute_result"
    }
   ],
   "source": [
    "Endocrine_activity.head(2)"
   ]
  },
  {
   "cell_type": "code",
   "execution_count": 49,
   "metadata": {},
   "outputs": [
    {
     "name": "stdout",
     "output_type": "stream",
     "text": [
      "651 unique compounds in the endocrine activity dataset\n"
     ]
    },
    {
     "data": {
      "text/html": [
       "<div>\n",
       "<style scoped>\n",
       "    .dataframe tbody tr th:only-of-type {\n",
       "        vertical-align: middle;\n",
       "    }\n",
       "\n",
       "    .dataframe tbody tr th {\n",
       "        vertical-align: top;\n",
       "    }\n",
       "\n",
       "    .dataframe thead th {\n",
       "        text-align: right;\n",
       "    }\n",
       "</style>\n",
       "<table border=\"1\" class=\"dataframe\">\n",
       "  <thead>\n",
       "    <tr style=\"text-align: right;\">\n",
       "      <th></th>\n",
       "      <th>PUBCHEM_CID</th>\n",
       "      <th>Endocrine_activity</th>\n",
       "      <th>CAS</th>\n",
       "      <th>SMILES</th>\n",
       "      <th>CPD_NAME</th>\n",
       "    </tr>\n",
       "  </thead>\n",
       "  <tbody>\n",
       "    <tr>\n",
       "      <th>0</th>\n",
       "      <td>323</td>\n",
       "      <td>inactive</td>\n",
       "      <td>91-64-5</td>\n",
       "      <td>O=C1C=Cc2ccccc2O1</td>\n",
       "      <td>Coumarin</td>\n",
       "    </tr>\n",
       "    <tr>\n",
       "      <th>1</th>\n",
       "      <td>338</td>\n",
       "      <td>inactive</td>\n",
       "      <td>69-72-7</td>\n",
       "      <td>OC(=O)c1ccccc1O</td>\n",
       "      <td>Salicylic acid</td>\n",
       "    </tr>\n",
       "    <tr>\n",
       "      <th>2</th>\n",
       "      <td>679</td>\n",
       "      <td>inactive</td>\n",
       "      <td>67-68-5</td>\n",
       "      <td>CS(C)=O</td>\n",
       "      <td>Dimethyl sulfoxide</td>\n",
       "    </tr>\n",
       "  </tbody>\n",
       "</table>\n",
       "</div>"
      ],
      "text/plain": [
       "   PUBCHEM_CID Endocrine_activity      CAS             SMILES  \\\n",
       "0          323           inactive  91-64-5  O=C1C=Cc2ccccc2O1   \n",
       "1          338           inactive  69-72-7    OC(=O)c1ccccc1O   \n",
       "2          679           inactive  67-68-5            CS(C)=O   \n",
       "\n",
       "             CPD_NAME  \n",
       "0            Coumarin  \n",
       "1      Salicylic acid  \n",
       "2  Dimethyl sulfoxide  "
      ]
     },
     "execution_count": 49,
     "metadata": {},
     "output_type": "execute_result"
    }
   ],
   "source": [
    "print(f\"{Endocrine_activity['PUBCHEM_CID'].nunique()} unique compounds in the endocrine activity dataset\")\n",
    "Endocrine_activity.head(3)"
   ]
  },
  {
   "cell_type": "code",
   "execution_count": 50,
   "metadata": {},
   "outputs": [],
   "source": [
    "Endocrine_activity.to_csv('../Data_parsed/Tox21_Endocrine_activity_BCC047.csv',index=False)"
   ]
  },
  {
   "cell_type": "markdown",
   "metadata": {},
   "source": [
    "We retrieved the missing cid from the pre-processed , to see which molecules are concerned."
   ]
  },
  {
   "cell_type": "code",
   "execution_count": 51,
   "metadata": {},
   "outputs": [],
   "source": [
    "missing_cid = [2724385,\n",
    " 2082,\n",
    " 5154,\n",
    " 26596,\n",
    " 6758,\n",
    " 3334,\n",
    " 439501,\n",
    " 10607,\n",
    " 36314,\n",
    " 30323,\n",
    " 6197,\n",
    " 15478,\n",
    " 6167,\n",
    " 4122,\n",
    " 4030]"
   ]
  },
  {
   "cell_type": "code",
   "execution_count": 52,
   "metadata": {},
   "outputs": [
    {
     "data": {
      "text/html": [
       "<div>\n",
       "<style scoped>\n",
       "    .dataframe tbody tr th:only-of-type {\n",
       "        vertical-align: middle;\n",
       "    }\n",
       "\n",
       "    .dataframe tbody tr th {\n",
       "        vertical-align: top;\n",
       "    }\n",
       "\n",
       "    .dataframe thead th {\n",
       "        text-align: right;\n",
       "    }\n",
       "</style>\n",
       "<table border=\"1\" class=\"dataframe\">\n",
       "  <thead>\n",
       "    <tr style=\"text-align: right;\">\n",
       "      <th></th>\n",
       "      <th>PUBCHEM_CID</th>\n",
       "      <th>Endocrine_activity</th>\n",
       "      <th>CAS</th>\n",
       "      <th>SMILES</th>\n",
       "      <th>CPD_NAME</th>\n",
       "    </tr>\n",
       "  </thead>\n",
       "  <tbody>\n",
       "    <tr>\n",
       "      <th>27</th>\n",
       "      <td>2082</td>\n",
       "      <td>active</td>\n",
       "      <td>54965-21-8</td>\n",
       "      <td>O=C(OC)Nc1nc2cc(ccc2n1)SCCC</td>\n",
       "      <td>Albendazole</td>\n",
       "    </tr>\n",
       "    <tr>\n",
       "      <th>142</th>\n",
       "      <td>3334</td>\n",
       "      <td>active</td>\n",
       "      <td>43210-67-9</td>\n",
       "      <td>O=C(OC)Nc1nc2cc(ccc2n1)Sc3ccccc3</td>\n",
       "      <td>Fenbendazole</td>\n",
       "    </tr>\n",
       "    <tr>\n",
       "      <th>204</th>\n",
       "      <td>4030</td>\n",
       "      <td>active</td>\n",
       "      <td>31431-39-7</td>\n",
       "      <td>O=C(OC)Nc1nc2cc(ccc2n1)C(=O)c3ccccc3</td>\n",
       "      <td>Mebendazole</td>\n",
       "    </tr>\n",
       "    <tr>\n",
       "      <th>211</th>\n",
       "      <td>4122</td>\n",
       "      <td>active</td>\n",
       "      <td>31430-18-9</td>\n",
       "      <td>O=C(c1cc2nc(NC(=O)OC)nc2cc1)c3cccs3</td>\n",
       "      <td>Nocodazole</td>\n",
       "    </tr>\n",
       "    <tr>\n",
       "      <th>300</th>\n",
       "      <td>5154</td>\n",
       "      <td>active</td>\n",
       "      <td>2447-54-3</td>\n",
       "      <td>C[n+]2cc1c6OCOc6ccc1c3ccc4cc5OCOc5cc4c23</td>\n",
       "      <td>Sanguinarine</td>\n",
       "    </tr>\n",
       "    <tr>\n",
       "      <th>383</th>\n",
       "      <td>6167</td>\n",
       "      <td>active</td>\n",
       "      <td>64-86-8</td>\n",
       "      <td>CC(=O)N[C@H]2CCc3cc(OC)c(OC)c(OC)c3C1=CC=C(OC)...</td>\n",
       "      <td>Colchicine</td>\n",
       "    </tr>\n",
       "    <tr>\n",
       "      <th>384</th>\n",
       "      <td>6197</td>\n",
       "      <td>active</td>\n",
       "      <td>66-81-9</td>\n",
       "      <td>O=C2CC(C[C@@H](O)[C@@H]1C[C@@H](C)C[C@H](C)C1=...</td>\n",
       "      <td>Cycloheximide</td>\n",
       "    </tr>\n",
       "    <tr>\n",
       "      <th>395</th>\n",
       "      <td>6758</td>\n",
       "      <td>active</td>\n",
       "      <td>83-79-4</td>\n",
       "      <td>C=C(C)[C@@H]2Oc3ccc1C(=O)[C@H]4c5cc(OC)c(OC)cc...</td>\n",
       "      <td>Rotenone</td>\n",
       "    </tr>\n",
       "    <tr>\n",
       "      <th>429</th>\n",
       "      <td>10607</td>\n",
       "      <td>active</td>\n",
       "      <td>518-28-5</td>\n",
       "      <td>COc1cc(cc(OC)c1OC)[C@H]3[C@H]2C(=O)OC[C@@H]2[C...</td>\n",
       "      <td>Podofilox</td>\n",
       "    </tr>\n",
       "    <tr>\n",
       "      <th>442</th>\n",
       "      <td>15478</td>\n",
       "      <td>inactive</td>\n",
       "      <td>1672-46-4</td>\n",
       "      <td>O[C@]54CC[C@H](C1=CC(=O)OC1)[C@@]5(C)[C@H](O)C...</td>\n",
       "      <td>Digoxigenin</td>\n",
       "    </tr>\n",
       "    <tr>\n",
       "      <th>458</th>\n",
       "      <td>26596</td>\n",
       "      <td>active</td>\n",
       "      <td>14255-87-9</td>\n",
       "      <td>O=C(OC)Nc1nc2cc(ccc2n1)CCCC</td>\n",
       "      <td>Parbendazole</td>\n",
       "    </tr>\n",
       "    <tr>\n",
       "      <th>465</th>\n",
       "      <td>30323</td>\n",
       "      <td>active</td>\n",
       "      <td>20830-81-3</td>\n",
       "      <td>CC(=O)[C@@]4(O)C[C@H](O[C@H]1C[C@H](N)[C@H](O)...</td>\n",
       "      <td>Daunorubicin</td>\n",
       "    </tr>\n",
       "    <tr>\n",
       "      <th>476</th>\n",
       "      <td>36314</td>\n",
       "      <td>active</td>\n",
       "      <td>33069-62-4</td>\n",
       "      <td>O=C(N[C@@H](c1ccccc1)[C@@H](O)C(=O)O[C@H]5C[C@...</td>\n",
       "      <td>Paclitaxel</td>\n",
       "    </tr>\n",
       "    <tr>\n",
       "      <th>570</th>\n",
       "      <td>439501</td>\n",
       "      <td>active</td>\n",
       "      <td>630-60-4</td>\n",
       "      <td>O=C1C=C(CO1)[C@H]2CC[C@]3(O)[C@@H]4CC[C@]5(O)C...</td>\n",
       "      <td>Ouabain</td>\n",
       "    </tr>\n",
       "    <tr>\n",
       "      <th>600</th>\n",
       "      <td>2724385</td>\n",
       "      <td>active</td>\n",
       "      <td>20830-75-5</td>\n",
       "      <td>O=C1C=C(CO1)[C@H]2CC[C@@]8(O)[C@]2(C)[C@H](O)C...</td>\n",
       "      <td>Digoxin</td>\n",
       "    </tr>\n",
       "  </tbody>\n",
       "</table>\n",
       "</div>"
      ],
      "text/plain": [
       "     PUBCHEM_CID Endocrine_activity         CAS  \\\n",
       "27          2082             active  54965-21-8   \n",
       "142         3334             active  43210-67-9   \n",
       "204         4030             active  31431-39-7   \n",
       "211         4122             active  31430-18-9   \n",
       "300         5154             active   2447-54-3   \n",
       "383         6167             active     64-86-8   \n",
       "384         6197             active     66-81-9   \n",
       "395         6758             active     83-79-4   \n",
       "429        10607             active    518-28-5   \n",
       "442        15478           inactive   1672-46-4   \n",
       "458        26596             active  14255-87-9   \n",
       "465        30323             active  20830-81-3   \n",
       "476        36314             active  33069-62-4   \n",
       "570       439501             active    630-60-4   \n",
       "600      2724385             active  20830-75-5   \n",
       "\n",
       "                                                SMILES       CPD_NAME  \n",
       "27                         O=C(OC)Nc1nc2cc(ccc2n1)SCCC    Albendazole  \n",
       "142                   O=C(OC)Nc1nc2cc(ccc2n1)Sc3ccccc3   Fenbendazole  \n",
       "204               O=C(OC)Nc1nc2cc(ccc2n1)C(=O)c3ccccc3    Mebendazole  \n",
       "211                O=C(c1cc2nc(NC(=O)OC)nc2cc1)c3cccs3     Nocodazole  \n",
       "300           C[n+]2cc1c6OCOc6ccc1c3ccc4cc5OCOc5cc4c23   Sanguinarine  \n",
       "383  CC(=O)N[C@H]2CCc3cc(OC)c(OC)c(OC)c3C1=CC=C(OC)...     Colchicine  \n",
       "384  O=C2CC(C[C@@H](O)[C@@H]1C[C@@H](C)C[C@H](C)C1=...  Cycloheximide  \n",
       "395  C=C(C)[C@@H]2Oc3ccc1C(=O)[C@H]4c5cc(OC)c(OC)cc...       Rotenone  \n",
       "429  COc1cc(cc(OC)c1OC)[C@H]3[C@H]2C(=O)OC[C@@H]2[C...      Podofilox  \n",
       "442  O[C@]54CC[C@H](C1=CC(=O)OC1)[C@@]5(C)[C@H](O)C...    Digoxigenin  \n",
       "458                        O=C(OC)Nc1nc2cc(ccc2n1)CCCC   Parbendazole  \n",
       "465  CC(=O)[C@@]4(O)C[C@H](O[C@H]1C[C@H](N)[C@H](O)...   Daunorubicin  \n",
       "476  O=C(N[C@@H](c1ccccc1)[C@@H](O)C(=O)O[C@H]5C[C@...     Paclitaxel  \n",
       "570  O=C1C=C(CO1)[C@H]2CC[C@]3(O)[C@@H]4CC[C@]5(O)C...        Ouabain  \n",
       "600  O=C1C=C(CO1)[C@H]2CC[C@@]8(O)[C@]2(C)[C@H](O)C...        Digoxin  "
      ]
     },
     "execution_count": 52,
     "metadata": {},
     "output_type": "execute_result"
    }
   ],
   "source": [
    "Endocrine_activity[Endocrine_activity['PUBCHEM_CID'].isin(missing_cid)]"
   ]
  },
  {
   "cell_type": "code",
   "execution_count": 53,
   "metadata": {},
   "outputs": [
    {
     "data": {
      "text/html": [
       "<div>\n",
       "<style scoped>\n",
       "    .dataframe tbody tr th:only-of-type {\n",
       "        vertical-align: middle;\n",
       "    }\n",
       "\n",
       "    .dataframe tbody tr th {\n",
       "        vertical-align: top;\n",
       "    }\n",
       "\n",
       "    .dataframe thead th {\n",
       "        text-align: right;\n",
       "    }\n",
       "</style>\n",
       "<table border=\"1\" class=\"dataframe\">\n",
       "  <thead>\n",
       "    <tr style=\"text-align: right;\">\n",
       "      <th></th>\n",
       "      <th>PUBCHEM_CID</th>\n",
       "      <th>CPD_NAMES</th>\n",
       "    </tr>\n",
       "  </thead>\n",
       "  <tbody>\n",
       "    <tr>\n",
       "      <th>59</th>\n",
       "      <td>26596</td>\n",
       "      <td>BRD-K02407574-001-03-0</td>\n",
       "    </tr>\n",
       "    <tr>\n",
       "      <th>682</th>\n",
       "      <td>2082</td>\n",
       "      <td>BRD-K79131256-001-03-9</td>\n",
       "    </tr>\n",
       "    <tr>\n",
       "      <th>942</th>\n",
       "      <td>4122</td>\n",
       "      <td>BRD-K12539581-001-06-2</td>\n",
       "    </tr>\n",
       "    <tr>\n",
       "      <th>1167</th>\n",
       "      <td>6167</td>\n",
       "      <td>BRD-K00259736-001-03-2</td>\n",
       "    </tr>\n",
       "    <tr>\n",
       "      <th>1267</th>\n",
       "      <td>36314</td>\n",
       "      <td>BRD-K62008436-001-03-1</td>\n",
       "    </tr>\n",
       "    <tr>\n",
       "      <th>1455</th>\n",
       "      <td>6758</td>\n",
       "      <td>BRD-K08316444-001-02-7</td>\n",
       "    </tr>\n",
       "    <tr>\n",
       "      <th>1483</th>\n",
       "      <td>5154</td>\n",
       "      <td>BRD-K66898851-001-03-7</td>\n",
       "    </tr>\n",
       "    <tr>\n",
       "      <th>1565</th>\n",
       "      <td>4030</td>\n",
       "      <td>BRD-K77987382-001-05-8</td>\n",
       "    </tr>\n",
       "    <tr>\n",
       "      <th>1690</th>\n",
       "      <td>15478</td>\n",
       "      <td>BRD-K18619710-001-03-7</td>\n",
       "    </tr>\n",
       "    <tr>\n",
       "      <th>1875</th>\n",
       "      <td>2724385</td>\n",
       "      <td>BRD-K23478508-001-03-7</td>\n",
       "    </tr>\n",
       "    <tr>\n",
       "      <th>1986</th>\n",
       "      <td>30323</td>\n",
       "      <td>BRD-K43389675-003-02-7</td>\n",
       "    </tr>\n",
       "    <tr>\n",
       "      <th>2022</th>\n",
       "      <td>6197</td>\n",
       "      <td>BRD-K36055864-001-04-4</td>\n",
       "    </tr>\n",
       "    <tr>\n",
       "      <th>2181</th>\n",
       "      <td>439501</td>\n",
       "      <td>BRD-K35708212-331-03-1</td>\n",
       "    </tr>\n",
       "    <tr>\n",
       "      <th>2205</th>\n",
       "      <td>10607</td>\n",
       "      <td>BRD-K47869605-001-04-9</td>\n",
       "    </tr>\n",
       "    <tr>\n",
       "      <th>2207</th>\n",
       "      <td>3334</td>\n",
       "      <td>BRD-K51318897-001-04-7</td>\n",
       "    </tr>\n",
       "  </tbody>\n",
       "</table>\n",
       "</div>"
      ],
      "text/plain": [
       "      PUBCHEM_CID               CPD_NAMES\n",
       "59          26596  BRD-K02407574-001-03-0\n",
       "682          2082  BRD-K79131256-001-03-9\n",
       "942          4122  BRD-K12539581-001-06-2\n",
       "1167         6167  BRD-K00259736-001-03-2\n",
       "1267        36314  BRD-K62008436-001-03-1\n",
       "1455         6758  BRD-K08316444-001-02-7\n",
       "1483         5154  BRD-K66898851-001-03-7\n",
       "1565         4030  BRD-K77987382-001-05-8\n",
       "1690        15478  BRD-K18619710-001-03-7\n",
       "1875      2724385  BRD-K23478508-001-03-7\n",
       "1986        30323  BRD-K43389675-003-02-7\n",
       "2022         6197  BRD-K36055864-001-04-4\n",
       "2181       439501  BRD-K35708212-331-03-1\n",
       "2205        10607  BRD-K47869605-001-04-9\n",
       "2207         3334  BRD-K51318897-001-04-7"
      ]
     },
     "execution_count": 53,
     "metadata": {},
     "output_type": "execute_result"
    }
   ],
   "source": [
    "annotations_update[annotations_update['PUBCHEM_CID'].isin(missing_cid)]"
   ]
  },
  {
   "cell_type": "code",
   "execution_count": null,
   "metadata": {},
   "outputs": [],
   "source": []
  }
 ],
 "metadata": {
  "kernelspec": {
   "display_name": "mimb_cellpainting",
   "language": "python",
   "name": "python3"
  },
  "language_info": {
   "codemirror_mode": {
    "name": "ipython",
    "version": 3
   },
   "file_extension": ".py",
   "mimetype": "text/x-python",
   "name": "python",
   "nbconvert_exporter": "python",
   "pygments_lexer": "ipython3",
   "version": "3.9.20"
  }
 },
 "nbformat": 4,
 "nbformat_minor": 2
}
