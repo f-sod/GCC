{
 "cells": [
  {
   "cell_type": "markdown",
   "metadata": {},
   "source": [
    "# Endocrine activity prediction "
   ]
  },
  {
   "cell_type": "markdown",
   "metadata": {},
   "source": [
    "In this notebook, our goal is to train and compare the performance of three different architectures on the same task, namely predicting endocrine activity.\n",
    "\n",
    "Endocrine activity is defined as follows:\n",
    "\n",
    "- Active: A molecule is considered active if it shows activity in at least one nuclear receptor assay.\n",
    "- Inactive: A molecule is considered inactive if it does not show activity in any such assay.\n",
    "The detailed process of filtering and curating the assays can be found in the Tox21.ipynb notebook.\n",
    "\n",
    "We overlap these assay results with our current dataset of morphological fingerprints using the corresponding CID (Compound ID). The CID for our library of over $30.000$ compounds was retrieved by querying PubChem. After preprocessing the data, we identified:\n",
    "\n",
    "651 unique molecules with endocrine activity in the raw dataset.\n",
    "642 molecules after preprocessing (based on the overlap between this notebook and the output of the notebook_1).\n",
    "\n",
    "Out of these 642 molecules (signal assay outcome):\n",
    "- 291 are active.\n",
    "- 351 are inactive.\n",
    "\n",
    "Out of these (activity assay outcome)\n",
    "- We have 324 inactive \n",
    "- We have 318 active \n",
    "\n"
   ]
  },
  {
   "cell_type": "markdown",
   "metadata": {},
   "source": [
    "## Load data "
   ]
  },
  {
   "cell_type": "markdown",
   "metadata": {},
   "source": [
    "### Import Libraries"
   ]
  },
  {
   "cell_type": "code",
   "execution_count": 128,
   "metadata": {},
   "outputs": [],
   "source": [
    "import pickle\n",
    "import pandas as pd"
   ]
  },
  {
   "cell_type": "code",
   "execution_count": 129,
   "metadata": {},
   "outputs": [
    {
     "name": "stdout",
     "output_type": "stream",
     "text": [
      "There are 30397 unique compounds in the profiles dataset\n"
     ]
    },
    {
     "data": {
      "text/html": [
       "<div>\n",
       "<style scoped>\n",
       "    .dataframe tbody tr th:only-of-type {\n",
       "        vertical-align: middle;\n",
       "    }\n",
       "\n",
       "    .dataframe tbody tr th {\n",
       "        vertical-align: top;\n",
       "    }\n",
       "\n",
       "    .dataframe thead th {\n",
       "        text-align: right;\n",
       "    }\n",
       "</style>\n",
       "<table border=\"1\" class=\"dataframe\">\n",
       "  <thead>\n",
       "    <tr style=\"text-align: right;\">\n",
       "      <th></th>\n",
       "      <th>CID</th>\n",
       "      <th>CPD_NAMES</th>\n",
       "    </tr>\n",
       "  </thead>\n",
       "  <tbody>\n",
       "    <tr>\n",
       "      <th>0</th>\n",
       "      <td>679</td>\n",
       "      <td>DMSO</td>\n",
       "    </tr>\n",
       "    <tr>\n",
       "      <th>1</th>\n",
       "      <td>2122</td>\n",
       "      <td>BRD-A56675431-001-04-0</td>\n",
       "    </tr>\n",
       "    <tr>\n",
       "      <th>2</th>\n",
       "      <td>3654103</td>\n",
       "      <td>BRD-A51829654-001-01-4</td>\n",
       "    </tr>\n",
       "  </tbody>\n",
       "</table>\n",
       "</div>"
      ],
      "text/plain": [
       "       CID               CPD_NAMES\n",
       "0      679                    DMSO\n",
       "1     2122  BRD-A56675431-001-04-0\n",
       "2  3654103  BRD-A51829654-001-01-4"
      ]
     },
     "execution_count": 129,
     "metadata": {},
     "output_type": "execute_result"
    }
   ],
   "source": [
    "profiles_cid_pubchem = pd.read_pickle('../../Morpheus_Flo/data/pubchem_annotation1.pkl') #pd.read_csv('../pubchem_annotation_morpho.csv',sep='\\t') \n",
    "#profiles_cid_pubchem = profiles_cid_pubchem[['CID','CPD_NAME']]\n",
    "print(f\"There are {profiles_cid_pubchem['CID'].nunique()} unique compounds in the profiles dataset\")\n",
    "profiles_cid_pubchem.head(3)"
   ]
  },
  {
   "cell_type": "markdown",
   "metadata": {},
   "source": [
    "to do : remove dmso "
   ]
  },
  {
   "cell_type": "code",
   "execution_count": 130,
   "metadata": {},
   "outputs": [
    {
     "name": "stdout",
     "output_type": "stream",
     "text": [
      "There are 30377 profiles in the morphological profiles dataset\n",
      "There are 30377 unique sample, and 30112 unique compounds\n"
     ]
    }
   ],
   "source": [
    "path_to_pickle_file ='../output_notebook_1.pkl'\n",
    "profiles = pickle.load(open(path_to_pickle_file, 'rb'))\n",
    "print(f\"There are {len(profiles)} profiles in the morphological profiles dataset\")\n",
    "print(f\"There are {profiles['Metadata_broad_sample'].nunique()} unique sample, and {profiles['CPD_NAME'].nunique()} unique compounds\")"
   ]
  },
  {
   "cell_type": "markdown",
   "metadata": {},
   "source": [
    "Example of molecules with the same ‘CPD_NAME’ but different stereochemistry (enantiomers), and therefore identified with different ‘Metadata_broad_sample’ values."
   ]
  },
  {
   "cell_type": "code",
   "execution_count": 131,
   "metadata": {},
   "outputs": [
    {
     "data": {
      "text/html": [
       "<div>\n",
       "<style scoped>\n",
       "    .dataframe tbody tr th:only-of-type {\n",
       "        vertical-align: middle;\n",
       "    }\n",
       "\n",
       "    .dataframe tbody tr th {\n",
       "        vertical-align: top;\n",
       "    }\n",
       "\n",
       "    .dataframe thead th {\n",
       "        text-align: right;\n",
       "    }\n",
       "</style>\n",
       "<table border=\"1\" class=\"dataframe\">\n",
       "  <thead>\n",
       "    <tr style=\"text-align: right;\">\n",
       "      <th></th>\n",
       "      <th>Metadata_broad_sample</th>\n",
       "      <th>CPD_NAME</th>\n",
       "      <th>CPD_SMILES</th>\n",
       "      <th>Cells_AreaShape_Area</th>\n",
       "      <th>Cells_AreaShape_Center_X</th>\n",
       "      <th>Cells_AreaShape_Center_Y</th>\n",
       "      <th>Cells_AreaShape_Compactness</th>\n",
       "      <th>Cells_AreaShape_FormFactor</th>\n",
       "      <th>Cells_AreaShape_Orientation</th>\n",
       "      <th>Cells_AreaShape_Perimeter</th>\n",
       "      <th>...</th>\n",
       "      <th>Nuclei_Texture_InfoMeas1_RNA_10_0</th>\n",
       "      <th>Nuclei_Texture_InfoMeas1_RNA_3_0</th>\n",
       "      <th>Nuclei_Texture_InverseDifferenceMoment_ER_10_0</th>\n",
       "      <th>Nuclei_Texture_InverseDifferenceMoment_RNA_3_0</th>\n",
       "      <th>Nuclei_Texture_SumAverage_AGP_10_0</th>\n",
       "      <th>Nuclei_Texture_SumAverage_DNA_10_0</th>\n",
       "      <th>Nuclei_Texture_SumAverage_RNA_10_0</th>\n",
       "      <th>Nuclei_Texture_SumEntropy_AGP_10_0</th>\n",
       "      <th>Nuclei_Texture_SumEntropy_DNA_10_0</th>\n",
       "      <th>Nuclei_Texture_SumEntropy_RNA_10_0</th>\n",
       "    </tr>\n",
       "  </thead>\n",
       "  <tbody>\n",
       "    <tr>\n",
       "      <th>22409</th>\n",
       "      <td>BRD-A10070317-003-05-1</td>\n",
       "      <td>propranolol</td>\n",
       "      <td>CC(C)NCC(O)COc1cccc2ccccc12</td>\n",
       "      <td>-0.181066</td>\n",
       "      <td>0.290658</td>\n",
       "      <td>-0.048351</td>\n",
       "      <td>-0.260826</td>\n",
       "      <td>-0.220636</td>\n",
       "      <td>0.144072</td>\n",
       "      <td>-0.113796</td>\n",
       "      <td>...</td>\n",
       "      <td>0.305173</td>\n",
       "      <td>0.202152</td>\n",
       "      <td>0.398321</td>\n",
       "      <td>0.281046</td>\n",
       "      <td>-0.531793</td>\n",
       "      <td>-0.102024</td>\n",
       "      <td>-0.174831</td>\n",
       "      <td>-0.199399</td>\n",
       "      <td>-0.225782</td>\n",
       "      <td>-0.385788</td>\n",
       "    </tr>\n",
       "    <tr>\n",
       "      <th>23179</th>\n",
       "      <td>BRD-K13994703-001-02-0</td>\n",
       "      <td>propranolol</td>\n",
       "      <td>CC(C)NC[C@H](O)COc1cccc2ccccc12</td>\n",
       "      <td>0.107945</td>\n",
       "      <td>0.042286</td>\n",
       "      <td>0.550515</td>\n",
       "      <td>0.425072</td>\n",
       "      <td>0.358772</td>\n",
       "      <td>0.319154</td>\n",
       "      <td>-0.162650</td>\n",
       "      <td>...</td>\n",
       "      <td>0.348331</td>\n",
       "      <td>0.147997</td>\n",
       "      <td>0.727870</td>\n",
       "      <td>0.199830</td>\n",
       "      <td>-0.601768</td>\n",
       "      <td>-0.308817</td>\n",
       "      <td>-0.671559</td>\n",
       "      <td>-0.340255</td>\n",
       "      <td>-0.511715</td>\n",
       "      <td>-0.482742</td>\n",
       "    </tr>\n",
       "    <tr>\n",
       "      <th>27230</th>\n",
       "      <td>BRD-K92830582-003-04-8</td>\n",
       "      <td>propranolol</td>\n",
       "      <td>CC(C)NC[C@@H](O)COc1cccc2ccccc12</td>\n",
       "      <td>-0.339705</td>\n",
       "      <td>0.668767</td>\n",
       "      <td>0.089364</td>\n",
       "      <td>-0.534178</td>\n",
       "      <td>0.101464</td>\n",
       "      <td>0.007005</td>\n",
       "      <td>-0.311137</td>\n",
       "      <td>...</td>\n",
       "      <td>0.211793</td>\n",
       "      <td>0.053759</td>\n",
       "      <td>-0.030465</td>\n",
       "      <td>0.220821</td>\n",
       "      <td>0.120130</td>\n",
       "      <td>0.099267</td>\n",
       "      <td>0.100746</td>\n",
       "      <td>0.257167</td>\n",
       "      <td>-0.106823</td>\n",
       "      <td>-0.212929</td>\n",
       "    </tr>\n",
       "  </tbody>\n",
       "</table>\n",
       "<p>3 rows × 293 columns</p>\n",
       "</div>"
      ],
      "text/plain": [
       "        Metadata_broad_sample     CPD_NAME                        CPD_SMILES  \\\n",
       "22409  BRD-A10070317-003-05-1  propranolol       CC(C)NCC(O)COc1cccc2ccccc12   \n",
       "23179  BRD-K13994703-001-02-0  propranolol   CC(C)NC[C@H](O)COc1cccc2ccccc12   \n",
       "27230  BRD-K92830582-003-04-8  propranolol  CC(C)NC[C@@H](O)COc1cccc2ccccc12   \n",
       "\n",
       "       Cells_AreaShape_Area  Cells_AreaShape_Center_X  \\\n",
       "22409             -0.181066                  0.290658   \n",
       "23179              0.107945                  0.042286   \n",
       "27230             -0.339705                  0.668767   \n",
       "\n",
       "       Cells_AreaShape_Center_Y  Cells_AreaShape_Compactness  \\\n",
       "22409                 -0.048351                    -0.260826   \n",
       "23179                  0.550515                     0.425072   \n",
       "27230                  0.089364                    -0.534178   \n",
       "\n",
       "       Cells_AreaShape_FormFactor  Cells_AreaShape_Orientation  \\\n",
       "22409                   -0.220636                     0.144072   \n",
       "23179                    0.358772                     0.319154   \n",
       "27230                    0.101464                     0.007005   \n",
       "\n",
       "       Cells_AreaShape_Perimeter  ...  Nuclei_Texture_InfoMeas1_RNA_10_0  \\\n",
       "22409                  -0.113796  ...                           0.305173   \n",
       "23179                  -0.162650  ...                           0.348331   \n",
       "27230                  -0.311137  ...                           0.211793   \n",
       "\n",
       "       Nuclei_Texture_InfoMeas1_RNA_3_0  \\\n",
       "22409                          0.202152   \n",
       "23179                          0.147997   \n",
       "27230                          0.053759   \n",
       "\n",
       "       Nuclei_Texture_InverseDifferenceMoment_ER_10_0  \\\n",
       "22409                                        0.398321   \n",
       "23179                                        0.727870   \n",
       "27230                                       -0.030465   \n",
       "\n",
       "       Nuclei_Texture_InverseDifferenceMoment_RNA_3_0  \\\n",
       "22409                                        0.281046   \n",
       "23179                                        0.199830   \n",
       "27230                                        0.220821   \n",
       "\n",
       "       Nuclei_Texture_SumAverage_AGP_10_0  Nuclei_Texture_SumAverage_DNA_10_0  \\\n",
       "22409                           -0.531793                           -0.102024   \n",
       "23179                           -0.601768                           -0.308817   \n",
       "27230                            0.120130                            0.099267   \n",
       "\n",
       "       Nuclei_Texture_SumAverage_RNA_10_0  Nuclei_Texture_SumEntropy_AGP_10_0  \\\n",
       "22409                           -0.174831                           -0.199399   \n",
       "23179                           -0.671559                           -0.340255   \n",
       "27230                            0.100746                            0.257167   \n",
       "\n",
       "       Nuclei_Texture_SumEntropy_DNA_10_0  Nuclei_Texture_SumEntropy_RNA_10_0  \n",
       "22409                           -0.225782                           -0.385788  \n",
       "23179                           -0.511715                           -0.482742  \n",
       "27230                           -0.106823                           -0.212929  \n",
       "\n",
       "[3 rows x 293 columns]"
      ]
     },
     "execution_count": 131,
     "metadata": {},
     "output_type": "execute_result"
    }
   ],
   "source": [
    "propranolol = profiles[profiles['CPD_NAME']=='propranolol']['Metadata_broad_sample'].to_list()\n",
    "profiles[profiles['CPD_NAME']=='propranolol']"
   ]
  },
  {
   "cell_type": "markdown",
   "metadata": {},
   "source": [
    "As required, now We have different cid for the different 'propranolol' sterochemistry "
   ]
  },
  {
   "cell_type": "code",
   "execution_count": 132,
   "metadata": {},
   "outputs": [
    {
     "data": {
      "text/html": [
       "<div>\n",
       "<style scoped>\n",
       "    .dataframe tbody tr th:only-of-type {\n",
       "        vertical-align: middle;\n",
       "    }\n",
       "\n",
       "    .dataframe tbody tr th {\n",
       "        vertical-align: top;\n",
       "    }\n",
       "\n",
       "    .dataframe thead th {\n",
       "        text-align: right;\n",
       "    }\n",
       "</style>\n",
       "<table border=\"1\" class=\"dataframe\">\n",
       "  <thead>\n",
       "    <tr style=\"text-align: right;\">\n",
       "      <th></th>\n",
       "      <th>CID</th>\n",
       "      <th>CPD_NAMES</th>\n",
       "    </tr>\n",
       "  </thead>\n",
       "  <tbody>\n",
       "    <tr>\n",
       "      <th>720</th>\n",
       "      <td>21138</td>\n",
       "      <td>BRD-K92830582-003-04-8</td>\n",
       "    </tr>\n",
       "    <tr>\n",
       "      <th>806</th>\n",
       "      <td>91536</td>\n",
       "      <td>BRD-K13994703-001-02-0</td>\n",
       "    </tr>\n",
       "    <tr>\n",
       "      <th>1006</th>\n",
       "      <td>4946</td>\n",
       "      <td>BRD-A10070317-003-05-1</td>\n",
       "    </tr>\n",
       "  </tbody>\n",
       "</table>\n",
       "</div>"
      ],
      "text/plain": [
       "        CID               CPD_NAMES\n",
       "720   21138  BRD-K92830582-003-04-8\n",
       "806   91536  BRD-K13994703-001-02-0\n",
       "1006   4946  BRD-A10070317-003-05-1"
      ]
     },
     "execution_count": 132,
     "metadata": {},
     "output_type": "execute_result"
    }
   ],
   "source": [
    "profiles_cid_pubchem[profiles_cid_pubchem['CPD_NAMES'].isin(propranolol)]"
   ]
  },
  {
   "cell_type": "code",
   "execution_count": 133,
   "metadata": {},
   "outputs": [],
   "source": [
    "profiles_cid_pubchem=profiles_cid_pubchem.rename(columns={\"CPD_NAMES\":\"Metadata_broad_sample\"})"
   ]
  },
  {
   "cell_type": "code",
   "execution_count": 134,
   "metadata": {},
   "outputs": [
    {
     "name": "stdout",
     "output_type": "stream",
     "text": [
      "There are 30163 unique compounds in the activity dataset\n"
     ]
    },
    {
     "data": {
      "text/html": [
       "<div>\n",
       "<style scoped>\n",
       "    .dataframe tbody tr th:only-of-type {\n",
       "        vertical-align: middle;\n",
       "    }\n",
       "\n",
       "    .dataframe tbody tr th {\n",
       "        vertical-align: top;\n",
       "    }\n",
       "\n",
       "    .dataframe thead th {\n",
       "        text-align: right;\n",
       "    }\n",
       "</style>\n",
       "<table border=\"1\" class=\"dataframe\">\n",
       "  <thead>\n",
       "    <tr style=\"text-align: right;\">\n",
       "      <th></th>\n",
       "      <th>CID</th>\n",
       "      <th>Metadata_broad_sample</th>\n",
       "      <th>CPD_NAME</th>\n",
       "      <th>CPD_SMILES</th>\n",
       "      <th>Cells_AreaShape_Area</th>\n",
       "      <th>Cells_AreaShape_Center_X</th>\n",
       "      <th>Cells_AreaShape_Center_Y</th>\n",
       "      <th>Cells_AreaShape_Compactness</th>\n",
       "      <th>Cells_AreaShape_FormFactor</th>\n",
       "      <th>Cells_AreaShape_Orientation</th>\n",
       "      <th>...</th>\n",
       "      <th>Nuclei_Texture_InfoMeas1_RNA_10_0</th>\n",
       "      <th>Nuclei_Texture_InfoMeas1_RNA_3_0</th>\n",
       "      <th>Nuclei_Texture_InverseDifferenceMoment_ER_10_0</th>\n",
       "      <th>Nuclei_Texture_InverseDifferenceMoment_RNA_3_0</th>\n",
       "      <th>Nuclei_Texture_SumAverage_AGP_10_0</th>\n",
       "      <th>Nuclei_Texture_SumAverage_DNA_10_0</th>\n",
       "      <th>Nuclei_Texture_SumAverage_RNA_10_0</th>\n",
       "      <th>Nuclei_Texture_SumEntropy_AGP_10_0</th>\n",
       "      <th>Nuclei_Texture_SumEntropy_DNA_10_0</th>\n",
       "      <th>Nuclei_Texture_SumEntropy_RNA_10_0</th>\n",
       "    </tr>\n",
       "  </thead>\n",
       "  <tbody>\n",
       "    <tr>\n",
       "      <th>0</th>\n",
       "      <td>679</td>\n",
       "      <td>DMSO</td>\n",
       "      <td>DMSO</td>\n",
       "      <td>CS(=O)C</td>\n",
       "      <td>0.000000</td>\n",
       "      <td>0.000000</td>\n",
       "      <td>0.00000</td>\n",
       "      <td>0.000000</td>\n",
       "      <td>0.000000</td>\n",
       "      <td>0.000000</td>\n",
       "      <td>...</td>\n",
       "      <td>0.000000</td>\n",
       "      <td>0.000000</td>\n",
       "      <td>0.000000</td>\n",
       "      <td>0.000000</td>\n",
       "      <td>0.00000</td>\n",
       "      <td>0.000000</td>\n",
       "      <td>0.000000</td>\n",
       "      <td>0.000000</td>\n",
       "      <td>0.000000</td>\n",
       "      <td>0.00000</td>\n",
       "    </tr>\n",
       "    <tr>\n",
       "      <th>1</th>\n",
       "      <td>2122</td>\n",
       "      <td>BRD-A56675431-001-04-0</td>\n",
       "      <td>altizide</td>\n",
       "      <td>NS(=O)(=O)c1cc2c(NC(CSCC=C)NS2(=O)=O)cc1Cl</td>\n",
       "      <td>0.618005</td>\n",
       "      <td>0.434264</td>\n",
       "      <td>0.32857</td>\n",
       "      <td>0.736717</td>\n",
       "      <td>0.575161</td>\n",
       "      <td>0.273073</td>\n",
       "      <td>...</td>\n",
       "      <td>0.331121</td>\n",
       "      <td>0.295925</td>\n",
       "      <td>0.143811</td>\n",
       "      <td>0.279064</td>\n",
       "      <td>0.29726</td>\n",
       "      <td>0.362669</td>\n",
       "      <td>0.178429</td>\n",
       "      <td>0.227307</td>\n",
       "      <td>0.306006</td>\n",
       "      <td>-0.49518</td>\n",
       "    </tr>\n",
       "  </tbody>\n",
       "</table>\n",
       "<p>2 rows × 294 columns</p>\n",
       "</div>"
      ],
      "text/plain": [
       "    CID   Metadata_broad_sample  CPD_NAME  \\\n",
       "0   679                    DMSO      DMSO   \n",
       "1  2122  BRD-A56675431-001-04-0  altizide   \n",
       "\n",
       "                                   CPD_SMILES  Cells_AreaShape_Area  \\\n",
       "0                                     CS(=O)C              0.000000   \n",
       "1  NS(=O)(=O)c1cc2c(NC(CSCC=C)NS2(=O)=O)cc1Cl              0.618005   \n",
       "\n",
       "   Cells_AreaShape_Center_X  Cells_AreaShape_Center_Y  \\\n",
       "0                  0.000000                   0.00000   \n",
       "1                  0.434264                   0.32857   \n",
       "\n",
       "   Cells_AreaShape_Compactness  Cells_AreaShape_FormFactor  \\\n",
       "0                     0.000000                    0.000000   \n",
       "1                     0.736717                    0.575161   \n",
       "\n",
       "   Cells_AreaShape_Orientation  ...  Nuclei_Texture_InfoMeas1_RNA_10_0  \\\n",
       "0                     0.000000  ...                           0.000000   \n",
       "1                     0.273073  ...                           0.331121   \n",
       "\n",
       "   Nuclei_Texture_InfoMeas1_RNA_3_0  \\\n",
       "0                          0.000000   \n",
       "1                          0.295925   \n",
       "\n",
       "   Nuclei_Texture_InverseDifferenceMoment_ER_10_0  \\\n",
       "0                                        0.000000   \n",
       "1                                        0.143811   \n",
       "\n",
       "   Nuclei_Texture_InverseDifferenceMoment_RNA_3_0  \\\n",
       "0                                        0.000000   \n",
       "1                                        0.279064   \n",
       "\n",
       "   Nuclei_Texture_SumAverage_AGP_10_0  Nuclei_Texture_SumAverage_DNA_10_0  \\\n",
       "0                             0.00000                            0.000000   \n",
       "1                             0.29726                            0.362669   \n",
       "\n",
       "   Nuclei_Texture_SumAverage_RNA_10_0  Nuclei_Texture_SumEntropy_AGP_10_0  \\\n",
       "0                            0.000000                            0.000000   \n",
       "1                            0.178429                            0.227307   \n",
       "\n",
       "   Nuclei_Texture_SumEntropy_DNA_10_0  Nuclei_Texture_SumEntropy_RNA_10_0  \n",
       "0                            0.000000                             0.00000  \n",
       "1                            0.306006                            -0.49518  \n",
       "\n",
       "[2 rows x 294 columns]"
      ]
     },
     "execution_count": 134,
     "metadata": {},
     "output_type": "execute_result"
    }
   ],
   "source": [
    "profiles = profiles_cid_pubchem.merge(profiles, on='Metadata_broad_sample')\n",
    "print(f\"There are {profiles['CID'].nunique()} unique compounds in the activity dataset\")\n",
    "profiles.head(2)"
   ]
  },
  {
   "cell_type": "code",
   "execution_count": 135,
   "metadata": {},
   "outputs": [
    {
     "name": "stdout",
     "output_type": "stream",
     "text": [
      "There are 651 unique compounds in the activity dataset\n"
     ]
    },
    {
     "data": {
      "text/html": [
       "<div>\n",
       "<style scoped>\n",
       "    .dataframe tbody tr th:only-of-type {\n",
       "        vertical-align: middle;\n",
       "    }\n",
       "\n",
       "    .dataframe tbody tr th {\n",
       "        vertical-align: top;\n",
       "    }\n",
       "\n",
       "    .dataframe thead th {\n",
       "        text-align: right;\n",
       "    }\n",
       "</style>\n",
       "<table border=\"1\" class=\"dataframe\">\n",
       "  <thead>\n",
       "    <tr style=\"text-align: right;\">\n",
       "      <th></th>\n",
       "      <th>CID</th>\n",
       "      <th>Endocrine_activity</th>\n",
       "      <th>CAS</th>\n",
       "      <th>SMILES</th>\n",
       "      <th>Name</th>\n",
       "    </tr>\n",
       "  </thead>\n",
       "  <tbody>\n",
       "    <tr>\n",
       "      <th>0</th>\n",
       "      <td>323</td>\n",
       "      <td>inactive</td>\n",
       "      <td>91-64-5</td>\n",
       "      <td>O=C1C=Cc2ccccc2O1</td>\n",
       "      <td>Coumarin</td>\n",
       "    </tr>\n",
       "    <tr>\n",
       "      <th>1</th>\n",
       "      <td>338</td>\n",
       "      <td>inactive</td>\n",
       "      <td>69-72-7</td>\n",
       "      <td>OC(=O)c1ccccc1O</td>\n",
       "      <td>Salicylic acid</td>\n",
       "    </tr>\n",
       "  </tbody>\n",
       "</table>\n",
       "</div>"
      ],
      "text/plain": [
       "   CID Endocrine_activity      CAS             SMILES            Name\n",
       "0  323           inactive  91-64-5  O=C1C=Cc2ccccc2O1        Coumarin\n",
       "1  338           inactive  69-72-7    OC(=O)c1ccccc1O  Salicylic acid"
      ]
     },
     "execution_count": 135,
     "metadata": {},
     "output_type": "execute_result"
    }
   ],
   "source": [
    "activity = pd.read_csv('../Data_parsed/Tox21_Endocrine_activity_BCC047.csv', sep=',')\n",
    "activity.rename(columns={'PUBCHEM_CID':'CID','CPD_NAME':'Name'}, inplace=True)\n",
    "print(f\"There are {activity['CID'].nunique()} unique compounds in the activity dataset\")\n",
    "activity.head(2)"
   ]
  },
  {
   "cell_type": "markdown",
   "metadata": {},
   "source": [
    "- We start with adding the cid columns from profiles_cid_pubchem to our pre-processed morphological profile file -> check which compounds is lost when merging the data "
   ]
  },
  {
   "cell_type": "code",
   "execution_count": 136,
   "metadata": {},
   "outputs": [],
   "source": [
    "t = activity.merge(profiles,on='CID')"
   ]
  },
  {
   "cell_type": "code",
   "execution_count": 137,
   "metadata": {},
   "outputs": [],
   "source": [
    "cid_cmbd = t['CID'].to_list()\n",
    "cid_activity = activity['CID'].to_list()\n",
    "cid_profiles = profiles['CID'].to_list()"
   ]
  },
  {
   "cell_type": "code",
   "execution_count": 138,
   "metadata": {},
   "outputs": [],
   "source": [
    "missing_cid = list(set(cid_activity) - set(cid_profiles))"
   ]
  },
  {
   "cell_type": "code",
   "execution_count": 139,
   "metadata": {},
   "outputs": [
    {
     "name": "stdout",
     "output_type": "stream",
     "text": [
      "There are 15 missing CID in the merge dataset\n"
     ]
    }
   ],
   "source": [
    "print(f'There are {len(missing_cid)} missing CID in the merge dataset')"
   ]
  },
  {
   "cell_type": "code",
   "execution_count": 140,
   "metadata": {},
   "outputs": [
    {
     "name": "stdout",
     "output_type": "stream",
     "text": [
      "We have 324 inactive and 318 active compounds\n"
     ]
    },
    {
     "data": {
      "text/html": [
       "<div>\n",
       "<style scoped>\n",
       "    .dataframe tbody tr th:only-of-type {\n",
       "        vertical-align: middle;\n",
       "    }\n",
       "\n",
       "    .dataframe tbody tr th {\n",
       "        vertical-align: top;\n",
       "    }\n",
       "\n",
       "    .dataframe thead th {\n",
       "        text-align: right;\n",
       "    }\n",
       "</style>\n",
       "<table border=\"1\" class=\"dataframe\">\n",
       "  <thead>\n",
       "    <tr style=\"text-align: right;\">\n",
       "      <th></th>\n",
       "      <th>CID</th>\n",
       "      <th>Endocrine_activity</th>\n",
       "      <th>CAS</th>\n",
       "      <th>SMILES</th>\n",
       "      <th>Name</th>\n",
       "      <th>Metadata_broad_sample</th>\n",
       "      <th>CPD_NAME</th>\n",
       "      <th>CPD_SMILES</th>\n",
       "      <th>Cells_AreaShape_Area</th>\n",
       "      <th>Cells_AreaShape_Center_X</th>\n",
       "      <th>...</th>\n",
       "      <th>Nuclei_Texture_InfoMeas1_RNA_10_0</th>\n",
       "      <th>Nuclei_Texture_InfoMeas1_RNA_3_0</th>\n",
       "      <th>Nuclei_Texture_InverseDifferenceMoment_ER_10_0</th>\n",
       "      <th>Nuclei_Texture_InverseDifferenceMoment_RNA_3_0</th>\n",
       "      <th>Nuclei_Texture_SumAverage_AGP_10_0</th>\n",
       "      <th>Nuclei_Texture_SumAverage_DNA_10_0</th>\n",
       "      <th>Nuclei_Texture_SumAverage_RNA_10_0</th>\n",
       "      <th>Nuclei_Texture_SumEntropy_AGP_10_0</th>\n",
       "      <th>Nuclei_Texture_SumEntropy_DNA_10_0</th>\n",
       "      <th>Nuclei_Texture_SumEntropy_RNA_10_0</th>\n",
       "    </tr>\n",
       "  </thead>\n",
       "  <tbody>\n",
       "    <tr>\n",
       "      <th>0</th>\n",
       "      <td>323</td>\n",
       "      <td>inactive</td>\n",
       "      <td>91-64-5</td>\n",
       "      <td>O=C1C=Cc2ccccc2O1</td>\n",
       "      <td>Coumarin</td>\n",
       "      <td>BRD-K23913458-001-02-5</td>\n",
       "      <td>coumarin</td>\n",
       "      <td>O=c1ccc2ccccc2o1</td>\n",
       "      <td>0.210650</td>\n",
       "      <td>0.034959</td>\n",
       "      <td>...</td>\n",
       "      <td>-0.735849</td>\n",
       "      <td>-0.312258</td>\n",
       "      <td>0.222973</td>\n",
       "      <td>0.162670</td>\n",
       "      <td>0.138114</td>\n",
       "      <td>0.460139</td>\n",
       "      <td>-0.232157</td>\n",
       "      <td>0.143794</td>\n",
       "      <td>-0.075845</td>\n",
       "      <td>-0.021427</td>\n",
       "    </tr>\n",
       "    <tr>\n",
       "      <th>1</th>\n",
       "      <td>338</td>\n",
       "      <td>inactive</td>\n",
       "      <td>69-72-7</td>\n",
       "      <td>OC(=O)c1ccccc1O</td>\n",
       "      <td>Salicylic acid</td>\n",
       "      <td>BRD-K93632104-001-12-3</td>\n",
       "      <td>salicylic acid</td>\n",
       "      <td>OC(=O)c1ccccc1O</td>\n",
       "      <td>0.144642</td>\n",
       "      <td>0.022497</td>\n",
       "      <td>...</td>\n",
       "      <td>0.431776</td>\n",
       "      <td>0.281568</td>\n",
       "      <td>0.371297</td>\n",
       "      <td>-0.169673</td>\n",
       "      <td>-0.063299</td>\n",
       "      <td>-0.143357</td>\n",
       "      <td>0.140593</td>\n",
       "      <td>-0.242057</td>\n",
       "      <td>-0.399327</td>\n",
       "      <td>0.110002</td>\n",
       "    </tr>\n",
       "  </tbody>\n",
       "</table>\n",
       "<p>2 rows × 298 columns</p>\n",
       "</div>"
      ],
      "text/plain": [
       "   CID Endocrine_activity      CAS             SMILES            Name  \\\n",
       "0  323           inactive  91-64-5  O=C1C=Cc2ccccc2O1        Coumarin   \n",
       "1  338           inactive  69-72-7    OC(=O)c1ccccc1O  Salicylic acid   \n",
       "\n",
       "    Metadata_broad_sample        CPD_NAME        CPD_SMILES  \\\n",
       "0  BRD-K23913458-001-02-5        coumarin  O=c1ccc2ccccc2o1   \n",
       "1  BRD-K93632104-001-12-3  salicylic acid   OC(=O)c1ccccc1O   \n",
       "\n",
       "   Cells_AreaShape_Area  Cells_AreaShape_Center_X  ...  \\\n",
       "0              0.210650                  0.034959  ...   \n",
       "1              0.144642                  0.022497  ...   \n",
       "\n",
       "   Nuclei_Texture_InfoMeas1_RNA_10_0  Nuclei_Texture_InfoMeas1_RNA_3_0  \\\n",
       "0                          -0.735849                         -0.312258   \n",
       "1                           0.431776                          0.281568   \n",
       "\n",
       "   Nuclei_Texture_InverseDifferenceMoment_ER_10_0  \\\n",
       "0                                        0.222973   \n",
       "1                                        0.371297   \n",
       "\n",
       "   Nuclei_Texture_InverseDifferenceMoment_RNA_3_0  \\\n",
       "0                                        0.162670   \n",
       "1                                       -0.169673   \n",
       "\n",
       "   Nuclei_Texture_SumAverage_AGP_10_0  Nuclei_Texture_SumAverage_DNA_10_0  \\\n",
       "0                            0.138114                            0.460139   \n",
       "1                           -0.063299                           -0.143357   \n",
       "\n",
       "   Nuclei_Texture_SumAverage_RNA_10_0  Nuclei_Texture_SumEntropy_AGP_10_0  \\\n",
       "0                           -0.232157                            0.143794   \n",
       "1                            0.140593                           -0.242057   \n",
       "\n",
       "   Nuclei_Texture_SumEntropy_DNA_10_0  Nuclei_Texture_SumEntropy_RNA_10_0  \n",
       "0                           -0.075845                           -0.021427  \n",
       "1                           -0.399327                            0.110002  \n",
       "\n",
       "[2 rows x 298 columns]"
      ]
     },
     "execution_count": 140,
     "metadata": {},
     "output_type": "execute_result"
    }
   ],
   "source": [
    "profiles = activity.merge(profiles, on='CID')\n",
    "print(f\"We have {profiles['Endocrine_activity'].value_counts()['inactive']} inactive and {profiles['Endocrine_activity'].value_counts()['active']} active compounds\")\n",
    "profiles.head(2)"
   ]
  },
  {
   "cell_type": "code",
   "execution_count": 141,
   "metadata": {},
   "outputs": [],
   "source": [
    "\n",
    "#profiles = profiles[profiles['CPD_NAME'] != 'DMSO'].reset_index(drop=True)"
   ]
  },
  {
   "cell_type": "code",
   "execution_count": 142,
   "metadata": {},
   "outputs": [
    {
     "name": "stdout",
     "output_type": "stream",
     "text": [
      "There is 636,unique CID in the profiles dataset and 636 unique CAS\n"
     ]
    }
   ],
   "source": [
    "print(f\"There is {profiles['CID'].nunique()},unique CID in the profiles dataset and {profiles['CAS'].nunique()} unique CAS\") "
   ]
  },
  {
   "cell_type": "markdown",
   "metadata": {},
   "source": [
    "## Spliting Data in Training and Testing Set"
   ]
  },
  {
   "cell_type": "markdown",
   "metadata": {},
   "source": [
    "For ML, we always need training and a test set that is pairwise disjoint. <br>\n",
    "To this end, we split the data into two parts, where the training set will contain 80% of the samples and the test set the remaining 20%. The training set will be utilized for training, evaluating, and optimizing the model, while the test set will be used for making predictions<br>\n",
    "\n",
    "Moreover, we need a response vector y, i.e., the column with the activity information and a feature matrix X, i.e., a matrix with the morphological or molecular fingerprints or a combination thereof, for each compound. <br>\n",
    "\n",
    "To make sure we do not have data leakage, we ensure that all instances of compounds, that appear several times in the dataset, are put in the same set. Moreover, we want to ensure that we have enough instances of the active class in both sets. Therefore, we perform a stratified split that ensures a constant ratio of active and inactive compounds in all datasets."
   ]
  },
  {
   "cell_type": "markdown",
   "metadata": {},
   "source": [
    "### Import library "
   ]
  },
  {
   "cell_type": "code",
   "execution_count": 143,
   "metadata": {},
   "outputs": [],
   "source": [
    "\n",
    "import warnings\n",
    "\n",
    "import numpy as np\n",
    "import plotly.express as px\n",
    "import requests\n",
    "from sklearn.ensemble import RandomForestClassifier\n",
    "from sklearn.manifold import TSNE\n",
    "from sklearn.model_selection import train_test_split\n",
    "from sklearn.neural_network import MLPClassifier\n",
    "\n",
    "from rdkit import Chem\n",
    "from rdkit import RDLogger\n",
    "from rdkit.Chem import rdFingerprintGenerator\n",
    "from rdkit.Chem.MolStandardize import rdMolStandardize\n"
   ]
  },
  {
   "cell_type": "markdown",
   "metadata": {},
   "source": [
    "1. Features and variables to predict "
   ]
  },
  {
   "cell_type": "code",
   "execution_count": 144,
   "metadata": {},
   "outputs": [],
   "source": [
    "def stratified_split(data,to_remove,activity):\n",
    "    data = data.drop(columns=to_remove)\n",
    "    if data[activity].dtype == 'object':\n",
    "        data[activity] = data[activity].apply(lambda x: 1 if x == 'active' else 0)\n",
    "    X_train, X_test, y_train_activities, y_test_activities= train_test_split(\n",
    "        data.iloc[:,1:], \n",
    "        data[activity].values.astype('int'), \n",
    "        random_state=42, \n",
    "        test_size=0.2, \n",
    "        shuffle=True,\n",
    "        stratify=data[activity].values.astype('int')) #stratify split \n",
    "    return data, X_train, X_test, y_train_activities, y_test_activities"
   ]
  },
  {
   "cell_type": "code",
   "execution_count": 145,
   "metadata": {},
   "outputs": [],
   "source": [
    "to_remove = ['CID', 'SMILES', 'CPD_NAME','Metadata_broad_sample', 'CPD_SMILES','CAS','Name']"
   ]
  },
  {
   "cell_type": "code",
   "execution_count": 146,
   "metadata": {},
   "outputs": [],
   "source": [
    "data, X_train, X_test, y_train_activities, y_test_activities = stratified_split(profiles,to_remove,'Endocrine_activity')"
   ]
  },
  {
   "cell_type": "code",
   "execution_count": 147,
   "metadata": {},
   "outputs": [
    {
     "data": {
      "text/plain": [
       "64"
      ]
     },
     "execution_count": 147,
     "metadata": {},
     "output_type": "execute_result"
    }
   ],
   "source": [
    "np.sum( y_test_activities==1)\n"
   ]
  },
  {
   "cell_type": "markdown",
   "metadata": {},
   "source": [
    "2. Features and variables to predict but make it structural "
   ]
  },
  {
   "cell_type": "markdown",
   "metadata": {},
   "source": [
    "We aim to sanitize SMILES strings by keeping the fragment parent, removing ions. Since we have a limited number of data points, we first ensure that all SMILES can be successfully converted into RDKit objects. If any conversion fails, we retrieve the appropriate isomeric structure from PubChem as a fallback"
   ]
  },
  {
   "cell_type": "code",
   "execution_count": 148,
   "metadata": {},
   "outputs": [],
   "source": [
    "def get_smiles_from_cid(cid):\n",
    "    '''\n",
    "    We get smile for cid from pubchem, for molecule where smile is not available when turned into a rdkit object\n",
    "    '''\n",
    "    url = f\"https://pubchem.ncbi.nlm.nih.gov/rest/pug/compound/cid/{cid}/property/CanonicalSMILES/JSON\"\n",
    "    \n",
    "    response = requests.get(url)\n",
    "    if response.status_code == 200:\n",
    "        data = response.json()\n",
    "        smiles = data['PropertyTable']['Properties'][0]['CanonicalSMILES']\n",
    "        return smiles\n",
    "    else:\n",
    "        return f\"Error: Unable to retrieve data for CID {cid}\"\n",
    "\n",
    "def replace_smile(data,old_smiles,new_smile):\n",
    "    '''\n",
    "    Replace the smile queried from pubchem in the dataset\n",
    "    '''\n",
    "    \n",
    "    data.loc[data['SMILES'] == old_smiles, 'SMILES'] = new_smile\n",
    "    return data\n",
    "\n",
    "def check_rdkit_object(dataset,SMILES):\n",
    "    ''' \n",
    "    Check if all smiles can be converted to rdkit object\n",
    "    '''\n",
    "    lg = RDLogger.logger()\n",
    "    lg.setLevel(RDLogger.CRITICAL)\n",
    "    object = dataset[SMILES].apply(Chem.MolFromSmiles)\n",
    "    idx = object[object.isnull()].index\n",
    "    for i in idx:\n",
    "        old_smiles = dataset.loc[i, 'SMILES']\n",
    "        CID = dataset.loc[i, 'CID']\n",
    "        new_smiles = get_smiles_from_cid(CID)\n",
    "        dataset= replace_smile(dataset,old_smiles,new_smiles)\n",
    "    object = dataset[SMILES].apply(Chem.MolFromSmiles)\n",
    "    if object.isnull().sum() == 0:\n",
    "        print('All smiles can be converted to rdkit object')\n",
    "    return dataset\n",
    "\n",
    "def clean_std_smiles(dataset, smiles_column):\n",
    "    \"\"\"\n",
    "    This function standardizes the SMILES strings in the dataset by:\n",
    "    1. Removing salts or solvents.\n",
    "    2. Keeping only the parent molecule.\n",
    "    3. Sanitizing the molecule to ensure it's chemically valid.\n",
    "\n",
    "    \"\"\"\n",
    "    \n",
    "    clean_mol = [Chem.MolFromSmiles(smile) for smile in dataset[smiles_column]]\n",
    "    parent_clean_mol = [rdMolStandardize.FragmentParent(mol) for mol in clean_mol]\n",
    "    # Sanitize the parent molecules\n",
    "    for mol in parent_clean_mol:\n",
    "        if mol is not None:\n",
    "            try:\n",
    "                Chem.SanitizeMol(mol)\n",
    "            except ValueError as e:\n",
    "                print(f\"Sanitization failed for molecule: {Chem.MolToSmiles(mol)}\")\n",
    "    \n",
    "    # Convert sanitized molecules back to SMILES\n",
    "    smiles = [Chem.MolToSmiles(mol) if mol is not None else None for mol in parent_clean_mol]\n",
    "    dataset['STD_smile'] = smiles\n",
    "    \n",
    "    return dataset\n"
   ]
  },
  {
   "cell_type": "markdown",
   "metadata": {},
   "source": [
    "a. Get the indices of the training and testing sets to split the structural data in the same way as the morphological data."
   ]
  },
  {
   "cell_type": "code",
   "execution_count": 149,
   "metadata": {},
   "outputs": [],
   "source": [
    "index_train = data.iloc[X_train.index,0]\n",
    "index_test = data.iloc[X_test.index,0]\n",
    "X_train_struct = profiles.loc[index_train.index, ['SMILES', 'Endocrine_activity','CID']]\n",
    "X_test_struct = profiles.loc[index_test.index, ['SMILES', 'Endocrine_activity','CID']]"
   ]
  },
  {
   "cell_type": "code",
   "execution_count": 150,
   "metadata": {},
   "outputs": [
    {
     "name": "stdout",
     "output_type": "stream",
     "text": [
      "All smiles can be converted to rdkit object\n"
     ]
    }
   ],
   "source": [
    "X_train_struct = check_rdkit_object(X_train_struct,'SMILES')"
   ]
  },
  {
   "cell_type": "code",
   "execution_count": 151,
   "metadata": {},
   "outputs": [
    {
     "name": "stdout",
     "output_type": "stream",
     "text": [
      "All smiles can be converted to rdkit object\n"
     ]
    }
   ],
   "source": [
    "X_test_struct = check_rdkit_object(X_test_struct,'SMILES')"
   ]
  },
  {
   "cell_type": "markdown",
   "metadata": {},
   "source": [
    "b. Standardize smile within each set "
   ]
  },
  {
   "cell_type": "code",
   "execution_count": 152,
   "metadata": {},
   "outputs": [
    {
     "name": "stdout",
     "output_type": "stream",
     "text": [
      "Standardized SMILES for training set\n",
      "Standardized SMILES for testing set\n"
     ]
    }
   ],
   "source": [
    "print('Standardized SMILES for training set')\n",
    "X_train_struct = clean_std_smiles(X_train_struct,'SMILES')\n",
    "print('Standardized SMILES for testing set')\n",
    "X_test_struct = clean_std_smiles(X_test_struct,'SMILES')\n"
   ]
  },
  {
   "cell_type": "markdown",
   "metadata": {},
   "source": [
    "c. Generate fingerprint "
   ]
  },
  {
   "cell_type": "markdown",
   "metadata": {},
   "source": [
    "Here we implement two functions : \n",
    "- One to instantiate Morgan fingerprints generator; _morgan_bin_\n",
    "- One that call and computes the binary morgan fingerprint and happened it to the data frame; _make_fps_\n",
    "- One to converts the structure fps features that are stored in an array"
   ]
  },
  {
   "cell_type": "code",
   "execution_count": 153,
   "metadata": {},
   "outputs": [],
   "source": [
    "def morgan_bin(fpg,dataset):\n",
    "    \n",
    "    '''\n",
    "    Generate Morgan fingerprints as binary vector  \n",
    "        Parameters : \n",
    "            fpg (object): rdFingerprintGenerator(radius=X,fpSize=X) object generated by make_fps()\n",
    "            dataset (data frame): data frame having a column named 'STD_smile' with smiles\n",
    "        Returns : \n",
    "            dataset (data frame): same data frame with one more column named 'morganB_fps' within a list\n",
    "    '''     \n",
    "    RDLogger.DisableLog('rdApp.info')\n",
    "    circular_bit_fp = [fpg.GetFingerprint(Chem.MolFromSmiles(smiles)).ToList() for smiles in dataset['STD_smile']]\n",
    "    dataset['morganB_fps'] =  circular_bit_fp\n",
    "    \n",
    "    return dataset\n",
    "\n",
    "def make_fps(dataset,val_radius=2,n_bits=1024):\n",
    "    \n",
    "    '''\n",
    "    Make fingerprints is the function call to create structural fingerprints, combine morphological fingerprints etc \n",
    "        Parameters : \n",
    "            dataset_profiles (data frame): initial dataset having the morphological profiles  \n",
    "            val_radius (int):  default = 2 can be changed, used to make morgan fingerprint cf GetMorganGenerator() Rdkit function \n",
    "            n_bits (int): default = 1024 can be changed, used to make morgan fingerprint cf GetMorganGenerator() Rdkit function \n",
    "        Returns : \n",
    "            dataset (data frame): initial dataset with a supplementary column containing the newly generated fps -> to drop before running make_models for a different fps \n",
    "    ''' \n",
    "    RDLogger.DisableLog('rdApp.info')\n",
    "    fpg = rdFingerprintGenerator.GetMorganGenerator(radius=val_radius, fpSize=n_bits)\n",
    "    dataset = morgan_bin(fpg,dataset)\n",
    "\n",
    "\n",
    "    return dataset\n",
    "\n",
    "def convert_list_features_to_numpy(x):\n",
    "    '''\n",
    "        converts the features that are stored in an array containing lists to an array of arrays such that shape works\n",
    "\n",
    "        @param x: array containing lists \n",
    "        @return x_new: array of arrays of ints\n",
    "    '''\n",
    "    new_x = []\n",
    "    for element in x:\n",
    "        new_x.append(np.array(element))\n",
    "    return np.array(new_x)"
   ]
  },
  {
   "cell_type": "code",
   "execution_count": 154,
   "metadata": {},
   "outputs": [],
   "source": [
    "test = X_train_struct.copy()"
   ]
  },
  {
   "cell_type": "code",
   "execution_count": 155,
   "metadata": {},
   "outputs": [],
   "source": [
    "morgan_bin(rdFingerprintGenerator.GetMorganGenerator(radius=2, fpSize=1024),test)\n",
    "X_train_struct_fps = convert_list_features_to_numpy(test['morganB_fps'].values)\n",
    "morgan_bin(rdFingerprintGenerator.GetMorganGenerator(radius=2, fpSize=1024),X_test_struct)\n",
    "X_test_struct_fps = convert_list_features_to_numpy(X_test_struct['morganB_fps'].values)"
   ]
  },
  {
   "cell_type": "code",
   "execution_count": 156,
   "metadata": {},
   "outputs": [
    {
     "data": {
      "text/plain": [
       "(513, 1024)"
      ]
     },
     "execution_count": 156,
     "metadata": {},
     "output_type": "execute_result"
    }
   ],
   "source": [
    "convert_list_features_to_numpy(test['morganB_fps'].values).shape"
   ]
  },
  {
   "cell_type": "code",
   "execution_count": 157,
   "metadata": {},
   "outputs": [],
   "source": [
    "def convert_array_to_df(array):\n",
    "    '''\n",
    "    Converts an array of arrays to a pandas dataframe\n",
    "\n",
    "    @param array: array of fps\n",
    "    '''\n",
    "    num_columns = array.shape[1]\n",
    "    column_names = [f'mfp_{i+1}' for i in range(num_columns)]\n",
    "    fingerprint_df = pd.DataFrame(array, columns=column_names)\n",
    "    return fingerprint_df\n"
   ]
  },
  {
   "cell_type": "code",
   "execution_count": 158,
   "metadata": {},
   "outputs": [],
   "source": [
    "fingerprint_train_df = convert_array_to_df(X_train_struct_fps)\n",
    "fingerprint_test_df = convert_array_to_df(X_test_struct_fps)"
   ]
  },
  {
   "cell_type": "code",
   "execution_count": 159,
   "metadata": {},
   "outputs": [
    {
     "data": {
      "text/html": [
       "<div>\n",
       "<style scoped>\n",
       "    .dataframe tbody tr th:only-of-type {\n",
       "        vertical-align: middle;\n",
       "    }\n",
       "\n",
       "    .dataframe tbody tr th {\n",
       "        vertical-align: top;\n",
       "    }\n",
       "\n",
       "    .dataframe thead th {\n",
       "        text-align: right;\n",
       "    }\n",
       "</style>\n",
       "<table border=\"1\" class=\"dataframe\">\n",
       "  <thead>\n",
       "    <tr style=\"text-align: right;\">\n",
       "      <th></th>\n",
       "      <th>mfp_1</th>\n",
       "      <th>mfp_2</th>\n",
       "      <th>mfp_3</th>\n",
       "      <th>mfp_4</th>\n",
       "      <th>mfp_5</th>\n",
       "      <th>mfp_6</th>\n",
       "      <th>mfp_7</th>\n",
       "      <th>mfp_8</th>\n",
       "      <th>mfp_9</th>\n",
       "      <th>mfp_10</th>\n",
       "      <th>...</th>\n",
       "      <th>mfp_1015</th>\n",
       "      <th>mfp_1016</th>\n",
       "      <th>mfp_1017</th>\n",
       "      <th>mfp_1018</th>\n",
       "      <th>mfp_1019</th>\n",
       "      <th>mfp_1020</th>\n",
       "      <th>mfp_1021</th>\n",
       "      <th>mfp_1022</th>\n",
       "      <th>mfp_1023</th>\n",
       "      <th>mfp_1024</th>\n",
       "    </tr>\n",
       "  </thead>\n",
       "  <tbody>\n",
       "    <tr>\n",
       "      <th>0</th>\n",
       "      <td>0</td>\n",
       "      <td>0</td>\n",
       "      <td>0</td>\n",
       "      <td>0</td>\n",
       "      <td>0</td>\n",
       "      <td>0</td>\n",
       "      <td>0</td>\n",
       "      <td>1</td>\n",
       "      <td>0</td>\n",
       "      <td>0</td>\n",
       "      <td>...</td>\n",
       "      <td>0</td>\n",
       "      <td>0</td>\n",
       "      <td>0</td>\n",
       "      <td>1</td>\n",
       "      <td>0</td>\n",
       "      <td>1</td>\n",
       "      <td>0</td>\n",
       "      <td>0</td>\n",
       "      <td>0</td>\n",
       "      <td>0</td>\n",
       "    </tr>\n",
       "    <tr>\n",
       "      <th>1</th>\n",
       "      <td>0</td>\n",
       "      <td>0</td>\n",
       "      <td>0</td>\n",
       "      <td>1</td>\n",
       "      <td>0</td>\n",
       "      <td>0</td>\n",
       "      <td>0</td>\n",
       "      <td>0</td>\n",
       "      <td>0</td>\n",
       "      <td>0</td>\n",
       "      <td>...</td>\n",
       "      <td>0</td>\n",
       "      <td>0</td>\n",
       "      <td>0</td>\n",
       "      <td>0</td>\n",
       "      <td>0</td>\n",
       "      <td>1</td>\n",
       "      <td>0</td>\n",
       "      <td>0</td>\n",
       "      <td>0</td>\n",
       "      <td>0</td>\n",
       "    </tr>\n",
       "  </tbody>\n",
       "</table>\n",
       "<p>2 rows × 1024 columns</p>\n",
       "</div>"
      ],
      "text/plain": [
       "   mfp_1  mfp_2  mfp_3  mfp_4  mfp_5  mfp_6  mfp_7  mfp_8  mfp_9  mfp_10  ...  \\\n",
       "0      0      0      0      0      0      0      0      1      0       0  ...   \n",
       "1      0      0      0      1      0      0      0      0      0       0  ...   \n",
       "\n",
       "   mfp_1015  mfp_1016  mfp_1017  mfp_1018  mfp_1019  mfp_1020  mfp_1021  \\\n",
       "0         0         0         0         1         0         1         0   \n",
       "1         0         0         0         0         0         1         0   \n",
       "\n",
       "   mfp_1022  mfp_1023  mfp_1024  \n",
       "0         0         0         0  \n",
       "1         0         0         0  \n",
       "\n",
       "[2 rows x 1024 columns]"
      ]
     },
     "execution_count": 159,
     "metadata": {},
     "output_type": "execute_result"
    }
   ],
   "source": [
    "fingerprint_train_df.head(2)"
   ]
  },
  {
   "cell_type": "markdown",
   "metadata": {},
   "source": [
    "3. Visualisation of the training and testing set"
   ]
  },
  {
   "cell_type": "markdown",
   "metadata": {},
   "source": [
    "Here we visualise the chemical and morphological space of the sets"
   ]
  },
  {
   "cell_type": "code",
   "execution_count": 160,
   "metadata": {},
   "outputs": [],
   "source": [
    "def tsne_plot_activity_set(X_train, X_test, y_train_activities, y_test_activities,features_type):\n",
    "    '''\n",
    "    Plot the t-SNE projection of either the chemical or morphological space of the compounds \n",
    "    in the training and test sets. To see if both sets are overlapping in both spaces.\n",
    "    We will change the seed in the stratified split until we get a good overlap of the two sets. \n",
    "    '''\n",
    "\n",
    "    # Add 'activity' column to X_train using assign()\n",
    "    Train = X_train.assign(activity=y_train_activities)\n",
    "    Test = X_test.assign(activity=y_test_activities)\n",
    "\n",
    "    #Add a set column to Train and Test\n",
    "    Train['set'] = ['train'] * len(X_train)\n",
    "    Test['set'] = ['test'] * len(X_test)\n",
    "\n",
    "    # Combine Train and Test \n",
    "    data_combined = pd.concat([Train, Test])\n",
    "\n",
    "    # Fit tsne on the features of the combined data\n",
    "    tsne = TSNE(n_components=2, random_state=52)\n",
    "    projection = tsne.fit_transform(data_combined.iloc[:,:-1])\n",
    "    # Retrieve the projection coordinated for visualization and the labels\n",
    "    projections_df = pd.DataFrame(projection, columns=['x', 'y'])\n",
    "    projections_df['activity'] = data_combined['activity'].values.astype('str')\n",
    "    projections_df['set'] = data_combined['set'].values\n",
    "\n",
    "    # scatter plot with Plotly\n",
    "    fig = px.scatter(\n",
    "    projections_df, \n",
    "    x='x', \n",
    "    y='y', \n",
    "    color='activity',  \n",
    "    symbol='set',\n",
    "    color_discrete_sequence=[px.colors.qualitative.Dark2[4], px.colors.qualitative.Dark2[3]],\n",
    "    labels={'color': 'Activity', 'symbol': 'Set'},\n",
    "    title=\"T-SNE Plot with Train and Test Sets Overlaid of\" + ' ' + features_type + ' ' + 'fingerprint.',\n",
    "    )\n",
    "    fig.show()\n",
    "    return projections_df"
   ]
  },
  {
   "cell_type": "code",
   "execution_count": 161,
   "metadata": {},
   "outputs": [
    {
     "data": {
      "application/vnd.plotly.v1+json": {
       "config": {
        "plotlyServerURL": "https://plot.ly"
       },
       "data": [
        {
         "hovertemplate": "activity=1<br>set=train<br>x=%{x}<br>y=%{y}<extra></extra>",
         "legendgroup": "1, train",
         "marker": {
          "color": "rgb(102,166,30)",
          "symbol": "circle"
         },
         "mode": "markers",
         "name": "1, train",
         "orientation": "v",
         "showlegend": true,
         "type": "scatter",
         "x": [
          17.039169311523438,
          16.48879051208496,
          -7.724414348602295,
          -2.721935510635376,
          11.325860977172852,
          19.864166259765625,
          -21.31422233581543,
          -10.167132377624512,
          16.35177230834961,
          19.429401397705078,
          -11.858052253723145,
          -9.15811824798584,
          -22.745758056640625,
          -17.3658447265625,
          -11.632789611816406,
          17.54370880126953,
          19.95218849182129,
          18.576263427734375,
          17.130645751953125,
          16.983732223510742,
          -4.2340545654296875,
          12.868091583251953,
          -19.030813217163086,
          -19.039682388305664,
          -23.502243041992188,
          -19.256494522094727,
          -7.412471771240234,
          25.46155548095703,
          15.543997764587402,
          -1.394824504852295,
          -18.97719383239746,
          5.417474746704102,
          -12.913283348083496,
          3.6961069107055664,
          -13.711957931518555,
          -6.593838691711426,
          -2.1977217197418213,
          -18.33963394165039,
          12.013113975524902,
          19.529481887817383,
          8.43772029876709,
          -11.981292724609375,
          -2.657787799835205,
          19.460174560546875,
          19.67693519592285,
          10.117024421691895,
          -7.366241455078125,
          12.157736778259277,
          22.442888259887695,
          22.49265480041504,
          13.949009895324707,
          15.05334758758545,
          13.029986381530762,
          -5.6318206787109375,
          -14.434085845947266,
          -2.232419013977051,
          21.145915985107422,
          19.494935989379883,
          19.507078170776367,
          -6.286745071411133,
          -19.731203079223633,
          14.205101013183594,
          20.63724136352539,
          16.357236862182617,
          25.846548080444336,
          17.699485778808594,
          -0.9789928197860718,
          -15.500414848327637,
          4.942405700683594,
          7.89059591293335,
          18.836137771606445,
          2.661994457244873,
          18.651809692382812,
          24.5360107421875,
          -5.701212406158447,
          -23.87102508544922,
          15.72069263458252,
          -4.050080299377441,
          -5.435901165008545,
          -20.88236427307129,
          10.869606971740723,
          -15.704479217529297,
          -25.971660614013672,
          11.248237609863281,
          8.490791320800781,
          11.593125343322754,
          -23.002370834350586,
          21.728992462158203,
          4.879470348358154,
          -7.861298561096191,
          0.6236943602561951,
          6.246065616607666,
          10.777721405029297,
          -4.599609851837158,
          6.121641635894775,
          25.91887664794922,
          10.50722599029541,
          -17.735807418823242,
          -8.536412239074707,
          -14.648703575134277,
          -22.81801414489746,
          2.0385310649871826,
          18.032854080200195,
          11.877761840820312,
          21.44820785522461,
          20.50185203552246,
          10.81870174407959,
          11.381412506103516,
          12.841817855834961,
          -23.77279281616211,
          -18.1944522857666,
          -21.388179779052734,
          11.60777473449707,
          -8.875459671020508,
          15.647685050964355,
          -5.2938618659973145,
          -22.41502571105957,
          -14.744277954101562,
          -9.45412826538086,
          -11.882685661315918,
          -4.720155239105225,
          14.020484924316406,
          21.892311096191406,
          0.6568762063980103,
          0.6114334464073181,
          -5.060832500457764,
          16.477323532104492,
          0.2932908535003662,
          -7.2641072273254395,
          12.875592231750488,
          15.4091157913208,
          16.629541397094727,
          -6.017726898193359,
          -3.4970901012420654,
          -15.118094444274902,
          -7.345969200134277,
          16.337360382080078,
          -12.091187477111816,
          1.0728284120559692,
          13.756874084472656,
          24.45980453491211,
          1.801048994064331,
          21.70943832397461,
          -3.4475045204162598,
          13.396960258483887,
          -1.3008792400360107,
          -4.190035820007324,
          -2.384214162826538,
          -12.54906940460205,
          10.207315444946289,
          0.26065224409103394,
          6.651885032653809,
          -11.08706283569336,
          12.2987699508667,
          2.326871395111084,
          10.537163734436035,
          -18.37158966064453,
          6.479010581970215,
          19.564477920532227,
          13.806732177734375,
          15.253419876098633,
          18.47612953186035,
          3.8099114894866943,
          0.456472784280777,
          14.558138847351074,
          15.283103942871094,
          6.9555983543396,
          9.627285957336426,
          -1.2356131076812744,
          -9.943029403686523,
          12.044089317321777,
          -5.740190505981445,
          5.154755115509033,
          -12.563060760498047,
          21.75565528869629,
          21.884910583496094,
          -8.170451164245605,
          12.945147514343262,
          4.630536079406738,
          -11.63057804107666,
          19.64822006225586,
          18.442005157470703,
          14.555510520935059,
          -9.343159675598145,
          1.2162717580795288,
          -17.86524772644043,
          9.016310691833496,
          -14.159485816955566,
          17.988134384155273,
          -17.313739776611328,
          -13.381963729858398,
          13.725165367126465,
          -20.281625747680664,
          -13.659241676330566,
          22.410985946655273,
          14.444398880004883,
          12.609426498413086,
          6.667122840881348,
          24.13035774230957,
          -14.381362915039062,
          11.140600204467773,
          16.508277893066406,
          12.31454086303711,
          6.956628799438477,
          -7.119852066040039,
          18.897682189941406,
          -23.55653953552246,
          6.191687107086182,
          -5.891875267028809,
          12.466053009033203,
          5.876350402832031,
          -9.44717025756836,
          22.159530639648438,
          5.9349517822265625,
          -5.190729141235352,
          14.096208572387695,
          12.961020469665527,
          14.24730110168457,
          7.484752178192139,
          22.872386932373047,
          -2.2132928371429443,
          -6.710186958312988,
          -0.049017854034900665,
          1.960046648979187,
          23.68770980834961,
          1.545142650604248,
          24.202159881591797,
          15.576058387756348,
          14.417977333068848,
          -10.546809196472168,
          -1.9149701595306396,
          12.111527442932129,
          19.120988845825195,
          2.98026180267334,
          3.5642099380493164,
          -11.619696617126465,
          5.3103742599487305,
          -15.713200569152832,
          -1.488451600074768,
          -14.678438186645508,
          7.670098781585693,
          15.153351783752441,
          -8.742883682250977,
          -23.724964141845703,
          14.96876335144043,
          12.35250186920166,
          -0.005484646186232567,
          -8.057829856872559,
          16.43095588684082,
          15.487860679626465,
          -4.356587886810303,
          -10.997918128967285,
          17.164718627929688,
          22.629358291625977
         ],
         "xaxis": "x",
         "y": [
          8.17541790008545,
          -7.566903114318848,
          3.3096671104431152,
          -13.913944244384766,
          -0.8366202712059021,
          1.5401912927627563,
          6.129108905792236,
          -7.084521770477295,
          -8.589967727661133,
          18.847379684448242,
          -9.074119567871094,
          -0.0784120038151741,
          -7.234836101531982,
          -1.8704626560211182,
          -0.7851094603538513,
          16.07159996032715,
          2.7642147541046143,
          2.258289337158203,
          10.52096939086914,
          10.277670860290527,
          7.5563859939575195,
          0.7666314244270325,
          -5.043333530426025,
          -11.853657722473145,
          -3.1900389194488525,
          -10.33338451385498,
          12.020156860351562,
          4.58974027633667,
          13.91424560546875,
          -1.2371671199798584,
          -11.202224731445312,
          -2.6909210681915283,
          -6.053922176361084,
          -0.8514493107795715,
          -7.14996337890625,
          4.762917518615723,
          3.0151429176330566,
          3.637730360031128,
          8.694568634033203,
          6.843461990356445,
          9.326037406921387,
          -14.020766258239746,
          5.590330123901367,
          18.816471099853516,
          12.341354370117188,
          17.430959701538086,
          -7.61309289932251,
          3.7009949684143066,
          14.096404075622559,
          -2.3562445640563965,
          6.385830402374268,
          -10.184636116027832,
          -0.101426862180233,
          2.41389536857605,
          8.786356925964355,
          2.8567001819610596,
          -0.8983156681060791,
          -0.9269877076148987,
          13.438021659851074,
          10.144947052001953,
          -1.0348825454711914,
          18.61664390563965,
          2.4742536544799805,
          -3.811243772506714,
          3.7915139198303223,
          0.9886185526847839,
          -11.167082786560059,
          -1.965258240699768,
          14.66641902923584,
          8.204439163208008,
          -4.008250713348389,
          -2.859773874282837,
          -3.25309681892395,
          3.0177905559539795,
          -1.9711979627609253,
          -7.300957679748535,
          14.131680488586426,
          0.04233992472290993,
          -11.302672386169434,
          0.5146135687828064,
          -6.848644256591797,
          -7.81682825088501,
          -7.233731746673584,
          4.053284645080566,
          13.243834495544434,
          11.795572280883789,
          -4.852636814117432,
          15.415122985839844,
          10.901396751403809,
          -13.766529083251953,
          3.0137784481048584,
          11.726093292236328,
          16.585966110229492,
          11.282593727111816,
          0.8594212532043457,
          8.696353912353516,
          6.089518070220947,
          -3.654942035675049,
          -4.22926139831543,
          -6.32023286819458,
          -0.03957410156726837,
          2.3901233673095703,
          13.919270515441895,
          5.717337608337402,
          5.817119598388672,
          5.038819789886475,
          19.404094696044922,
          11.9114351272583,
          15.929349899291992,
          1.1739213466644287,
          -9.0223970413208,
          5.0973687171936035,
          -5.226480960845947,
          2.3302078247070312,
          14.914892196655273,
          11.177695274353027,
          -2.977167844772339,
          -3.3818140029907227,
          6.80506706237793,
          -10.948101997375488,
          -5.630753040313721,
          -11.102717399597168,
          8.929793357849121,
          -2.811471939086914,
          3.87296724319458,
          -0.7208060622215271,
          -0.7295255661010742,
          1.1798304319381714,
          -2.814004898071289,
          12.797292709350586,
          2.7059242725372314,
          -1.3735449314117432,
          -1.7866779565811157,
          -5.944808006286621,
          -4.09674596786499,
          -0.46501395106315613,
          1.7538038492202759,
          -1.4721654653549194,
          10.007894515991211,
          10.409662246704102,
          10.797155380249023,
          -13.37957763671875,
          15.58116340637207,
          4.112631797790527,
          4.787946701049805,
          1.579775094985962,
          -4.602862358093262,
          -2.544895887374878,
          0.7674058675765991,
          17.635046005249023,
          -5.4694905281066895,
          -16.721250534057617,
          3.478431224822998,
          -10.107856750488281,
          7.245381832122803,
          2.5434553623199463,
          -10.776350021362305,
          9.219310760498047,
          9.948648452758789,
          8.694790840148926,
          0.06081203743815422,
          14.09415340423584,
          7.590890407562256,
          0.9399327039718628,
          -9.568156242370605,
          17.636676788330078,
          -9.199623107910156,
          -3.5422046184539795,
          7.212583541870117,
          8.815754890441895,
          5.299941062927246,
          -0.3985985219478607,
          6.8058552742004395,
          9.3838472366333,
          12.45153522491455,
          13.376776695251465,
          -10.049763679504395,
          17.887004852294922,
          14.665875434875488,
          3.498624324798584,
          11.37617301940918,
          0.10414888709783554,
          13.833977699279785,
          -11.09965991973877,
          -5.1093645095825195,
          4.524598598480225,
          -4.077195644378662,
          -4.266992092132568,
          1.1238821744918823,
          -4.485817909240723,
          -9.524361610412598,
          -11.384424209594727,
          -1.905954360961914,
          -4.977577209472656,
          -5.627352237701416,
          -1.7999752759933472,
          -3.9263007640838623,
          4.958437442779541,
          11.307231903076172,
          -2.340831995010376,
          1.540946364402771,
          7.2966532707214355,
          -2.9534294605255127,
          -9.425458908081055,
          -0.8449277281761169,
          14.740754127502441,
          -8.783528327941895,
          -5.672906398773193,
          11.656509399414062,
          16.358530044555664,
          -1.9573588371276855,
          6.712807655334473,
          3.0840535163879395,
          -13.883708000183105,
          -12.888720512390137,
          -10.28029727935791,
          0.9208197593688965,
          0.7475444078445435,
          0.7858155965805054,
          7.650232791900635,
          3.514333486557007,
          -4.931951522827148,
          -9.550544738769531,
          0.5912551879882812,
          12.161532402038574,
          8.61154842376709,
          11.541268348693848,
          1.381990909576416,
          -8.273711204528809,
          -5.634474754333496,
          4.502866268157959,
          18.76874351501465,
          -0.6624987721443176,
          -4.3085551261901855,
          -2.7320430278778076,
          -1.2953574657440186,
          5.604221820831299,
          -6.9964599609375,
          -12.183609008789062,
          -2.2770631313323975,
          6.277285099029541,
          0.46591416001319885,
          4.126852035522461,
          1.1737654209136963,
          12.39777946472168,
          -10.168451309204102,
          8.049995422363281,
          -1.2183527946472168,
          -8.332545280456543,
          17.627063751220703,
          -10.780438423156738,
          7.170070648193359,
          11.025080680847168,
          1.4089733362197876
         ],
         "yaxis": "y"
        },
        {
         "hovertemplate": "activity=1<br>set=test<br>x=%{x}<br>y=%{y}<extra></extra>",
         "legendgroup": "1, test",
         "marker": {
          "color": "rgb(102,166,30)",
          "symbol": "diamond"
         },
         "mode": "markers",
         "name": "1, test",
         "orientation": "v",
         "showlegend": true,
         "type": "scatter",
         "x": [
          1.4421992301940918,
          8.24313735961914,
          2.778297185897827,
          -10.999693870544434,
          -8.076285362243652,
          -18.905031204223633,
          16.508249282836914,
          -3.8535003662109375,
          1.16573166847229,
          22.061229705810547,
          -15.588318824768066,
          6.411561965942383,
          -18.85281753540039,
          -18.923051834106445,
          0.2449914515018463,
          20.24736213684082,
          22.112627029418945,
          -9.245363235473633,
          -17.598873138427734,
          12.469893455505371,
          -18.954235076904297,
          -24.893287658691406,
          -0.2537650167942047,
          -12.380253791809082,
          -0.377349317073822,
          14.11064338684082,
          -24.58379364013672,
          -4.822605133056641,
          23.84823989868164,
          22.117111206054688,
          -25.491918563842773,
          5.1974968910217285,
          -4.062424182891846,
          9.849030494689941,
          21.024768829345703,
          -11.43796157836914,
          19.378263473510742,
          21.980382919311523,
          13.981932640075684,
          -0.2801254093647003,
          -3.7741329669952393,
          12.011716842651367,
          12.063261032104492,
          11.090242385864258,
          -16.229534149169922,
          0.5090738534927368,
          -6.454920768737793,
          21.829498291015625,
          -9.533822059631348,
          12.950599670410156,
          -4.626248359680176,
          4.574610233306885,
          4.99582052230835,
          -16.414907455444336,
          -7.966259479522705,
          4.481583118438721,
          10.270244598388672,
          9.874767303466797,
          11.835321426391602,
          8.315356254577637,
          3.901268482208252,
          17.887149810791016,
          -8.007601737976074,
          11.70319938659668
         ],
         "xaxis": "x",
         "y": [
          6.02862024307251,
          10.491168975830078,
          6.157894611358643,
          -3.5477101802825928,
          12.192222595214844,
          -0.5973227620124817,
          3.761425733566284,
          1.3842700719833374,
          -6.090897083282471,
          -5.027286052703857,
          -8.24365520477295,
          -16.165237426757812,
          -11.117769241333008,
          2.2709333896636963,
          3.3194286823272705,
          14.495344161987305,
          2.4936254024505615,
          -8.264463424682617,
          3.543470621109009,
          6.64646053314209,
          -7.111905574798584,
          -1.9913619756698608,
          -15.002931594848633,
          -3.5275259017944336,
          6.363773822784424,
          13.707697868347168,
          -0.18740689754486084,
          0.9666685461997986,
          5.347238063812256,
          10.85491943359375,
          -3.2881760597229004,
          -0.963912844657898,
          -13.78470230102539,
          3.3324027061462402,
          -5.419122695922852,
          -2.7422432899475098,
          4.661110877990723,
          13.474211692810059,
          2.627016544342041,
          7.01333475112915,
          5.665640830993652,
          11.32529354095459,
          10.619468688964844,
          -5.841859817504883,
          -3.9107253551483154,
          -1.3058522939682007,
          2.6311323642730713,
          -4.306887149810791,
          -3.2574572563171387,
          17.157732009887695,
          -8.940382957458496,
          6.021538734436035,
          -7.958771705627441,
          4.625211238861084,
          8.743745803833008,
          -2.240705728530884,
          4.163300514221191,
          -8.201297760009766,
          2.299427032470703,
          0.14526371657848358,
          5.459064483642578,
          8.038485527038574,
          12.16736888885498,
          2.435776472091675
         ],
         "yaxis": "y"
        },
        {
         "hovertemplate": "activity=0<br>set=train<br>x=%{x}<br>y=%{y}<extra></extra>",
         "legendgroup": "0, train",
         "marker": {
          "color": "rgb(231,41,138)",
          "symbol": "circle"
         },
         "mode": "markers",
         "name": "0, train",
         "orientation": "v",
         "showlegend": true,
         "type": "scatter",
         "x": [
          3.8573813438415527,
          -18.02951431274414,
          3.310899257659912,
          -17.327959060668945,
          6.2773847579956055,
          7.34939432144165,
          -16.758865356445312,
          2.214402198791504,
          -13.5902681350708,
          15.318328857421875,
          -2.342207670211792,
          11.395378112792969,
          -19.582361221313477,
          -12.441420555114746,
          -6.446879863739014,
          -17.84996795654297,
          -2.8775153160095215,
          -1.9148129224777222,
          6.976873874664307,
          2.28364896774292,
          -9.5619535446167,
          -0.8137667179107666,
          1.621302843093872,
          3.4376866817474365,
          2.514237403869629,
          -6.927132606506348,
          3.665156364440918,
          -2.973961114883423,
          -16.935976028442383,
          8.43541145324707,
          -0.09193588048219681,
          7.045299053192139,
          0.5938785672187805,
          -7.793825626373291,
          12.548949241638184,
          14.69139289855957,
          -18.57489585876465,
          2.4382622241973877,
          4.49609899520874,
          -13.80059814453125,
          -11.669304847717285,
          19.714494705200195,
          -14.261893272399902,
          -12.916036605834961,
          24.98760986328125,
          -16.281003952026367,
          -14.37116813659668,
          -15.443495750427246,
          -0.2820326089859009,
          18.78224754333496,
          -9.164979934692383,
          -4.147943019866943,
          -4.6940531730651855,
          -9.255502700805664,
          10.562749862670898,
          19.223896026611328,
          -21.128173828125,
          10.460736274719238,
          -20.60028839111328,
          -12.948800086975098,
          -5.956901550292969,
          -21.744150161743164,
          -20.40921401977539,
          -21.682722091674805,
          8.160231590270996,
          -23.531719207763672,
          -17.63133430480957,
          -5.219635009765625,
          -1.9373576641082764,
          -21.330659866333008,
          24.001140594482422,
          0.5096412897109985,
          -16.334617614746094,
          14.38403034210205,
          15.543449401855469,
          -15.190731048583984,
          -8.382379531860352,
          11.519420623779297,
          17.104951858520508,
          -26.318859100341797,
          -10.590245246887207,
          1.6964874267578125,
          4.505607604980469,
          -5.0826096534729,
          4.067303657531738,
          -14.763415336608887,
          -5.74704647064209,
          18.692663192749023,
          18.656085968017578,
          10.273710250854492,
          1.31067955493927,
          -0.5644674301147461,
          5.578766345977783,
          -19.716699600219727,
          -2.51456880569458,
          6.088883399963379,
          -21.12544059753418,
          0.9446784853935242,
          8.14609432220459,
          -3.7495172023773193,
          7.837682723999023,
          10.178001403808594,
          -1.2479575872421265,
          3.506059408187866,
          -20.6442813873291,
          -16.51178741455078,
          4.664651870727539,
          -13.996706008911133,
          -16.688796997070312,
          14.108538627624512,
          -0.7614114284515381,
          -21.891199111938477,
          3.1689374446868896,
          9.018583297729492,
          -13.105106353759766,
          6.657398223876953,
          -12.13012981414795,
          10.230558395385742,
          22.068544387817383,
          22.518505096435547,
          7.204379558563232,
          -11.144034385681152,
          5.604965686798096,
          -21.637054443359375,
          12.809712409973145,
          -15.062217712402344,
          9.335741996765137,
          1.4519861936569214,
          3.6258387565612793,
          10.769262313842773,
          22.454740524291992,
          10.243461608886719,
          -13.812410354614258,
          -4.683533191680908,
          14.367319107055664,
          -7.686065196990967,
          0.6947547793388367,
          -18.381179809570312,
          5.002822399139404,
          16.425918579101562,
          -24.987667083740234,
          -21.429763793945312,
          -22.08509635925293,
          -6.425776481628418,
          7.144383430480957,
          4.295164585113525,
          7.057757377624512,
          16.563745498657227,
          21.858537673950195,
          -1.092342495918274,
          -19.269290924072266,
          -24.248083114624023,
          -22.57565689086914,
          -19.11330795288086,
          14.815916061401367,
          -12.425407409667969,
          -20.536376953125,
          -6.58923864364624,
          5.334482192993164,
          -10.097737312316895,
          -21.481998443603516,
          1.9102708101272583,
          -16.869932174682617,
          19.534515380859375,
          2.0694947242736816,
          4.262408256530762,
          -23.575164794921875,
          4.904870510101318,
          2.0572338104248047,
          -10.463544845581055,
          5.742730617523193,
          -6.2969889640808105,
          -20.618297576904297,
          -18.951622009277344,
          -2.175083637237549,
          -2.405139923095703,
          -22.56474494934082,
          -25.364980697631836,
          15.033703804016113,
          2.748479127883911,
          -15.879971504211426,
          6.239213466644287,
          -15.341967582702637,
          -16.516014099121094,
          10.439567565917969,
          -9.648650169372559,
          6.793302059173584,
          2.8729066848754883,
          0.19323883950710297,
          1.5244922637939453,
          11.97420883178711,
          14.42981243133545,
          25.491453170776367,
          18.148733139038086,
          15.39721393585205,
          2.7040040493011475,
          -4.184320449829102,
          -8.083205223083496,
          -19.385196685791016,
          1.3723453283309937,
          -19.183109283447266,
          14.773773193359375,
          -19.935665130615234,
          -26.309213638305664,
          -15.186922073364258,
          7.842569828033447,
          -12.845877647399902,
          -8.418469429016113,
          -5.218413352966309,
          -4.871435642242432,
          -2.2342796325683594,
          -21.74690818786621,
          7.732004165649414,
          9.209712028503418,
          16.393234252929688,
          21.251008987426758,
          -15.003278732299805,
          -17.043649673461914,
          16.16897201538086,
          25.417898178100586,
          14.883703231811523,
          2.2830142974853516,
          -1.4398356676101685,
          4.537893295288086,
          8.283442497253418,
          -4.243449687957764,
          -1.1624970436096191,
          21.975116729736328,
          -9.586857795715332,
          15.535812377929688,
          9.929605484008789,
          -1.443880319595337,
          -10.952605247497559,
          10.059454917907715,
          -22.60765266418457,
          -17.649829864501953,
          -4.633743762969971,
          -7.44446325302124,
          25.466554641723633,
          -23.308780670166016,
          13.358460426330566,
          -18.653642654418945,
          5.467452049255371,
          0.14906220138072968,
          20.081140518188477,
          -3.3473963737487793,
          17.762523651123047,
          -13.994192123413086,
          -14.016572952270508,
          -18.148847579956055,
          -15.360554695129395,
          9.505926132202148,
          -9.800907135009766,
          -16.696922302246094,
          8.590069770812988,
          18.462158203125,
          13.749114036560059,
          -2.8647351264953613,
          -3.709371328353882
         ],
         "xaxis": "x",
         "y": [
          3.277592182159424,
          7.1364946365356445,
          -8.64549446105957,
          -5.174545764923096,
          7.29827356338501,
          -2.7728095054626465,
          -0.7084457874298096,
          2.208265542984009,
          -2.7603986263275146,
          8.087428092956543,
          -6.176472187042236,
          -1.3309310674667358,
          -6.059988021850586,
          -8.330344200134277,
          4.256176948547363,
          2.148643732070923,
          -8.303869247436523,
          -7.3409504890441895,
          -0.7048661708831787,
          -16.733884811401367,
          0.6742191314697266,
          -1.838071346282959,
          11.8605375289917,
          -7.084435939788818,
          1.6085031032562256,
          7.444964408874512,
          14.695719718933105,
          -5.270116806030273,
          -1.4537019729614258,
          -2.7949156761169434,
          -14.962101936340332,
          -14.869051933288574,
          -0.4255138039588928,
          -3.1891400814056396,
          3.01547908782959,
          11.491641998291016,
          -4.157964706420898,
          -11.248589515686035,
          1.6040934324264526,
          6.512564182281494,
          -5.219979763031006,
          9.685272216796875,
          1.683101773262024,
          -0.3600795865058899,
          3.946464776992798,
          -5.259815692901611,
          2.107170343399048,
          1.8613691329956055,
          -6.362990856170654,
          6.384089946746826,
          -5.671748638153076,
          -1.1438689231872559,
          -7.032593727111816,
          -2.106731414794922,
          0.35964807868003845,
          1.1505491733551025,
          2.1503796577453613,
          -5.3586225509643555,
          -7.752788543701172,
          -3.072965621948242,
          -3.551949977874756,
          -9.527210235595703,
          -10.805291175842285,
          3.0292181968688965,
          -4.502463340759277,
          -2.84232759475708,
          -6.978933811187744,
          -3.704193592071533,
          -0.3338572382926941,
          -5.668728828430176,
          5.301733016967773,
          -7.526033401489258,
          -3.8281686305999756,
          7.2250189781188965,
          6.536769390106201,
          -13.250779151916504,
          -10.545300483703613,
          6.983084678649902,
          4.968626499176025,
          -1.7762417793273926,
          5.24028205871582,
          6.945326805114746,
          -5.910943031311035,
          -2.5239956378936768,
          -4.456545352935791,
          -11.654440879821777,
          -4.056935787200928,
          1.6010253429412842,
          -1.8910832405090332,
          18.88651466369629,
          -16.12026596069336,
          -3.5464670658111572,
          10.983868598937988,
          -3.681760311126709,
          -1.6789370775222778,
          2.4972574710845947,
          -9.257052421569824,
          -10.213756561279297,
          -6.093842506408691,
          11.607222557067871,
          6.5841803550720215,
          1.4237912893295288,
          -7.4118523597717285,
          9.832408905029297,
          -4.775018692016602,
          -2.7813632488250732,
          3.9212543964385986,
          0.1322745680809021,
          -8.607206344604492,
          4.034467697143555,
          2.8845748901367188,
          -4.6049299240112305,
          4.723927021026611,
          4.727513790130615,
          2.6199305057525635,
          -5.012753486633301,
          5.5463738441467285,
          7.864828586578369,
          -5.139186382293701,
          -2.259960174560547,
          -2.8068017959594727,
          -7.812104225158691,
          -14.267242431640625,
          0.5883921980857849,
          -1.012516975402832,
          0.04784240946173668,
          -8.389925003051758,
          -8.633464813232422,
          10.710380554199219,
          -11.022697448730469,
          7.741342544555664,
          8.019479751586914,
          -3.69814395904541,
          -1.8510332107543945,
          4.776750564575195,
          1.4462411403656006,
          -11.017534255981445,
          -1.6563680171966553,
          0.8237097263336182,
          7.4732160568237305,
          -6.006083965301514,
          -1.9933832883834839,
          -8.120551109313965,
          -7.076378345489502,
          4.130632400512695,
          5.9171881675720215,
          -8.061288833618164,
          4.8373188972473145,
          8.906001091003418,
          10.058550834655762,
          -1.7674816846847534,
          -1.9208170175552368,
          4.788205623626709,
          -3.9210622310638428,
          5.3713579177856445,
          -1.6525317430496216,
          -4.897652626037598,
          5.4110798835754395,
          -2.0121474266052246,
          -0.23287740349769592,
          -6.377721309661865,
          4.427557945251465,
          -5.942980766296387,
          6.922774314880371,
          7.768721103668213,
          -4.5124053955078125,
          -1.2741438150405884,
          2.2113959789276123,
          4.735450267791748,
          6.495768070220947,
          4.207543849945068,
          1.2644639015197754,
          -1.1621804237365723,
          -3.093947172164917,
          -8.81524658203125,
          -3.361725091934204,
          1.121078372001648,
          -3.800807476043701,
          -7.249898910522461,
          9.303389549255371,
          -5.034387588500977,
          -4.492429733276367,
          -0.7583198547363281,
          0.11819586902856827,
          4.823858261108398,
          2.796306848526001,
          -14.249500274658203,
          -4.6609601974487305,
          -11.438664436340332,
          5.793496608734131,
          -6.271147727966309,
          -4.942808628082275,
          10.749517440795898,
          2.920593738555908,
          5.198491096496582,
          15.351954460144043,
          7.542825698852539,
          -13.408761978149414,
          -8.809112548828125,
          -11.24060344696045,
          -1.7321949005126953,
          6.471943378448486,
          0.8056147694587708,
          -0.1782076507806778,
          -13.091075897216797,
          9.065011978149414,
          0.058492548763751984,
          -6.302954196929932,
          4.540668487548828,
          5.967838764190674,
          -1.3399736881256104,
          -0.7957221865653992,
          -4.002204895019531,
          6.29796838760376,
          6.085394382476807,
          -5.65691614151001,
          3.7899422645568848,
          -7.98859167098999,
          -1.2749030590057373,
          4.590055465698242,
          -2.975040912628174,
          -7.251585006713867,
          5.2857985496521,
          0.7097668051719666,
          -1.467995524406433,
          -12.703010559082031,
          -4.38901948928833,
          4.1096038818359375,
          -3.4993810653686523,
          -1.9599660634994507,
          -3.0962612628936768,
          0.24798355996608734,
          2.3191516399383545,
          -0.6478557586669922,
          -0.9839413166046143,
          -5.683189868927002,
          4.906377792358398,
          -4.716590881347656,
          8.709223747253418,
          5.103849411010742,
          10.686079025268555,
          -4.39595365524292,
          8.914590835571289,
          4.816272258758545,
          7.2014007568359375,
          -12.27381706237793,
          6.657277584075928,
          4.454092979431152,
          -1.185241460800171,
          -8.829216957092285,
          -11.09321403503418,
          -6.301514148712158,
          -4.339913845062256,
          1.4695301055908203,
          8.808640480041504,
          5.286761283874512,
          7.16022253036499,
          4.136685371398926,
          -12.741700172424316
         ],
         "yaxis": "y"
        },
        {
         "hovertemplate": "activity=0<br>set=test<br>x=%{x}<br>y=%{y}<extra></extra>",
         "legendgroup": "0, test",
         "marker": {
          "color": "rgb(231,41,138)",
          "symbol": "diamond"
         },
         "mode": "markers",
         "name": "0, test",
         "orientation": "v",
         "showlegend": true,
         "type": "scatter",
         "x": [
          17.669538497924805,
          -23.845645904541016,
          -8.090435028076172,
          -1.0250500440597534,
          -20.12175750732422,
          2.2509233951568604,
          4.968871593475342,
          -4.293921947479248,
          -9.470709800720215,
          -21.433015823364258,
          -18.777353286743164,
          -1.4543787240982056,
          8.330676078796387,
          -2.604947805404663,
          -10.193504333496094,
          15.596183776855469,
          -0.46665024757385254,
          6.9600653648376465,
          9.710895538330078,
          2.237544059753418,
          -12.42106819152832,
          16.346797943115234,
          15.71473503112793,
          -14.523480415344238,
          8.680174827575684,
          -3.4847991466522217,
          10.852273941040039,
          -26.21302032470703,
          11.025264739990234,
          -11.869126319885254,
          -11.331440925598145,
          -2.372831106185913,
          -17.913721084594727,
          -14.156481742858887,
          -22.293962478637695,
          -12.14587116241455,
          -14.714990615844727,
          0.7613471150398254,
          3.4811012744903564,
          -3.0735676288604736,
          -9.879155158996582,
          -13.5595064163208,
          8.21010684967041,
          1.6814463138580322,
          -22.23478889465332,
          19.83272361755371,
          -23.672616958618164,
          6.176956653594971,
          5.1717305183410645,
          1.58503258228302,
          3.6984305381774902,
          10.109434127807617,
          0.39975446462631226,
          -3.589320421218872,
          -3.21907901763916,
          -4.45097017288208,
          -15.180081367492676,
          -3.95259952545166,
          -0.09890604764223099,
          0.690945029258728,
          -1.0397192239761353,
          -7.599356651306152,
          -16.5344295501709,
          -21.224817276000977,
          2.028817653656006
         ],
         "xaxis": "x",
         "y": [
          3.794755458831787,
          -8.222853660583496,
          -2.3312249183654785,
          -8.719722747802734,
          -3.035842180252075,
          4.359710693359375,
          -4.252470970153809,
          3.387511968612671,
          2.3117053508758545,
          -0.983200192451477,
          -0.15837687253952026,
          -9.739760398864746,
          3.1675033569335938,
          -10.92738151550293,
          -2.4254117012023926,
          0.7865921854972839,
          -8.498456954956055,
          2.174470901489258,
          -0.8898538947105408,
          -3.386892080307007,
          -4.384322643280029,
          -3.1733999252319336,
          4.364859580993652,
          -4.832280158996582,
          14.088160514831543,
          -11.060333251953125,
          5.520390510559082,
          -2.1419262886047363,
          -3.932746171951294,
          1.1677607297897339,
          -1.8139736652374268,
          -3.693908452987671,
          1.0639374256134033,
          4.993468761444092,
          -6.3300299644470215,
          -2.254362106323242,
          -8.447876930236816,
          0.20390796661376953,
          9.863601684570312,
          -3.0079402923583984,
          2.0174639225006104,
          5.866922855377197,
          0.6261993646621704,
          -8.605680465698242,
          -4.844186782836914,
          4.965881824493408,
          -7.858912467956543,
          -15.99758529663086,
          -14.612686157226562,
          9.827448844909668,
          14.628852844238281,
          18.730411529541016,
          -3.978822708129883,
          -13.029326438903809,
          -7.070923805236816,
          -2.809878349304199,
          -5.694580554962158,
          -11.81839370727539,
          3.0364818572998047,
          6.9842658042907715,
          -5.417588233947754,
          1.407192349433899,
          -9.452256202697754,
          4.547368049621582,
          -16.607147216796875
         ],
         "yaxis": "y"
        }
       ],
       "layout": {
        "legend": {
         "title": {
          "text": "activity, set"
         },
         "tracegroupgap": 0
        },
        "template": {
         "data": {
          "bar": [
           {
            "error_x": {
             "color": "#2a3f5f"
            },
            "error_y": {
             "color": "#2a3f5f"
            },
            "marker": {
             "line": {
              "color": "#E5ECF6",
              "width": 0.5
             },
             "pattern": {
              "fillmode": "overlay",
              "size": 10,
              "solidity": 0.2
             }
            },
            "type": "bar"
           }
          ],
          "barpolar": [
           {
            "marker": {
             "line": {
              "color": "#E5ECF6",
              "width": 0.5
             },
             "pattern": {
              "fillmode": "overlay",
              "size": 10,
              "solidity": 0.2
             }
            },
            "type": "barpolar"
           }
          ],
          "carpet": [
           {
            "aaxis": {
             "endlinecolor": "#2a3f5f",
             "gridcolor": "white",
             "linecolor": "white",
             "minorgridcolor": "white",
             "startlinecolor": "#2a3f5f"
            },
            "baxis": {
             "endlinecolor": "#2a3f5f",
             "gridcolor": "white",
             "linecolor": "white",
             "minorgridcolor": "white",
             "startlinecolor": "#2a3f5f"
            },
            "type": "carpet"
           }
          ],
          "choropleth": [
           {
            "colorbar": {
             "outlinewidth": 0,
             "ticks": ""
            },
            "type": "choropleth"
           }
          ],
          "contour": [
           {
            "colorbar": {
             "outlinewidth": 0,
             "ticks": ""
            },
            "colorscale": [
             [
              0,
              "#0d0887"
             ],
             [
              0.1111111111111111,
              "#46039f"
             ],
             [
              0.2222222222222222,
              "#7201a8"
             ],
             [
              0.3333333333333333,
              "#9c179e"
             ],
             [
              0.4444444444444444,
              "#bd3786"
             ],
             [
              0.5555555555555556,
              "#d8576b"
             ],
             [
              0.6666666666666666,
              "#ed7953"
             ],
             [
              0.7777777777777778,
              "#fb9f3a"
             ],
             [
              0.8888888888888888,
              "#fdca26"
             ],
             [
              1,
              "#f0f921"
             ]
            ],
            "type": "contour"
           }
          ],
          "contourcarpet": [
           {
            "colorbar": {
             "outlinewidth": 0,
             "ticks": ""
            },
            "type": "contourcarpet"
           }
          ],
          "heatmap": [
           {
            "colorbar": {
             "outlinewidth": 0,
             "ticks": ""
            },
            "colorscale": [
             [
              0,
              "#0d0887"
             ],
             [
              0.1111111111111111,
              "#46039f"
             ],
             [
              0.2222222222222222,
              "#7201a8"
             ],
             [
              0.3333333333333333,
              "#9c179e"
             ],
             [
              0.4444444444444444,
              "#bd3786"
             ],
             [
              0.5555555555555556,
              "#d8576b"
             ],
             [
              0.6666666666666666,
              "#ed7953"
             ],
             [
              0.7777777777777778,
              "#fb9f3a"
             ],
             [
              0.8888888888888888,
              "#fdca26"
             ],
             [
              1,
              "#f0f921"
             ]
            ],
            "type": "heatmap"
           }
          ],
          "heatmapgl": [
           {
            "colorbar": {
             "outlinewidth": 0,
             "ticks": ""
            },
            "colorscale": [
             [
              0,
              "#0d0887"
             ],
             [
              0.1111111111111111,
              "#46039f"
             ],
             [
              0.2222222222222222,
              "#7201a8"
             ],
             [
              0.3333333333333333,
              "#9c179e"
             ],
             [
              0.4444444444444444,
              "#bd3786"
             ],
             [
              0.5555555555555556,
              "#d8576b"
             ],
             [
              0.6666666666666666,
              "#ed7953"
             ],
             [
              0.7777777777777778,
              "#fb9f3a"
             ],
             [
              0.8888888888888888,
              "#fdca26"
             ],
             [
              1,
              "#f0f921"
             ]
            ],
            "type": "heatmapgl"
           }
          ],
          "histogram": [
           {
            "marker": {
             "pattern": {
              "fillmode": "overlay",
              "size": 10,
              "solidity": 0.2
             }
            },
            "type": "histogram"
           }
          ],
          "histogram2d": [
           {
            "colorbar": {
             "outlinewidth": 0,
             "ticks": ""
            },
            "colorscale": [
             [
              0,
              "#0d0887"
             ],
             [
              0.1111111111111111,
              "#46039f"
             ],
             [
              0.2222222222222222,
              "#7201a8"
             ],
             [
              0.3333333333333333,
              "#9c179e"
             ],
             [
              0.4444444444444444,
              "#bd3786"
             ],
             [
              0.5555555555555556,
              "#d8576b"
             ],
             [
              0.6666666666666666,
              "#ed7953"
             ],
             [
              0.7777777777777778,
              "#fb9f3a"
             ],
             [
              0.8888888888888888,
              "#fdca26"
             ],
             [
              1,
              "#f0f921"
             ]
            ],
            "type": "histogram2d"
           }
          ],
          "histogram2dcontour": [
           {
            "colorbar": {
             "outlinewidth": 0,
             "ticks": ""
            },
            "colorscale": [
             [
              0,
              "#0d0887"
             ],
             [
              0.1111111111111111,
              "#46039f"
             ],
             [
              0.2222222222222222,
              "#7201a8"
             ],
             [
              0.3333333333333333,
              "#9c179e"
             ],
             [
              0.4444444444444444,
              "#bd3786"
             ],
             [
              0.5555555555555556,
              "#d8576b"
             ],
             [
              0.6666666666666666,
              "#ed7953"
             ],
             [
              0.7777777777777778,
              "#fb9f3a"
             ],
             [
              0.8888888888888888,
              "#fdca26"
             ],
             [
              1,
              "#f0f921"
             ]
            ],
            "type": "histogram2dcontour"
           }
          ],
          "mesh3d": [
           {
            "colorbar": {
             "outlinewidth": 0,
             "ticks": ""
            },
            "type": "mesh3d"
           }
          ],
          "parcoords": [
           {
            "line": {
             "colorbar": {
              "outlinewidth": 0,
              "ticks": ""
             }
            },
            "type": "parcoords"
           }
          ],
          "pie": [
           {
            "automargin": true,
            "type": "pie"
           }
          ],
          "scatter": [
           {
            "fillpattern": {
             "fillmode": "overlay",
             "size": 10,
             "solidity": 0.2
            },
            "type": "scatter"
           }
          ],
          "scatter3d": [
           {
            "line": {
             "colorbar": {
              "outlinewidth": 0,
              "ticks": ""
             }
            },
            "marker": {
             "colorbar": {
              "outlinewidth": 0,
              "ticks": ""
             }
            },
            "type": "scatter3d"
           }
          ],
          "scattercarpet": [
           {
            "marker": {
             "colorbar": {
              "outlinewidth": 0,
              "ticks": ""
             }
            },
            "type": "scattercarpet"
           }
          ],
          "scattergeo": [
           {
            "marker": {
             "colorbar": {
              "outlinewidth": 0,
              "ticks": ""
             }
            },
            "type": "scattergeo"
           }
          ],
          "scattergl": [
           {
            "marker": {
             "colorbar": {
              "outlinewidth": 0,
              "ticks": ""
             }
            },
            "type": "scattergl"
           }
          ],
          "scattermapbox": [
           {
            "marker": {
             "colorbar": {
              "outlinewidth": 0,
              "ticks": ""
             }
            },
            "type": "scattermapbox"
           }
          ],
          "scatterpolar": [
           {
            "marker": {
             "colorbar": {
              "outlinewidth": 0,
              "ticks": ""
             }
            },
            "type": "scatterpolar"
           }
          ],
          "scatterpolargl": [
           {
            "marker": {
             "colorbar": {
              "outlinewidth": 0,
              "ticks": ""
             }
            },
            "type": "scatterpolargl"
           }
          ],
          "scatterternary": [
           {
            "marker": {
             "colorbar": {
              "outlinewidth": 0,
              "ticks": ""
             }
            },
            "type": "scatterternary"
           }
          ],
          "surface": [
           {
            "colorbar": {
             "outlinewidth": 0,
             "ticks": ""
            },
            "colorscale": [
             [
              0,
              "#0d0887"
             ],
             [
              0.1111111111111111,
              "#46039f"
             ],
             [
              0.2222222222222222,
              "#7201a8"
             ],
             [
              0.3333333333333333,
              "#9c179e"
             ],
             [
              0.4444444444444444,
              "#bd3786"
             ],
             [
              0.5555555555555556,
              "#d8576b"
             ],
             [
              0.6666666666666666,
              "#ed7953"
             ],
             [
              0.7777777777777778,
              "#fb9f3a"
             ],
             [
              0.8888888888888888,
              "#fdca26"
             ],
             [
              1,
              "#f0f921"
             ]
            ],
            "type": "surface"
           }
          ],
          "table": [
           {
            "cells": {
             "fill": {
              "color": "#EBF0F8"
             },
             "line": {
              "color": "white"
             }
            },
            "header": {
             "fill": {
              "color": "#C8D4E3"
             },
             "line": {
              "color": "white"
             }
            },
            "type": "table"
           }
          ]
         },
         "layout": {
          "annotationdefaults": {
           "arrowcolor": "#2a3f5f",
           "arrowhead": 0,
           "arrowwidth": 1
          },
          "autotypenumbers": "strict",
          "coloraxis": {
           "colorbar": {
            "outlinewidth": 0,
            "ticks": ""
           }
          },
          "colorscale": {
           "diverging": [
            [
             0,
             "#8e0152"
            ],
            [
             0.1,
             "#c51b7d"
            ],
            [
             0.2,
             "#de77ae"
            ],
            [
             0.3,
             "#f1b6da"
            ],
            [
             0.4,
             "#fde0ef"
            ],
            [
             0.5,
             "#f7f7f7"
            ],
            [
             0.6,
             "#e6f5d0"
            ],
            [
             0.7,
             "#b8e186"
            ],
            [
             0.8,
             "#7fbc41"
            ],
            [
             0.9,
             "#4d9221"
            ],
            [
             1,
             "#276419"
            ]
           ],
           "sequential": [
            [
             0,
             "#0d0887"
            ],
            [
             0.1111111111111111,
             "#46039f"
            ],
            [
             0.2222222222222222,
             "#7201a8"
            ],
            [
             0.3333333333333333,
             "#9c179e"
            ],
            [
             0.4444444444444444,
             "#bd3786"
            ],
            [
             0.5555555555555556,
             "#d8576b"
            ],
            [
             0.6666666666666666,
             "#ed7953"
            ],
            [
             0.7777777777777778,
             "#fb9f3a"
            ],
            [
             0.8888888888888888,
             "#fdca26"
            ],
            [
             1,
             "#f0f921"
            ]
           ],
           "sequentialminus": [
            [
             0,
             "#0d0887"
            ],
            [
             0.1111111111111111,
             "#46039f"
            ],
            [
             0.2222222222222222,
             "#7201a8"
            ],
            [
             0.3333333333333333,
             "#9c179e"
            ],
            [
             0.4444444444444444,
             "#bd3786"
            ],
            [
             0.5555555555555556,
             "#d8576b"
            ],
            [
             0.6666666666666666,
             "#ed7953"
            ],
            [
             0.7777777777777778,
             "#fb9f3a"
            ],
            [
             0.8888888888888888,
             "#fdca26"
            ],
            [
             1,
             "#f0f921"
            ]
           ]
          },
          "colorway": [
           "#636efa",
           "#EF553B",
           "#00cc96",
           "#ab63fa",
           "#FFA15A",
           "#19d3f3",
           "#FF6692",
           "#B6E880",
           "#FF97FF",
           "#FECB52"
          ],
          "font": {
           "color": "#2a3f5f"
          },
          "geo": {
           "bgcolor": "white",
           "lakecolor": "white",
           "landcolor": "#E5ECF6",
           "showlakes": true,
           "showland": true,
           "subunitcolor": "white"
          },
          "hoverlabel": {
           "align": "left"
          },
          "hovermode": "closest",
          "mapbox": {
           "style": "light"
          },
          "paper_bgcolor": "white",
          "plot_bgcolor": "#E5ECF6",
          "polar": {
           "angularaxis": {
            "gridcolor": "white",
            "linecolor": "white",
            "ticks": ""
           },
           "bgcolor": "#E5ECF6",
           "radialaxis": {
            "gridcolor": "white",
            "linecolor": "white",
            "ticks": ""
           }
          },
          "scene": {
           "xaxis": {
            "backgroundcolor": "#E5ECF6",
            "gridcolor": "white",
            "gridwidth": 2,
            "linecolor": "white",
            "showbackground": true,
            "ticks": "",
            "zerolinecolor": "white"
           },
           "yaxis": {
            "backgroundcolor": "#E5ECF6",
            "gridcolor": "white",
            "gridwidth": 2,
            "linecolor": "white",
            "showbackground": true,
            "ticks": "",
            "zerolinecolor": "white"
           },
           "zaxis": {
            "backgroundcolor": "#E5ECF6",
            "gridcolor": "white",
            "gridwidth": 2,
            "linecolor": "white",
            "showbackground": true,
            "ticks": "",
            "zerolinecolor": "white"
           }
          },
          "shapedefaults": {
           "line": {
            "color": "#2a3f5f"
           }
          },
          "ternary": {
           "aaxis": {
            "gridcolor": "white",
            "linecolor": "white",
            "ticks": ""
           },
           "baxis": {
            "gridcolor": "white",
            "linecolor": "white",
            "ticks": ""
           },
           "bgcolor": "#E5ECF6",
           "caxis": {
            "gridcolor": "white",
            "linecolor": "white",
            "ticks": ""
           }
          },
          "title": {
           "x": 0.05
          },
          "xaxis": {
           "automargin": true,
           "gridcolor": "white",
           "linecolor": "white",
           "ticks": "",
           "title": {
            "standoff": 15
           },
           "zerolinecolor": "white",
           "zerolinewidth": 2
          },
          "yaxis": {
           "automargin": true,
           "gridcolor": "white",
           "linecolor": "white",
           "ticks": "",
           "title": {
            "standoff": 15
           },
           "zerolinecolor": "white",
           "zerolinewidth": 2
          }
         }
        },
        "title": {
         "text": "T-SNE Plot with Train and Test Sets Overlaid of Morphological fingerprint."
        },
        "xaxis": {
         "anchor": "y",
         "domain": [
          0,
          1
         ],
         "title": {
          "text": "x"
         }
        },
        "yaxis": {
         "anchor": "x",
         "domain": [
          0,
          1
         ],
         "title": {
          "text": "y"
         }
        }
       }
      }
     },
     "metadata": {},
     "output_type": "display_data"
    },
    {
     "data": {
      "text/html": [
       "<div>\n",
       "<style scoped>\n",
       "    .dataframe tbody tr th:only-of-type {\n",
       "        vertical-align: middle;\n",
       "    }\n",
       "\n",
       "    .dataframe tbody tr th {\n",
       "        vertical-align: top;\n",
       "    }\n",
       "\n",
       "    .dataframe thead th {\n",
       "        text-align: right;\n",
       "    }\n",
       "</style>\n",
       "<table border=\"1\" class=\"dataframe\">\n",
       "  <thead>\n",
       "    <tr style=\"text-align: right;\">\n",
       "      <th></th>\n",
       "      <th>x</th>\n",
       "      <th>y</th>\n",
       "      <th>activity</th>\n",
       "      <th>set</th>\n",
       "    </tr>\n",
       "  </thead>\n",
       "  <tbody>\n",
       "    <tr>\n",
       "      <th>0</th>\n",
       "      <td>17.039169</td>\n",
       "      <td>8.175418</td>\n",
       "      <td>1</td>\n",
       "      <td>train</td>\n",
       "    </tr>\n",
       "    <tr>\n",
       "      <th>1</th>\n",
       "      <td>3.857381</td>\n",
       "      <td>3.277592</td>\n",
       "      <td>0</td>\n",
       "      <td>train</td>\n",
       "    </tr>\n",
       "    <tr>\n",
       "      <th>2</th>\n",
       "      <td>-18.029514</td>\n",
       "      <td>7.136495</td>\n",
       "      <td>0</td>\n",
       "      <td>train</td>\n",
       "    </tr>\n",
       "    <tr>\n",
       "      <th>3</th>\n",
       "      <td>16.488791</td>\n",
       "      <td>-7.566903</td>\n",
       "      <td>1</td>\n",
       "      <td>train</td>\n",
       "    </tr>\n",
       "    <tr>\n",
       "      <th>4</th>\n",
       "      <td>3.310899</td>\n",
       "      <td>-8.645494</td>\n",
       "      <td>0</td>\n",
       "      <td>train</td>\n",
       "    </tr>\n",
       "    <tr>\n",
       "      <th>...</th>\n",
       "      <td>...</td>\n",
       "      <td>...</td>\n",
       "      <td>...</td>\n",
       "      <td>...</td>\n",
       "    </tr>\n",
       "    <tr>\n",
       "      <th>637</th>\n",
       "      <td>-7.599357</td>\n",
       "      <td>1.407192</td>\n",
       "      <td>0</td>\n",
       "      <td>test</td>\n",
       "    </tr>\n",
       "    <tr>\n",
       "      <th>638</th>\n",
       "      <td>-16.534430</td>\n",
       "      <td>-9.452256</td>\n",
       "      <td>0</td>\n",
       "      <td>test</td>\n",
       "    </tr>\n",
       "    <tr>\n",
       "      <th>639</th>\n",
       "      <td>-21.224817</td>\n",
       "      <td>4.547368</td>\n",
       "      <td>0</td>\n",
       "      <td>test</td>\n",
       "    </tr>\n",
       "    <tr>\n",
       "      <th>640</th>\n",
       "      <td>11.703199</td>\n",
       "      <td>2.435776</td>\n",
       "      <td>1</td>\n",
       "      <td>test</td>\n",
       "    </tr>\n",
       "    <tr>\n",
       "      <th>641</th>\n",
       "      <td>2.028818</td>\n",
       "      <td>-16.607147</td>\n",
       "      <td>0</td>\n",
       "      <td>test</td>\n",
       "    </tr>\n",
       "  </tbody>\n",
       "</table>\n",
       "<p>642 rows × 4 columns</p>\n",
       "</div>"
      ],
      "text/plain": [
       "             x          y activity    set\n",
       "0    17.039169   8.175418        1  train\n",
       "1     3.857381   3.277592        0  train\n",
       "2   -18.029514   7.136495        0  train\n",
       "3    16.488791  -7.566903        1  train\n",
       "4     3.310899  -8.645494        0  train\n",
       "..         ...        ...      ...    ...\n",
       "637  -7.599357   1.407192        0   test\n",
       "638 -16.534430  -9.452256        0   test\n",
       "639 -21.224817   4.547368        0   test\n",
       "640  11.703199   2.435776        1   test\n",
       "641   2.028818 -16.607147        0   test\n",
       "\n",
       "[642 rows x 4 columns]"
      ]
     },
     "execution_count": 161,
     "metadata": {},
     "output_type": "execute_result"
    }
   ],
   "source": [
    "tsne_plot_activity_set(X_train, X_test, y_train_activities, y_test_activities, \"Morphological\")"
   ]
  },
  {
   "cell_type": "code",
   "execution_count": 162,
   "metadata": {},
   "outputs": [
    {
     "data": {
      "application/vnd.plotly.v1+json": {
       "config": {
        "plotlyServerURL": "https://plot.ly"
       },
       "data": [
        {
         "hovertemplate": "activity=1<br>set=train<br>x=%{x}<br>y=%{y}<extra></extra>",
         "legendgroup": "1, train",
         "marker": {
          "color": "rgb(102,166,30)",
          "symbol": "circle"
         },
         "mode": "markers",
         "name": "1, train",
         "orientation": "v",
         "showlegend": true,
         "type": "scatter",
         "x": [
          23.16411018371582,
          18.197856903076172,
          2.0307059288024902,
          24.164018630981445,
          -3.579380989074707,
          -11.827276229858398,
          -8.269911766052246,
          -5.149953842163086,
          20.928348541259766,
          7.11313009262085,
          -6.370067596435547,
          12.539341926574707,
          1.0028886795043945,
          -6.645956039428711,
          1.8679895401000977,
          -26.232576370239258,
          18.0197811126709,
          -3.997706174850464,
          -0.04668543487787247,
          12.969064712524414,
          -0.6522052884101868,
          19.84762191772461,
          -5.717668056488037,
          -12.48401927947998,
          -13.459410667419434,
          -12.313347816467285,
          17.435806274414062,
          -14.17231559753418,
          -16.012088775634766,
          31.382944107055664,
          4.0997138023376465,
          19.48282814025879,
          0.47310200333595276,
          -25.324663162231445,
          21.022167205810547,
          -10.384331703186035,
          -18.617759704589844,
          3.751866340637207,
          23.711463928222656,
          -9.771353721618652,
          -6.587703704833984,
          14.463764190673828,
          6.874317646026611,
          6.601832866668701,
          -15.049373626708984,
          27.579402923583984,
          -7.184767246246338,
          15.096840858459473,
          8.49442195892334,
          -14.950211524963379,
          -16.2352294921875,
          12.546368598937988,
          -1.4720633029937744,
          18.525827407836914,
          5.692833423614502,
          16.912111282348633,
          17.548601150512695,
          6.494529724121094,
          0.8728967905044556,
          22.717126846313477,
          6.29558801651001,
          6.955827713012695,
          18.197856903076172,
          0.9675351977348328,
          13.103120803833008,
          -25.713363647460938,
          18.989187240600586,
          -5.209784984588623,
          10.135700225830078,
          6.840180397033691,
          -5.9906392097473145,
          -5.411694049835205,
          9.490427017211914,
          4.127232551574707,
          17.698938369750977,
          22.688251495361328,
          -9.51315689086914,
          32.15913009643555,
          21.185937881469727,
          -2.201054811477661,
          -13.372533798217773,
          -6.300588130950928,
          19.954206466674805,
          -3.2342143058776855,
          9.3843412399292,
          5.551928520202637,
          -2.2135801315307617,
          1.1826908588409424,
          -13.781976699829102,
          2.8607475757598877,
          -15.757345199584961,
          -4.7143683433532715,
          24.503135681152344,
          15.399164199829102,
          6.934131145477295,
          -28.848628997802734,
          12.271525382995605,
          -15.340605735778809,
          1.002529501914978,
          15.203932762145996,
          -17.644832611083984,
          5.705244064331055,
          -8.416793823242188,
          -12.458516120910645,
          10.24177360534668,
          7.743785858154297,
          20.764123916625977,
          12.539341926574707,
          -5.6570329666137695,
          -6.586871147155762,
          -3.150021553039551,
          25.495180130004883,
          8.708440780639648,
          0.40828800201416016,
          18.384653091430664,
          19.253263473510742,
          18.8497314453125,
          6.087355136871338,
          18.83584213256836,
          -6.2247514724731445,
          -0.5891554355621338,
          15.937251091003418,
          5.395687103271484,
          -9.401101112365723,
          9.717952728271484,
          -2.6832172870635986,
          18.359949111938477,
          1.6288800239562988,
          23.06262969970703,
          6.496743202209473,
          19.350954055786133,
          25.03327178955078,
          8.521178245544434,
          8.03357219696045,
          12.909966468811035,
          22.551227569580078,
          4.886233329772949,
          -5.438486099243164,
          -15.857673645019531,
          -19.70159912109375,
          -9.953808784484863,
          2.675363540649414,
          3.1519267559051514,
          -5.204549789428711,
          -12.63223934173584,
          9.158933639526367,
          -12.127927780151367,
          7.5629563331604,
          27.58991050720215,
          -6.910557746887207,
          20.069894790649414,
          20.286354064941406,
          17.19564437866211,
          17.752267837524414,
          5.74984884262085,
          -9.775306701660156,
          11.696722984313965,
          3.1443676948547363,
          2.6384129524230957,
          17.895023345947266,
          2.844762086868286,
          -14.793614387512207,
          11.754923820495605,
          -2.7835566997528076,
          7.768329620361328,
          16.36785888671875,
          3.837890863418579,
          9.98440933227539,
          15.381561279296875,
          7.817890644073486,
          -12.652107238769531,
          -11.895638465881348,
          8.548812866210938,
          0.7204462885856628,
          1.2542625665664673,
          -12.274755477905273,
          20.26679801940918,
          -2.4572179317474365,
          -22.25238800048828,
          -19.702091217041016,
          16.110383987426758,
          -9.840767860412598,
          -19.802278518676758,
          5.752575874328613,
          23.087461471557617,
          -26.975833892822266,
          -12.854328155517578,
          24.16168785095215,
          -6.4773783683776855,
          12.50622844696045,
          -15.053552627563477,
          18.889793395996094,
          -5.535773754119873,
          -1.722664475440979,
          -13.340523719787598,
          -2.0064423084259033,
          2.5679128170013428,
          -20.81375503540039,
          -5.9781646728515625,
          -0.7505237460136414,
          -1.2665034532546997,
          2.806448459625244,
          -3.491462230682373,
          2.7419111728668213,
          -8.099617004394531,
          -15.129366874694824,
          -24.508697509765625,
          12.21757984161377,
          20.375070571899414,
          -22.042875289916992,
          -19.66484832763672,
          14.507370948791504,
          16.063974380493164,
          -7.173884868621826,
          0.5191939473152161,
          17.7956485748291,
          -4.924769878387451,
          6.251706600189209,
          -9.39441204071045,
          -9.872710227966309,
          21.7890625,
          4.753928184509277,
          11.328392028808594,
          -1.2344639301300049,
          9.760567665100098,
          17.31270980834961,
          20.073917388916016,
          24.63928985595703,
          -9.213784217834473,
          1.2125670909881592,
          -5.797445774078369,
          7.956811904907227,
          3.943891763687134,
          -0.652996838092804,
          -15.128731727600098,
          -23.19342041015625,
          6.359206199645996,
          9.600493431091309,
          -15.332669258117676,
          5.390563488006592,
          8.11623764038086,
          5.9101762771606445,
          -17.652591705322266,
          11.932814598083496,
          -19.764598846435547,
          3.222738027572632,
          5.962031841278076,
          2.1063122749328613,
          17.003662109375,
          16.677003860473633,
          -27.62069320678711,
          -7.376945495605469,
          1.6813490390777588,
          18.726919174194336
         ],
         "xaxis": "x",
         "y": [
          22.224092483520508,
          37.299217224121094,
          -34.503108978271484,
          -8.215838432312012,
          -17.805770874023438,
          2.3677635192871094,
          16.651782989501953,
          -10.68334674835205,
          34.471492767333984,
          -28.317710876464844,
          3.5151302814483643,
          23.982006072998047,
          -12.256803512573242,
          13.89341926574707,
          19.933868408203125,
          3.4452359676361084,
          20.468111038208008,
          5.964920997619629,
          14.007604598999023,
          7.375177383422852,
          10.388927459716797,
          10.961955070495605,
          -31.279556274414062,
          -13.256007194519043,
          3.5160140991210938,
          -1.6079684495925903,
          35.630069732666016,
          -28.676406860351562,
          6.982496738433838,
          11.22951889038086,
          -17.866802215576172,
          19.31161117553711,
          -0.6762198805809021,
          -4.441728115081787,
          9.406689643859863,
          -3.483569860458374,
          3.463916301727295,
          -29.578340530395508,
          21.388832092285156,
          -13.851940155029297,
          19.91492462158203,
          -6.114424228668213,
          12.960800170898438,
          -28.758052825927734,
          11.25411605834961,
          14.596522331237793,
          -3.722928524017334,
          37.4957389831543,
          16.926759719848633,
          7.872254848480225,
          -6.256892681121826,
          -3.4114112854003906,
          6.179604530334473,
          25.359037399291992,
          26.587608337402344,
          25.466922760009766,
          24.200138092041016,
          12.354612350463867,
          -2.7692363262176514,
          28.88628578186035,
          24.82664680480957,
          -28.0913028717041,
          37.299217224121094,
          -8.552123069763184,
          7.301266670227051,
          -9.574378967285156,
          20.099058151245117,
          14.87971305847168,
          8.348814964294434,
          11.917009353637695,
          29.1743106842041,
          27.56742286682129,
          19.14153289794922,
          7.336116790771484,
          22.987173080444336,
          27.258214950561523,
          13.666831016540527,
          3.944157838821411,
          25.829639434814453,
          -16.11060905456543,
          -5.693178653717041,
          -9.513172149658203,
          30.74043846130371,
          -17.029918670654297,
          1.1645519733428955,
          27.02560043334961,
          -15.922344207763672,
          4.0439887046813965,
          -9.657454490661621,
          -23.41244888305664,
          -26.405895233154297,
          9.269057273864746,
          2.2964742183685303,
          28.53122329711914,
          -11.491586685180664,
          -2.575101375579834,
          10.050814628601074,
          4.900008678436279,
          -12.256922721862793,
          3.1361992359161377,
          18.392377853393555,
          -11.898859977722168,
          -0.7365841269493103,
          -34.411197662353516,
          7.538506507873535,
          -33.4925537109375,
          -3.644653797149658,
          23.982006072998047,
          -18.813608169555664,
          19.91913604736328,
          -22.242855072021484,
          25.551437377929688,
          -3.3307151794433594,
          15.319704055786133,
          -2.265500783920288,
          32.577484130859375,
          24.838367462158203,
          -33.59735870361328,
          31.03070831298828,
          8.527055740356445,
          1.0309425592422485,
          36.325111389160156,
          2.2058310508728027,
          -8.411964416503906,
          17.38585662841797,
          18.955547332763672,
          20.514339447021484,
          31.93366050720215,
          -8.457313537597656,
          26.776878356933594,
          30.304645538330078,
          25.881027221679688,
          -3.944248676300049,
          -13.960881233215332,
          -0.02660945989191532,
          22.49091148376465,
          5.346439361572266,
          -4.892755508422852,
          1.6421566009521484,
          1.3388932943344116,
          -9.623326301574707,
          -9.908390045166016,
          -33.48634338378906,
          -13.30898380279541,
          -0.6079185009002686,
          -5.783458709716797,
          -9.92566204071045,
          0.08426851034164429,
          14.588237762451172,
          -18.28743553161621,
          -16.48678207397461,
          27.525590896606445,
          20.488079071044922,
          39.635623931884766,
          0.9627230763435364,
          0.9144845604896545,
          -14.115668296813965,
          -15.637900352478027,
          3.9661293029785156,
          -3.130565881729126,
          1.4724606275558472,
          8.177696228027344,
          -7.73415994644165,
          11.210021018981934,
          4.899606227874756,
          -28.943025588989258,
          -3.186004161834717,
          12.681629180908203,
          28.52168083190918,
          4.899993896484375,
          -0.019799403846263885,
          17.450599670410156,
          17.648788452148438,
          21.96488380432129,
          -16.882143020629883,
          13.03849983215332,
          -17.29758071899414,
          -22.542552947998047,
          10.500258445739746,
          1.340075969696045,
          -28.733509063720703,
          -1.6128730773925781,
          -2.6938488483428955,
          12.515875816345215,
          -8.446553230285645,
          0.9145071506500244,
          28.85845375061035,
          -8.217823028564453,
          -3.508775472640991,
          -13.81101131439209,
          -2.504152774810791,
          31.910293579101562,
          -22.958026885986328,
          -13.064933776855469,
          -21.780982971191406,
          -3.239295482635498,
          6.536372184753418,
          -3.0738677978515625,
          1.4441392421722412,
          -14.801149368286133,
          -10.233613967895508,
          4.906016826629639,
          -6.036877155303955,
          -23.268211364746094,
          -6.249692440032959,
          -5.552022457122803,
          -18.328527450561523,
          6.618628978729248,
          35.958824157714844,
          -2.578427314758301,
          -12.278731346130371,
          -16.05596160888672,
          36.90105056762695,
          -2.000441789627075,
          22.440210342407227,
          32.15848922729492,
          15.947083473205566,
          9.129290580749512,
          7.921651363372803,
          1.0453102588653564,
          27.37541389465332,
          8.493172645568848,
          -14.025238037109375,
          -16.909076690673828,
          -12.476407051086426,
          25.22435760498047,
          -18.67837905883789,
          27.18301773071289,
          0.32347235083580017,
          3.9824256896972656,
          -15.72983455657959,
          2.4476897716522217,
          3.7251229286193848,
          -6.906153202056885,
          -13.063652038574219,
          -12.864703178405762,
          -20.550613403320312,
          -3.577528953552246,
          10.766196250915527,
          -3.87850284576416,
          -4.811548233032227,
          3.5058679580688477,
          18.375652313232422,
          16.20844268798828,
          -25.446672439575195,
          -0.21899724006652832,
          -25.78333854675293,
          -12.499990463256836,
          36.8621711730957,
          -29.191396713256836,
          -13.489965438842773,
          -5.108955383300781,
          -19.34642791748047,
          37.01151657104492
         ],
         "yaxis": "y"
        },
        {
         "hovertemplate": "activity=1<br>set=test<br>x=%{x}<br>y=%{y}<extra></extra>",
         "legendgroup": "1, test",
         "marker": {
          "color": "rgb(102,166,30)",
          "symbol": "diamond"
         },
         "mode": "markers",
         "name": "1, test",
         "orientation": "v",
         "showlegend": true,
         "type": "scatter",
         "x": [
          9.721086502075195,
          5.5475969314575195,
          0.3953782320022583,
          -15.209793090820312,
          17.73639678955078,
          1.6310999393463135,
          6.119791030883789,
          -19.714345932006836,
          -10.985834121704102,
          -6.841522216796875,
          34.171417236328125,
          -4.538338661193848,
          -15.9072904586792,
          -9.986961364746094,
          -19.22884750366211,
          -7.537900924682617,
          17.81770133972168,
          -0.7850975394248962,
          19.321224212646484,
          -7.878430366516113,
          -22.678050994873047,
          -5.676096439361572,
          -20.330915451049805,
          -1.6109493970870972,
          12.116728782653809,
          2.5091629028320312,
          4.582613468170166,
          -9.543704986572266,
          -0.2588629126548767,
          1.1714541912078857,
          1.562685251235962,
          -11.766557693481445,
          20.5037841796875,
          4.687466621398926,
          6.288968086242676,
          1.9620929956436157,
          -2.986143112182617,
          -12.083806991577148,
          -5.667320728302002,
          -5.157499313354492,
          21.168228149414062,
          -14.224040031433105,
          2.8089425563812256,
          0.31655454635620117,
          -12.018033981323242,
          9.476183891296387,
          -13.002483367919922,
          -12.307343482971191,
          -2.7362377643585205,
          2.7304296493530273,
          2.6254465579986572,
          6.372417449951172,
          31.67569351196289,
          0.5189738273620605,
          14.320574760437012,
          -9.674213409423828,
          -14.858100891113281,
          21.224735260009766,
          12.285904884338379,
          32.170475006103516,
          21.383804321289062,
          10.872884750366211,
          20.82383155822754,
          12.659895896911621
         ],
         "xaxis": "x",
         "y": [
          8.501832962036133,
          1.4572290182113647,
          0.10125784575939178,
          -11.849710464477539,
          37.960548400878906,
          31.93227195739746,
          26.14588737487793,
          -15.826818466186523,
          -18.398962020874023,
          29.832666397094727,
          -4.487030029296875,
          -21.948774337768555,
          27.961837768554688,
          6.4594011306762695,
          6.179523468017578,
          -13.862781524658203,
          39.86775588989258,
          -1.1238138675689697,
          -1.9580801725387573,
          -9.980694770812988,
          -5.5646138191223145,
          -23.100147247314453,
          1.1608905792236328,
          -26.331602096557617,
          16.252946853637695,
          -28.543771743774414,
          -10.66661262512207,
          -1.7529101371765137,
          13.331753730773926,
          -14.009013175964355,
          -0.4742239713668823,
          -6.169117450714111,
          -21.65912628173828,
          -7.004124164581299,
          -2.3840460777282715,
          10.160575866699219,
          7.66064977645874,
          -22.303117752075195,
          -12.032393455505371,
          11.169668197631836,
          27.52637481689453,
          -28.609111785888672,
          -33.88912582397461,
          11.435310363769531,
          -2.491300106048584,
          -1.477486491203308,
          -1.3724524974822998,
          -14.45097827911377,
          9.074088096618652,
          12.492125511169434,
          6.443854808807373,
          -20.58196258544922,
          11.17613697052002,
          22.440309524536133,
          -16.057191848754883,
          3.9240448474884033,
          0.3561912178993225,
          28.072683334350586,
          9.717032432556152,
          3.1903653144836426,
          29.075336456298828,
          -13.5310640335083,
          34.37049865722656,
          8.861395835876465
         ],
         "yaxis": "y"
        },
        {
         "hovertemplate": "activity=0<br>set=train<br>x=%{x}<br>y=%{y}<extra></extra>",
         "legendgroup": "0, train",
         "marker": {
          "color": "rgb(231,41,138)",
          "symbol": "circle"
         },
         "mode": "markers",
         "name": "0, train",
         "orientation": "v",
         "showlegend": true,
         "type": "scatter",
         "x": [
          -20.37395477294922,
          -23.501821517944336,
          -12.001395225524902,
          5.496663570404053,
          -5.334011554718018,
          8.654540061950684,
          -11.596857070922852,
          1.425136685371399,
          -25.508358001708984,
          24.037012100219727,
          -26.03472137451172,
          -23.686744689941406,
          -16.624370574951172,
          20.744260787963867,
          19.938003540039062,
          10.105001449584961,
          -6.9159040451049805,
          -9.141719818115234,
          -8.798484802246094,
          -5.749195575714111,
          18.312158584594727,
          4.113997936248779,
          -25.08047866821289,
          10.793848991394043,
          -3.581731081008911,
          -5.901792049407959,
          -10.115594863891602,
          -0.3920113146305084,
          24.624683380126953,
          6.496087074279785,
          -18.27149772644043,
          -25.974761962890625,
          -12.748108863830566,
          -10.969233512878418,
          27.561304092407227,
          -1.5950144529342651,
          -4.717751502990723,
          2.0199296474456787,
          2.532827615737915,
          -8.144375801086426,
          -12.240262031555176,
          10.660150527954102,
          -9.110918998718262,
          10.960566520690918,
          18.454689025878906,
          -0.1766309291124344,
          -5.389403343200684,
          15.788536071777344,
          -30.491493225097656,
          7.818157196044922,
          0.7593837976455688,
          -4.115979194641113,
          29.39275550842285,
          -8.840225219726562,
          -3.0047452449798584,
          29.522357940673828,
          18.933181762695312,
          19.306303024291992,
          8.185587882995605,
          -1.8922048807144165,
          -0.4876539707183838,
          -27.505451202392578,
          6.497521877288818,
          21.208276748657227,
          -16.01737403869629,
          -4.060380458831787,
          -7.921213626861572,
          28.82750701904297,
          -9.229199409484863,
          12.814685821533203,
          3.7437210083007812,
          -7.211702823638916,
          -0.4254569113254547,
          -9.672783851623535,
          -27.627994537353516,
          -12.959633827209473,
          4.182952880859375,
          -3.7413995265960693,
          -26.302536010742188,
          -33.4055061340332,
          1.889312744140625,
          -6.570965766906738,
          -6.257509708404541,
          -1.2480157613754272,
          5.035374641418457,
          25.888164520263672,
          -8.639189720153809,
          20.801897048950195,
          -16.76973533630371,
          22.83059310913086,
          15.20508861541748,
          -23.76627540588379,
          6.140354156494141,
          3.9479265213012695,
          -16.192447662353516,
          11.221923828125,
          -2.255373001098633,
          -4.979639530181885,
          -25.456195831298828,
          -10.973321914672852,
          7.28079891204834,
          1.9597924947738647,
          4.695400238037109,
          -9.870627403259277,
          -14.513524055480957,
          27.42681884765625,
          -22.582298278808594,
          -29.917919158935547,
          7.151069164276123,
          -17.531282424926758,
          7.407007694244385,
          -3.0721514225006104,
          -19.090993881225586,
          -10.162862777709961,
          19.59915542602539,
          -11.7959566116333,
          -15.449682235717773,
          -12.068877220153809,
          -0.48100003600120544,
          3.950413942337036,
          -10.764385223388672,
          -27.089811325073242,
          19.749923706054688,
          13.27133846282959,
          -2.5786232948303223,
          -14.326157569885254,
          -0.06372744590044022,
          20.60370635986328,
          21.547569274902344,
          -13.216684341430664,
          12.497627258300781,
          0.850296139717102,
          -5.690415382385254,
          -12.460683822631836,
          22.566862106323242,
          17.242412567138672,
          -7.491238117218018,
          -7.77412223815918,
          21.963356018066406,
          -3.080902576446533,
          -7.457550048828125,
          -16.773164749145508,
          4.933094024658203,
          -29.45236587524414,
          -26.302536010742188,
          21.429323196411133,
          -24.3914852142334,
          -5.64320182800293,
          -17.47469711303711,
          -1.6948928833007812,
          32.15951919555664,
          18.060861587524414,
          4.964222431182861,
          -13.508023262023926,
          -8.698676109313965,
          -4.954274654388428,
          -10.899083137512207,
          -2.6751866340637207,
          -20.166643142700195,
          -18.400901794433594,
          -17.646026611328125,
          -14.484986305236816,
          15.502129554748535,
          -23.38595199584961,
          -2.678666830062866,
          -18.59963607788086,
          -19.85369110107422,
          22.48349952697754,
          1.065692663192749,
          9.20138931274414,
          31.590614318847656,
          -2.665037155151367,
          2.5044589042663574,
          -33.41051483154297,
          -19.18903923034668,
          -31.660348892211914,
          4.599778175354004,
          -5.94817590713501,
          21.96330451965332,
          -21.916624069213867,
          -10.453117370605469,
          19.691280364990234,
          -7.202489376068115,
          -1.5318329334259033,
          21.58163070678711,
          -28.338241577148438,
          -15.767549514770508,
          -3.3358218669891357,
          11.233918190002441,
          16.859418869018555,
          18.45428466796875,
          4.89793062210083,
          -1.268478274345398,
          14.886123657226562,
          4.4726362228393555,
          7.988574028015137,
          -8.036221504211426,
          -11.57390022277832,
          -24.66558837890625,
          -0.6902384161949158,
          20.459243774414062,
          -5.902108192443848,
          -6.146797180175781,
          21.58014488220215,
          2.214693069458008,
          5.363961219787598,
          8.82915210723877,
          19.11944580078125,
          -15.253483772277832,
          -3.3834495544433594,
          -15.298901557922363,
          34.198822021484375,
          6.439933776855469,
          18.308012008666992,
          -4.4465012550354,
          7.453977584838867,
          -15.904160499572754,
          -34.042510986328125,
          12.533349990844727,
          -24.244491577148438,
          12.609455108642578,
          -3.996126890182495,
          -9.361039161682129,
          20.634319305419922,
          2.0083038806915283,
          -0.9514981508255005,
          -3.101578712463379,
          -4.72258186340332,
          -14.320446014404297,
          -9.707974433898926,
          -23.501827239990234,
          -3.0507755279541016,
          -14.348819732666016,
          0.8348380923271179,
          4.543882369995117,
          7.985572814941406,
          -12.494254112243652,
          -23.056047439575195,
          -10.83461856842041,
          1.0502536296844482,
          -23.090511322021484,
          12.787099838256836,
          -12.830395698547363,
          -14.028514862060547,
          -12.830425262451172,
          -18.676576614379883,
          29.440866470336914,
          -25.791881561279297,
          -23.287626266479492,
          -15.581038475036621,
          -6.180507659912109,
          -19.811616897583008,
          -12.164405822753906,
          11.541753768920898,
          -27.552337646484375,
          22.08614158630371,
          1.2926381826400757,
          19.155874252319336,
          12.637871742248535
         ],
         "xaxis": "x",
         "y": [
          -5.774296283721924,
          25.021398544311523,
          30.482221603393555,
          -10.13300609588623,
          -0.546955406665802,
          -9.179418563842773,
          -7.91729736328125,
          1.8257383108139038,
          0.7825748324394226,
          3.505960464477539,
          12.73141860961914,
          9.351962089538574,
          -11.870980262756348,
          3.9671378135681152,
          7.533949851989746,
          4.547616004943848,
          -0.710204005241394,
          -6.517037391662598,
          -20.92238426208496,
          -6.7494330406188965,
          -0.8340984582901001,
          -17.757057189941406,
          25.17169189453125,
          1.670091152191162,
          -4.576015949249268,
          -32.96971130371094,
          11.148750305175781,
          -4.076901912689209,
          6.610729694366455,
          19.398542404174805,
          -7.239425182342529,
          0.9080710411071777,
          -17.18931007385254,
          -22.61522674560547,
          -2.9603891372680664,
          -26.34591293334961,
          -8.8485746383667,
          8.975167274475098,
          1.6661195755004883,
          27.02193260192871,
          -4.261939525604248,
          -15.992788314819336,
          10.200461387634277,
          -21.505159378051758,
          -7.514615535736084,
          -6.52179479598999,
          5.408350467681885,
          -10.797477722167969,
          -7.415554046630859,
          -17.3308162689209,
          7.472048282623291,
          -11.889802932739258,
          -14.900384902954102,
          -11.946012496948242,
          -8.767560005187988,
          -15.438441276550293,
          8.041365623474121,
          12.710236549377441,
          -27.97408103942871,
          -2.571039915084839,
          2.5146162509918213,
          11.56474781036377,
          7.09470272064209,
          -22.43096923828125,
          24.747798919677734,
          -14.5606050491333,
          10.614916801452637,
          -13.48471736907959,
          -4.626732349395752,
          -16.278709411621094,
          -32.855838775634766,
          11.479411125183105,
          -9.417417526245117,
          -17.258087158203125,
          -13.495189666748047,
          25.184947967529297,
          -32.275577545166016,
          -7.901942253112793,
          -23.908803939819336,
          -15.909439086914062,
          20.036718368530273,
          0.6700798273086548,
          -6.427030086517334,
          -0.26219648122787476,
          -30.579904556274414,
          25.31507110595703,
          -27.011688232421875,
          -3.5711631774902344,
          -0.9071066975593567,
          11.118436813354492,
          3.1309173107147217,
          24.172304153442383,
          7.5340576171875,
          -13.632733345031738,
          -8.534355163574219,
          1.9599536657333374,
          -5.3101887702941895,
          2.958427667617798,
          13.246346473693848,
          -11.42088508605957,
          -6.858006477355957,
          1.7550444602966309,
          -6.378621578216553,
          -9.219059944152832,
          -11.091325759887695,
          -2.9701340198516846,
          20.154544830322266,
          -7.316577911376953,
          0.6785179376602173,
          -25.340045928955078,
          -33.823204040527344,
          -1.8835972547531128,
          11.04511833190918,
          -5.104907989501953,
          -1.4113878011703491,
          9.743865966796875,
          27.229476928710938,
          30.374116897583008,
          15.540122032165527,
          -29.76201820373535,
          25.360631942749023,
          12.710684776306152,
          -22.871707916259766,
          -13.065498352050781,
          6.061557292938232,
          25.76986312866211,
          -10.507864952087402,
          -15.44561767578125,
          3.782792091369629,
          25.977081298828125,
          -11.102029800415039,
          15.573897361755371,
          -31.030746459960938,
          -34.41496276855469,
          -15.984715461730957,
          10.116077423095703,
          -8.098710060119629,
          5.138097286224365,
          8.610771179199219,
          13.53774642944336,
          1.5040541887283325,
          -3.9480831623077393,
          15.037460327148438,
          -7.250352382659912,
          -23.908803939819336,
          -22.5103759765625,
          0.5230661630630493,
          14.263696670532227,
          14.139970779418945,
          -11.504860877990723,
          3.9275214672088623,
          11.007081031799316,
          14.995869636535645,
          -7.598389148712158,
          -3.304699182510376,
          7.570171356201172,
          -22.657304763793945,
          18.925521850585938,
          -15.608930587768555,
          -15.975945472717285,
          14.202116012573242,
          28.735864639282227,
          -11.460835456848145,
          12.037825584411621,
          -10.315458297729492,
          -2.7207326889038086,
          -25.441051483154297,
          -16.0823917388916,
          -4.879768371582031,
          17.406051635742188,
          11.190957069396973,
          0.6011059880256653,
          -5.6524834632873535,
          -15.90915298461914,
          -18.20195770263672,
          2.1038756370544434,
          -30.963552474975586,
          -8.03708267211914,
          8.61073112487793,
          -9.913384437561035,
          -6.017177581787109,
          -12.596380233764648,
          8.366354942321777,
          -8.901949882507324,
          3.6351537704467773,
          13.815403938293457,
          -11.793883323669434,
          3.3321168422698975,
          -21.938947677612305,
          -21.27751350402832,
          -7.513943195343018,
          -1.9849032163619995,
          8.1743803024292,
          -6.759732723236084,
          -1.9945462942123413,
          -0.8364647030830383,
          10.42825984954834,
          -17.421689987182617,
          25.193397521972656,
          -11.482873916625977,
          -14.910677909851074,
          -32.88579177856445,
          28.66651725769043,
          10.080137252807617,
          8.608109474182129,
          -3.851407289505005,
          9.539134979248047,
          6.861958026885986,
          -15.911944389343262,
          10.638383865356445,
          24.794857025146484,
          -3.91925311088562,
          -15.703927993774414,
          11.242472648620605,
          0.39613401889801025,
          -16.946237564086914,
          -26.310585021972656,
          -15.281509399414062,
          -13.653633117675781,
          -17.924108505249023,
          -2.430094003677368,
          -10.128007888793945,
          7.978980541229248,
          -14.892674446105957,
          -4.166430950164795,
          -19.803836822509766,
          -0.5097255706787109,
          -2.2579994201660156,
          27.20256996154785,
          -17.321285247802734,
          25.021543502807617,
          4.015483379364014,
          24.22882843017578,
          -5.005736827850342,
          9.673323631286621,
          -34.79450607299805,
          -13.073116302490234,
          7.458695888519287,
          -4.759471416473389,
          -10.553658485412598,
          -5.950318813323975,
          -11.924665451049805,
          17.13924217224121,
          -3.7479419708251953,
          17.139297485351562,
          -8.921972274780273,
          -16.659727096557617,
          9.526982307434082,
          -6.206053733825684,
          -8.016469955444336,
          6.416167259216309,
          -19.90878677368164,
          26.948108673095703,
          -22.36166763305664,
          13.448637008666992,
          10.308521270751953,
          -6.6425957679748535,
          -16.549291610717773,
          -2.40340518951416
         ],
         "yaxis": "y"
        },
        {
         "hovertemplate": "activity=0<br>set=test<br>x=%{x}<br>y=%{y}<extra></extra>",
         "legendgroup": "0, test",
         "marker": {
          "color": "rgb(231,41,138)",
          "symbol": "diamond"
         },
         "mode": "markers",
         "name": "0, test",
         "orientation": "v",
         "showlegend": true,
         "type": "scatter",
         "x": [
          5.002587795257568,
          -13.48177719116211,
          20.495895385742188,
          -1.3389075994491577,
          29.457700729370117,
          6.784143447875977,
          -22.582881927490234,
          -15.107010841369629,
          -2.0649750232696533,
          -8.107431411743164,
          21.46137046813965,
          -13.72085952758789,
          -19.013792037963867,
          -6.696247577667236,
          -4.037813186645508,
          -15.722380638122559,
          -18.889432907104492,
          -27.918046951293945,
          5.367783546447754,
          -28.154142379760742,
          24.168251037597656,
          2.060126543045044,
          -6.5523834228515625,
          -16.055145263671875,
          -1.9277458190917969,
          -15.418797492980957,
          -14.459931373596191,
          -3.638542652130127,
          -21.003665924072266,
          14.308259963989258,
          6.785378932952881,
          -26.230985641479492,
          -13.827932357788086,
          -4.6809282302856445,
          -1.6571742296218872,
          1.8978441953659058,
          -8.375810623168945,
          0.0888909250497818,
          6.317397594451904,
          2.8189163208007812,
          -11.463687896728516,
          -8.091923713684082,
          18.810075759887695,
          -4.045688152313232,
          -8.641609191894531,
          -10.893394470214844,
          18.933822631835938,
          7.228055000305176,
          -4.644975662231445,
          -2.3984603881835938,
          -12.283746719360352,
          -31.68015480041504,
          -7.172544956207275,
          -0.352143794298172,
          25.533491134643555,
          -28.581464767456055,
          34.21004867553711,
          -3.962491989135742,
          9.375686645507812,
          11.739738464355469,
          -3.6361212730407715,
          28.708343505859375,
          -22.94813346862793,
          -7.087154865264893,
          -4.749973297119141
         ],
         "xaxis": "x",
         "y": [
          -11.182279586791992,
          26.56920623779297,
          -22.14728355407715,
          3.7154059410095215,
          -16.455434799194336,
          -9.905914306640625,
          20.15100860595703,
          9.26020336151123,
          2.066254138946533,
          2.905623197555542,
          2.9291224479675293,
          -10.363736152648926,
          -19.746309280395508,
          26.041227340698242,
          -6.092918395996094,
          25.639495849609375,
          -9.213004112243652,
          11.332350730895996,
          -1.6086477041244507,
          10.75780963897705,
          4.066825866699219,
          -1.9022921323776245,
          25.954940795898438,
          26.318262100219727,
          -0.6409422159194946,
          -19.164169311523438,
          29.105926513671875,
          -12.55364990234375,
          -3.8756768703460693,
          -1.9831823110580444,
          -9.907659530639648,
          9.977267265319824,
          27.28561019897461,
          -11.363319396972656,
          0.7299515008926392,
          -22.215866088867188,
          -16.074451446533203,
          5.262636661529541,
          24.26957893371582,
          -8.1842622756958,
          4.768350124359131,
          26.984649658203125,
          6.498654365539551,
          7.2224626541137695,
          -27.019237518310547,
          25.11410903930664,
          8.04230785369873,
          -5.286588191986084,
          -3.587038040161133,
          -7.019954681396484,
          7.030595302581787,
          2.1014420986175537,
          -11.696869850158691,
          -2.135554790496826,
          -3.137239694595337,
          11.916668891906738,
          -3.640284538269043,
          8.019988059997559,
          -9.26032543182373,
          -7.7487030029296875,
          1.9203370809555054,
          -13.171157836914062,
          10.442120552062988,
          28.29547882080078,
          -7.378187656402588
         ],
         "yaxis": "y"
        }
       ],
       "layout": {
        "legend": {
         "title": {
          "text": "activity, set"
         },
         "tracegroupgap": 0
        },
        "template": {
         "data": {
          "bar": [
           {
            "error_x": {
             "color": "#2a3f5f"
            },
            "error_y": {
             "color": "#2a3f5f"
            },
            "marker": {
             "line": {
              "color": "#E5ECF6",
              "width": 0.5
             },
             "pattern": {
              "fillmode": "overlay",
              "size": 10,
              "solidity": 0.2
             }
            },
            "type": "bar"
           }
          ],
          "barpolar": [
           {
            "marker": {
             "line": {
              "color": "#E5ECF6",
              "width": 0.5
             },
             "pattern": {
              "fillmode": "overlay",
              "size": 10,
              "solidity": 0.2
             }
            },
            "type": "barpolar"
           }
          ],
          "carpet": [
           {
            "aaxis": {
             "endlinecolor": "#2a3f5f",
             "gridcolor": "white",
             "linecolor": "white",
             "minorgridcolor": "white",
             "startlinecolor": "#2a3f5f"
            },
            "baxis": {
             "endlinecolor": "#2a3f5f",
             "gridcolor": "white",
             "linecolor": "white",
             "minorgridcolor": "white",
             "startlinecolor": "#2a3f5f"
            },
            "type": "carpet"
           }
          ],
          "choropleth": [
           {
            "colorbar": {
             "outlinewidth": 0,
             "ticks": ""
            },
            "type": "choropleth"
           }
          ],
          "contour": [
           {
            "colorbar": {
             "outlinewidth": 0,
             "ticks": ""
            },
            "colorscale": [
             [
              0,
              "#0d0887"
             ],
             [
              0.1111111111111111,
              "#46039f"
             ],
             [
              0.2222222222222222,
              "#7201a8"
             ],
             [
              0.3333333333333333,
              "#9c179e"
             ],
             [
              0.4444444444444444,
              "#bd3786"
             ],
             [
              0.5555555555555556,
              "#d8576b"
             ],
             [
              0.6666666666666666,
              "#ed7953"
             ],
             [
              0.7777777777777778,
              "#fb9f3a"
             ],
             [
              0.8888888888888888,
              "#fdca26"
             ],
             [
              1,
              "#f0f921"
             ]
            ],
            "type": "contour"
           }
          ],
          "contourcarpet": [
           {
            "colorbar": {
             "outlinewidth": 0,
             "ticks": ""
            },
            "type": "contourcarpet"
           }
          ],
          "heatmap": [
           {
            "colorbar": {
             "outlinewidth": 0,
             "ticks": ""
            },
            "colorscale": [
             [
              0,
              "#0d0887"
             ],
             [
              0.1111111111111111,
              "#46039f"
             ],
             [
              0.2222222222222222,
              "#7201a8"
             ],
             [
              0.3333333333333333,
              "#9c179e"
             ],
             [
              0.4444444444444444,
              "#bd3786"
             ],
             [
              0.5555555555555556,
              "#d8576b"
             ],
             [
              0.6666666666666666,
              "#ed7953"
             ],
             [
              0.7777777777777778,
              "#fb9f3a"
             ],
             [
              0.8888888888888888,
              "#fdca26"
             ],
             [
              1,
              "#f0f921"
             ]
            ],
            "type": "heatmap"
           }
          ],
          "heatmapgl": [
           {
            "colorbar": {
             "outlinewidth": 0,
             "ticks": ""
            },
            "colorscale": [
             [
              0,
              "#0d0887"
             ],
             [
              0.1111111111111111,
              "#46039f"
             ],
             [
              0.2222222222222222,
              "#7201a8"
             ],
             [
              0.3333333333333333,
              "#9c179e"
             ],
             [
              0.4444444444444444,
              "#bd3786"
             ],
             [
              0.5555555555555556,
              "#d8576b"
             ],
             [
              0.6666666666666666,
              "#ed7953"
             ],
             [
              0.7777777777777778,
              "#fb9f3a"
             ],
             [
              0.8888888888888888,
              "#fdca26"
             ],
             [
              1,
              "#f0f921"
             ]
            ],
            "type": "heatmapgl"
           }
          ],
          "histogram": [
           {
            "marker": {
             "pattern": {
              "fillmode": "overlay",
              "size": 10,
              "solidity": 0.2
             }
            },
            "type": "histogram"
           }
          ],
          "histogram2d": [
           {
            "colorbar": {
             "outlinewidth": 0,
             "ticks": ""
            },
            "colorscale": [
             [
              0,
              "#0d0887"
             ],
             [
              0.1111111111111111,
              "#46039f"
             ],
             [
              0.2222222222222222,
              "#7201a8"
             ],
             [
              0.3333333333333333,
              "#9c179e"
             ],
             [
              0.4444444444444444,
              "#bd3786"
             ],
             [
              0.5555555555555556,
              "#d8576b"
             ],
             [
              0.6666666666666666,
              "#ed7953"
             ],
             [
              0.7777777777777778,
              "#fb9f3a"
             ],
             [
              0.8888888888888888,
              "#fdca26"
             ],
             [
              1,
              "#f0f921"
             ]
            ],
            "type": "histogram2d"
           }
          ],
          "histogram2dcontour": [
           {
            "colorbar": {
             "outlinewidth": 0,
             "ticks": ""
            },
            "colorscale": [
             [
              0,
              "#0d0887"
             ],
             [
              0.1111111111111111,
              "#46039f"
             ],
             [
              0.2222222222222222,
              "#7201a8"
             ],
             [
              0.3333333333333333,
              "#9c179e"
             ],
             [
              0.4444444444444444,
              "#bd3786"
             ],
             [
              0.5555555555555556,
              "#d8576b"
             ],
             [
              0.6666666666666666,
              "#ed7953"
             ],
             [
              0.7777777777777778,
              "#fb9f3a"
             ],
             [
              0.8888888888888888,
              "#fdca26"
             ],
             [
              1,
              "#f0f921"
             ]
            ],
            "type": "histogram2dcontour"
           }
          ],
          "mesh3d": [
           {
            "colorbar": {
             "outlinewidth": 0,
             "ticks": ""
            },
            "type": "mesh3d"
           }
          ],
          "parcoords": [
           {
            "line": {
             "colorbar": {
              "outlinewidth": 0,
              "ticks": ""
             }
            },
            "type": "parcoords"
           }
          ],
          "pie": [
           {
            "automargin": true,
            "type": "pie"
           }
          ],
          "scatter": [
           {
            "fillpattern": {
             "fillmode": "overlay",
             "size": 10,
             "solidity": 0.2
            },
            "type": "scatter"
           }
          ],
          "scatter3d": [
           {
            "line": {
             "colorbar": {
              "outlinewidth": 0,
              "ticks": ""
             }
            },
            "marker": {
             "colorbar": {
              "outlinewidth": 0,
              "ticks": ""
             }
            },
            "type": "scatter3d"
           }
          ],
          "scattercarpet": [
           {
            "marker": {
             "colorbar": {
              "outlinewidth": 0,
              "ticks": ""
             }
            },
            "type": "scattercarpet"
           }
          ],
          "scattergeo": [
           {
            "marker": {
             "colorbar": {
              "outlinewidth": 0,
              "ticks": ""
             }
            },
            "type": "scattergeo"
           }
          ],
          "scattergl": [
           {
            "marker": {
             "colorbar": {
              "outlinewidth": 0,
              "ticks": ""
             }
            },
            "type": "scattergl"
           }
          ],
          "scattermapbox": [
           {
            "marker": {
             "colorbar": {
              "outlinewidth": 0,
              "ticks": ""
             }
            },
            "type": "scattermapbox"
           }
          ],
          "scatterpolar": [
           {
            "marker": {
             "colorbar": {
              "outlinewidth": 0,
              "ticks": ""
             }
            },
            "type": "scatterpolar"
           }
          ],
          "scatterpolargl": [
           {
            "marker": {
             "colorbar": {
              "outlinewidth": 0,
              "ticks": ""
             }
            },
            "type": "scatterpolargl"
           }
          ],
          "scatterternary": [
           {
            "marker": {
             "colorbar": {
              "outlinewidth": 0,
              "ticks": ""
             }
            },
            "type": "scatterternary"
           }
          ],
          "surface": [
           {
            "colorbar": {
             "outlinewidth": 0,
             "ticks": ""
            },
            "colorscale": [
             [
              0,
              "#0d0887"
             ],
             [
              0.1111111111111111,
              "#46039f"
             ],
             [
              0.2222222222222222,
              "#7201a8"
             ],
             [
              0.3333333333333333,
              "#9c179e"
             ],
             [
              0.4444444444444444,
              "#bd3786"
             ],
             [
              0.5555555555555556,
              "#d8576b"
             ],
             [
              0.6666666666666666,
              "#ed7953"
             ],
             [
              0.7777777777777778,
              "#fb9f3a"
             ],
             [
              0.8888888888888888,
              "#fdca26"
             ],
             [
              1,
              "#f0f921"
             ]
            ],
            "type": "surface"
           }
          ],
          "table": [
           {
            "cells": {
             "fill": {
              "color": "#EBF0F8"
             },
             "line": {
              "color": "white"
             }
            },
            "header": {
             "fill": {
              "color": "#C8D4E3"
             },
             "line": {
              "color": "white"
             }
            },
            "type": "table"
           }
          ]
         },
         "layout": {
          "annotationdefaults": {
           "arrowcolor": "#2a3f5f",
           "arrowhead": 0,
           "arrowwidth": 1
          },
          "autotypenumbers": "strict",
          "coloraxis": {
           "colorbar": {
            "outlinewidth": 0,
            "ticks": ""
           }
          },
          "colorscale": {
           "diverging": [
            [
             0,
             "#8e0152"
            ],
            [
             0.1,
             "#c51b7d"
            ],
            [
             0.2,
             "#de77ae"
            ],
            [
             0.3,
             "#f1b6da"
            ],
            [
             0.4,
             "#fde0ef"
            ],
            [
             0.5,
             "#f7f7f7"
            ],
            [
             0.6,
             "#e6f5d0"
            ],
            [
             0.7,
             "#b8e186"
            ],
            [
             0.8,
             "#7fbc41"
            ],
            [
             0.9,
             "#4d9221"
            ],
            [
             1,
             "#276419"
            ]
           ],
           "sequential": [
            [
             0,
             "#0d0887"
            ],
            [
             0.1111111111111111,
             "#46039f"
            ],
            [
             0.2222222222222222,
             "#7201a8"
            ],
            [
             0.3333333333333333,
             "#9c179e"
            ],
            [
             0.4444444444444444,
             "#bd3786"
            ],
            [
             0.5555555555555556,
             "#d8576b"
            ],
            [
             0.6666666666666666,
             "#ed7953"
            ],
            [
             0.7777777777777778,
             "#fb9f3a"
            ],
            [
             0.8888888888888888,
             "#fdca26"
            ],
            [
             1,
             "#f0f921"
            ]
           ],
           "sequentialminus": [
            [
             0,
             "#0d0887"
            ],
            [
             0.1111111111111111,
             "#46039f"
            ],
            [
             0.2222222222222222,
             "#7201a8"
            ],
            [
             0.3333333333333333,
             "#9c179e"
            ],
            [
             0.4444444444444444,
             "#bd3786"
            ],
            [
             0.5555555555555556,
             "#d8576b"
            ],
            [
             0.6666666666666666,
             "#ed7953"
            ],
            [
             0.7777777777777778,
             "#fb9f3a"
            ],
            [
             0.8888888888888888,
             "#fdca26"
            ],
            [
             1,
             "#f0f921"
            ]
           ]
          },
          "colorway": [
           "#636efa",
           "#EF553B",
           "#00cc96",
           "#ab63fa",
           "#FFA15A",
           "#19d3f3",
           "#FF6692",
           "#B6E880",
           "#FF97FF",
           "#FECB52"
          ],
          "font": {
           "color": "#2a3f5f"
          },
          "geo": {
           "bgcolor": "white",
           "lakecolor": "white",
           "landcolor": "#E5ECF6",
           "showlakes": true,
           "showland": true,
           "subunitcolor": "white"
          },
          "hoverlabel": {
           "align": "left"
          },
          "hovermode": "closest",
          "mapbox": {
           "style": "light"
          },
          "paper_bgcolor": "white",
          "plot_bgcolor": "#E5ECF6",
          "polar": {
           "angularaxis": {
            "gridcolor": "white",
            "linecolor": "white",
            "ticks": ""
           },
           "bgcolor": "#E5ECF6",
           "radialaxis": {
            "gridcolor": "white",
            "linecolor": "white",
            "ticks": ""
           }
          },
          "scene": {
           "xaxis": {
            "backgroundcolor": "#E5ECF6",
            "gridcolor": "white",
            "gridwidth": 2,
            "linecolor": "white",
            "showbackground": true,
            "ticks": "",
            "zerolinecolor": "white"
           },
           "yaxis": {
            "backgroundcolor": "#E5ECF6",
            "gridcolor": "white",
            "gridwidth": 2,
            "linecolor": "white",
            "showbackground": true,
            "ticks": "",
            "zerolinecolor": "white"
           },
           "zaxis": {
            "backgroundcolor": "#E5ECF6",
            "gridcolor": "white",
            "gridwidth": 2,
            "linecolor": "white",
            "showbackground": true,
            "ticks": "",
            "zerolinecolor": "white"
           }
          },
          "shapedefaults": {
           "line": {
            "color": "#2a3f5f"
           }
          },
          "ternary": {
           "aaxis": {
            "gridcolor": "white",
            "linecolor": "white",
            "ticks": ""
           },
           "baxis": {
            "gridcolor": "white",
            "linecolor": "white",
            "ticks": ""
           },
           "bgcolor": "#E5ECF6",
           "caxis": {
            "gridcolor": "white",
            "linecolor": "white",
            "ticks": ""
           }
          },
          "title": {
           "x": 0.05
          },
          "xaxis": {
           "automargin": true,
           "gridcolor": "white",
           "linecolor": "white",
           "ticks": "",
           "title": {
            "standoff": 15
           },
           "zerolinecolor": "white",
           "zerolinewidth": 2
          },
          "yaxis": {
           "automargin": true,
           "gridcolor": "white",
           "linecolor": "white",
           "ticks": "",
           "title": {
            "standoff": 15
           },
           "zerolinecolor": "white",
           "zerolinewidth": 2
          }
         }
        },
        "title": {
         "text": "T-SNE Plot with Train and Test Sets Overlaid of Structrural fingerprint."
        },
        "xaxis": {
         "anchor": "y",
         "domain": [
          0,
          1
         ],
         "title": {
          "text": "x"
         }
        },
        "yaxis": {
         "anchor": "x",
         "domain": [
          0,
          1
         ],
         "title": {
          "text": "y"
         }
        }
       }
      }
     },
     "metadata": {},
     "output_type": "display_data"
    },
    {
     "data": {
      "text/html": [
       "<div>\n",
       "<style scoped>\n",
       "    .dataframe tbody tr th:only-of-type {\n",
       "        vertical-align: middle;\n",
       "    }\n",
       "\n",
       "    .dataframe tbody tr th {\n",
       "        vertical-align: top;\n",
       "    }\n",
       "\n",
       "    .dataframe thead th {\n",
       "        text-align: right;\n",
       "    }\n",
       "</style>\n",
       "<table border=\"1\" class=\"dataframe\">\n",
       "  <thead>\n",
       "    <tr style=\"text-align: right;\">\n",
       "      <th></th>\n",
       "      <th>x</th>\n",
       "      <th>y</th>\n",
       "      <th>activity</th>\n",
       "      <th>set</th>\n",
       "    </tr>\n",
       "  </thead>\n",
       "  <tbody>\n",
       "    <tr>\n",
       "      <th>0</th>\n",
       "      <td>23.164110</td>\n",
       "      <td>22.224092</td>\n",
       "      <td>1</td>\n",
       "      <td>train</td>\n",
       "    </tr>\n",
       "    <tr>\n",
       "      <th>1</th>\n",
       "      <td>-20.373955</td>\n",
       "      <td>-5.774296</td>\n",
       "      <td>0</td>\n",
       "      <td>train</td>\n",
       "    </tr>\n",
       "    <tr>\n",
       "      <th>2</th>\n",
       "      <td>-23.501822</td>\n",
       "      <td>25.021399</td>\n",
       "      <td>0</td>\n",
       "      <td>train</td>\n",
       "    </tr>\n",
       "    <tr>\n",
       "      <th>3</th>\n",
       "      <td>18.197857</td>\n",
       "      <td>37.299217</td>\n",
       "      <td>1</td>\n",
       "      <td>train</td>\n",
       "    </tr>\n",
       "    <tr>\n",
       "      <th>4</th>\n",
       "      <td>-12.001395</td>\n",
       "      <td>30.482222</td>\n",
       "      <td>0</td>\n",
       "      <td>train</td>\n",
       "    </tr>\n",
       "    <tr>\n",
       "      <th>...</th>\n",
       "      <td>...</td>\n",
       "      <td>...</td>\n",
       "      <td>...</td>\n",
       "      <td>...</td>\n",
       "    </tr>\n",
       "    <tr>\n",
       "      <th>637</th>\n",
       "      <td>28.708344</td>\n",
       "      <td>-13.171158</td>\n",
       "      <td>0</td>\n",
       "      <td>test</td>\n",
       "    </tr>\n",
       "    <tr>\n",
       "      <th>638</th>\n",
       "      <td>-22.948133</td>\n",
       "      <td>10.442121</td>\n",
       "      <td>0</td>\n",
       "      <td>test</td>\n",
       "    </tr>\n",
       "    <tr>\n",
       "      <th>639</th>\n",
       "      <td>-7.087155</td>\n",
       "      <td>28.295479</td>\n",
       "      <td>0</td>\n",
       "      <td>test</td>\n",
       "    </tr>\n",
       "    <tr>\n",
       "      <th>640</th>\n",
       "      <td>12.659896</td>\n",
       "      <td>8.861396</td>\n",
       "      <td>1</td>\n",
       "      <td>test</td>\n",
       "    </tr>\n",
       "    <tr>\n",
       "      <th>641</th>\n",
       "      <td>-4.749973</td>\n",
       "      <td>-7.378188</td>\n",
       "      <td>0</td>\n",
       "      <td>test</td>\n",
       "    </tr>\n",
       "  </tbody>\n",
       "</table>\n",
       "<p>642 rows × 4 columns</p>\n",
       "</div>"
      ],
      "text/plain": [
       "             x          y activity    set\n",
       "0    23.164110  22.224092        1  train\n",
       "1   -20.373955  -5.774296        0  train\n",
       "2   -23.501822  25.021399        0  train\n",
       "3    18.197857  37.299217        1  train\n",
       "4   -12.001395  30.482222        0  train\n",
       "..         ...        ...      ...    ...\n",
       "637  28.708344 -13.171158        0   test\n",
       "638 -22.948133  10.442121        0   test\n",
       "639  -7.087155  28.295479        0   test\n",
       "640  12.659896   8.861396        1   test\n",
       "641  -4.749973  -7.378188        0   test\n",
       "\n",
       "[642 rows x 4 columns]"
      ]
     },
     "execution_count": 162,
     "metadata": {},
     "output_type": "execute_result"
    }
   ],
   "source": [
    "tsne_plot_activity_set(fingerprint_train_df, fingerprint_test_df, y_train_activities, y_test_activities, \"Structrural\")"
   ]
  },
  {
   "cell_type": "markdown",
   "metadata": {},
   "source": [
    "## Multi layer perceptron "
   ]
  },
  {
   "cell_type": "markdown",
   "metadata": {},
   "source": [
    "### Import library "
   ]
  },
  {
   "cell_type": "code",
   "execution_count": 163,
   "metadata": {},
   "outputs": [],
   "source": [
    "from sklearn.neural_network import MLPClassifier\n",
    "from sklearn.metrics import accuracy_score, classification_report\n",
    "from sklearn.model_selection import cross_validate\n",
    "from sklearn.metrics import matthews_corrcoef\n",
    "from sklearn.metrics import  balanced_accuracy_score,classification_report"
   ]
  },
  {
   "cell_type": "markdown",
   "metadata": {},
   "source": [
    "### Cross-validation and Hyperparemeter Tuning "
   ]
  },
  {
   "cell_type": "markdown",
   "metadata": {},
   "source": [
    "### Fine tune RF using random search "
   ]
  },
  {
   "cell_type": "code",
   "execution_count": 164,
   "metadata": {},
   "outputs": [],
   "source": [
    "def rf_cross_validation(X_train, y_train, max_depth_range=[10, 20, 30, 50], num_tree_range=[100, 200, 300, 500], min_samples_leaf_range=[5,10, 15, 20, 25]):\n",
    "    '''\n",
    "        performs a 5-fold CV for a Random Forest for given X_train and y_train\n",
    "\n",
    "        @param X_train: the training matrix\n",
    "        @param y_train: the associated response vector\n",
    "        @param max_depth_range: list containing the values that should be tested for max depth, default [10,20,30]\n",
    "        @param num_tree_range: list containing the values that should be tested for the number of trees, default [100,300,500]\n",
    "        @param min_samples_leaf_range: list containing the values that should be tested for the minimum number of samples per leaf, default [10,15,20]\n",
    "\n",
    "        @return: a forest with the best hyperparameter according to the estimated test MSE and trained on the whole training set\n",
    "    '''\n",
    "    best_score = -float('inf')\n",
    "    for depth in max_depth_range:\n",
    "        cv_results = cross_validate(RandomForestClassifier(random_state=42, max_depth=depth, n_jobs=-1,\n",
    "                                    class_weight='balanced'), X=X_train, y=y_train, scoring='balanced_accuracy', cv=5)\n",
    "        score = np.mean(cv_results['test_score'])\n",
    "        if score > best_score:\n",
    "            best_score = score\n",
    "            best_depth = depth\n",
    "\n",
    "    best_score = -float('inf')\n",
    "    for n_tree in num_tree_range:\n",
    "        cv_results = cross_validate(RandomForestClassifier(random_state=42, n_estimators=n_tree,\n",
    "                                    n_jobs=-1, class_weight='balanced'), X=X_train, y=y_train, scoring='balanced_accuracy', cv=5)\n",
    "        score = np.mean(cv_results['test_score'])\n",
    "        if score > best_score:\n",
    "            best_score = score\n",
    "            best_n_tree = n_tree\n",
    "\n",
    "    best_score = -float('inf')\n",
    "    for num_samples in min_samples_leaf_range:\n",
    "        cv_results = cross_validate(RandomForestClassifier(random_state=42, min_samples_leaf=num_samples,\n",
    "                                    n_jobs=-1, class_weight='balanced'), X=X_train, y=y_train, scoring='balanced_accuracy', cv=5)\n",
    "        score = np.mean(cv_results['test_score'])\n",
    "        if score > best_score:\n",
    "            best_score = score\n",
    "            best_min_samples = num_samples\n",
    "\n",
    "    rf = RandomForestClassifier(random_state=42, n_estimators=best_n_tree, max_depth=best_depth,\n",
    "                                min_samples_leaf=best_min_samples, n_jobs=-1, class_weight='balanced')\n",
    "    \n",
    "    return rf"
   ]
  },
  {
   "cell_type": "code",
   "execution_count": 165,
   "metadata": {},
   "outputs": [],
   "source": [
    "best_estimator_morpho = rf_cross_validation(X_train, y_train_activities)"
   ]
  },
  {
   "cell_type": "code",
   "execution_count": 166,
   "metadata": {},
   "outputs": [],
   "source": [
    "best_estimator_struct = rf_cross_validation(X_train_struct_fps, y_train_activities)"
   ]
  },
  {
   "cell_type": "markdown",
   "metadata": {},
   "source": [
    "### Fine tune MLPC using random search "
   ]
  },
  {
   "cell_type": "code",
   "execution_count": 167,
   "metadata": {},
   "outputs": [],
   "source": [
    "def MLPC_cross_validation(X_train, y_train, \n",
    "                        hidden_layer_sizes = [50,150,250, 350, 450, 550], \n",
    "                        activations = ['logistic', 'tanh', 'relu'],\n",
    "                        solvers =  ['adam', 'sgd'],\n",
    "                        alphas = [0.0001, 0.001, 0.01, 0.1, 1],\n",
    "                        learning_rate = ['constant', 'adaptive'],\n",
    "                        max_iter = [150, 400, 600, 800],\n",
    "                        batch_size = [80, 120, 180], \n",
    "                      ):\n",
    "    '''\n",
    "        performs a 5-fold CV for a Random Forest for given X_train and y_train\n",
    "\n",
    "        @param X_train: the training matrix\n",
    "        @param y_train: the associated response vector\n",
    "        @param max_depth_range: list containing the values that should be tested for max depth, default [10,20,30]\n",
    "        @param num_tree_range: list containing the values that should be tested for the number of trees, default [100,300,500]\n",
    "        @param min_samples_leaf_range: list containing the values that should be tested for the minimum number of samples per leaf, default [10,15,20]\n",
    "\n",
    "        @return: a forest with the best hyperparameter according to the estimated test MSE and trained on the whole training set\n",
    "    '''\n",
    "    best_score = -float('inf')\n",
    "    for layer in hidden_layer_sizes :\n",
    "        cv_results = cross_validate(MLPClassifier(random_state=42,hidden_layer_sizes=layer),\n",
    "                                      n_jobs=1, X=X_train, y=y_train, scoring='balanced_accuracy', cv=5)\n",
    "        score = np.mean(cv_results['test_score'])\n",
    "        if score > best_score:\n",
    "            best_score = score\n",
    "            best_n_layer =  layer\n",
    "\n",
    "    best_score = -float('inf')\n",
    "    for a in alphas:\n",
    "        cv_results = cross_validate(MLPClassifier(random_state=42, alpha = a), n_jobs=1, X=X_train, y=y_train, scoring='balanced_accuracy', cv=5)\n",
    "        score = np.mean(cv_results['test_score'])\n",
    "        if score > best_score:\n",
    "            best_score = score\n",
    "            best_alpha_ = a\n",
    "\n",
    "    best_score = -float('inf')\n",
    "    for solver_ in solvers:\n",
    "        cv_results = cross_validate(MLPClassifier(random_state=42, solver = solver_), n_jobs=1, X=X_train, y=y_train, scoring='balanced_accuracy', cv=5)\n",
    "        score = np.mean(cv_results['test_score'])\n",
    "        if score > best_score:\n",
    "            best_score = score\n",
    "            best_solver = solver_\n",
    "    \n",
    "    best_score = -float('inf')\n",
    "    for activation_ in activations:\n",
    "        cv_results = cross_validate(MLPClassifier(random_state=42, activation= activation_),n_jobs=1,\n",
    "                                     X=X_train, y=y_train, scoring='balanced_accuracy', cv=5)\n",
    "        score = np.mean(cv_results['test_score'])\n",
    "        if score > best_score:\n",
    "            best_score = score\n",
    "            best_activation= activation_\n",
    "    \n",
    "    best_score = -float('inf')\n",
    "    for batch in batch_size:\n",
    "        cv_results = cross_validate(MLPClassifier(random_state=42, batch_size= batch), n_jobs=1, X=X_train, y=y_train, scoring='balanced_accuracy', cv=5)\n",
    "        score = np.mean(cv_results['test_score'])\n",
    "        if score > best_score:\n",
    "            best_score = score\n",
    "            best_batch_size= batch\n",
    "    \n",
    "    best_score = -float('inf')\n",
    "    for iter in max_iter:\n",
    "        cv_results = cross_validate(MLPClassifier(random_state=42, max_iter = iter), n_jobs=1, X=X_train, y=y_train, scoring='balanced_accuracy', cv=5)\n",
    "        score = np.mean(cv_results['test_score'])\n",
    "        if score > best_score:\n",
    "            best_score = score\n",
    "            best_nb_iter= iter\n",
    "\n",
    "    best_score = -float('inf')\n",
    "    for lr in learning_rate:\n",
    "        cv_results = cross_validate(MLPClassifier(random_state=42, learning_rate = lr), n_jobs=1, X=X_train, y=y_train, scoring='balanced_accuracy', cv=5)\n",
    "        score = np.mean(cv_results['test_score'])\n",
    "        if score > best_score:\n",
    "            best_score = score\n",
    "            best_lr = lr\n",
    "\n",
    "    MLPC = MLPClassifier(random_state  = 42,\n",
    "                         hidden_layer_sizes = best_n_layer,\n",
    "                         alpha = best_alpha_,\n",
    "                         solver = best_solver,\n",
    "                         activation = activation_,\n",
    "                         batch_size = best_batch_size,\n",
    "                         max_iter= best_nb_iter,\n",
    "                         learning_rate= best_lr\n",
    "                         )\n",
    "    \n",
    "    return MLPC"
   ]
  },
  {
   "cell_type": "code",
   "execution_count": 168,
   "metadata": {},
   "outputs": [
    {
     "name": "stderr",
     "output_type": "stream",
     "text": [
      "/Users/flodje_uds/anaconda3/envs/mimb_cellpainting/lib/python3.8/site-packages/sklearn/neural_network/_multilayer_perceptron.py:691: ConvergenceWarning:\n",
      "\n",
      "Stochastic Optimizer: Maximum iterations (200) reached and the optimization hasn't converged yet.\n",
      "\n",
      "/Users/flodje_uds/anaconda3/envs/mimb_cellpainting/lib/python3.8/site-packages/sklearn/neural_network/_multilayer_perceptron.py:691: ConvergenceWarning:\n",
      "\n",
      "Stochastic Optimizer: Maximum iterations (200) reached and the optimization hasn't converged yet.\n",
      "\n",
      "/Users/flodje_uds/anaconda3/envs/mimb_cellpainting/lib/python3.8/site-packages/sklearn/neural_network/_multilayer_perceptron.py:691: ConvergenceWarning:\n",
      "\n",
      "Stochastic Optimizer: Maximum iterations (200) reached and the optimization hasn't converged yet.\n",
      "\n",
      "/Users/flodje_uds/anaconda3/envs/mimb_cellpainting/lib/python3.8/site-packages/sklearn/neural_network/_multilayer_perceptron.py:691: ConvergenceWarning:\n",
      "\n",
      "Stochastic Optimizer: Maximum iterations (200) reached and the optimization hasn't converged yet.\n",
      "\n",
      "/Users/flodje_uds/anaconda3/envs/mimb_cellpainting/lib/python3.8/site-packages/sklearn/neural_network/_multilayer_perceptron.py:691: ConvergenceWarning:\n",
      "\n",
      "Stochastic Optimizer: Maximum iterations (200) reached and the optimization hasn't converged yet.\n",
      "\n",
      "/Users/flodje_uds/anaconda3/envs/mimb_cellpainting/lib/python3.8/site-packages/sklearn/neural_network/_multilayer_perceptron.py:691: ConvergenceWarning:\n",
      "\n",
      "Stochastic Optimizer: Maximum iterations (200) reached and the optimization hasn't converged yet.\n",
      "\n",
      "/Users/flodje_uds/anaconda3/envs/mimb_cellpainting/lib/python3.8/site-packages/sklearn/neural_network/_multilayer_perceptron.py:691: ConvergenceWarning:\n",
      "\n",
      "Stochastic Optimizer: Maximum iterations (200) reached and the optimization hasn't converged yet.\n",
      "\n",
      "/Users/flodje_uds/anaconda3/envs/mimb_cellpainting/lib/python3.8/site-packages/sklearn/neural_network/_multilayer_perceptron.py:691: ConvergenceWarning:\n",
      "\n",
      "Stochastic Optimizer: Maximum iterations (200) reached and the optimization hasn't converged yet.\n",
      "\n",
      "/Users/flodje_uds/anaconda3/envs/mimb_cellpainting/lib/python3.8/site-packages/sklearn/neural_network/_multilayer_perceptron.py:691: ConvergenceWarning:\n",
      "\n",
      "Stochastic Optimizer: Maximum iterations (200) reached and the optimization hasn't converged yet.\n",
      "\n",
      "/Users/flodje_uds/anaconda3/envs/mimb_cellpainting/lib/python3.8/site-packages/sklearn/neural_network/_multilayer_perceptron.py:691: ConvergenceWarning:\n",
      "\n",
      "Stochastic Optimizer: Maximum iterations (200) reached and the optimization hasn't converged yet.\n",
      "\n",
      "/Users/flodje_uds/anaconda3/envs/mimb_cellpainting/lib/python3.8/site-packages/sklearn/neural_network/_multilayer_perceptron.py:691: ConvergenceWarning:\n",
      "\n",
      "Stochastic Optimizer: Maximum iterations (200) reached and the optimization hasn't converged yet.\n",
      "\n",
      "/Users/flodje_uds/anaconda3/envs/mimb_cellpainting/lib/python3.8/site-packages/sklearn/neural_network/_multilayer_perceptron.py:691: ConvergenceWarning:\n",
      "\n",
      "Stochastic Optimizer: Maximum iterations (200) reached and the optimization hasn't converged yet.\n",
      "\n",
      "/Users/flodje_uds/anaconda3/envs/mimb_cellpainting/lib/python3.8/site-packages/sklearn/neural_network/_multilayer_perceptron.py:691: ConvergenceWarning:\n",
      "\n",
      "Stochastic Optimizer: Maximum iterations (200) reached and the optimization hasn't converged yet.\n",
      "\n",
      "/Users/flodje_uds/anaconda3/envs/mimb_cellpainting/lib/python3.8/site-packages/sklearn/neural_network/_multilayer_perceptron.py:691: ConvergenceWarning:\n",
      "\n",
      "Stochastic Optimizer: Maximum iterations (200) reached and the optimization hasn't converged yet.\n",
      "\n",
      "/Users/flodje_uds/anaconda3/envs/mimb_cellpainting/lib/python3.8/site-packages/sklearn/neural_network/_multilayer_perceptron.py:691: ConvergenceWarning:\n",
      "\n",
      "Stochastic Optimizer: Maximum iterations (200) reached and the optimization hasn't converged yet.\n",
      "\n",
      "/Users/flodje_uds/anaconda3/envs/mimb_cellpainting/lib/python3.8/site-packages/sklearn/neural_network/_multilayer_perceptron.py:691: ConvergenceWarning:\n",
      "\n",
      "Stochastic Optimizer: Maximum iterations (200) reached and the optimization hasn't converged yet.\n",
      "\n",
      "/Users/flodje_uds/anaconda3/envs/mimb_cellpainting/lib/python3.8/site-packages/sklearn/neural_network/_multilayer_perceptron.py:691: ConvergenceWarning:\n",
      "\n",
      "Stochastic Optimizer: Maximum iterations (200) reached and the optimization hasn't converged yet.\n",
      "\n",
      "/Users/flodje_uds/anaconda3/envs/mimb_cellpainting/lib/python3.8/site-packages/sklearn/neural_network/_multilayer_perceptron.py:691: ConvergenceWarning:\n",
      "\n",
      "Stochastic Optimizer: Maximum iterations (200) reached and the optimization hasn't converged yet.\n",
      "\n",
      "/Users/flodje_uds/anaconda3/envs/mimb_cellpainting/lib/python3.8/site-packages/sklearn/neural_network/_multilayer_perceptron.py:691: ConvergenceWarning:\n",
      "\n",
      "Stochastic Optimizer: Maximum iterations (200) reached and the optimization hasn't converged yet.\n",
      "\n",
      "/Users/flodje_uds/anaconda3/envs/mimb_cellpainting/lib/python3.8/site-packages/sklearn/neural_network/_multilayer_perceptron.py:691: ConvergenceWarning:\n",
      "\n",
      "Stochastic Optimizer: Maximum iterations (200) reached and the optimization hasn't converged yet.\n",
      "\n",
      "/Users/flodje_uds/anaconda3/envs/mimb_cellpainting/lib/python3.8/site-packages/sklearn/neural_network/_multilayer_perceptron.py:691: ConvergenceWarning:\n",
      "\n",
      "Stochastic Optimizer: Maximum iterations (200) reached and the optimization hasn't converged yet.\n",
      "\n",
      "/Users/flodje_uds/anaconda3/envs/mimb_cellpainting/lib/python3.8/site-packages/sklearn/neural_network/_multilayer_perceptron.py:691: ConvergenceWarning:\n",
      "\n",
      "Stochastic Optimizer: Maximum iterations (200) reached and the optimization hasn't converged yet.\n",
      "\n",
      "/Users/flodje_uds/anaconda3/envs/mimb_cellpainting/lib/python3.8/site-packages/sklearn/neural_network/_multilayer_perceptron.py:691: ConvergenceWarning:\n",
      "\n",
      "Stochastic Optimizer: Maximum iterations (200) reached and the optimization hasn't converged yet.\n",
      "\n",
      "/Users/flodje_uds/anaconda3/envs/mimb_cellpainting/lib/python3.8/site-packages/sklearn/neural_network/_multilayer_perceptron.py:691: ConvergenceWarning:\n",
      "\n",
      "Stochastic Optimizer: Maximum iterations (200) reached and the optimization hasn't converged yet.\n",
      "\n",
      "/Users/flodje_uds/anaconda3/envs/mimb_cellpainting/lib/python3.8/site-packages/sklearn/neural_network/_multilayer_perceptron.py:691: ConvergenceWarning:\n",
      "\n",
      "Stochastic Optimizer: Maximum iterations (200) reached and the optimization hasn't converged yet.\n",
      "\n",
      "/Users/flodje_uds/anaconda3/envs/mimb_cellpainting/lib/python3.8/site-packages/sklearn/neural_network/_multilayer_perceptron.py:691: ConvergenceWarning:\n",
      "\n",
      "Stochastic Optimizer: Maximum iterations (200) reached and the optimization hasn't converged yet.\n",
      "\n",
      "/Users/flodje_uds/anaconda3/envs/mimb_cellpainting/lib/python3.8/site-packages/sklearn/neural_network/_multilayer_perceptron.py:691: ConvergenceWarning:\n",
      "\n",
      "Stochastic Optimizer: Maximum iterations (200) reached and the optimization hasn't converged yet.\n",
      "\n",
      "/Users/flodje_uds/anaconda3/envs/mimb_cellpainting/lib/python3.8/site-packages/sklearn/neural_network/_multilayer_perceptron.py:691: ConvergenceWarning:\n",
      "\n",
      "Stochastic Optimizer: Maximum iterations (200) reached and the optimization hasn't converged yet.\n",
      "\n",
      "/Users/flodje_uds/anaconda3/envs/mimb_cellpainting/lib/python3.8/site-packages/sklearn/neural_network/_multilayer_perceptron.py:691: ConvergenceWarning:\n",
      "\n",
      "Stochastic Optimizer: Maximum iterations (200) reached and the optimization hasn't converged yet.\n",
      "\n",
      "/Users/flodje_uds/anaconda3/envs/mimb_cellpainting/lib/python3.8/site-packages/sklearn/neural_network/_multilayer_perceptron.py:691: ConvergenceWarning:\n",
      "\n",
      "Stochastic Optimizer: Maximum iterations (200) reached and the optimization hasn't converged yet.\n",
      "\n",
      "/Users/flodje_uds/anaconda3/envs/mimb_cellpainting/lib/python3.8/site-packages/sklearn/neural_network/_multilayer_perceptron.py:691: ConvergenceWarning:\n",
      "\n",
      "Stochastic Optimizer: Maximum iterations (200) reached and the optimization hasn't converged yet.\n",
      "\n",
      "/Users/flodje_uds/anaconda3/envs/mimb_cellpainting/lib/python3.8/site-packages/sklearn/neural_network/_multilayer_perceptron.py:691: ConvergenceWarning:\n",
      "\n",
      "Stochastic Optimizer: Maximum iterations (200) reached and the optimization hasn't converged yet.\n",
      "\n",
      "/Users/flodje_uds/anaconda3/envs/mimb_cellpainting/lib/python3.8/site-packages/sklearn/neural_network/_multilayer_perceptron.py:691: ConvergenceWarning:\n",
      "\n",
      "Stochastic Optimizer: Maximum iterations (200) reached and the optimization hasn't converged yet.\n",
      "\n",
      "/Users/flodje_uds/anaconda3/envs/mimb_cellpainting/lib/python3.8/site-packages/sklearn/neural_network/_multilayer_perceptron.py:691: ConvergenceWarning:\n",
      "\n",
      "Stochastic Optimizer: Maximum iterations (200) reached and the optimization hasn't converged yet.\n",
      "\n",
      "/Users/flodje_uds/anaconda3/envs/mimb_cellpainting/lib/python3.8/site-packages/sklearn/neural_network/_multilayer_perceptron.py:691: ConvergenceWarning:\n",
      "\n",
      "Stochastic Optimizer: Maximum iterations (200) reached and the optimization hasn't converged yet.\n",
      "\n",
      "/Users/flodje_uds/anaconda3/envs/mimb_cellpainting/lib/python3.8/site-packages/sklearn/neural_network/_multilayer_perceptron.py:691: ConvergenceWarning:\n",
      "\n",
      "Stochastic Optimizer: Maximum iterations (200) reached and the optimization hasn't converged yet.\n",
      "\n",
      "/Users/flodje_uds/anaconda3/envs/mimb_cellpainting/lib/python3.8/site-packages/sklearn/neural_network/_multilayer_perceptron.py:691: ConvergenceWarning:\n",
      "\n",
      "Stochastic Optimizer: Maximum iterations (200) reached and the optimization hasn't converged yet.\n",
      "\n",
      "/Users/flodje_uds/anaconda3/envs/mimb_cellpainting/lib/python3.8/site-packages/sklearn/neural_network/_multilayer_perceptron.py:691: ConvergenceWarning:\n",
      "\n",
      "Stochastic Optimizer: Maximum iterations (200) reached and the optimization hasn't converged yet.\n",
      "\n",
      "/Users/flodje_uds/anaconda3/envs/mimb_cellpainting/lib/python3.8/site-packages/sklearn/neural_network/_multilayer_perceptron.py:691: ConvergenceWarning:\n",
      "\n",
      "Stochastic Optimizer: Maximum iterations (200) reached and the optimization hasn't converged yet.\n",
      "\n",
      "/Users/flodje_uds/anaconda3/envs/mimb_cellpainting/lib/python3.8/site-packages/sklearn/neural_network/_multilayer_perceptron.py:691: ConvergenceWarning:\n",
      "\n",
      "Stochastic Optimizer: Maximum iterations (200) reached and the optimization hasn't converged yet.\n",
      "\n",
      "/Users/flodje_uds/anaconda3/envs/mimb_cellpainting/lib/python3.8/site-packages/sklearn/neural_network/_multilayer_perceptron.py:691: ConvergenceWarning:\n",
      "\n",
      "Stochastic Optimizer: Maximum iterations (200) reached and the optimization hasn't converged yet.\n",
      "\n",
      "/Users/flodje_uds/anaconda3/envs/mimb_cellpainting/lib/python3.8/site-packages/sklearn/neural_network/_multilayer_perceptron.py:691: ConvergenceWarning:\n",
      "\n",
      "Stochastic Optimizer: Maximum iterations (200) reached and the optimization hasn't converged yet.\n",
      "\n",
      "/Users/flodje_uds/anaconda3/envs/mimb_cellpainting/lib/python3.8/site-packages/sklearn/neural_network/_multilayer_perceptron.py:691: ConvergenceWarning:\n",
      "\n",
      "Stochastic Optimizer: Maximum iterations (200) reached and the optimization hasn't converged yet.\n",
      "\n",
      "/Users/flodje_uds/anaconda3/envs/mimb_cellpainting/lib/python3.8/site-packages/sklearn/neural_network/_multilayer_perceptron.py:691: ConvergenceWarning:\n",
      "\n",
      "Stochastic Optimizer: Maximum iterations (200) reached and the optimization hasn't converged yet.\n",
      "\n",
      "/Users/flodje_uds/anaconda3/envs/mimb_cellpainting/lib/python3.8/site-packages/sklearn/neural_network/_multilayer_perceptron.py:691: ConvergenceWarning:\n",
      "\n",
      "Stochastic Optimizer: Maximum iterations (200) reached and the optimization hasn't converged yet.\n",
      "\n",
      "/Users/flodje_uds/anaconda3/envs/mimb_cellpainting/lib/python3.8/site-packages/sklearn/neural_network/_multilayer_perceptron.py:691: ConvergenceWarning:\n",
      "\n",
      "Stochastic Optimizer: Maximum iterations (200) reached and the optimization hasn't converged yet.\n",
      "\n",
      "/Users/flodje_uds/anaconda3/envs/mimb_cellpainting/lib/python3.8/site-packages/sklearn/neural_network/_multilayer_perceptron.py:691: ConvergenceWarning:\n",
      "\n",
      "Stochastic Optimizer: Maximum iterations (200) reached and the optimization hasn't converged yet.\n",
      "\n",
      "/Users/flodje_uds/anaconda3/envs/mimb_cellpainting/lib/python3.8/site-packages/sklearn/neural_network/_multilayer_perceptron.py:691: ConvergenceWarning:\n",
      "\n",
      "Stochastic Optimizer: Maximum iterations (200) reached and the optimization hasn't converged yet.\n",
      "\n",
      "/Users/flodje_uds/anaconda3/envs/mimb_cellpainting/lib/python3.8/site-packages/sklearn/neural_network/_multilayer_perceptron.py:691: ConvergenceWarning:\n",
      "\n",
      "Stochastic Optimizer: Maximum iterations (200) reached and the optimization hasn't converged yet.\n",
      "\n",
      "/Users/flodje_uds/anaconda3/envs/mimb_cellpainting/lib/python3.8/site-packages/sklearn/neural_network/_multilayer_perceptron.py:691: ConvergenceWarning:\n",
      "\n",
      "Stochastic Optimizer: Maximum iterations (200) reached and the optimization hasn't converged yet.\n",
      "\n",
      "/Users/flodje_uds/anaconda3/envs/mimb_cellpainting/lib/python3.8/site-packages/sklearn/neural_network/_multilayer_perceptron.py:691: ConvergenceWarning:\n",
      "\n",
      "Stochastic Optimizer: Maximum iterations (200) reached and the optimization hasn't converged yet.\n",
      "\n",
      "/Users/flodje_uds/anaconda3/envs/mimb_cellpainting/lib/python3.8/site-packages/sklearn/neural_network/_multilayer_perceptron.py:691: ConvergenceWarning:\n",
      "\n",
      "Stochastic Optimizer: Maximum iterations (200) reached and the optimization hasn't converged yet.\n",
      "\n",
      "/Users/flodje_uds/anaconda3/envs/mimb_cellpainting/lib/python3.8/site-packages/sklearn/neural_network/_multilayer_perceptron.py:691: ConvergenceWarning:\n",
      "\n",
      "Stochastic Optimizer: Maximum iterations (200) reached and the optimization hasn't converged yet.\n",
      "\n",
      "/Users/flodje_uds/anaconda3/envs/mimb_cellpainting/lib/python3.8/site-packages/sklearn/neural_network/_multilayer_perceptron.py:691: ConvergenceWarning:\n",
      "\n",
      "Stochastic Optimizer: Maximum iterations (200) reached and the optimization hasn't converged yet.\n",
      "\n",
      "/Users/flodje_uds/anaconda3/envs/mimb_cellpainting/lib/python3.8/site-packages/sklearn/neural_network/_multilayer_perceptron.py:691: ConvergenceWarning:\n",
      "\n",
      "Stochastic Optimizer: Maximum iterations (200) reached and the optimization hasn't converged yet.\n",
      "\n",
      "/Users/flodje_uds/anaconda3/envs/mimb_cellpainting/lib/python3.8/site-packages/sklearn/neural_network/_multilayer_perceptron.py:691: ConvergenceWarning:\n",
      "\n",
      "Stochastic Optimizer: Maximum iterations (200) reached and the optimization hasn't converged yet.\n",
      "\n",
      "/Users/flodje_uds/anaconda3/envs/mimb_cellpainting/lib/python3.8/site-packages/sklearn/neural_network/_multilayer_perceptron.py:691: ConvergenceWarning:\n",
      "\n",
      "Stochastic Optimizer: Maximum iterations (200) reached and the optimization hasn't converged yet.\n",
      "\n",
      "/Users/flodje_uds/anaconda3/envs/mimb_cellpainting/lib/python3.8/site-packages/sklearn/neural_network/_multilayer_perceptron.py:691: ConvergenceWarning:\n",
      "\n",
      "Stochastic Optimizer: Maximum iterations (200) reached and the optimization hasn't converged yet.\n",
      "\n",
      "/Users/flodje_uds/anaconda3/envs/mimb_cellpainting/lib/python3.8/site-packages/sklearn/neural_network/_multilayer_perceptron.py:691: ConvergenceWarning:\n",
      "\n",
      "Stochastic Optimizer: Maximum iterations (200) reached and the optimization hasn't converged yet.\n",
      "\n",
      "/Users/flodje_uds/anaconda3/envs/mimb_cellpainting/lib/python3.8/site-packages/sklearn/neural_network/_multilayer_perceptron.py:691: ConvergenceWarning:\n",
      "\n",
      "Stochastic Optimizer: Maximum iterations (200) reached and the optimization hasn't converged yet.\n",
      "\n",
      "/Users/flodje_uds/anaconda3/envs/mimb_cellpainting/lib/python3.8/site-packages/sklearn/neural_network/_multilayer_perceptron.py:691: ConvergenceWarning:\n",
      "\n",
      "Stochastic Optimizer: Maximum iterations (200) reached and the optimization hasn't converged yet.\n",
      "\n",
      "/Users/flodje_uds/anaconda3/envs/mimb_cellpainting/lib/python3.8/site-packages/sklearn/neural_network/_multilayer_perceptron.py:691: ConvergenceWarning:\n",
      "\n",
      "Stochastic Optimizer: Maximum iterations (200) reached and the optimization hasn't converged yet.\n",
      "\n",
      "/Users/flodje_uds/anaconda3/envs/mimb_cellpainting/lib/python3.8/site-packages/sklearn/neural_network/_multilayer_perceptron.py:691: ConvergenceWarning:\n",
      "\n",
      "Stochastic Optimizer: Maximum iterations (200) reached and the optimization hasn't converged yet.\n",
      "\n",
      "/Users/flodje_uds/anaconda3/envs/mimb_cellpainting/lib/python3.8/site-packages/sklearn/neural_network/_multilayer_perceptron.py:691: ConvergenceWarning:\n",
      "\n",
      "Stochastic Optimizer: Maximum iterations (200) reached and the optimization hasn't converged yet.\n",
      "\n",
      "/Users/flodje_uds/anaconda3/envs/mimb_cellpainting/lib/python3.8/site-packages/sklearn/neural_network/_multilayer_perceptron.py:691: ConvergenceWarning:\n",
      "\n",
      "Stochastic Optimizer: Maximum iterations (200) reached and the optimization hasn't converged yet.\n",
      "\n",
      "/Users/flodje_uds/anaconda3/envs/mimb_cellpainting/lib/python3.8/site-packages/sklearn/neural_network/_multilayer_perceptron.py:691: ConvergenceWarning:\n",
      "\n",
      "Stochastic Optimizer: Maximum iterations (200) reached and the optimization hasn't converged yet.\n",
      "\n",
      "/Users/flodje_uds/anaconda3/envs/mimb_cellpainting/lib/python3.8/site-packages/sklearn/neural_network/_multilayer_perceptron.py:691: ConvergenceWarning:\n",
      "\n",
      "Stochastic Optimizer: Maximum iterations (200) reached and the optimization hasn't converged yet.\n",
      "\n",
      "/Users/flodje_uds/anaconda3/envs/mimb_cellpainting/lib/python3.8/site-packages/sklearn/neural_network/_multilayer_perceptron.py:691: ConvergenceWarning:\n",
      "\n",
      "Stochastic Optimizer: Maximum iterations (200) reached and the optimization hasn't converged yet.\n",
      "\n",
      "/Users/flodje_uds/anaconda3/envs/mimb_cellpainting/lib/python3.8/site-packages/sklearn/neural_network/_multilayer_perceptron.py:691: ConvergenceWarning:\n",
      "\n",
      "Stochastic Optimizer: Maximum iterations (200) reached and the optimization hasn't converged yet.\n",
      "\n",
      "/Users/flodje_uds/anaconda3/envs/mimb_cellpainting/lib/python3.8/site-packages/sklearn/neural_network/_multilayer_perceptron.py:691: ConvergenceWarning:\n",
      "\n",
      "Stochastic Optimizer: Maximum iterations (200) reached and the optimization hasn't converged yet.\n",
      "\n",
      "/Users/flodje_uds/anaconda3/envs/mimb_cellpainting/lib/python3.8/site-packages/sklearn/neural_network/_multilayer_perceptron.py:691: ConvergenceWarning:\n",
      "\n",
      "Stochastic Optimizer: Maximum iterations (200) reached and the optimization hasn't converged yet.\n",
      "\n",
      "/Users/flodje_uds/anaconda3/envs/mimb_cellpainting/lib/python3.8/site-packages/sklearn/neural_network/_multilayer_perceptron.py:691: ConvergenceWarning:\n",
      "\n",
      "Stochastic Optimizer: Maximum iterations (200) reached and the optimization hasn't converged yet.\n",
      "\n",
      "/Users/flodje_uds/anaconda3/envs/mimb_cellpainting/lib/python3.8/site-packages/sklearn/neural_network/_multilayer_perceptron.py:691: ConvergenceWarning:\n",
      "\n",
      "Stochastic Optimizer: Maximum iterations (200) reached and the optimization hasn't converged yet.\n",
      "\n",
      "/Users/flodje_uds/anaconda3/envs/mimb_cellpainting/lib/python3.8/site-packages/sklearn/neural_network/_multilayer_perceptron.py:691: ConvergenceWarning:\n",
      "\n",
      "Stochastic Optimizer: Maximum iterations (200) reached and the optimization hasn't converged yet.\n",
      "\n",
      "/Users/flodje_uds/anaconda3/envs/mimb_cellpainting/lib/python3.8/site-packages/sklearn/neural_network/_multilayer_perceptron.py:691: ConvergenceWarning:\n",
      "\n",
      "Stochastic Optimizer: Maximum iterations (200) reached and the optimization hasn't converged yet.\n",
      "\n",
      "/Users/flodje_uds/anaconda3/envs/mimb_cellpainting/lib/python3.8/site-packages/sklearn/neural_network/_multilayer_perceptron.py:691: ConvergenceWarning:\n",
      "\n",
      "Stochastic Optimizer: Maximum iterations (200) reached and the optimization hasn't converged yet.\n",
      "\n",
      "/Users/flodje_uds/anaconda3/envs/mimb_cellpainting/lib/python3.8/site-packages/sklearn/neural_network/_multilayer_perceptron.py:691: ConvergenceWarning:\n",
      "\n",
      "Stochastic Optimizer: Maximum iterations (150) reached and the optimization hasn't converged yet.\n",
      "\n",
      "/Users/flodje_uds/anaconda3/envs/mimb_cellpainting/lib/python3.8/site-packages/sklearn/neural_network/_multilayer_perceptron.py:691: ConvergenceWarning:\n",
      "\n",
      "Stochastic Optimizer: Maximum iterations (150) reached and the optimization hasn't converged yet.\n",
      "\n",
      "/Users/flodje_uds/anaconda3/envs/mimb_cellpainting/lib/python3.8/site-packages/sklearn/neural_network/_multilayer_perceptron.py:691: ConvergenceWarning:\n",
      "\n",
      "Stochastic Optimizer: Maximum iterations (150) reached and the optimization hasn't converged yet.\n",
      "\n",
      "/Users/flodje_uds/anaconda3/envs/mimb_cellpainting/lib/python3.8/site-packages/sklearn/neural_network/_multilayer_perceptron.py:691: ConvergenceWarning:\n",
      "\n",
      "Stochastic Optimizer: Maximum iterations (150) reached and the optimization hasn't converged yet.\n",
      "\n",
      "/Users/flodje_uds/anaconda3/envs/mimb_cellpainting/lib/python3.8/site-packages/sklearn/neural_network/_multilayer_perceptron.py:691: ConvergenceWarning:\n",
      "\n",
      "Stochastic Optimizer: Maximum iterations (150) reached and the optimization hasn't converged yet.\n",
      "\n",
      "/Users/flodje_uds/anaconda3/envs/mimb_cellpainting/lib/python3.8/site-packages/sklearn/neural_network/_multilayer_perceptron.py:691: ConvergenceWarning:\n",
      "\n",
      "Stochastic Optimizer: Maximum iterations (200) reached and the optimization hasn't converged yet.\n",
      "\n",
      "/Users/flodje_uds/anaconda3/envs/mimb_cellpainting/lib/python3.8/site-packages/sklearn/neural_network/_multilayer_perceptron.py:691: ConvergenceWarning:\n",
      "\n",
      "Stochastic Optimizer: Maximum iterations (200) reached and the optimization hasn't converged yet.\n",
      "\n",
      "/Users/flodje_uds/anaconda3/envs/mimb_cellpainting/lib/python3.8/site-packages/sklearn/neural_network/_multilayer_perceptron.py:691: ConvergenceWarning:\n",
      "\n",
      "Stochastic Optimizer: Maximum iterations (200) reached and the optimization hasn't converged yet.\n",
      "\n",
      "/Users/flodje_uds/anaconda3/envs/mimb_cellpainting/lib/python3.8/site-packages/sklearn/neural_network/_multilayer_perceptron.py:691: ConvergenceWarning:\n",
      "\n",
      "Stochastic Optimizer: Maximum iterations (200) reached and the optimization hasn't converged yet.\n",
      "\n",
      "/Users/flodje_uds/anaconda3/envs/mimb_cellpainting/lib/python3.8/site-packages/sklearn/neural_network/_multilayer_perceptron.py:691: ConvergenceWarning:\n",
      "\n",
      "Stochastic Optimizer: Maximum iterations (200) reached and the optimization hasn't converged yet.\n",
      "\n",
      "/Users/flodje_uds/anaconda3/envs/mimb_cellpainting/lib/python3.8/site-packages/sklearn/neural_network/_multilayer_perceptron.py:691: ConvergenceWarning:\n",
      "\n",
      "Stochastic Optimizer: Maximum iterations (200) reached and the optimization hasn't converged yet.\n",
      "\n",
      "/Users/flodje_uds/anaconda3/envs/mimb_cellpainting/lib/python3.8/site-packages/sklearn/neural_network/_multilayer_perceptron.py:691: ConvergenceWarning:\n",
      "\n",
      "Stochastic Optimizer: Maximum iterations (200) reached and the optimization hasn't converged yet.\n",
      "\n",
      "/Users/flodje_uds/anaconda3/envs/mimb_cellpainting/lib/python3.8/site-packages/sklearn/neural_network/_multilayer_perceptron.py:691: ConvergenceWarning:\n",
      "\n",
      "Stochastic Optimizer: Maximum iterations (200) reached and the optimization hasn't converged yet.\n",
      "\n",
      "/Users/flodje_uds/anaconda3/envs/mimb_cellpainting/lib/python3.8/site-packages/sklearn/neural_network/_multilayer_perceptron.py:691: ConvergenceWarning:\n",
      "\n",
      "Stochastic Optimizer: Maximum iterations (200) reached and the optimization hasn't converged yet.\n",
      "\n",
      "/Users/flodje_uds/anaconda3/envs/mimb_cellpainting/lib/python3.8/site-packages/sklearn/neural_network/_multilayer_perceptron.py:691: ConvergenceWarning:\n",
      "\n",
      "Stochastic Optimizer: Maximum iterations (200) reached and the optimization hasn't converged yet.\n",
      "\n"
     ]
    }
   ],
   "source": [
    "best_estimator_morpho_mlpc = MLPC_cross_validation(X_train,y_train_activities)\n"
   ]
  },
  {
   "cell_type": "code",
   "execution_count": 169,
   "metadata": {},
   "outputs": [
    {
     "name": "stderr",
     "output_type": "stream",
     "text": [
      "/Users/flodje_uds/anaconda3/envs/mimb_cellpainting/lib/python3.8/site-packages/sklearn/neural_network/_multilayer_perceptron.py:691: ConvergenceWarning:\n",
      "\n",
      "Stochastic Optimizer: Maximum iterations (200) reached and the optimization hasn't converged yet.\n",
      "\n",
      "/Users/flodje_uds/anaconda3/envs/mimb_cellpainting/lib/python3.8/site-packages/sklearn/neural_network/_multilayer_perceptron.py:691: ConvergenceWarning:\n",
      "\n",
      "Stochastic Optimizer: Maximum iterations (200) reached and the optimization hasn't converged yet.\n",
      "\n",
      "/Users/flodje_uds/anaconda3/envs/mimb_cellpainting/lib/python3.8/site-packages/sklearn/neural_network/_multilayer_perceptron.py:691: ConvergenceWarning:\n",
      "\n",
      "Stochastic Optimizer: Maximum iterations (200) reached and the optimization hasn't converged yet.\n",
      "\n",
      "/Users/flodje_uds/anaconda3/envs/mimb_cellpainting/lib/python3.8/site-packages/sklearn/neural_network/_multilayer_perceptron.py:691: ConvergenceWarning:\n",
      "\n",
      "Stochastic Optimizer: Maximum iterations (200) reached and the optimization hasn't converged yet.\n",
      "\n",
      "/Users/flodje_uds/anaconda3/envs/mimb_cellpainting/lib/python3.8/site-packages/sklearn/neural_network/_multilayer_perceptron.py:691: ConvergenceWarning:\n",
      "\n",
      "Stochastic Optimizer: Maximum iterations (200) reached and the optimization hasn't converged yet.\n",
      "\n",
      "/Users/flodje_uds/anaconda3/envs/mimb_cellpainting/lib/python3.8/site-packages/sklearn/neural_network/_multilayer_perceptron.py:691: ConvergenceWarning:\n",
      "\n",
      "Stochastic Optimizer: Maximum iterations (200) reached and the optimization hasn't converged yet.\n",
      "\n",
      "/Users/flodje_uds/anaconda3/envs/mimb_cellpainting/lib/python3.8/site-packages/sklearn/neural_network/_multilayer_perceptron.py:691: ConvergenceWarning:\n",
      "\n",
      "Stochastic Optimizer: Maximum iterations (200) reached and the optimization hasn't converged yet.\n",
      "\n",
      "/Users/flodje_uds/anaconda3/envs/mimb_cellpainting/lib/python3.8/site-packages/sklearn/neural_network/_multilayer_perceptron.py:691: ConvergenceWarning:\n",
      "\n",
      "Stochastic Optimizer: Maximum iterations (200) reached and the optimization hasn't converged yet.\n",
      "\n",
      "/Users/flodje_uds/anaconda3/envs/mimb_cellpainting/lib/python3.8/site-packages/sklearn/neural_network/_multilayer_perceptron.py:691: ConvergenceWarning:\n",
      "\n",
      "Stochastic Optimizer: Maximum iterations (200) reached and the optimization hasn't converged yet.\n",
      "\n",
      "/Users/flodje_uds/anaconda3/envs/mimb_cellpainting/lib/python3.8/site-packages/sklearn/neural_network/_multilayer_perceptron.py:691: ConvergenceWarning:\n",
      "\n",
      "Stochastic Optimizer: Maximum iterations (200) reached and the optimization hasn't converged yet.\n",
      "\n",
      "/Users/flodje_uds/anaconda3/envs/mimb_cellpainting/lib/python3.8/site-packages/sklearn/neural_network/_multilayer_perceptron.py:691: ConvergenceWarning:\n",
      "\n",
      "Stochastic Optimizer: Maximum iterations (200) reached and the optimization hasn't converged yet.\n",
      "\n",
      "/Users/flodje_uds/anaconda3/envs/mimb_cellpainting/lib/python3.8/site-packages/sklearn/neural_network/_multilayer_perceptron.py:691: ConvergenceWarning:\n",
      "\n",
      "Stochastic Optimizer: Maximum iterations (200) reached and the optimization hasn't converged yet.\n",
      "\n",
      "/Users/flodje_uds/anaconda3/envs/mimb_cellpainting/lib/python3.8/site-packages/sklearn/neural_network/_multilayer_perceptron.py:691: ConvergenceWarning:\n",
      "\n",
      "Stochastic Optimizer: Maximum iterations (200) reached and the optimization hasn't converged yet.\n",
      "\n",
      "/Users/flodje_uds/anaconda3/envs/mimb_cellpainting/lib/python3.8/site-packages/sklearn/neural_network/_multilayer_perceptron.py:691: ConvergenceWarning:\n",
      "\n",
      "Stochastic Optimizer: Maximum iterations (200) reached and the optimization hasn't converged yet.\n",
      "\n",
      "/Users/flodje_uds/anaconda3/envs/mimb_cellpainting/lib/python3.8/site-packages/sklearn/neural_network/_multilayer_perceptron.py:691: ConvergenceWarning:\n",
      "\n",
      "Stochastic Optimizer: Maximum iterations (150) reached and the optimization hasn't converged yet.\n",
      "\n",
      "/Users/flodje_uds/anaconda3/envs/mimb_cellpainting/lib/python3.8/site-packages/sklearn/neural_network/_multilayer_perceptron.py:691: ConvergenceWarning:\n",
      "\n",
      "Stochastic Optimizer: Maximum iterations (150) reached and the optimization hasn't converged yet.\n",
      "\n",
      "/Users/flodje_uds/anaconda3/envs/mimb_cellpainting/lib/python3.8/site-packages/sklearn/neural_network/_multilayer_perceptron.py:691: ConvergenceWarning:\n",
      "\n",
      "Stochastic Optimizer: Maximum iterations (150) reached and the optimization hasn't converged yet.\n",
      "\n"
     ]
    }
   ],
   "source": [
    "best_estimator_struct_mlpc = MLPC_cross_validation(X_train_struct_fps,y_train_activities)"
   ]
  },
  {
   "cell_type": "code",
   "execution_count": 170,
   "metadata": {},
   "outputs": [
    {
     "name": "stderr",
     "output_type": "stream",
     "text": [
      "/Users/flodje_uds/anaconda3/envs/mimb_cellpainting/lib/python3.8/site-packages/sklearn/neural_network/_multilayer_perceptron.py:691: ConvergenceWarning:\n",
      "\n",
      "Stochastic Optimizer: Maximum iterations (200) reached and the optimization hasn't converged yet.\n",
      "\n",
      "/Users/flodje_uds/anaconda3/envs/mimb_cellpainting/lib/python3.8/site-packages/sklearn/neural_network/_multilayer_perceptron.py:691: ConvergenceWarning:\n",
      "\n",
      "Stochastic Optimizer: Maximum iterations (200) reached and the optimization hasn't converged yet.\n",
      "\n",
      "/Users/flodje_uds/anaconda3/envs/mimb_cellpainting/lib/python3.8/site-packages/sklearn/neural_network/_multilayer_perceptron.py:691: ConvergenceWarning:\n",
      "\n",
      "Stochastic Optimizer: Maximum iterations (200) reached and the optimization hasn't converged yet.\n",
      "\n",
      "/Users/flodje_uds/anaconda3/envs/mimb_cellpainting/lib/python3.8/site-packages/sklearn/neural_network/_multilayer_perceptron.py:691: ConvergenceWarning:\n",
      "\n",
      "Stochastic Optimizer: Maximum iterations (200) reached and the optimization hasn't converged yet.\n",
      "\n",
      "/Users/flodje_uds/anaconda3/envs/mimb_cellpainting/lib/python3.8/site-packages/sklearn/neural_network/_multilayer_perceptron.py:691: ConvergenceWarning:\n",
      "\n",
      "Stochastic Optimizer: Maximum iterations (200) reached and the optimization hasn't converged yet.\n",
      "\n",
      "/Users/flodje_uds/anaconda3/envs/mimb_cellpainting/lib/python3.8/site-packages/sklearn/neural_network/_multilayer_perceptron.py:691: ConvergenceWarning:\n",
      "\n",
      "Stochastic Optimizer: Maximum iterations (200) reached and the optimization hasn't converged yet.\n",
      "\n",
      "/Users/flodje_uds/anaconda3/envs/mimb_cellpainting/lib/python3.8/site-packages/sklearn/neural_network/_multilayer_perceptron.py:691: ConvergenceWarning:\n",
      "\n",
      "Stochastic Optimizer: Maximum iterations (200) reached and the optimization hasn't converged yet.\n",
      "\n",
      "/Users/flodje_uds/anaconda3/envs/mimb_cellpainting/lib/python3.8/site-packages/sklearn/neural_network/_multilayer_perceptron.py:691: ConvergenceWarning:\n",
      "\n",
      "Stochastic Optimizer: Maximum iterations (200) reached and the optimization hasn't converged yet.\n",
      "\n",
      "/Users/flodje_uds/anaconda3/envs/mimb_cellpainting/lib/python3.8/site-packages/sklearn/neural_network/_multilayer_perceptron.py:691: ConvergenceWarning:\n",
      "\n",
      "Stochastic Optimizer: Maximum iterations (200) reached and the optimization hasn't converged yet.\n",
      "\n",
      "/Users/flodje_uds/anaconda3/envs/mimb_cellpainting/lib/python3.8/site-packages/sklearn/neural_network/_multilayer_perceptron.py:691: ConvergenceWarning:\n",
      "\n",
      "Stochastic Optimizer: Maximum iterations (200) reached and the optimization hasn't converged yet.\n",
      "\n",
      "/Users/flodje_uds/anaconda3/envs/mimb_cellpainting/lib/python3.8/site-packages/sklearn/neural_network/_multilayer_perceptron.py:691: ConvergenceWarning:\n",
      "\n",
      "Stochastic Optimizer: Maximum iterations (200) reached and the optimization hasn't converged yet.\n",
      "\n",
      "/Users/flodje_uds/anaconda3/envs/mimb_cellpainting/lib/python3.8/site-packages/sklearn/neural_network/_multilayer_perceptron.py:691: ConvergenceWarning:\n",
      "\n",
      "Stochastic Optimizer: Maximum iterations (200) reached and the optimization hasn't converged yet.\n",
      "\n",
      "/Users/flodje_uds/anaconda3/envs/mimb_cellpainting/lib/python3.8/site-packages/sklearn/neural_network/_multilayer_perceptron.py:691: ConvergenceWarning:\n",
      "\n",
      "Stochastic Optimizer: Maximum iterations (200) reached and the optimization hasn't converged yet.\n",
      "\n",
      "/Users/flodje_uds/anaconda3/envs/mimb_cellpainting/lib/python3.8/site-packages/sklearn/neural_network/_multilayer_perceptron.py:691: ConvergenceWarning:\n",
      "\n",
      "Stochastic Optimizer: Maximum iterations (200) reached and the optimization hasn't converged yet.\n",
      "\n"
     ]
    }
   ],
   "source": [
    "combined_train = np.concatenate([X_train.values,fingerprint_train_df.values],axis=1)\n",
    "combined_test = np.concatenate([X_test.values,fingerprint_test_df.values],axis=1)\n",
    "best_estimator_combined = rf_cross_validation(combined_train, y_train_activities)\n",
    "best_estimator_combined_mlpc = MLPC_cross_validation(combined_train, y_train_activities)"
   ]
  },
  {
   "cell_type": "markdown",
   "metadata": {},
   "source": [
    "## Model Instantiation and Evaluation Function"
   ]
  },
  {
   "cell_type": "code",
   "execution_count": 115,
   "metadata": {},
   "outputs": [],
   "source": [
    "models = {\n",
    "    \"RF\"         : [RandomForestClassifier(random_state=42,class_weight ='balanced')], ##default\n",
    "    \"RF_morpho\"  : [best_estimator_morpho] ,\n",
    "    \"RF_struct\"  : [best_estimator_struct],\n",
    "    \"RF_combined\": [best_estimator_combined],\n",
    "\n",
    "    \"MLPC\"       : [MLPClassifier(random_state=42)],  ##default\n",
    "    \"MLP_morpho\"  : [best_estimator_morpho_mlpc ],\n",
    "    \"MLP_struct\"  : [best_estimator_struct_mlpc],\n",
    "    \"MLP_combined\": [best_estimator_combined_mlpc]\n",
    "}\n",
    "\n",
    "def evaluate_model(y_test,y_pred):\n",
    "    \n",
    "    '''\n",
    "    Compute and asses a model with acc balanced acc and f1 metrics \n",
    "        Parameters : \n",
    "            y_test: test to predict \n",
    "            y_pred: pred made by the model\n",
    "        Returns : \n",
    "            classification report \n",
    "    '''    \n",
    "    \n",
    "    ba = balanced_accuracy_score(y_test,y_pred)\n",
    "    mcc = matthews_corrcoef(y_pred=y_pred, y_true=y_test)\n",
    "\n",
    "    print(f'Evaluation of predicition made on Test set : ')\n",
    "    print(f'Metrics to evaluate the model:\\n Balanced accuracy : {ba*100:.2f} % ,\\n MCC : {mcc:.3f}.')\n",
    "    print(f'Summary metrics in a cross table:\\n')\n",
    "    print(classification_report(y_test, y_pred, zero_division=0))\n",
    "\n",
    "def make_predictions(models_dict ,selected_model,X_train,X_test,y_test,y_train) :\n",
    "\n",
    "    '''\n",
    "    Function to call to evaluate the model and do a cross val \n",
    "        Parameters : \n",
    "            models_dict (dictionary): dict of defined architecture and its parameters\n",
    "            selected_model (str): name of the model to choose\n",
    "            y_test : vector to predict either morphological or structural fingerprint or both \n",
    "    '''      \n",
    "\n",
    "            \n",
    "    if selected_model in models_dict :\n",
    "        model = models_dict[selected_model][0]\n",
    "\n",
    "    #learn by fitting the model on the trainset \n",
    "    model.fit(X_train,y_train) \n",
    "    \n",
    "    #compute prediction on test set \n",
    "    predictions = model.predict(X_test)\n",
    "    evaluate_model(y_test,predictions) \n",
    "    return model\n",
    "\n"
   ]
  },
  {
   "cell_type": "markdown",
   "metadata": {},
   "source": [
    "## Make prediction on test set "
   ]
  },
  {
   "cell_type": "markdown",
   "metadata": {},
   "source": [
    "1. Morphological fingerprint RF"
   ]
  },
  {
   "cell_type": "code",
   "execution_count": null,
   "metadata": {},
   "outputs": [],
   "source": [
    "default_morpho_rf = make_predictions(models,'RF',X_train,X_test,y_test_activities,y_train_activities)\n"
   ]
  },
  {
   "cell_type": "code",
   "execution_count": null,
   "metadata": {},
   "outputs": [],
   "source": [
    "morpho_model_rf = make_predictions(models,'RF_morpho',X_train,X_test,y_test_activities,y_train_activities)"
   ]
  },
  {
   "cell_type": "markdown",
   "metadata": {},
   "source": [
    "2. Morphological fingerprint MLPC"
   ]
  },
  {
   "cell_type": "code",
   "execution_count": null,
   "metadata": {},
   "outputs": [],
   "source": [
    "default_morpho_MLPC = make_predictions(models,'MLPC',X_train,X_test,y_test_activities,y_train_activities)"
   ]
  },
  {
   "cell_type": "code",
   "execution_count": null,
   "metadata": {},
   "outputs": [],
   "source": [
    "morpho_MLPC = make_predictions(models,'MLP_morpho',X_train,X_test,y_test_activities,y_train_activities)"
   ]
  },
  {
   "cell_type": "markdown",
   "metadata": {},
   "source": [
    "1.B Structural fingerprint"
   ]
  },
  {
   "cell_type": "code",
   "execution_count": null,
   "metadata": {},
   "outputs": [],
   "source": [
    "default_struct_rf = make_predictions(models,'RF',X_train_struct_fps,X_test_struct_fps,y_test_activities,y_train_activities)"
   ]
  },
  {
   "cell_type": "code",
   "execution_count": null,
   "metadata": {},
   "outputs": [],
   "source": [
    "struct_model_rf = make_predictions(models,'RF_struct',X_train_struct_fps,X_test_struct_fps,y_test_activities,y_train_activities)"
   ]
  },
  {
   "cell_type": "markdown",
   "metadata": {},
   "source": [
    "2.B Structural fingerprint"
   ]
  },
  {
   "cell_type": "code",
   "execution_count": null,
   "metadata": {},
   "outputs": [],
   "source": [
    "default_morpho_MLPC = make_predictions(models,'MLPC',X_train_struct_fps,X_test_struct_fps,y_test_activities,y_train_activities)"
   ]
  },
  {
   "cell_type": "code",
   "execution_count": null,
   "metadata": {},
   "outputs": [],
   "source": [
    "morpho_MLPC = make_predictions(models,'MLP_struct',X_train_struct_fps,X_test_struct_fps,y_test_activities,y_train_activities)"
   ]
  },
  {
   "cell_type": "markdown",
   "metadata": {},
   "source": [
    "3. Combined "
   ]
  },
  {
   "cell_type": "markdown",
   "metadata": {},
   "source": [
    "First, before running model on combined fingerprint we will append the structural and morphological fineprrint using "
   ]
  },
  {
   "cell_type": "code",
   "execution_count": null,
   "metadata": {},
   "outputs": [],
   "source": [
    "combined_model_rf = make_predictions(models,'RF_combined',combined_train,combined_test,y_test_activities,y_train_activities)"
   ]
  },
  {
   "cell_type": "code",
   "execution_count": null,
   "metadata": {},
   "outputs": [],
   "source": [
    "combined_model_rf_default= make_predictions(models,'RF',combined_train,combined_test,y_test_activities,y_train_activities)"
   ]
  },
  {
   "cell_type": "code",
   "execution_count": null,
   "metadata": {},
   "outputs": [],
   "source": [
    "combined_model_MLP = make_predictions(models,'MLP_combined',combined_train,combined_test,y_test_activities,y_train_activities)"
   ]
  },
  {
   "cell_type": "code",
   "execution_count": null,
   "metadata": {},
   "outputs": [],
   "source": [
    "combined_model_MLP_default = make_predictions(models,'MLPC',combined_train,combined_test,y_test_activities,y_train_activities)"
   ]
  }
 ],
 "metadata": {
  "kernelspec": {
   "display_name": "mimb_cellpainting",
   "language": "python",
   "name": "python3"
  },
  "language_info": {
   "codemirror_mode": {
    "name": "ipython",
    "version": 3
   },
   "file_extension": ".py",
   "mimetype": "text/x-python",
   "name": "python",
   "nbconvert_exporter": "python",
   "pygments_lexer": "ipython3",
   "version": "3.8.19"
  }
 },
 "nbformat": 4,
 "nbformat_minor": 2
}
