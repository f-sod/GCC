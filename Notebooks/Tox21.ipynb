{
 "cells": [
  {
   "cell_type": "markdown",
   "metadata": {},
   "source": [
    "# Tox 21"
   ]
  },
  {
   "cell_type": "markdown",
   "metadata": {},
   "source": [
    "The main goal of Tox21 is to develop better toxicity assessment methods that use high-throughput screening and computational methods to replace traditional animal testing.\n",
    "\n",
    "In the assay they use thousands of chemicals to test their interaction with a wide range of biological targets using high-throughput assays. Focuses on understanding how chemicals affect biological pathways relevant to disease or adverse outcomes.\n",
    "\n",
    "→ Common use of the dataset (Task):  \n",
    "- Focus on **understanding chemical toxicity** at a systemic level, including **effects on various biological pathways**.\n",
    "- Data is often used for risk assessment and regulatory decision-making.\n",
    "- We will focus on the toxocity pathwa : NR signaling , by retrieving assay readout "
   ]
  },
  {
   "cell_type": "markdown",
   "metadata": {},
   "source": [
    "## The files"
   ]
  },
  {
   "cell_type": "markdown",
   "metadata": {},
   "source": [
    "- *Tox21_assay_list.xltx* : Exhaustive list of assay conducted on NR. A total of 38 assay are conducted on NR \n",
    "- *tox21_10k_library_info.xls* : List of compouds tested in the assay with their CID and CAS identifier, unified identifier for \n",
    "- *Tox21Assay_SLPs and Descriptoons_2016* : 38 assay compressed, each folder have 4 files, we are interested in concatenating the __.aggregated.txt__ files into one csv file\n",
    "    - The code to concatenate the assay was previously done therefore we will load the result saved under *Tox21_assay_aggregated.csv*"
   ]
  },
  {
   "cell_type": "markdown",
   "metadata": {},
   "source": [
    "- Known target toward NR ; AR, ERα, FXR, PPARδ, PPARγ, RXR, TRβ, VDR, GR, hPXR, AhR, rPXR, CAR, ERR"
   ]
  },
  {
   "cell_type": "markdown",
   "metadata": {},
   "source": [
    "## Import Libraries"
   ]
  },
  {
   "cell_type": "code",
   "execution_count": 1,
   "metadata": {},
   "outputs": [],
   "source": [
    "import re\n",
    "import sys\n",
    "import warnings\n",
    "import glob , os\n",
    "import pandas as pd"
   ]
  },
  {
   "cell_type": "code",
   "execution_count": 2,
   "metadata": {},
   "outputs": [],
   "source": [
    "\n",
    "def create_directory(path):\n",
    "    \"\"\"\n",
    "    Checks if a directory exists at the given path. If it doesn't, the directory is created.\n",
    "    \n",
    "    Args:\n",
    "        path (str): The path of the directory to check and create.\n",
    "    \"\"\"\n",
    "    if not os.path.exists(path):\n",
    "        os.mkdir(path)\n",
    "        print(f\"Directory '{path}' created.\")\n",
    "    else:\n",
    "        print(f\"Directory '{path}' already exists.\")\n"
   ]
  },
  {
   "cell_type": "markdown",
   "metadata": {},
   "source": [
    "## Load the files"
   ]
  },
  {
   "cell_type": "code",
   "execution_count": null,
   "metadata": {},
   "outputs": [],
   "source": [
    "assay_list = pd.read_excel('../Data/Annotations/Tox21_assay_list.xltx')\n",
    "assay_list.head()"
   ]
  },
  {
   "cell_type": "code",
   "execution_count": null,
   "metadata": {},
   "outputs": [],
   "source": [
    "assay_list_nr = assay_list[assay_list['Target Category'] == 'NR']\n",
    "print(f'There are {len(assay_list_nr)} NR different assays in the Tox21 dataset')\n",
    "assay_list_nr"
   ]
  },
  {
   "cell_type": "code",
   "execution_count": null,
   "metadata": {},
   "outputs": [],
   "source": [
    "receptor =  assay_list_nr['Protocol Name'].str.replace(r'[\\xa0]','', regex=True).str.split('-').str[1]\n",
    "receptor = list(set(receptor))\n",
    "print(f'There are {len(receptor)} different NR receptors tested in the Tox21 dataset')"
   ]
  },
  {
   "cell_type": "markdown",
   "metadata": {},
   "source": [
    "We will only retain the protocols conducted under the same assay readout, specifically the BLA (b-lactamase) reporter gene assay. Different assay readouts are as follows:\n",
    "\n",
    "- **Luminescence**: e.g., AR-MDA_TOX21_SLP_Version1.0 (non-receptor signaling)\n",
    "- **Luciferase Reporter**: e.g., tox21-ahr-p1 (Aryl Hydrocarbon Receptor (AhR)); CAR1_TOX21_SLP_Version1.0\n",
    "\n",
    "Please note that the assay version **Version1.0** is indicated as **-p1** in the assay name."
   ]
  },
  {
   "cell_type": "code",
   "execution_count": null,
   "metadata": {},
   "outputs": [],
   "source": [
    "blactamase_assay = []\n",
    "\n",
    "for assay in assay_list_nr['Protocol Name']:\n",
    "\n",
    "    if assay.split('-')[2] == 'bla' or (len(assay.split('-')) > 3 and assay.split('-')[3] == 'bla'):\n",
    "        blactamase_assay.append(assay)\n",
    "\n",
    "unique_receptors = list(set(item.split('-')[1] for item in blactamase_assay))\n",
    "\n",
    "# Print the results\n",
    "print(f\"There are {len(blactamase_assay)} BLA assays for {len(unique_receptors)} unique receptors, namely {unique_receptors}.\")"
   ]
  },
  {
   "cell_type": "code",
   "execution_count": 7,
   "metadata": {},
   "outputs": [],
   "source": [
    "blactamase_assay = [assay.replace('\\xa0', '') for assay in blactamase_assay]"
   ]
  },
  {
   "cell_type": "markdown",
   "metadata": {},
   "source": [
    "We load the library of 10,000 compounds and the Tox21Assay_SLPS assay from 2016, available for download [here](https://clowder.edap-cluster.com/datasets/63602c6de4b04f6bb13dc4d4)"
   ]
  },
  {
   "cell_type": "code",
   "execution_count": null,
   "metadata": {},
   "outputs": [],
   "source": [
    "''' \n",
    "path = ('../Data_reviewed/Tox21/Assay_aggregrated')\n",
    "\n",
    "all_assay = glob.glob(os.path.join(path, \"*.txt\"))\n",
    "non_empty_assays = [pd.read_table(f) for f in all_assay if not pd.read_table(f).empty]\n",
    "Tox21_assay = pd.concat(non_empty_assays, ignore_index=True)\n",
    "\n",
    "Tox21_assay.to_csv('../Data_reviewed/Tox21/Tox21_assay_aggregrated.csv', index=False)\n",
    "print(f\"There is {Tox21_assay['CAS'].nunique()} unique compounds in the Tox21 aggegated dataset\")\n",
    "'''"
   ]
  },
  {
   "cell_type": "code",
   "execution_count": null,
   "metadata": {},
   "outputs": [],
   "source": [
    "Tox21_assay = pd.read_csv('../Data/Annotations/Tox21_assay_aggregrated.csv',low_memory=False)\n",
    "print(f\"There is {Tox21_assay['CAS'].nunique()} unique compounds in the Tox21 aggegated dataset\")\n",
    "Tox21_assay.head(3)"
   ]
  },
  {
   "cell_type": "code",
   "execution_count": null,
   "metadata": {},
   "outputs": [],
   "source": [
    "library_info = pd.read_csv('../Data/Annotations/tox21_10k_library_info.tsv', delimiter='\\t')\n",
    "print(f\"There is {library_info['CAS'].nunique()} unique compounds in the Tox21 chemical library dataset\")"
   ]
  },
  {
   "cell_type": "code",
   "execution_count": null,
   "metadata": {},
   "outputs": [],
   "source": [
    "print(f\"There are {Tox21_assay['PROTOCOL_NAME'].nunique()} different assays retrieved, not all of directed toward  NR assays.\")"
   ]
  },
  {
   "cell_type": "markdown",
   "metadata": {},
   "source": [
    "- We only keep the assay that are relevant for us , ie, assay toward NR ; AR, ERα, FXR, PPARδ, PPARγ, RXR, TRβ, VDR, GR, hPXR, AhR, rPXR, CAR, ERR"
   ]
  },
  {
   "cell_type": "code",
   "execution_count": null,
   "metadata": {},
   "outputs": [],
   "source": [
    "Tox21_assay = Tox21_assay[Tox21_assay['PROTOCOL_NAME'].isin(blactamase_assay)]\n",
    "print(f\"There are {Tox21_assay['PROTOCOL_NAME'].nunique()} BLA readout assays toward NR receptor .\")"
   ]
  },
  {
   "cell_type": "code",
   "execution_count": null,
   "metadata": {},
   "outputs": [],
   "source": [
    "sorted_protocol_names = sorted(set(Tox21_assay['PROTOCOL_NAME']))\n",
    "print(f'There are 15 BLA readout assays toward NR receptor : {sorted_protocol_names}')"
   ]
  },
  {
   "cell_type": "code",
   "execution_count": null,
   "metadata": {},
   "outputs": [],
   "source": [
    "create_directory('../Data/Output')"
   ]
  },
  {
   "cell_type": "code",
   "execution_count": 15,
   "metadata": {},
   "outputs": [],
   "source": [
    "Tox21_annotation = Tox21_assay.merge( library_info, on='SAMPLE_ID', how='right')\n",
    "Tox21_annotation.to_csv('../Data/Output/Tox21_annotation.csv',index=False)"
   ]
  },
  {
   "cell_type": "markdown",
   "metadata": {},
   "source": [
    "Load morphology annotation file : \n",
    "- See how many compound overlap in BBC047 and Tox21"
   ]
  },
  {
   "cell_type": "code",
   "execution_count": 16,
   "metadata": {},
   "outputs": [],
   "source": [
    "#profiles = pd.read_table('../pubchem_annotation_morpho.csv')\n",
    "#profiles.rename(columns={'CID': 'PUBCHEM_CID'}, inplace=True)\n",
    "#print(f\"There are {profiles['PUBCHEM_CID'].nunique()} unique compounds in the profiles dataset\")\n",
    "#print(f'There are {profiles[\"PUBCHEM_CID\"].isin(Tox21_annotation[\"PUBCHEM_CID\"]).sum()} compounds in the BBC047 dataset that are also in the Tox21 library')\n",
    "#profiles.head(2)"
   ]
  },
  {
   "cell_type": "markdown",
   "metadata": {},
   "source": [
    "We used PubChem to retrieve the CID for the 30,615 unique substances tested in BBC047. Since CPD_NAME can identify several molecules without considering stereochemistry, we used Metadata_broad_sample to query PubChem for the CID. If this was unsuccessful, we used the SMILES representation. Five molecules were not identified, resulting in 30,397 unique substances. The CID retrieval code in get_assays was last run on 27/10/2024, taking approximately 4 hours.\n",
    "the outpout is saved under _pubchem_annotation_october_2.pkl_\n"
   ]
  },
  {
   "cell_type": "code",
   "execution_count": 17,
   "metadata": {},
   "outputs": [],
   "source": [
    "annotations_update = pd.read_pickle('../Data/Annotations/pubchem_annotation1.pkl') #pubchem_annotation1_october_2"
   ]
  },
  {
   "cell_type": "code",
   "execution_count": null,
   "metadata": {},
   "outputs": [],
   "source": [
    "annotations_update.rename(columns={'CID': 'PUBCHEM_CID'}, inplace=True)\n",
    "annotations_update.head(5)"
   ]
  },
  {
   "cell_type": "code",
   "execution_count": null,
   "metadata": {},
   "outputs": [],
   "source": [
    "print(f\"There are {annotations_update['PUBCHEM_CID'].nunique()} unique compounds in the unprocessed profiles dataset\")"
   ]
  },
  {
   "cell_type": "code",
   "execution_count": null,
   "metadata": {},
   "outputs": [],
   "source": [
    "print(f'There are {annotations_update[\"PUBCHEM_CID\"].isin(Tox21_annotation[\"PUBCHEM_CID\"]).sum()} compounds in the BBC047 dataset that are also in the Tox21 library')"
   ]
  },
  {
   "cell_type": "markdown",
   "metadata": {},
   "source": [
    "Now we merge the morphology file and the tox21"
   ]
  },
  {
   "cell_type": "code",
   "execution_count": 21,
   "metadata": {},
   "outputs": [],
   "source": [
    "BBC047_mol = annotations_update['PUBCHEM_CID'].to_list() # profiles['PUBCHEM_CID'].to_list()\n",
    "Tox = Tox21_annotation[Tox21_annotation['PUBCHEM_CID'].isin(BBC047_mol)]"
   ]
  },
  {
   "cell_type": "code",
   "execution_count": null,
   "metadata": {},
   "outputs": [],
   "source": [
    "print(f\"There are {Tox['SAMPLE_DATA_TYPE'].nunique()} sample data types, namely {list(Tox['SAMPLE_DATA_TYPE'].unique())}\")"
   ]
  },
  {
   "cell_type": "markdown",
   "metadata": {},
   "source": [
    "We are only interested in the activity"
   ]
  },
  {
   "cell_type": "code",
   "execution_count": 23,
   "metadata": {},
   "outputs": [],
   "source": [
    "Tox_activity = Tox[Tox['SAMPLE_DATA_TYPE'] == 'activity']"
   ]
  },
  {
   "cell_type": "code",
   "execution_count": null,
   "metadata": {},
   "outputs": [],
   "source": [
    "print(f\"There are {Tox_activity['SAMPLE_NAME_x'].nunique()} unique sample molecules in the BBC047 dataset tested in Tox21 assays\")"
   ]
  },
  {
   "cell_type": "code",
   "execution_count": null,
   "metadata": {},
   "outputs": [],
   "source": [
    "create_directory('../Data/Output')\n",
    "Tox_activity.to_csv('../Data/Output/Tox21_activity_BBC047.csv',index=False)"
   ]
  },
  {
   "cell_type": "markdown",
   "metadata": {},
   "source": [
    "## Dataset curation ; some descriptive analysis"
   ]
  },
  {
   "cell_type": "code",
   "execution_count": 26,
   "metadata": {},
   "outputs": [],
   "source": [
    "import plotly.express as px"
   ]
  },
  {
   "cell_type": "markdown",
   "metadata": {},
   "source": [
    "We first start by counting the number of compound (unique) per assay (unique)"
   ]
  },
  {
   "cell_type": "code",
   "execution_count": 27,
   "metadata": {},
   "outputs": [],
   "source": [
    "assay_compound = {}\n",
    "for asssay in Tox_activity['PROTOCOL_NAME'].unique():\n",
    "    assay_compound[asssay] = Tox_activity[Tox_activity['PROTOCOL_NAME'] == asssay].CAS_x.nunique()"
   ]
  },
  {
   "cell_type": "code",
   "execution_count": null,
   "metadata": {},
   "outputs": [],
   "source": [
    "assay_compound"
   ]
  },
  {
   "cell_type": "code",
   "execution_count": 29,
   "metadata": {},
   "outputs": [],
   "source": [
    "assay_compound_df = pd.DataFrame(list(assay_compound.items()), columns=['Assay', 'Compound'])\n",
    "assay_compound_df = assay_compound_df.sort_values(by='Compound', ascending=True)"
   ]
  },
  {
   "cell_type": "code",
   "execution_count": null,
   "metadata": {},
   "outputs": [],
   "source": [
    "fig = px.bar(assay_compound_df, x='Assay', y='Compound', title='Number of compounds tested in each assay')\n",
    "fig.show()"
   ]
  },
  {
   "cell_type": "markdown",
   "metadata": {},
   "source": [
    "-  look at all combinations of how sets intersect : using the upsetplot and library we will show the overlap of compound between the assays\n",
    "** to update **"
   ]
  },
  {
   "cell_type": "code",
   "execution_count": 31,
   "metadata": {},
   "outputs": [],
   "source": [
    "import upsetplot\n",
    "from collections import defaultdict\n",
    "import matplotlib.pyplot as plt\n",
    "from upsetplot import UpSet\n",
    "from upsetplot import UpSet, from_memberships"
   ]
  },
  {
   "cell_type": "code",
   "execution_count": 32,
   "metadata": {},
   "outputs": [],
   "source": [
    "assay_data = {}\n",
    "for asssay in blactamase_assay:\n",
    "    assay_data[asssay] = Tox_activity[Tox_activity['PROTOCOL_NAME'] == asssay].CAS_x.unique().tolist()"
   ]
  },
  {
   "cell_type": "code",
   "execution_count": 33,
   "metadata": {},
   "outputs": [],
   "source": [
    "#TO BE CONTINUED ..."
   ]
  },
  {
   "cell_type": "markdown",
   "metadata": {},
   "source": [
    "## Endocrine active molecule "
   ]
  },
  {
   "cell_type": "markdown",
   "metadata": {},
   "source": [
    "We aim to create a dataset of endocrine-active molecules. Each compound as tested twice for each assay. If the assay outcomes are inconsistent, we will exclude the assay for that compound. Additionally, if an assay is inconclusive—meaning the experimenters could not determine whether the molecule was an agonist, antagonist, inactive, or active—the assay will be discarded. Finally, we will evaluate the remaining assays: if at least one is active, the molecule will be classified as endocrine-active; if all assays are inactive, the compound will be classified as inactive."
   ]
  },
  {
   "cell_type": "markdown",
   "metadata": {},
   "source": [
    "We 1st consider the assay measuring the *activty*, therefore we will focus on the *channel outcome* column., reflecting the outcome of the assay under investigation. "
   ]
  },
  {
   "cell_type": "markdown",
   "metadata": {},
   "source": [
    "Note : If an assay measures two channels (e.g., a receptor activity channel and a cell viability channel), the CHANNEL_OUTCOME might be “Active” for the receptor but “Inactive” for cell viability. The overall ASSAY_OUTCOME could then be “Inconclusive” or “Active” depending on how the results are interpreted."
   ]
  },
  {
   "cell_type": "code",
   "execution_count": null,
   "metadata": {},
   "outputs": [],
   "source": [
    "Tox_activity.head(2)"
   ]
  },
  {
   "cell_type": "code",
   "execution_count": 35,
   "metadata": {},
   "outputs": [],
   "source": [
    "molecule_list = list(Tox_activity['PUBCHEM_CID'].unique()) #SAMPLE_NAME_x\n",
    "Endocrine_activity = Tox_activity.copy(deep=True)\n",
    "assay_list_endocrine = list(Endocrine_activity['PROTOCOL_NAME'].unique())"
   ]
  },
  {
   "cell_type": "code",
   "execution_count": 36,
   "metadata": {},
   "outputs": [],
   "source": [
    "activity_dict = {}"
   ]
  },
  {
   "cell_type": "code",
   "execution_count": 37,
   "metadata": {},
   "outputs": [],
   "source": [
    "def define_endocrine_activity(mol_list, assay_list, data, activity_dict):\n",
    "    \"\"\"\n",
    "    Process list of molecules overlapping with BBC047 by checking their assay outcomes and define their endocrine activity status.\n",
    "    \n",
    "    Parameters:\n",
    "    mol_list (list): List of molecules to process.\n",
    "    assay_list (list): List of assays to check for each molecule.\n",
    "    data (DataFrame): DataFrame containing assay data for different molecules.\n",
    "    activity_dict (dict): Dictionary to store activity status ('active' or 'inactive') for each molecule.\n",
    "    \n",
    "    Returns:\n",
    "    DataFrame: Updated data_test after filtering out rows based on conditions.\n",
    "    dict: Updated activity_dict with activity status of molecules.\n",
    "    \"\"\"\n",
    "    #check \n",
    "    for mol in mol_list:\n",
    "        view_mol = data[data['PUBCHEM_CID'] == mol].copy() #'SAMPLE_NAME_y'\n",
    "\n",
    "        for assay in assay_list:\n",
    "            view_assay = view_mol[view_mol['PROTOCOL_NAME'] == assay].copy()\n",
    "\n",
    "\n",
    "            if len(set(view_assay['CHANNEL_OUTCOME'])) > 1:\n",
    "                data = data[~data.index.isin(view_assay.index)]\n",
    "\n",
    "            if any(re.search(r'\\binconclusive\\b', outcome) for outcome in view_assay['CHANNEL_OUTCOME']):\n",
    "                data = data[~data.index.isin(view_assay.index)]\n",
    "                continue\n",
    "        if any(re.search(r'\\bactive\\b', outcome) for outcome in set(view_mol['CHANNEL_OUTCOME'])):\n",
    "            activity_dict[mol] = 'active'\n",
    "        else:\n",
    "            activity_dict[mol] = 'inactive'\n",
    "\n",
    "    return data, activity_dict\n"
   ]
  },
  {
   "cell_type": "code",
   "execution_count": 38,
   "metadata": {},
   "outputs": [],
   "source": [
    "updated_data , activity = define_endocrine_activity(molecule_list, assay_list_endocrine, Endocrine_activity, activity_dict)"
   ]
  },
  {
   "cell_type": "code",
   "execution_count": 39,
   "metadata": {},
   "outputs": [],
   "source": [
    "# Compter les occurrences de 'active' et 'inactive'\n",
    "active_count = sum(1 for value in activity_dict.values() if value == 'active')\n",
    "inactive_count = sum(1 for value in activity_dict.values() if value == 'inactive')"
   ]
  },
  {
   "cell_type": "code",
   "execution_count": null,
   "metadata": {},
   "outputs": [],
   "source": [
    "print(f'Number of active molecules: {active_count}')\n",
    "print(f'Number of inactive molecules: {inactive_count}')"
   ]
  },
  {
   "cell_type": "markdown",
   "metadata": {},
   "source": [
    "_Note_: This activity is defined in relation to all NR (nuclear receptor) tested in Tox21, which are classified as endocrine active molecules. We do not consider GPCRs (G protein-coupled receptors) as a pathway for endocrine activity for this case.\n",
    "\n",
    "Therefore, if a molecule is classified as active in at least one assay after removing inconsistent and inconclusive results, it will be annotated as active. For example, p,p’-DDT is inactive in 8 out of the 9 remaining assays; however, it is active in all 3 replicates of the *Tox21 ER-Bla Agonist P2* assay and will be annotated as endocrine active.\n",
    "\n"
   ]
  },
  {
   "cell_type": "code",
   "execution_count": null,
   "metadata": {},
   "outputs": [],
   "source": [
    "view_mol = updated_data[updated_data['SAMPLE_NAME_x'] == \"p,p'-DDT\"].copy() #CAS_x ; 50-29-3 \n",
    "# Trier le DataFrame view_mol en fonction de la colonne 'PROTOCOL_NAME'\n",
    "\n",
    "view_mol.sort_values(by='PROTOCOL_NAME')"
   ]
  },
  {
   "cell_type": "code",
   "execution_count": null,
   "metadata": {},
   "outputs": [],
   "source": [
    "view_mol['PROTOCOL_NAME'].unique()"
   ]
  },
  {
   "cell_type": "markdown",
   "metadata": {},
   "source": [
    "## Save the data "
   ]
  },
  {
   "cell_type": "markdown",
   "metadata": {},
   "source": [
    "He save as a csv file the data we need to merge to the BBC047 dataset. That is the activity status, the name of the molecule, the smiles and CID.\n"
   ]
  },
  {
   "cell_type": "code",
   "execution_count": null,
   "metadata": {},
   "outputs": [],
   "source": [
    "endocrine_annotation_cleaned = pd.DataFrame(list(activity.items()), columns=['PUBCHEM_CID', 'Endocrine_activity']) #CPD_NAME\n",
    "Endocrine_activity['PUBCHEM_CID'] = Endocrine_activity['PUBCHEM_CID'].astype(int)\n",
    "endocrine_annotation_cleaned.head(2)\n"
   ]
  },
  {
   "cell_type": "code",
   "execution_count": null,
   "metadata": {},
   "outputs": [],
   "source": [
    "Endocrine_activity.head(3)"
   ]
  },
  {
   "cell_type": "code",
   "execution_count": 45,
   "metadata": {},
   "outputs": [],
   "source": [
    "Endocrine_activity = Endocrine_activity[['CAS_x','SMILES','PUBCHEM_CID','SAMPLE_NAME_x']]\n",
    "Endocrine_activity.rename(columns={'SAMPLE_NAME_x':'CPD_NAME', 'CAS_x':'CAS'}, inplace=True)"
   ]
  },
  {
   "cell_type": "code",
   "execution_count": 46,
   "metadata": {},
   "outputs": [],
   "source": [
    "Endocrine_activity = endocrine_annotation_cleaned.merge(Endocrine_activity, on='PUBCHEM_CID', how='right')"
   ]
  },
  {
   "cell_type": "code",
   "execution_count": null,
   "metadata": {},
   "outputs": [],
   "source": [
    "endocrine_annotation_cleaned"
   ]
  },
  {
   "cell_type": "code",
   "execution_count": 48,
   "metadata": {},
   "outputs": [],
   "source": [
    "Endocrine_activity['PUBCHEM_CID'] = Endocrine_activity['PUBCHEM_CID'].astype(int)\n",
    "Endocrine_activity = Endocrine_activity.groupby('PUBCHEM_CID').first().reset_index()"
   ]
  },
  {
   "cell_type": "code",
   "execution_count": null,
   "metadata": {},
   "outputs": [],
   "source": [
    "Endocrine_activity.head(2)"
   ]
  },
  {
   "cell_type": "code",
   "execution_count": null,
   "metadata": {},
   "outputs": [],
   "source": [
    "print(f\"{Endocrine_activity['PUBCHEM_CID'].nunique()} unique compounds in the endocrine activity dataset\")\n",
    "Endocrine_activity.head(3)"
   ]
  },
  {
   "cell_type": "code",
   "execution_count": null,
   "metadata": {},
   "outputs": [],
   "source": [
    "create_directory('../Data/Output')\n",
    "Endocrine_activity.to_csv('../Data/Output/Tox21_Endocrine_activity_BBC047.csv',index=False)"
   ]
  },
  {
   "cell_type": "markdown",
   "metadata": {},
   "source": [
    "We retrieved the missing cid from the pre-processed , to see which molecules are concerned."
   ]
  },
  {
   "cell_type": "code",
   "execution_count": 52,
   "metadata": {},
   "outputs": [],
   "source": [
    "missing_cid = [2724385,\n",
    " 2082,\n",
    " 5154,\n",
    " 26596,\n",
    " 6758,\n",
    " 3334,\n",
    " 439501,\n",
    " 10607,\n",
    " 36314,\n",
    " 30323,\n",
    " 6197,\n",
    " 15478,\n",
    " 6167,\n",
    " 4122,\n",
    " 4030]"
   ]
  },
  {
   "cell_type": "code",
   "execution_count": null,
   "metadata": {},
   "outputs": [],
   "source": [
    "Endocrine_activity[Endocrine_activity['PUBCHEM_CID'].isin(missing_cid)]"
   ]
  },
  {
   "cell_type": "code",
   "execution_count": null,
   "metadata": {},
   "outputs": [],
   "source": [
    "annotations_update[annotations_update['PUBCHEM_CID'].isin(missing_cid)]"
   ]
  },
  {
   "cell_type": "markdown",
   "metadata": {},
   "source": [
    "## Generate a column for plot in Datagrok "
   ]
  },
  {
   "cell_type": "code",
   "execution_count": 55,
   "metadata": {},
   "outputs": [],
   "source": [
    "T = [\n",
    "    'Bisphenol A diglycidyl ether', 'Dexamethasone acetate', 'Testosterone propionate',\n",
    "    'Estrone', \"p,p'-DDT\"\n",
    "]"
   ]
  },
  {
   "cell_type": "code",
   "execution_count": 56,
   "metadata": {},
   "outputs": [],
   "source": [
    "Endocrine_activity['Datagrok'] = Endocrine_activity['CPD_NAME'].apply(lambda x: x if x in T else '')"
   ]
  },
  {
   "cell_type": "code",
   "execution_count": null,
   "metadata": {},
   "outputs": [],
   "source": [
    "create_directory('../Data/Output')\n",
    "Endocrine_activity.to_csv('../Data/Output/Tox21_Endocrine_Datagrok.csv',index=False)"
   ]
  }
 ],
 "metadata": {
  "kernelspec": {
   "display_name": "GCC_DL_Endocrinology",
   "language": "python",
   "name": "python3"
  },
  "language_info": {
   "codemirror_mode": {
    "name": "ipython",
    "version": 3
   },
   "file_extension": ".py",
   "mimetype": "text/x-python",
   "name": "python",
   "nbconvert_exporter": "python",
   "pygments_lexer": "ipython3",
   "version": "3.9.20"
  }
 },
 "nbformat": 4,
 "nbformat_minor": 2
}
