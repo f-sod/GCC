{
 "cells": [
  {
   "cell_type": "markdown",
   "metadata": {},
   "source": [
    "# Tox 21"
   ]
  },
  {
   "cell_type": "markdown",
   "metadata": {},
   "source": [
    "The main goal of Tox21 is to develop better toxicity assessment methods that use high-throughput screening and computational methods to replace traditional animal testing.\n",
    "\n",
    "In the assay they use thousands of chemicals to test their interaction with a wide range of biological targets using high-throughput assays. Focuses on understanding how chemicals affect biological pathways relevant to disease or adverse outcomes.\n",
    "\n",
    "→ Common use of the dataset (Task):  \n",
    "- Focus on **understanding chemical toxicity** at a systemic level, including **effects on various biological pathways**.\n",
    "- Data is often used for risk assessment and regulatory decision-making.\n",
    "- We will focus on the toxocity pathwa : NR signaling , by retrieving assay readout "
   ]
  },
  {
   "cell_type": "markdown",
   "metadata": {},
   "source": [
    "## The files"
   ]
  },
  {
   "cell_type": "markdown",
   "metadata": {},
   "source": [
    "- *Tox21_assay_list.xltx* : Exhaustive list of assay conducted on NR. A total of 38 assay are conducted on NR \n",
    "- *tox21_10k_library_info.xls* : List of compouds tested in the assay with their CID and CAS identifier, unified identifier for \n",
    "- *Tox21Assay_SLPs and Descriptoons_2016* : 38 assay compressed, each folder have 4 files, we are interested in concatenating the __.aggregated.txt__ files into one csv file\n",
    "    - The code to concatenate the assay was previously done therefore we will load the result saved under *Tox21_assay_aggregated.csv*"
   ]
  },
  {
   "cell_type": "markdown",
   "metadata": {},
   "source": [
    "- Known target toward NR ; AR, ERα, FXR, PPARδ, PPARγ, RXR, TRβ, VDR, GR, hPXR, AhR, rPXR, CAR, ERR"
   ]
  },
  {
   "cell_type": "markdown",
   "metadata": {},
   "source": [
    "## Import Libraries"
   ]
  },
  {
   "cell_type": "code",
   "execution_count": 1,
   "metadata": {},
   "outputs": [],
   "source": [
    "import re\n",
    "import sys\n",
    "import warnings\n",
    "import glob , os\n",
    "import pandas as pd"
   ]
  },
  {
   "cell_type": "code",
   "execution_count": 2,
   "metadata": {},
   "outputs": [],
   "source": [
    "\n",
    "def create_directory(path):\n",
    "    \"\"\"\n",
    "    Checks if a directory exists at the given path. If it doesn't, the directory is created.\n",
    "    \n",
    "    Args:\n",
    "        path (str): The path of the directory to check and create.\n",
    "    \"\"\"\n",
    "    if not os.path.exists(path):\n",
    "        os.mkdir(path)\n",
    "        print(f\"Directory '{path}' created.\")\n",
    "    else:\n",
    "        print(f\"Directory '{path}' already exists.\")\n"
   ]
  },
  {
   "cell_type": "markdown",
   "metadata": {},
   "source": [
    "## Load the files"
   ]
  },
  {
   "cell_type": "code",
   "execution_count": 3,
   "metadata": {},
   "outputs": [
    {
     "data": {
      "text/html": [
       "<div>\n",
       "<style scoped>\n",
       "    .dataframe tbody tr th:only-of-type {\n",
       "        vertical-align: middle;\n",
       "    }\n",
       "\n",
       "    .dataframe tbody tr th {\n",
       "        vertical-align: top;\n",
       "    }\n",
       "\n",
       "    .dataframe thead th {\n",
       "        text-align: right;\n",
       "    }\n",
       "</style>\n",
       "<table border=\"1\" class=\"dataframe\">\n",
       "  <thead>\n",
       "    <tr style=\"text-align: right;\">\n",
       "      <th></th>\n",
       "      <th>Protocol Name</th>\n",
       "      <th>Assay Target</th>\n",
       "      <th>Target Category</th>\n",
       "      <th>Cell Line</th>\n",
       "      <th>Cell Type</th>\n",
       "    </tr>\n",
       "  </thead>\n",
       "  <tbody>\n",
       "    <tr>\n",
       "      <th>0</th>\n",
       "      <td>tox21-ache-p3</td>\n",
       "      <td>AChE (colormetric)</td>\n",
       "      <td>Neurotoxicity</td>\n",
       "      <td>SH-SY5Y</td>\n",
       "      <td>Neuroblast</td>\n",
       "    </tr>\n",
       "    <tr>\n",
       "      <th>1</th>\n",
       "      <td>tox21-ache-p4</td>\n",
       "      <td>AChE (fluorescent)</td>\n",
       "      <td>Neurotoxicity</td>\n",
       "      <td>SH-SY5Y</td>\n",
       "      <td>Neuroblast</td>\n",
       "    </tr>\n",
       "    <tr>\n",
       "      <th>2</th>\n",
       "      <td>tox21-ache-p5</td>\n",
       "      <td>AChE</td>\n",
       "      <td>Neurotoxicity</td>\n",
       "      <td>NaN</td>\n",
       "      <td>Biochemical</td>\n",
       "    </tr>\n",
       "    <tr>\n",
       "      <th>3</th>\n",
       "      <td>tox21-ahr-p1</td>\n",
       "      <td>AhR</td>\n",
       "      <td>NR</td>\n",
       "      <td>HepG2</td>\n",
       "      <td>Liver</td>\n",
       "    </tr>\n",
       "    <tr>\n",
       "      <th>4</th>\n",
       "      <td>tox21-ap1-agonist-p1</td>\n",
       "      <td>AP-1 agonist</td>\n",
       "      <td>SR</td>\n",
       "      <td>ME-180</td>\n",
       "      <td>Cervical Cancer</td>\n",
       "    </tr>\n",
       "  </tbody>\n",
       "</table>\n",
       "</div>"
      ],
      "text/plain": [
       "          Protocol Name        Assay Target Target Category Cell Line  \\\n",
       "0         tox21-ache-p3  AChE (colormetric)   Neurotoxicity   SH-SY5Y   \n",
       "1         tox21-ache-p4  AChE (fluorescent)   Neurotoxicity   SH-SY5Y   \n",
       "2         tox21-ache-p5                AChE   Neurotoxicity       NaN   \n",
       "3         tox21-ahr-p1                  AhR              NR     HepG2   \n",
       "4  tox21-ap1-agonist-p1        AP-1 agonist              SR    ME-180   \n",
       "\n",
       "         Cell Type  \n",
       "0       Neuroblast  \n",
       "1       Neuroblast  \n",
       "2      Biochemical  \n",
       "3            Liver  \n",
       "4  Cervical Cancer  "
      ]
     },
     "execution_count": 3,
     "metadata": {},
     "output_type": "execute_result"
    }
   ],
   "source": [
    "assay_list = pd.read_excel('../Data/Annotations/Tox21_assay_list.xltx')\n",
    "assay_list.head()"
   ]
  },
  {
   "cell_type": "code",
   "execution_count": 4,
   "metadata": {},
   "outputs": [
    {
     "name": "stdout",
     "output_type": "stream",
     "text": [
      "There are 38 NR different assays in the Tox21 dataset\n"
     ]
    },
    {
     "data": {
      "text/html": [
       "<div>\n",
       "<style scoped>\n",
       "    .dataframe tbody tr th:only-of-type {\n",
       "        vertical-align: middle;\n",
       "    }\n",
       "\n",
       "    .dataframe tbody tr th {\n",
       "        vertical-align: top;\n",
       "    }\n",
       "\n",
       "    .dataframe thead th {\n",
       "        text-align: right;\n",
       "    }\n",
       "</style>\n",
       "<table border=\"1\" class=\"dataframe\">\n",
       "  <thead>\n",
       "    <tr style=\"text-align: right;\">\n",
       "      <th></th>\n",
       "      <th>Protocol Name</th>\n",
       "      <th>Assay Target</th>\n",
       "      <th>Target Category</th>\n",
       "      <th>Cell Line</th>\n",
       "      <th>Cell Type</th>\n",
       "    </tr>\n",
       "  </thead>\n",
       "  <tbody>\n",
       "    <tr>\n",
       "      <th>3</th>\n",
       "      <td>tox21-ahr-p1</td>\n",
       "      <td>AhR</td>\n",
       "      <td>NR</td>\n",
       "      <td>HepG2</td>\n",
       "      <td>Liver</td>\n",
       "    </tr>\n",
       "    <tr>\n",
       "      <th>5</th>\n",
       "      <td>tox21-ar-bla-agonist-p1</td>\n",
       "      <td>AR-BLA agonist</td>\n",
       "      <td>NR</td>\n",
       "      <td>HEK293</td>\n",
       "      <td>Kidney</td>\n",
       "    </tr>\n",
       "    <tr>\n",
       "      <th>6</th>\n",
       "      <td>tox21-ar-bla-antagonist-p1</td>\n",
       "      <td>AR-BLA antagonist</td>\n",
       "      <td>NR</td>\n",
       "      <td>HEK293</td>\n",
       "      <td>Kidney</td>\n",
       "    </tr>\n",
       "    <tr>\n",
       "      <th>7</th>\n",
       "      <td>tox21-ar-mda-kb2-luc-agonist-p1</td>\n",
       "      <td>AR-MDA agonist</td>\n",
       "      <td>NR</td>\n",
       "      <td>MDA-MB-453</td>\n",
       "      <td>Breast Cancer</td>\n",
       "    </tr>\n",
       "    <tr>\n",
       "      <th>8</th>\n",
       "      <td>tox21-ar-mda-kb2-luc-agonist-p3</td>\n",
       "      <td>AR-MDA agonist (with antagonist)</td>\n",
       "      <td>NR</td>\n",
       "      <td>MDA-MB-453</td>\n",
       "      <td>Breast Cancer</td>\n",
       "    </tr>\n",
       "    <tr>\n",
       "      <th>9</th>\n",
       "      <td>tox21-ar-mda-kb2-luc-antagonist-p1</td>\n",
       "      <td>AR-MDA antagonist</td>\n",
       "      <td>NR</td>\n",
       "      <td>MDA-MB-453</td>\n",
       "      <td>Breast Cancer</td>\n",
       "    </tr>\n",
       "    <tr>\n",
       "      <th>10</th>\n",
       "      <td>tox21-ar-mda-kb2-luc-antagonist-p2</td>\n",
       "      <td>AR-MDA antagonist (lower agonist)</td>\n",
       "      <td>NR</td>\n",
       "      <td>MDA-MB-453</td>\n",
       "      <td>Breast Cancer</td>\n",
       "    </tr>\n",
       "    <tr>\n",
       "      <th>13</th>\n",
       "      <td>tox21-car-agonist-p1</td>\n",
       "      <td>CAR agonist</td>\n",
       "      <td>NR</td>\n",
       "      <td>HepG2</td>\n",
       "      <td>Liver</td>\n",
       "    </tr>\n",
       "    <tr>\n",
       "      <th>14</th>\n",
       "      <td>tox21-car-antagonist-p1</td>\n",
       "      <td>CAR antagonist</td>\n",
       "      <td>NR</td>\n",
       "      <td>HepG2</td>\n",
       "      <td>Liver</td>\n",
       "    </tr>\n",
       "    <tr>\n",
       "      <th>19</th>\n",
       "      <td>tox21-er-bla-agonist-p2</td>\n",
       "      <td>ER-BLA agonist</td>\n",
       "      <td>NR</td>\n",
       "      <td>HEK293</td>\n",
       "      <td>Kidney</td>\n",
       "    </tr>\n",
       "    <tr>\n",
       "      <th>20</th>\n",
       "      <td>tox21-er-bla-antagonist-p1</td>\n",
       "      <td>ER-BLA antagonist</td>\n",
       "      <td>NR</td>\n",
       "      <td>HEK293</td>\n",
       "      <td>Kidney</td>\n",
       "    </tr>\n",
       "    <tr>\n",
       "      <th>21</th>\n",
       "      <td>tox21-er-luc-bg1-4e2-agonist-p2</td>\n",
       "      <td>ER-BG1 agonist</td>\n",
       "      <td>NR</td>\n",
       "      <td>BG1</td>\n",
       "      <td>Ovarian</td>\n",
       "    </tr>\n",
       "    <tr>\n",
       "      <th>22</th>\n",
       "      <td>tox21-er-luc-bg1-4e2-agonist-p4</td>\n",
       "      <td>ER-BG1 agonist (with antagonist)</td>\n",
       "      <td>NR</td>\n",
       "      <td>BG1</td>\n",
       "      <td>Ovarian</td>\n",
       "    </tr>\n",
       "    <tr>\n",
       "      <th>23</th>\n",
       "      <td>tox21-er-luc-bg1-4e2-antagonist-p1</td>\n",
       "      <td>ER-BG1 antagonist</td>\n",
       "      <td>NR</td>\n",
       "      <td>BG1</td>\n",
       "      <td>Ovarian</td>\n",
       "    </tr>\n",
       "    <tr>\n",
       "      <th>24</th>\n",
       "      <td>tox21-er-luc-bg1-4e2-antagonist-p2</td>\n",
       "      <td>ER-BG1 antagonist (lower agonist)</td>\n",
       "      <td>NR</td>\n",
       "      <td>BG1</td>\n",
       "      <td>Ovarian</td>\n",
       "    </tr>\n",
       "    <tr>\n",
       "      <th>25</th>\n",
       "      <td>tox21-erb-bla-antagonist-p1</td>\n",
       "      <td>ER-beta antagonist</td>\n",
       "      <td>NR</td>\n",
       "      <td>HEK293</td>\n",
       "      <td>Kidney</td>\n",
       "    </tr>\n",
       "    <tr>\n",
       "      <th>26</th>\n",
       "      <td>tox21-erb-bla-p1</td>\n",
       "      <td>ER-beta agonist</td>\n",
       "      <td>NR</td>\n",
       "      <td>HEK293</td>\n",
       "      <td>Kidney</td>\n",
       "    </tr>\n",
       "    <tr>\n",
       "      <th>27</th>\n",
       "      <td>tox21-err-p1</td>\n",
       "      <td>ERR</td>\n",
       "      <td>NR</td>\n",
       "      <td>HEK293</td>\n",
       "      <td>Kidney</td>\n",
       "    </tr>\n",
       "    <tr>\n",
       "      <th>29</th>\n",
       "      <td>tox21-fxr-bla-agonist-p2</td>\n",
       "      <td>FXR-BLA agonist</td>\n",
       "      <td>NR</td>\n",
       "      <td>HEK293</td>\n",
       "      <td>Kidney</td>\n",
       "    </tr>\n",
       "    <tr>\n",
       "      <th>30</th>\n",
       "      <td>tox21-fxr-bla-antagonist-p1</td>\n",
       "      <td>FXR-BLA antagonist</td>\n",
       "      <td>NR</td>\n",
       "      <td>HEK293</td>\n",
       "      <td>Kidney</td>\n",
       "    </tr>\n",
       "    <tr>\n",
       "      <th>31</th>\n",
       "      <td>tox21-gh3-tre-agonist-p1</td>\n",
       "      <td>TR-beta agonist</td>\n",
       "      <td>NR</td>\n",
       "      <td>GH3</td>\n",
       "      <td>Rat pituitary</td>\n",
       "    </tr>\n",
       "    <tr>\n",
       "      <th>32</th>\n",
       "      <td>tox21-gh3-tre-antagonist-p1</td>\n",
       "      <td>TR-beta antagonist</td>\n",
       "      <td>NR</td>\n",
       "      <td>GH3</td>\n",
       "      <td>Rat pituitary</td>\n",
       "    </tr>\n",
       "    <tr>\n",
       "      <th>33</th>\n",
       "      <td>tox21-gr-hela-bla-agonist-p1</td>\n",
       "      <td>GR-BLA agonist</td>\n",
       "      <td>NR</td>\n",
       "      <td>HeLa</td>\n",
       "      <td>Cervical Cancer</td>\n",
       "    </tr>\n",
       "    <tr>\n",
       "      <th>34</th>\n",
       "      <td>tox21-gr-hela-bla-antagonist-p1</td>\n",
       "      <td>GR-BLA antagonist</td>\n",
       "      <td>NR</td>\n",
       "      <td>HeLa</td>\n",
       "      <td>Cervical Cancer</td>\n",
       "    </tr>\n",
       "    <tr>\n",
       "      <th>54</th>\n",
       "      <td>tox21-pgc-err-p1</td>\n",
       "      <td>PGC-ERR</td>\n",
       "      <td>NR</td>\n",
       "      <td>HEK293</td>\n",
       "      <td>Kidney</td>\n",
       "    </tr>\n",
       "    <tr>\n",
       "      <th>55</th>\n",
       "      <td>tox21-ppard-bla-agonist-p1</td>\n",
       "      <td>PPAR-delta-BLA agonist</td>\n",
       "      <td>NR</td>\n",
       "      <td>HEK293</td>\n",
       "      <td>Kidney</td>\n",
       "    </tr>\n",
       "    <tr>\n",
       "      <th>56</th>\n",
       "      <td>tox21-ppard-bla-antagonist-p1</td>\n",
       "      <td>PPAR-delta-BLA antagonist</td>\n",
       "      <td>NR</td>\n",
       "      <td>HEK293</td>\n",
       "      <td>Kidney</td>\n",
       "    </tr>\n",
       "    <tr>\n",
       "      <th>57</th>\n",
       "      <td>tox21-pparg-bla-agonist-p1</td>\n",
       "      <td>PPAR-gamma agonist</td>\n",
       "      <td>NR</td>\n",
       "      <td>HEK293</td>\n",
       "      <td>Kidney</td>\n",
       "    </tr>\n",
       "    <tr>\n",
       "      <th>58</th>\n",
       "      <td>tox21-pparg-bla-antagonist-p1</td>\n",
       "      <td>PPAR-gamma antagonist</td>\n",
       "      <td>NR</td>\n",
       "      <td>HEK293</td>\n",
       "      <td>Kidney</td>\n",
       "    </tr>\n",
       "    <tr>\n",
       "      <th>59</th>\n",
       "      <td>tox21-pr-bla-agonist-p1</td>\n",
       "      <td>PR-BLA agonist</td>\n",
       "      <td>NR</td>\n",
       "      <td>HEK293</td>\n",
       "      <td>Kidney</td>\n",
       "    </tr>\n",
       "    <tr>\n",
       "      <th>60</th>\n",
       "      <td>tox21-pr-bla-antagonist-p1</td>\n",
       "      <td>PR-BLA antagonist</td>\n",
       "      <td>NR</td>\n",
       "      <td>HEK293</td>\n",
       "      <td>Kidney</td>\n",
       "    </tr>\n",
       "    <tr>\n",
       "      <th>61</th>\n",
       "      <td>tox21-pxr-p1</td>\n",
       "      <td>PXR agonist</td>\n",
       "      <td>NR</td>\n",
       "      <td>HepG2</td>\n",
       "      <td>Liver</td>\n",
       "    </tr>\n",
       "    <tr>\n",
       "      <th>62</th>\n",
       "      <td>tox21-rar-agonist-p1</td>\n",
       "      <td>RAR agonist</td>\n",
       "      <td>NR</td>\n",
       "      <td>C3H10T1/2</td>\n",
       "      <td>Murine embryo fibroblast</td>\n",
       "    </tr>\n",
       "    <tr>\n",
       "      <th>63</th>\n",
       "      <td>tox21-rar-antagonist-p2</td>\n",
       "      <td>RAR antagonist</td>\n",
       "      <td>NR</td>\n",
       "      <td>C3H10T1/2</td>\n",
       "      <td>Murine embryo fibroblast</td>\n",
       "    </tr>\n",
       "    <tr>\n",
       "      <th>65</th>\n",
       "      <td>tox21-ror-cho-antagonist-p1</td>\n",
       "      <td>ROR antagonist</td>\n",
       "      <td>NR</td>\n",
       "      <td>CHO</td>\n",
       "      <td>Hamster</td>\n",
       "    </tr>\n",
       "    <tr>\n",
       "      <th>69</th>\n",
       "      <td>tox21-rxr-bla-agonist-p1</td>\n",
       "      <td>RXR-BLA</td>\n",
       "      <td>NR</td>\n",
       "      <td>HEK293</td>\n",
       "      <td>Kidney</td>\n",
       "    </tr>\n",
       "    <tr>\n",
       "      <th>80</th>\n",
       "      <td>tox21-vdr-bla-agonist-p1</td>\n",
       "      <td>VDR-BLA agonist</td>\n",
       "      <td>NR</td>\n",
       "      <td>HEK293</td>\n",
       "      <td>Kidney</td>\n",
       "    </tr>\n",
       "    <tr>\n",
       "      <th>81</th>\n",
       "      <td>tox21-vdr-bla-antagonist-p1</td>\n",
       "      <td>VDR-BLA antagonist</td>\n",
       "      <td>NR</td>\n",
       "      <td>HEK293</td>\n",
       "      <td>Kidney</td>\n",
       "    </tr>\n",
       "  </tbody>\n",
       "</table>\n",
       "</div>"
      ],
      "text/plain": [
       "                         Protocol Name                       Assay Target  \\\n",
       "3                        tox21-ahr-p1                                 AhR   \n",
       "5             tox21-ar-bla-agonist-p1                      AR-BLA agonist   \n",
       "6           tox21-ar-bla-antagonist-p1                  AR-BLA antagonist   \n",
       "7     tox21-ar-mda-kb2-luc-agonist-p1                      AR-MDA agonist   \n",
       "8      tox21-ar-mda-kb2-luc-agonist-p3   AR-MDA agonist (with antagonist)   \n",
       "9   tox21-ar-mda-kb2-luc-antagonist-p1                  AR-MDA antagonist   \n",
       "10  tox21-ar-mda-kb2-luc-antagonist-p2  AR-MDA antagonist (lower agonist)   \n",
       "13                tox21-car-agonist-p1                        CAR agonist   \n",
       "14             tox21-car-antagonist-p1                     CAR antagonist   \n",
       "19            tox21-er-bla-agonist-p2                      ER-BLA agonist   \n",
       "20          tox21-er-bla-antagonist-p1                  ER-BLA antagonist   \n",
       "21    tox21-er-luc-bg1-4e2-agonist-p2                      ER-BG1 agonist   \n",
       "22     tox21-er-luc-bg1-4e2-agonist-p4   ER-BG1 agonist (with antagonist)   \n",
       "23  tox21-er-luc-bg1-4e2-antagonist-p1                  ER-BG1 antagonist   \n",
       "24  tox21-er-luc-bg1-4e2-antagonist-p2  ER-BG1 antagonist (lower agonist)   \n",
       "25         tox21-erb-bla-antagonist-p1                 ER-beta antagonist   \n",
       "26                    tox21-erb-bla-p1                    ER-beta agonist   \n",
       "27                        tox21-err-p1                                ERR   \n",
       "29            tox21-fxr-bla-agonist-p2                    FXR-BLA agonist   \n",
       "30         tox21-fxr-bla-antagonist-p1                 FXR-BLA antagonist   \n",
       "31            tox21-gh3-tre-agonist-p1                    TR-beta agonist   \n",
       "32         tox21-gh3-tre-antagonist-p1                 TR-beta antagonist   \n",
       "33        tox21-gr-hela-bla-agonist-p1                     GR-BLA agonist   \n",
       "34     tox21-gr-hela-bla-antagonist-p1                  GR-BLA antagonist   \n",
       "54                    tox21-pgc-err-p1                            PGC-ERR   \n",
       "55          tox21-ppard-bla-agonist-p1             PPAR-delta-BLA agonist   \n",
       "56       tox21-ppard-bla-antagonist-p1          PPAR-delta-BLA antagonist   \n",
       "57         tox21-pparg-bla-agonist-p1                  PPAR-gamma agonist   \n",
       "58       tox21-pparg-bla-antagonist-p1              PPAR-gamma antagonist   \n",
       "59             tox21-pr-bla-agonist-p1                     PR-BLA agonist   \n",
       "60          tox21-pr-bla-antagonist-p1                  PR-BLA antagonist   \n",
       "61                        tox21-pxr-p1                        PXR agonist   \n",
       "62                tox21-rar-agonist-p1                        RAR agonist   \n",
       "63             tox21-rar-antagonist-p2                     RAR antagonist   \n",
       "65         tox21-ror-cho-antagonist-p1                     ROR antagonist   \n",
       "69            tox21-rxr-bla-agonist-p1                            RXR-BLA   \n",
       "80            tox21-vdr-bla-agonist-p1                    VDR-BLA agonist   \n",
       "81         tox21-vdr-bla-antagonist-p1                 VDR-BLA antagonist   \n",
       "\n",
       "   Target Category   Cell Line                 Cell Type  \n",
       "3               NR       HepG2                     Liver  \n",
       "5               NR      HEK293                    Kidney  \n",
       "6               NR      HEK293                    Kidney  \n",
       "7               NR  MDA-MB-453             Breast Cancer  \n",
       "8               NR  MDA-MB-453             Breast Cancer  \n",
       "9               NR  MDA-MB-453             Breast Cancer  \n",
       "10              NR  MDA-MB-453             Breast Cancer  \n",
       "13              NR       HepG2                     Liver  \n",
       "14              NR       HepG2                     Liver  \n",
       "19              NR      HEK293                    Kidney  \n",
       "20              NR      HEK293                    Kidney  \n",
       "21              NR         BG1                   Ovarian  \n",
       "22              NR         BG1                   Ovarian  \n",
       "23              NR         BG1                   Ovarian  \n",
       "24              NR         BG1                   Ovarian  \n",
       "25              NR      HEK293                    Kidney  \n",
       "26              NR      HEK293                    Kidney  \n",
       "27              NR      HEK293                    Kidney  \n",
       "29              NR      HEK293                    Kidney  \n",
       "30              NR      HEK293                    Kidney  \n",
       "31              NR         GH3             Rat pituitary  \n",
       "32              NR         GH3             Rat pituitary  \n",
       "33              NR        HeLa           Cervical Cancer  \n",
       "34              NR        HeLa           Cervical Cancer  \n",
       "54              NR      HEK293                    Kidney  \n",
       "55              NR      HEK293                    Kidney  \n",
       "56              NR      HEK293                    Kidney  \n",
       "57              NR      HEK293                    Kidney  \n",
       "58              NR      HEK293                    Kidney  \n",
       "59              NR      HEK293                    Kidney  \n",
       "60              NR      HEK293                    Kidney  \n",
       "61              NR       HepG2                     Liver  \n",
       "62              NR   C3H10T1/2  Murine embryo fibroblast  \n",
       "63              NR   C3H10T1/2  Murine embryo fibroblast  \n",
       "65              NR         CHO                   Hamster  \n",
       "69              NR      HEK293                    Kidney  \n",
       "80              NR      HEK293                    Kidney  \n",
       "81              NR      HEK293                    Kidney  "
      ]
     },
     "execution_count": 4,
     "metadata": {},
     "output_type": "execute_result"
    }
   ],
   "source": [
    "assay_list_nr = assay_list[assay_list['Target Category'] == 'NR']\n",
    "print(f'There are {len(assay_list_nr)} NR different assays in the Tox21 dataset')\n",
    "assay_list_nr"
   ]
  },
  {
   "cell_type": "code",
   "execution_count": 5,
   "metadata": {},
   "outputs": [
    {
     "name": "stdout",
     "output_type": "stream",
     "text": [
      "There are 18 different NR receptors tested in the Tox21 dataset\n"
     ]
    }
   ],
   "source": [
    "receptor =  assay_list_nr['Protocol Name'].str.replace(r'[\\xa0]','', regex=True).str.split('-').str[1]\n",
    "receptor = list(set(receptor))\n",
    "print(f'There are {len(receptor)} different NR receptors tested in the Tox21 dataset')"
   ]
  },
  {
   "cell_type": "markdown",
   "metadata": {},
   "source": [
    "We will only retain the protocols conducted under the same assay readout, specifically the BLA (b-lactamase) reporter gene assay. Different assay readouts are as follows:\n",
    "\n",
    "- **Luminescence**: e.g., AR-MDA_TOX21_SLP_Version1.0 (non-receptor signaling)\n",
    "- **Luciferase Reporter**: e.g., tox21-ahr-p1 (Aryl Hydrocarbon Receptor (AhR)); CAR1_TOX21_SLP_Version1.0\n",
    "\n",
    "Please note that the assay version **Version1.0** is indicated as **-p1** in the assay name."
   ]
  },
  {
   "cell_type": "code",
   "execution_count": 6,
   "metadata": {},
   "outputs": [
    {
     "name": "stdout",
     "output_type": "stream",
     "text": [
      "There are 19 BLA assays for 10 unique receptors, namely ['pr', 'pparg', 'gr', 'vdr', 'erb', 'ar', 'rxr', 'fxr', 'er', 'ppard'].\n"
     ]
    }
   ],
   "source": [
    "blactamase_assay = []\n",
    "\n",
    "for assay in assay_list_nr['Protocol Name']:\n",
    "\n",
    "    if assay.split('-')[2] == 'bla' or (len(assay.split('-')) > 3 and assay.split('-')[3] == 'bla'):\n",
    "        blactamase_assay.append(assay)\n",
    "\n",
    "unique_receptors = list(set(item.split('-')[1] for item in blactamase_assay))\n",
    "\n",
    "# Print the results\n",
    "print(f\"There are {len(blactamase_assay)} BLA assays for {len(unique_receptors)} unique receptors, namely {unique_receptors}.\")"
   ]
  },
  {
   "cell_type": "code",
   "execution_count": 7,
   "metadata": {},
   "outputs": [],
   "source": [
    "blactamase_assay = [assay.replace('\\xa0', '') for assay in blactamase_assay]"
   ]
  },
  {
   "cell_type": "markdown",
   "metadata": {},
   "source": [
    "We load the library of 10,000 compounds and the Tox21Assay_SLPS assay from 2016, available for download [here](https://clowder.edap-cluster.com/datasets/63602c6de4b04f6bb13dc4d4)"
   ]
  },
  {
   "cell_type": "code",
   "execution_count": 8,
   "metadata": {},
   "outputs": [
    {
     "data": {
      "text/plain": [
       "' \\npath = (\\'../Data_reviewed/Tox21/Assay_aggregrated\\')\\n\\nall_assay = glob.glob(os.path.join(path, \"*.txt\"))\\nnon_empty_assays = [pd.read_table(f) for f in all_assay if not pd.read_table(f).empty]\\nTox21_assay = pd.concat(non_empty_assays, ignore_index=True)\\n\\nTox21_assay.to_csv(\\'../Data_reviewed/Tox21/Tox21_assay_aggregrated.csv\\', index=False)\\nprint(f\"There is {Tox21_assay[\\'CAS\\'].nunique()} unique compounds in the Tox21 aggegated dataset\")\\n'"
      ]
     },
     "execution_count": 8,
     "metadata": {},
     "output_type": "execute_result"
    }
   ],
   "source": [
    "''' \n",
    "path = ('../Data_reviewed/Tox21/Assay_aggregrated')\n",
    "\n",
    "all_assay = glob.glob(os.path.join(path, \"*.txt\"))\n",
    "non_empty_assays = [pd.read_table(f) for f in all_assay if not pd.read_table(f).empty]\n",
    "Tox21_assay = pd.concat(non_empty_assays, ignore_index=True)\n",
    "\n",
    "Tox21_assay.to_csv('../Data_reviewed/Tox21/Tox21_assay_aggregrated.csv', index=False)\n",
    "print(f\"There is {Tox21_assay['CAS'].nunique()} unique compounds in the Tox21 aggegated dataset\")\n",
    "'''"
   ]
  },
  {
   "cell_type": "code",
   "execution_count": null,
   "metadata": {},
   "outputs": [],
   "source": [
    "Tox21_assay = pd.read_csv('../Data/Annotations/Tox21_assay_aggregrated.csv',low_memory=False)\n",
    "print(f\"There is {Tox21_assay['CAS'].nunique()} unique compounds in the Tox21 aggegated dataset\")\n",
    "Tox21_assay.head(3)"
   ]
  },
  {
   "cell_type": "code",
   "execution_count": null,
   "metadata": {},
   "outputs": [],
   "source": [
    "library_info = pd.read_csv('../Data/Annotations/tox21_10k_library_info.tsv', delimiter='\\t')\n",
    "print(f\"There is {library_info['CAS'].nunique()} unique compounds in the Tox21 chemical library dataset\")"
   ]
  },
  {
   "cell_type": "code",
   "execution_count": null,
   "metadata": {},
   "outputs": [],
   "source": [
    "print(f\"There are {Tox21_assay['PROTOCOL_NAME'].nunique()} different assays retrieved, not all of directed toward  NR assays.\")"
   ]
  },
  {
   "cell_type": "markdown",
   "metadata": {},
   "source": [
    "- We only keep the assay that are relevant for us , ie, assay toward NR ; AR, ERα, FXR, PPARδ, PPARγ, RXR, TRβ, VDR, GR, hPXR, AhR, rPXR, CAR, ERR"
   ]
  },
  {
   "cell_type": "code",
   "execution_count": null,
   "metadata": {},
   "outputs": [],
   "source": [
    "Tox21_assay = Tox21_assay[Tox21_assay['PROTOCOL_NAME'].isin(blactamase_assay)]\n",
    "print(f\"There are {Tox21_assay['PROTOCOL_NAME'].nunique()} BLA readout assays toward NR receptor .\")"
   ]
  },
  {
   "cell_type": "code",
   "execution_count": null,
   "metadata": {},
   "outputs": [],
   "source": [
    "sorted_protocol_names = sorted(set(Tox21_assay['PROTOCOL_NAME']))\n",
    "print(f'There are 15 BLA readout assays toward NR receptor : {sorted_protocol_names}')"
   ]
  },
  {
   "cell_type": "code",
   "execution_count": null,
   "metadata": {},
   "outputs": [],
   "source": [
    "create_directory('../Data/Output')"
   ]
  },
  {
   "cell_type": "code",
   "execution_count": 15,
   "metadata": {},
   "outputs": [],
   "source": [
    "Tox21_annotation = Tox21_assay.merge( library_info, on='SAMPLE_ID', how='right')\n",
    "Tox21_annotation = Tox21_annotation.dropna(subset=['PUBCHEM_CID'])\n",
    "Tox21_annotation['PUBCHEM_CID'] = Tox21_annotation['PUBCHEM_CID'].astype(int)\n"
   ]
  },
  {
   "cell_type": "code",
   "execution_count": 16,
   "metadata": {},
   "outputs": [],
   "source": [
    "Tox21_annotation.to_csv('../Data/Output/Tox21_annotation.csv',index=False)"
   ]
  },
  {
   "cell_type": "markdown",
   "metadata": {},
   "source": [
    "Load morphology annotation file : \n",
    "- See how many compound overlap in BBC047 and Tox21"
   ]
  },
  {
   "cell_type": "code",
   "execution_count": 17,
   "metadata": {},
   "outputs": [],
   "source": [
    "#profiles = pd.read_table('../pubchem_annotation_morpho.csv')\n",
    "#profiles.rename(columns={'CID': 'PUBCHEM_CID'}, inplace=True)\n",
    "#print(f\"There are {profiles['PUBCHEM_CID'].nunique()} unique compounds in the profiles dataset\")\n",
    "#print(f'There are {profiles[\"PUBCHEM_CID\"].isin(Tox21_annotation[\"PUBCHEM_CID\"]).sum()} compounds in the BBC047 dataset that are also in the Tox21 library')\n",
    "#profiles.head(2)"
   ]
  },
  {
   "cell_type": "markdown",
   "metadata": {},
   "source": [
    "We used PubChem to retrieve the CID for the 30,615 unique substances tested in BBC047. Since CPD_NAME can identify several molecules without considering stereochemistry, we used Metadata_broad_sample to query PubChem for the CID. If this was unsuccessful, we used the SMILES representation. Five molecules were not identified, resulting in 30,397 unique substances. The CID retrieval code in get_assays was last run on 27/10/2024, taking approximately 4 hours.\n",
    "the outpout is saved under _pubchem_annotation_october_2.pkl_\n"
   ]
  },
  {
   "cell_type": "code",
   "execution_count": 18,
   "metadata": {},
   "outputs": [],
   "source": [
    "annotations_update = pd.read_pickle('../Data/Annotations/pubchem_annotation1_october_2.pkl') #pubchem_annotation1"
   ]
  },
  {
   "cell_type": "code",
   "execution_count": null,
   "metadata": {},
   "outputs": [],
   "source": [
    "annotations_update.rename(columns={'CID': 'PUBCHEM_CID'}, inplace=True)\n",
    "#drop Na\n",
    "annotations_update = annotations_update.dropna(subset=['PUBCHEM_CID'])\n",
    "# change to int\n",
    "annotations_update['PUBCHEM_CID'] = annotations_update['PUBCHEM_CID'].astype(int)\n",
    "\n",
    "annotations_update.head(5)"
   ]
  },
  {
   "cell_type": "code",
   "execution_count": null,
   "metadata": {},
   "outputs": [],
   "source": [
    "print(f\"There are {annotations_update['PUBCHEM_CID'].nunique()} unique compounds in the unprocessed profiles dataset\")"
   ]
  },
  {
   "cell_type": "code",
   "execution_count": null,
   "metadata": {},
   "outputs": [],
   "source": [
    "unique_matches = set(annotations_update[\"PUBCHEM_CID\"]).intersection(set(Tox21_annotation[\"PUBCHEM_CID\"]))\n",
    "print(f'There are {len(unique_matches)} unique compounds in the BBC047 dataset that are also in the Tox21 library')"
   ]
  },
  {
   "cell_type": "markdown",
   "metadata": {},
   "source": [
    "Now we merge the morphology file and the tox21"
   ]
  },
  {
   "cell_type": "code",
   "execution_count": 22,
   "metadata": {},
   "outputs": [],
   "source": [
    "BBC047_mol = annotations_update['PUBCHEM_CID'].to_list() # profiles['PUBCHEM_CID'].to_list()\n",
    "Tox = Tox21_annotation[Tox21_annotation['PUBCHEM_CID'].isin(BBC047_mol)]"
   ]
  },
  {
   "cell_type": "code",
   "execution_count": null,
   "metadata": {},
   "outputs": [],
   "source": [
    "print(f\"There are {Tox['SAMPLE_DATA_TYPE'].nunique()} sample data types, namely {list(Tox['SAMPLE_DATA_TYPE'].unique())}\")"
   ]
  },
  {
   "cell_type": "markdown",
   "metadata": {},
   "source": [
    "We are only interested in the activity"
   ]
  },
  {
   "cell_type": "code",
   "execution_count": 24,
   "metadata": {},
   "outputs": [],
   "source": [
    "Tox_activity = Tox[Tox['SAMPLE_DATA_TYPE'] == 'activity'] #'signal'"
   ]
  },
  {
   "cell_type": "code",
   "execution_count": null,
   "metadata": {},
   "outputs": [],
   "source": [
    "print(f\"There are {Tox_activity['SAMPLE_NAME_x'].nunique()} unique sample molecules in the BBC047 dataset tested in Tox21 assays\")"
   ]
  },
  {
   "cell_type": "code",
   "execution_count": null,
   "metadata": {},
   "outputs": [],
   "source": [
    "create_directory('../Data/Output')\n",
    "Tox_activity.to_csv('../Data/Output/Tox21_activity_BBC047.csv',index=False)"
   ]
  },
  {
   "cell_type": "markdown",
   "metadata": {},
   "source": [
    "## Dataset curation ; some descriptive analysis"
   ]
  },
  {
   "cell_type": "code",
   "execution_count": 27,
   "metadata": {},
   "outputs": [],
   "source": [
    "import plotly.express as px"
   ]
  },
  {
   "cell_type": "markdown",
   "metadata": {},
   "source": [
    "We first start by counting the number of compound (unique) per assay (unique)"
   ]
  },
  {
   "cell_type": "code",
   "execution_count": 28,
   "metadata": {},
   "outputs": [],
   "source": [
    "assay_compound = {}\n",
    "for asssay in Tox_activity['PROTOCOL_NAME'].unique():\n",
    "    assay_compound[asssay] = Tox_activity[Tox_activity['PROTOCOL_NAME'] == asssay].CAS_x.nunique()"
   ]
  },
  {
   "cell_type": "code",
   "execution_count": 29,
   "metadata": {},
   "outputs": [],
   "source": [
    "assay_compound_df = pd.DataFrame(list(assay_compound.items()), columns=['Assay', 'Compound'])\n",
    "assay_compound_df = assay_compound_df.sort_values(by='Compound', ascending=True)"
   ]
  },
  {
   "cell_type": "code",
   "execution_count": null,
   "metadata": {},
   "outputs": [],
   "source": [
    "fig = px.bar(assay_compound_df, x='Assay', y='Compound', title='Number of compounds tested in each assay')\n",
    "fig.show()"
   ]
  },
  {
   "cell_type": "markdown",
   "metadata": {},
   "source": [
    "-  look at all combinations of how sets intersect : using the upsetplot and library we will show the overlap of compound between the assays\n",
    "** to update **"
   ]
  },
  {
   "cell_type": "code",
   "execution_count": 31,
   "metadata": {},
   "outputs": [],
   "source": [
    "import upsetplot\n",
    "from collections import defaultdict\n",
    "import matplotlib.pyplot as plt\n",
    "from upsetplot import UpSet\n",
    "from upsetplot import UpSet, from_memberships"
   ]
  },
  {
   "cell_type": "code",
   "execution_count": 32,
   "metadata": {},
   "outputs": [],
   "source": [
    "assay_data = {}\n",
    "for asssay in blactamase_assay:\n",
    "    assay_data[asssay] = Tox_activity[Tox_activity['PROTOCOL_NAME'] == asssay].CAS_x.unique().tolist()"
   ]
  },
  {
   "cell_type": "code",
   "execution_count": 33,
   "metadata": {},
   "outputs": [],
   "source": [
    "#TO BE CONTINUED ..."
   ]
  },
  {
   "cell_type": "markdown",
   "metadata": {},
   "source": [
    "## Endocrine active molecule "
   ]
  },
  {
   "cell_type": "markdown",
   "metadata": {},
   "source": [
    "We aim to create a dataset of endocrine-active molecules. Each compound as tested twice for each assay. If the assay outcomes are inconsistent, we will exclude the assay for that compound. Additionally, if an assay is inconclusive—meaning the experimenters could not determine whether the molecule was an agonist, antagonist, inactive, or active—the assay will be discarded. Finally, we will evaluate the remaining assays: if at least one is active, the molecule will be classified as endocrine-active; if all assays are inactive, the compound will be classified as inactive."
   ]
  },
  {
   "cell_type": "markdown",
   "metadata": {},
   "source": [
    "We 1st consider the assay measuring the *activty*, therefore we will focus on the *channel outcome* column., reflecting the outcome of the assay under investigation. "
   ]
  },
  {
   "cell_type": "markdown",
   "metadata": {},
   "source": [
    "Note : If an assay measures two channels (e.g., a receptor activity channel and a cell viability channel), the CHANNEL_OUTCOME might be “Active” for the receptor but “Inactive” for cell viability. The overall ASSAY_OUTCOME could then be “Inconclusive” or “Active” depending on how the results are interpreted."
   ]
  },
  {
   "cell_type": "code",
   "execution_count": null,
   "metadata": {},
   "outputs": [],
   "source": [
    "Tox_activity.head(2)"
   ]
  },
  {
   "cell_type": "code",
   "execution_count": 35,
   "metadata": {},
   "outputs": [],
   "source": [
    "def get_unique_molecules_and_assays(dataframe, molecule_column='PUBCHEM_CID', assay_column='PROTOCOL_NAME'):\n",
    "\n",
    "  \n",
    "    molecule_list = list(dataframe[molecule_column].unique())\n",
    "    assay_list_endocrine = list(dataframe[assay_column].unique())\n",
    "    \n",
    "    # Create a deep copy of the original DataFrame\n",
    "    copied_dataframe_activity = dataframe.copy(deep=True)\n",
    "    \n",
    "    return molecule_list, assay_list_endocrine, copied_dataframe_activity\n",
    "\n",
    "#separate the agonist and antagonist protocols name in two distinct lists, make it exact matc\n",
    "agonist_protocol_names = []\n",
    "antagonist_protocol_names = []\n",
    "for protocol_name in sorted_protocol_names:\n",
    "    if re.search(r'\\bagonist\\b', protocol_name.lower()):\n",
    "        agonist_protocol_names.append(protocol_name)\n",
    "    elif re.search(r'\\bantagonist\\b', protocol_name.lower()):\n",
    "        antagonist_protocol_names.append(protocol_name)\n",
    "    else:\n",
    "        warnings.warn(f\"Protocol name '{protocol_name}' does not contain 'agonist' or 'antagonist'.\")"
   ]
  },
  {
   "cell_type": "code",
   "execution_count": 36,
   "metadata": {},
   "outputs": [],
   "source": [
    "# create two dataframes for agonist and antagonist data\n",
    "Tox_activity_agonist = Tox_activity[Tox_activity['PROTOCOL_NAME'].isin(agonist_protocol_names)]\n",
    "Tox_activity_antagonist = Tox_activity[Tox_activity['PROTOCOL_NAME'].isin(antagonist_protocol_names)]"
   ]
  },
  {
   "cell_type": "code",
   "execution_count": 37,
   "metadata": {},
   "outputs": [],
   "source": [
    "molecule_list, assay_list_endocrine, endocrine_activity = get_unique_molecules_and_assays(Tox_activity)"
   ]
  },
  {
   "cell_type": "code",
   "execution_count": 38,
   "metadata": {},
   "outputs": [],
   "source": [
    "molecule_list_agonist, assay_list_endocrine_agonist, endocrine_activity_agonist = get_unique_molecules_and_assays(Tox_activity_agonist)\n",
    "molecule_list_antagonist, assay_list_endocrine_antagonist, endocrine_activity_antagonist = get_unique_molecules_and_assays(Tox_activity_antagonist)"
   ]
  },
  {
   "cell_type": "code",
   "execution_count": 41,
   "metadata": {},
   "outputs": [],
   "source": [
    "def define_endocrine_activity(mol_list, assay_list, data, activity_dict):\n",
    "    \"\"\"\n",
    "    Process list of molecules overlapping with BBC047 by checking their assay outcomes and define their endocrine activity status.\n",
    "    \n",
    "    Parameters:\n",
    "    mol_list (list): List of molecules to process.\n",
    "    assay_list (list): List of assays to check for each molecule.\n",
    "    data (DataFrame): DataFrame containing assay data for different molecules.\n",
    "    activity_dict (dict): Dictionary to store activity status ('active' or 'inactive') for each molecule.\n",
    "    \n",
    "    Returns:\n",
    "    DataFrame: Updated data_test after filtering out rows based on conditions.\n",
    "    dict: Updated activity_dict with activity status of molecules.\n",
    "    \"\"\"\n",
    "    for mol in mol_list:\n",
    "        view_mol = data[data['PUBCHEM_CID'] == mol].copy() #'SAMPLE_NAME_y'\n",
    "\n",
    "        for assay in assay_list:\n",
    "            view_assay = view_mol[view_mol['PROTOCOL_NAME'] == assay].copy()\n",
    "\n",
    "\n",
    "            if len(set(view_assay['CHANNEL_OUTCOME'])) > 1:\n",
    "                data = data[~data.index.isin(view_assay.index)]\n",
    "\n",
    "            if any(re.search(r'\\binconclusive\\b', outcome) for outcome in view_assay['CHANNEL_OUTCOME']): # VS CHANNEL_OUTCOME\n",
    "                data = data[~data.index.isin(view_assay.index)]\n",
    "                continue\n",
    "        if any(re.search(r'\\bactive\\b', outcome) for outcome in set(view_mol['CHANNEL_OUTCOME'])):\n",
    "            activity_dict[mol] = 'active'\n",
    "        else:\n",
    "            activity_dict[mol] = 'inactive'\n",
    "\n",
    "    return data, activity_dict\n"
   ]
  },
  {
   "cell_type": "code",
   "execution_count": 42,
   "metadata": {},
   "outputs": [],
   "source": [
    "# Compter les occurrences de 'active' et 'inactive'\n",
    "def count_activie_inactive(dict):\n",
    "    active_count = sum(1 for value in dict.values() if value == 'active')\n",
    "    inactive_count = sum(1 for value in dict.values() if value == 'inactive')\n",
    "    print(f'Number of active molecules: {active_count}')\n",
    "    print(f'Number of inactive molecules: {inactive_count}')\n",
    "    return\n"
   ]
  },
  {
   "cell_type": "code",
   "execution_count": null,
   "metadata": {},
   "outputs": [],
   "source": [
    "activity_dict_agonist = {}\n",
    "updated_data_agonist , activity_agonist = define_endocrine_activity(molecule_list_agonist, assay_list_endocrine_agonist, endocrine_activity_agonist, activity_dict_agonist)\n",
    "count_activie_inactive(activity_agonist)"
   ]
  },
  {
   "cell_type": "code",
   "execution_count": null,
   "metadata": {},
   "outputs": [],
   "source": [
    "activity_dict_antagonist = {}\n",
    "updated_data_antagonist , activity_antagonist = define_endocrine_activity(molecule_list_antagonist, assay_list_endocrine_antagonist, endocrine_activity_antagonist, activity_dict_antagonist)\n",
    "count_activie_inactive(activity_antagonist)"
   ]
  },
  {
   "cell_type": "code",
   "execution_count": null,
   "metadata": {},
   "outputs": [],
   "source": [
    "activity_dict = {}\n",
    "updated_data, activity = define_endocrine_activity(molecule_list, assay_list_endocrine, endocrine_activity, activity_dict)\n",
    "count_activie_inactive(activity)"
   ]
  },
  {
   "cell_type": "markdown",
   "metadata": {},
   "source": [
    "_Note_: This activity is defined in relation to all NR (nuclear receptor) tested in Tox21, which are classified as endocrine active molecules. We do not consider GPCRs (G protein-coupled receptors) as a pathway for endocrine activity for this case.\n",
    "\n",
    "Therefore, if a molecule is classified as active in at least one assay after removing inconsistent and inconclusive results, it will be annotated as active. For example, p,p’-DDT is inactive in 8 out of the 9 remaining assays; however, it is active in all 3 replicates of the *Tox21 ER-Bla Agonist P2* assay and will be annotated as endocrine active.\n",
    "\n"
   ]
  },
  {
   "cell_type": "code",
   "execution_count": 44,
   "metadata": {},
   "outputs": [],
   "source": [
    "def view_mol(data):\n",
    "    \"\"\"\n",
    "    Display the assay data for a specific molecule in the Tox21 dataset.\n",
    "    \"\"\"\n",
    "    view_mol = data[data['SAMPLE_NAME_x'] == \"p,p'-DDT\"].copy() #CAS_x ; 50-29-3 \n",
    "    # Trier le DataFrame view_mol en fonction de la colonne 'PROTOCOL_NAME'\n",
    "    view_mol.sort_values(by='PROTOCOL_NAME')\n",
    "    print(data['CHANNEL_OUTCOME'].unique())\n",
    "    return view_mol\n"
   ]
  },
  {
   "cell_type": "code",
   "execution_count": null,
   "metadata": {},
   "outputs": [],
   "source": [
    "view_mol(updated_data_agonist)"
   ]
  },
  {
   "cell_type": "code",
   "execution_count": null,
   "metadata": {},
   "outputs": [],
   "source": [
    "view_mol(updated_data_antagonist)"
   ]
  },
  {
   "cell_type": "code",
   "execution_count": null,
   "metadata": {},
   "outputs": [],
   "source": [
    "view_mol(updated_data)"
   ]
  },
  {
   "cell_type": "markdown",
   "metadata": {},
   "source": [
    "## Nuclear receptor activity\n"
   ]
  },
  {
   "cell_type": "markdown",
   "metadata": {},
   "source": [
    "Similarly to the datasets created above , we will create data for each of the 8 receptors "
   ]
  },
  {
   "cell_type": "code",
   "execution_count": 46,
   "metadata": {},
   "outputs": [],
   "source": [
    "\n",
    "# Create a dictionary to store the nuclear receptor name and the corresponding assay name using the protocol name list and the list of nuclear receptors defined earlier\n",
    "nuclear_receptor_dict = {}\n",
    "for receptor in unique_receptors:\n",
    "    matching_protocols = []\n",
    "    for protocol in sorted_protocol_names:\n",
    "        # Use re.search to match the receptor explicitly in the protocol\n",
    "        if re.search(r'\\b' + re.escape(receptor) + r'\\b', protocol): \n",
    "            matching_protocols.append(protocol)\n",
    "    if matching_protocols:\n",
    "        nuclear_receptor_dict[receptor] = matching_protocols\n"
   ]
  },
  {
   "cell_type": "code",
   "execution_count": null,
   "metadata": {},
   "outputs": [],
   "source": [
    "nuclear_receptor_dict.keys()"
   ]
  },
  {
   "cell_type": "code",
   "execution_count": 48,
   "metadata": {},
   "outputs": [],
   "source": [
    "#make dataframe for each receptor with the accurate assay\n",
    "def make_receptor_df(receptor, data):\n",
    "    \"\"\"\n",
    "    Create a DataFrame containing assay data for a specific receptor.\n",
    "    \n",
    "    Parameters:\n",
    "    receptor (str): The name of the receptor to filter the data.\n",
    "    data (DataFrame): The DataFrame containing assay data for different molecules.\n",
    "    \n",
    "    Returns:\n",
    "    DataFrame: The DataFrame containing assay data for the specified receptor.\n",
    "    \"\"\"\n",
    "    receptor_df = pd.DataFrame()\n",
    "    for assay in nuclear_receptor_dict[receptor]:\n",
    "        receptor_df = pd.concat([receptor_df, data[data['PROTOCOL_NAME'] == assay]])\n",
    "    return receptor_df\n"
   ]
  },
  {
   "cell_type": "code",
   "execution_count": null,
   "metadata": {},
   "outputs": [],
   "source": [
    "# Initialize a dictionary to store DataFrames for each receptor\n",
    "receptor_dfs = {}\n",
    "\n",
    "# Loop through each receptor to create a separate DataFrame\n",
    "for receptor in nuclear_receptor_dict.keys():\n",
    "    print(f\"Creating DataFrame for {receptor}...\")\n",
    "    # Call the function and store the resulting DataFrame in the dictionary\n",
    "    receptor_dfs[receptor] = make_receptor_df(receptor, Tox_activity)\n"
   ]
  },
  {
   "cell_type": "code",
   "execution_count": null,
   "metadata": {},
   "outputs": [],
   "source": [
    "activity_dict_receptor = {}\n",
    "updated_data_receptor = {}\n",
    "\n",
    "\n",
    "for receptor in nuclear_receptor_dict.keys():\n",
    "    print(f\"Defining activity for {receptor}...\")\n",
    "\n",
    "\n",
    "    molecule_list_receptor = list(receptor_dfs[receptor]['PUBCHEM_CID'].unique())\n",
    "\n",
    "    assay_list_receptor = list(receptor_dfs[receptor]['PROTOCOL_NAME'].unique())\n",
    "\n",
    "    updated_data_receptor[receptor], activity_dict_receptor[receptor] = define_endocrine_activity(\n",
    "        molecule_list_receptor, assay_list_receptor, receptor_dfs[receptor], activity_dict_receptor.get(receptor, {})\n",
    "    )"
   ]
  },
  {
   "cell_type": "code",
   "execution_count": null,
   "metadata": {},
   "outputs": [],
   "source": [
    "#count the active and inactive molecules for each receptor caling the function count_activie_inactive\n",
    "for receptor in activity_dict_receptor.keys():\n",
    "    print(f\"Counting active and inactive molecules for {receptor}...\")\n",
    "    count_activie_inactive(activity_dict_receptor[receptor])\n",
    "    "
   ]
  },
  {
   "cell_type": "code",
   "execution_count": null,
   "metadata": {},
   "outputs": [],
   "source": [
    "receptor_dfs['pparg'][(receptor_dfs['pparg']['PROTOCOL_NAME'] == 'tox21-pparg-bla-agonist-p1') & (receptor_dfs['pparg']['ASSAY_OUTCOME'] == 'inactive')]['CAS_x'].nunique()"
   ]
  },
  {
   "cell_type": "markdown",
   "metadata": {},
   "source": [
    "## Save the data "
   ]
  },
  {
   "cell_type": "markdown",
   "metadata": {},
   "source": [
    "He save as a csv file the data we need to merge to the BBC047 dataset. That is the activity status, the name of the molecule, the smiles and CID.\n"
   ]
  },
  {
   "cell_type": "code",
   "execution_count": 53,
   "metadata": {},
   "outputs": [],
   "source": [
    "def get_data_ready(dataframe_activity,dict):\n",
    "    \"\"\"\n",
    "    Prepare the data for visualization by adding the 'Endocrine_activity' column to the DataFrame.\n",
    "    \n",
    "    Args:\n",
    "        data (DataFrame): The DataFrame containing the assay data.\n",
    "        activity_dict (dict): The dictionary containing the activity status of each molecule.\n",
    "    \n",
    "    Returns:\n",
    "        DataFrame: The updated DataFrame with the 'Endocrine_activity' column.\n",
    "    \"\"\"\n",
    "\n",
    "    \n",
    "    data_cleaned = pd.DataFrame(list(dict.items()), columns=['PUBCHEM_CID', 'Endocrine_activity']) #CPD_NAME\n",
    "    dataframe_activity['PUBCHEM_CID'] = dataframe_activity['PUBCHEM_CID'].astype(int)\n",
    "    \n",
    "    dataframe_activity = dataframe_activity[['CAS_x','SMILES','PUBCHEM_CID','SAMPLE_NAME_x']]\n",
    "    dataframe_activity.rename(columns={'SAMPLE_NAME_x':'CPD_NAME', 'CAS_x':'CAS'}, inplace=True)  \n",
    "\n",
    "    dataframe_activity= data_cleaned.merge(dataframe_activity, on='PUBCHEM_CID', how='right')  \n",
    "    dataframe_activity = dataframe_activity.groupby('PUBCHEM_CID').first().reset_index()\n",
    "    print(f\"{dataframe_activity['PUBCHEM_CID'].nunique()} unique compounds in the endocrine activity dataset\")\n",
    "\n",
    "    return data_cleaned, dataframe_activity\n",
    "\n"
   ]
  },
  {
   "cell_type": "code",
   "execution_count": null,
   "metadata": {},
   "outputs": [],
   "source": [
    "\n",
    "_,df = get_data_ready(updated_data_agonist,activity_agonist)\n",
    "create_directory('../Data/Output')\n",
    "df.to_csv('../Data/Output/Tox21_activity_agonist.csv',index=False)"
   ]
  },
  {
   "cell_type": "code",
   "execution_count": null,
   "metadata": {},
   "outputs": [],
   "source": [
    "_,df = get_data_ready(updated_data_antagonist,activity_antagonist)\n",
    "create_directory('../Data/Output')\n",
    "df.to_csv('../Data/Output/Tox21_activity_antagonist.csv',index=False)"
   ]
  },
  {
   "cell_type": "code",
   "execution_count": null,
   "metadata": {},
   "outputs": [],
   "source": [
    "_,df = get_data_ready(updated_data,activity)\n",
    "create_directory('../Data/Output')\n",
    "df.to_csv('../Data/Output/Tox21_activity.csv',index=False)\n"
   ]
  },
  {
   "cell_type": "markdown",
   "metadata": {},
   "source": [
    "## Some sanity Check"
   ]
  },
  {
   "cell_type": "markdown",
   "metadata": {},
   "source": [
    "We noticed that we have less data point when merging the pre-processed data from output_notebook_1 to this endocrine activity data, to see which molecules are concerned, we retrieved the CID of the molecule that have been removed."
   ]
  },
  {
   "cell_type": "code",
   "execution_count": 52,
   "metadata": {},
   "outputs": [],
   "source": [
    "missing_cid = [2724385,\n",
    " 2082,\n",
    " 5154,\n",
    " 26596,\n",
    " 6758,\n",
    " 3334,\n",
    " 439501,\n",
    " 10607,\n",
    " 36314,\n",
    " 30323,\n",
    " 6197,\n",
    " 15478,\n",
    " 6167,\n",
    " 4122,\n",
    " 4030]"
   ]
  },
  {
   "cell_type": "markdown",
   "metadata": {},
   "source": [
    "It seems that the endocrine active molecule removed correspond to molecule exhibiting 'DEAD CELL PATTERN' therefore were removed. "
   ]
  },
  {
   "cell_type": "code",
   "execution_count": null,
   "metadata": {},
   "outputs": [],
   "source": [
    "annotations_update[annotations_update['PUBCHEM_CID'].isin(missing_cid)]"
   ]
  },
  {
   "cell_type": "markdown",
   "metadata": {},
   "source": [
    "### Generate a column for plot in Datagrok "
   ]
  },
  {
   "cell_type": "code",
   "execution_count": 54,
   "metadata": {},
   "outputs": [],
   "source": [
    "T = [\n",
    "    'Bisphenol A diglycidyl ether', 'Dexamethasone acetate', 'Testosterone propionate',\n",
    "    'Estrone', \"p,p'-DDT\"\n",
    "]"
   ]
  },
  {
   "cell_type": "code",
   "execution_count": 55,
   "metadata": {},
   "outputs": [],
   "source": [
    "#Endocrine_activity['Datagrok'] = Endocrine_activity['CPD_NAME'].apply(lambda x: x if x in T else '')"
   ]
  },
  {
   "cell_type": "code",
   "execution_count": null,
   "metadata": {},
   "outputs": [],
   "source": [
    "create_directory('../Data/Output')\n",
    "#Endocrine_activity.to_csv('../Data/Output/Tox21_Endocrine_Datagrok.csv',index=False)"
   ]
  }
 ],
 "metadata": {
  "kernelspec": {
   "display_name": "GCC_DL_Endocrinology",
   "language": "python",
   "name": "python3"
  },
  "language_info": {
   "codemirror_mode": {
    "name": "ipython",
    "version": 3
   },
   "file_extension": ".py",
   "mimetype": "text/x-python",
   "name": "python",
   "nbconvert_exporter": "python",
   "pygments_lexer": "ipython3",
   "version": "3.9.20"
  }
 },
 "nbformat": 4,
 "nbformat_minor": 2
}
