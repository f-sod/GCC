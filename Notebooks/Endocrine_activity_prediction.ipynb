{
 "cells": [
  {
   "cell_type": "markdown",
   "metadata": {},
   "source": [
    "# Endocrine activity prediction "
   ]
  },
  {
   "cell_type": "markdown",
   "metadata": {},
   "source": [
    "In this notebook, our goal is to train and compare the performance of three different architectures on the same task, namely predicting endocrine activity.\n",
    "\n",
    "Endocrine activity is defined as follows:\n",
    "\n",
    "- Active: A molecule is considered active if it shows activity in at least one nuclear receptor assay.\n",
    "- Inactive: A molecule is considered inactive if it does not show activity in any such assay.\n",
    "The detailed process of filtering and curating the assays can be found in the Tox21.ipynb notebook.\n",
    "\n",
    "We overlap these assay results with our current dataset of morphological fingerprints using the corresponding CID (Compound ID). The CID for our library of over $30.000$ compounds was retrieved by querying PubChem. After preprocessing the data, we identified:\n",
    "\n",
    "650 unique molecules with endocrine activity in the raw dataset.\n",
    "634 molecules after preprocessing (based on the overlap between this notebook and the output of the notebook_1, 16 molecules are \"missing\", remove during processing).\n",
    "\n",
    "Out of these X molecules (signal assay outcome):\n",
    "-  are active.\n",
    "-  are inactive.\n",
    "\n",
    "Out of these 650 molecules (activity assay outcome)\n",
    "- We have 327 inactive (-16)\n",
    "- We have 323 active \n",
    "\n"
   ]
  },
  {
   "cell_type": "markdown",
   "metadata": {},
   "source": [
    "## Load data "
   ]
  },
  {
   "cell_type": "markdown",
   "metadata": {},
   "source": [
    "### Import Libraries"
   ]
  },
  {
   "cell_type": "code",
   "execution_count": 1,
   "metadata": {},
   "outputs": [],
   "source": [
    "import pickle\n",
    "import pandas as pd\n",
    "import os "
   ]
  },
  {
   "cell_type": "markdown",
   "metadata": {},
   "source": [
    "### General function"
   ]
  },
  {
   "cell_type": "code",
   "execution_count": 2,
   "metadata": {},
   "outputs": [],
   "source": [
    "\n",
    "def create_directory(path):\n",
    "    \"\"\"\n",
    "    Checks if a directory exists at the given path. If it doesn't, the directory is created.\n",
    "    \n",
    "    Args:\n",
    "        path (str): The path of the directory to check and create.\n",
    "    \"\"\"\n",
    "    if not os.path.exists(path):\n",
    "        os.mkdir(path)\n",
    "        print(f\"Directory '{path}' created.\")\n",
    "    else:\n",
    "        print(f\"Directory '{path}' already exists.\")"
   ]
  },
  {
   "cell_type": "markdown",
   "metadata": {},
   "source": [
    "### Load Data"
   ]
  },
  {
   "cell_type": "code",
   "execution_count": 3,
   "metadata": {},
   "outputs": [
    {
     "name": "stdout",
     "output_type": "stream",
     "text": [
      "There are 30396 unique compounds in the profiles dataset\n"
     ]
    },
    {
     "data": {
      "text/html": [
       "<div>\n",
       "<style scoped>\n",
       "    .dataframe tbody tr th:only-of-type {\n",
       "        vertical-align: middle;\n",
       "    }\n",
       "\n",
       "    .dataframe tbody tr th {\n",
       "        vertical-align: top;\n",
       "    }\n",
       "\n",
       "    .dataframe thead th {\n",
       "        text-align: right;\n",
       "    }\n",
       "</style>\n",
       "<table border=\"1\" class=\"dataframe\">\n",
       "  <thead>\n",
       "    <tr style=\"text-align: right;\">\n",
       "      <th></th>\n",
       "      <th>CID</th>\n",
       "      <th>Metadata_broad_sample</th>\n",
       "    </tr>\n",
       "  </thead>\n",
       "  <tbody>\n",
       "    <tr>\n",
       "      <th>0</th>\n",
       "      <td>679.0</td>\n",
       "      <td>DMSO</td>\n",
       "    </tr>\n",
       "    <tr>\n",
       "      <th>1</th>\n",
       "      <td>2122.0</td>\n",
       "      <td>BRD-A56675431-001-04-0</td>\n",
       "    </tr>\n",
       "    <tr>\n",
       "      <th>2</th>\n",
       "      <td>3654103.0</td>\n",
       "      <td>BRD-A51829654-001-01-4</td>\n",
       "    </tr>\n",
       "  </tbody>\n",
       "</table>\n",
       "</div>"
      ],
      "text/plain": [
       "         CID   Metadata_broad_sample\n",
       "0      679.0                    DMSO\n",
       "1     2122.0  BRD-A56675431-001-04-0\n",
       "2  3654103.0  BRD-A51829654-001-01-4"
      ]
     },
     "execution_count": 3,
     "metadata": {},
     "output_type": "execute_result"
    }
   ],
   "source": [
    "profiles_cid_pubchem = pd.read_pickle('../Data/Annotations/pubchem_annotation1_october_2.pkl') #pd.read_csv('../pubchem_annotation_morpho.csv',sep='\\t') \n",
    "#profiles_cid_pubchem = profiles_cid_pubchem[['CID','CPD_NAME']]\n",
    "print(f\"There are {profiles_cid_pubchem['CID'].nunique()} unique compounds in the profiles dataset\")\n",
    "profiles_cid_pubchem.head(3)"
   ]
  },
  {
   "cell_type": "code",
   "execution_count": 4,
   "metadata": {},
   "outputs": [
    {
     "name": "stdout",
     "output_type": "stream",
     "text": [
      "There are 30396 unique compounds in the profiles dataset\n"
     ]
    },
    {
     "data": {
      "text/html": [
       "<div>\n",
       "<style scoped>\n",
       "    .dataframe tbody tr th:only-of-type {\n",
       "        vertical-align: middle;\n",
       "    }\n",
       "\n",
       "    .dataframe tbody tr th {\n",
       "        vertical-align: top;\n",
       "    }\n",
       "\n",
       "    .dataframe thead th {\n",
       "        text-align: right;\n",
       "    }\n",
       "</style>\n",
       "<table border=\"1\" class=\"dataframe\">\n",
       "  <thead>\n",
       "    <tr style=\"text-align: right;\">\n",
       "      <th></th>\n",
       "      <th>CID</th>\n",
       "      <th>Metadata_broad_sample</th>\n",
       "      <th>PUBCHEM_CID</th>\n",
       "    </tr>\n",
       "  </thead>\n",
       "  <tbody>\n",
       "    <tr>\n",
       "      <th>0</th>\n",
       "      <td>679.0</td>\n",
       "      <td>DMSO</td>\n",
       "      <td>679</td>\n",
       "    </tr>\n",
       "    <tr>\n",
       "      <th>1</th>\n",
       "      <td>2122.0</td>\n",
       "      <td>BRD-A56675431-001-04-0</td>\n",
       "      <td>2122</td>\n",
       "    </tr>\n",
       "    <tr>\n",
       "      <th>2</th>\n",
       "      <td>3654103.0</td>\n",
       "      <td>BRD-A51829654-001-01-4</td>\n",
       "      <td>3654103</td>\n",
       "    </tr>\n",
       "  </tbody>\n",
       "</table>\n",
       "</div>"
      ],
      "text/plain": [
       "         CID   Metadata_broad_sample  PUBCHEM_CID\n",
       "0      679.0                    DMSO          679\n",
       "1     2122.0  BRD-A56675431-001-04-0         2122\n",
       "2  3654103.0  BRD-A51829654-001-01-4      3654103"
      ]
     },
     "execution_count": 4,
     "metadata": {},
     "output_type": "execute_result"
    }
   ],
   "source": [
    "profiles_cid_pubchem = profiles_cid_pubchem.dropna(subset=['CID']).copy()\n",
    "profiles_cid_pubchem.loc[:, 'PUBCHEM_CID'] = profiles_cid_pubchem['CID'].astype(int)\n",
    "#profiles_cid_pubchem = profiles_cid_pubchem[['PUBCHEM_CID','CPD_NAMES']]\n",
    "\n",
    "\n",
    "print(f\"There are {profiles_cid_pubchem['CID'].nunique()} unique compounds in the profiles dataset\")\n",
    "profiles_cid_pubchem.head(3)"
   ]
  },
  {
   "cell_type": "code",
   "execution_count": 5,
   "metadata": {},
   "outputs": [],
   "source": [
    "profiles_cid_pubchem = profiles_cid_pubchem[['PUBCHEM_CID','Metadata_broad_sample']]\n",
    "profiles_cid_pubchem.rename(columns={'PUBCHEM_CID':'CID'},inplace=True)"
   ]
  },
  {
   "cell_type": "code",
   "execution_count": 6,
   "metadata": {},
   "outputs": [
    {
     "data": {
      "text/html": [
       "<div>\n",
       "<style scoped>\n",
       "    .dataframe tbody tr th:only-of-type {\n",
       "        vertical-align: middle;\n",
       "    }\n",
       "\n",
       "    .dataframe tbody tr th {\n",
       "        vertical-align: top;\n",
       "    }\n",
       "\n",
       "    .dataframe thead th {\n",
       "        text-align: right;\n",
       "    }\n",
       "</style>\n",
       "<table border=\"1\" class=\"dataframe\">\n",
       "  <thead>\n",
       "    <tr style=\"text-align: right;\">\n",
       "      <th></th>\n",
       "      <th>CID</th>\n",
       "      <th>Metadata_broad_sample</th>\n",
       "    </tr>\n",
       "  </thead>\n",
       "  <tbody>\n",
       "    <tr>\n",
       "      <th>0</th>\n",
       "      <td>679</td>\n",
       "      <td>DMSO</td>\n",
       "    </tr>\n",
       "    <tr>\n",
       "      <th>1</th>\n",
       "      <td>2122</td>\n",
       "      <td>BRD-A56675431-001-04-0</td>\n",
       "    </tr>\n",
       "    <tr>\n",
       "      <th>2</th>\n",
       "      <td>3654103</td>\n",
       "      <td>BRD-A51829654-001-01-4</td>\n",
       "    </tr>\n",
       "  </tbody>\n",
       "</table>\n",
       "</div>"
      ],
      "text/plain": [
       "       CID   Metadata_broad_sample\n",
       "0      679                    DMSO\n",
       "1     2122  BRD-A56675431-001-04-0\n",
       "2  3654103  BRD-A51829654-001-01-4"
      ]
     },
     "execution_count": 6,
     "metadata": {},
     "output_type": "execute_result"
    }
   ],
   "source": [
    "profiles_cid_pubchem.head(3)"
   ]
  },
  {
   "cell_type": "markdown",
   "metadata": {},
   "source": [
    "Remove dmso profile within the dataset"
   ]
  },
  {
   "cell_type": "code",
   "execution_count": 7,
   "metadata": {},
   "outputs": [],
   "source": [
    "#drop first row and reset index\n",
    "profiles_cid_pubchem = profiles_cid_pubchem[1:]\n",
    "profiles_cid_pubchem.reset_index(drop=True, inplace=True)\n"
   ]
  },
  {
   "cell_type": "markdown",
   "metadata": {},
   "source": [
    "Load the profiles "
   ]
  },
  {
   "cell_type": "code",
   "execution_count": 8,
   "metadata": {},
   "outputs": [],
   "source": [
    "path_to_pickle_file ='../Data/CellProfiles/output_notebook_1.pkl'\n",
    "profiles = pickle.load(open(path_to_pickle_file, 'rb'))\n"
   ]
  },
  {
   "cell_type": "code",
   "execution_count": 9,
   "metadata": {},
   "outputs": [
    {
     "name": "stdout",
     "output_type": "stream",
     "text": [
      "There are 30377 profiles in the morphological profiles dataset\n",
      "There are 30377 unique sample caracterise by and 30112 unique compounds\n"
     ]
    }
   ],
   "source": [
    "print(f\"There are {len(profiles)} profiles in the morphological profiles dataset\")\n",
    "print(f\"There are {profiles['Metadata_broad_sample'].nunique()} unique sample caracterise by and {profiles['CPD_NAME'].nunique()} unique compounds\")"
   ]
  },
  {
   "cell_type": "markdown",
   "metadata": {},
   "source": [
    "Example of molecules with the same ‘CPD_NAME’ but different stereochemistry (enantiomers), and therefore identified with different ‘Metadata_broad_sample’ values."
   ]
  },
  {
   "cell_type": "code",
   "execution_count": 10,
   "metadata": {},
   "outputs": [
    {
     "data": {
      "text/html": [
       "<div>\n",
       "<style scoped>\n",
       "    .dataframe tbody tr th:only-of-type {\n",
       "        vertical-align: middle;\n",
       "    }\n",
       "\n",
       "    .dataframe tbody tr th {\n",
       "        vertical-align: top;\n",
       "    }\n",
       "\n",
       "    .dataframe thead th {\n",
       "        text-align: right;\n",
       "    }\n",
       "</style>\n",
       "<table border=\"1\" class=\"dataframe\">\n",
       "  <thead>\n",
       "    <tr style=\"text-align: right;\">\n",
       "      <th></th>\n",
       "      <th>Metadata_broad_sample</th>\n",
       "      <th>CPD_NAME</th>\n",
       "      <th>CPD_SMILES</th>\n",
       "      <th>Cells_AreaShape_Area</th>\n",
       "      <th>Cells_AreaShape_Center_X</th>\n",
       "      <th>Cells_AreaShape_Center_Y</th>\n",
       "      <th>Cells_AreaShape_Compactness</th>\n",
       "      <th>Cells_AreaShape_FormFactor</th>\n",
       "      <th>Cells_AreaShape_Orientation</th>\n",
       "      <th>Cells_AreaShape_Perimeter</th>\n",
       "      <th>...</th>\n",
       "      <th>Nuclei_Texture_InfoMeas1_RNA_10_0</th>\n",
       "      <th>Nuclei_Texture_InfoMeas1_RNA_3_0</th>\n",
       "      <th>Nuclei_Texture_InverseDifferenceMoment_ER_10_0</th>\n",
       "      <th>Nuclei_Texture_InverseDifferenceMoment_RNA_3_0</th>\n",
       "      <th>Nuclei_Texture_SumAverage_AGP_10_0</th>\n",
       "      <th>Nuclei_Texture_SumAverage_DNA_10_0</th>\n",
       "      <th>Nuclei_Texture_SumAverage_RNA_10_0</th>\n",
       "      <th>Nuclei_Texture_SumEntropy_AGP_10_0</th>\n",
       "      <th>Nuclei_Texture_SumEntropy_DNA_10_0</th>\n",
       "      <th>Nuclei_Texture_SumEntropy_RNA_10_0</th>\n",
       "    </tr>\n",
       "  </thead>\n",
       "  <tbody>\n",
       "    <tr>\n",
       "      <th>22409</th>\n",
       "      <td>BRD-A10070317-003-05-1</td>\n",
       "      <td>propranolol</td>\n",
       "      <td>CC(C)NCC(O)COc1cccc2ccccc12</td>\n",
       "      <td>-0.181066</td>\n",
       "      <td>0.290658</td>\n",
       "      <td>-0.048351</td>\n",
       "      <td>-0.260826</td>\n",
       "      <td>-0.220636</td>\n",
       "      <td>0.144072</td>\n",
       "      <td>-0.113796</td>\n",
       "      <td>...</td>\n",
       "      <td>0.305173</td>\n",
       "      <td>0.202152</td>\n",
       "      <td>0.398321</td>\n",
       "      <td>0.281046</td>\n",
       "      <td>-0.531793</td>\n",
       "      <td>-0.102024</td>\n",
       "      <td>-0.174831</td>\n",
       "      <td>-0.199399</td>\n",
       "      <td>-0.225782</td>\n",
       "      <td>-0.385788</td>\n",
       "    </tr>\n",
       "    <tr>\n",
       "      <th>23179</th>\n",
       "      <td>BRD-K13994703-001-02-0</td>\n",
       "      <td>propranolol</td>\n",
       "      <td>CC(C)NC[C@H](O)COc1cccc2ccccc12</td>\n",
       "      <td>0.107945</td>\n",
       "      <td>0.042286</td>\n",
       "      <td>0.550515</td>\n",
       "      <td>0.425072</td>\n",
       "      <td>0.358772</td>\n",
       "      <td>0.319154</td>\n",
       "      <td>-0.162650</td>\n",
       "      <td>...</td>\n",
       "      <td>0.348331</td>\n",
       "      <td>0.147997</td>\n",
       "      <td>0.727870</td>\n",
       "      <td>0.199830</td>\n",
       "      <td>-0.601768</td>\n",
       "      <td>-0.308817</td>\n",
       "      <td>-0.671559</td>\n",
       "      <td>-0.340255</td>\n",
       "      <td>-0.511715</td>\n",
       "      <td>-0.482742</td>\n",
       "    </tr>\n",
       "    <tr>\n",
       "      <th>27230</th>\n",
       "      <td>BRD-K92830582-003-04-8</td>\n",
       "      <td>propranolol</td>\n",
       "      <td>CC(C)NC[C@@H](O)COc1cccc2ccccc12</td>\n",
       "      <td>-0.339705</td>\n",
       "      <td>0.668767</td>\n",
       "      <td>0.089364</td>\n",
       "      <td>-0.534178</td>\n",
       "      <td>0.101464</td>\n",
       "      <td>0.007005</td>\n",
       "      <td>-0.311137</td>\n",
       "      <td>...</td>\n",
       "      <td>0.211793</td>\n",
       "      <td>0.053759</td>\n",
       "      <td>-0.030465</td>\n",
       "      <td>0.220821</td>\n",
       "      <td>0.120130</td>\n",
       "      <td>0.099267</td>\n",
       "      <td>0.100746</td>\n",
       "      <td>0.257167</td>\n",
       "      <td>-0.106823</td>\n",
       "      <td>-0.212929</td>\n",
       "    </tr>\n",
       "  </tbody>\n",
       "</table>\n",
       "<p>3 rows × 293 columns</p>\n",
       "</div>"
      ],
      "text/plain": [
       "        Metadata_broad_sample     CPD_NAME                        CPD_SMILES  \\\n",
       "22409  BRD-A10070317-003-05-1  propranolol       CC(C)NCC(O)COc1cccc2ccccc12   \n",
       "23179  BRD-K13994703-001-02-0  propranolol   CC(C)NC[C@H](O)COc1cccc2ccccc12   \n",
       "27230  BRD-K92830582-003-04-8  propranolol  CC(C)NC[C@@H](O)COc1cccc2ccccc12   \n",
       "\n",
       "       Cells_AreaShape_Area  Cells_AreaShape_Center_X  \\\n",
       "22409             -0.181066                  0.290658   \n",
       "23179              0.107945                  0.042286   \n",
       "27230             -0.339705                  0.668767   \n",
       "\n",
       "       Cells_AreaShape_Center_Y  Cells_AreaShape_Compactness  \\\n",
       "22409                 -0.048351                    -0.260826   \n",
       "23179                  0.550515                     0.425072   \n",
       "27230                  0.089364                    -0.534178   \n",
       "\n",
       "       Cells_AreaShape_FormFactor  Cells_AreaShape_Orientation  \\\n",
       "22409                   -0.220636                     0.144072   \n",
       "23179                    0.358772                     0.319154   \n",
       "27230                    0.101464                     0.007005   \n",
       "\n",
       "       Cells_AreaShape_Perimeter  ...  Nuclei_Texture_InfoMeas1_RNA_10_0  \\\n",
       "22409                  -0.113796  ...                           0.305173   \n",
       "23179                  -0.162650  ...                           0.348331   \n",
       "27230                  -0.311137  ...                           0.211793   \n",
       "\n",
       "       Nuclei_Texture_InfoMeas1_RNA_3_0  \\\n",
       "22409                          0.202152   \n",
       "23179                          0.147997   \n",
       "27230                          0.053759   \n",
       "\n",
       "       Nuclei_Texture_InverseDifferenceMoment_ER_10_0  \\\n",
       "22409                                        0.398321   \n",
       "23179                                        0.727870   \n",
       "27230                                       -0.030465   \n",
       "\n",
       "       Nuclei_Texture_InverseDifferenceMoment_RNA_3_0  \\\n",
       "22409                                        0.281046   \n",
       "23179                                        0.199830   \n",
       "27230                                        0.220821   \n",
       "\n",
       "       Nuclei_Texture_SumAverage_AGP_10_0  Nuclei_Texture_SumAverage_DNA_10_0  \\\n",
       "22409                           -0.531793                           -0.102024   \n",
       "23179                           -0.601768                           -0.308817   \n",
       "27230                            0.120130                            0.099267   \n",
       "\n",
       "       Nuclei_Texture_SumAverage_RNA_10_0  Nuclei_Texture_SumEntropy_AGP_10_0  \\\n",
       "22409                           -0.174831                           -0.199399   \n",
       "23179                           -0.671559                           -0.340255   \n",
       "27230                            0.100746                            0.257167   \n",
       "\n",
       "       Nuclei_Texture_SumEntropy_DNA_10_0  Nuclei_Texture_SumEntropy_RNA_10_0  \n",
       "22409                           -0.225782                           -0.385788  \n",
       "23179                           -0.511715                           -0.482742  \n",
       "27230                           -0.106823                           -0.212929  \n",
       "\n",
       "[3 rows x 293 columns]"
      ]
     },
     "execution_count": 10,
     "metadata": {},
     "output_type": "execute_result"
    }
   ],
   "source": [
    "propranolol = profiles[profiles['CPD_NAME']=='propranolol']['Metadata_broad_sample'].to_list()\n",
    "profiles[profiles['CPD_NAME']=='propranolol']"
   ]
  },
  {
   "cell_type": "code",
   "execution_count": 11,
   "metadata": {},
   "outputs": [
    {
     "name": "stdout",
     "output_type": "stream",
     "text": [
      "There are 30162 unique compounds in the activity dataset\n"
     ]
    },
    {
     "data": {
      "text/html": [
       "<div>\n",
       "<style scoped>\n",
       "    .dataframe tbody tr th:only-of-type {\n",
       "        vertical-align: middle;\n",
       "    }\n",
       "\n",
       "    .dataframe tbody tr th {\n",
       "        vertical-align: top;\n",
       "    }\n",
       "\n",
       "    .dataframe thead th {\n",
       "        text-align: right;\n",
       "    }\n",
       "</style>\n",
       "<table border=\"1\" class=\"dataframe\">\n",
       "  <thead>\n",
       "    <tr style=\"text-align: right;\">\n",
       "      <th></th>\n",
       "      <th>CID</th>\n",
       "      <th>Metadata_broad_sample</th>\n",
       "      <th>CPD_NAME</th>\n",
       "      <th>CPD_SMILES</th>\n",
       "      <th>Cells_AreaShape_Area</th>\n",
       "      <th>Cells_AreaShape_Center_X</th>\n",
       "      <th>Cells_AreaShape_Center_Y</th>\n",
       "      <th>Cells_AreaShape_Compactness</th>\n",
       "      <th>Cells_AreaShape_FormFactor</th>\n",
       "      <th>Cells_AreaShape_Orientation</th>\n",
       "      <th>...</th>\n",
       "      <th>Nuclei_Texture_InfoMeas1_RNA_10_0</th>\n",
       "      <th>Nuclei_Texture_InfoMeas1_RNA_3_0</th>\n",
       "      <th>Nuclei_Texture_InverseDifferenceMoment_ER_10_0</th>\n",
       "      <th>Nuclei_Texture_InverseDifferenceMoment_RNA_3_0</th>\n",
       "      <th>Nuclei_Texture_SumAverage_AGP_10_0</th>\n",
       "      <th>Nuclei_Texture_SumAverage_DNA_10_0</th>\n",
       "      <th>Nuclei_Texture_SumAverage_RNA_10_0</th>\n",
       "      <th>Nuclei_Texture_SumEntropy_AGP_10_0</th>\n",
       "      <th>Nuclei_Texture_SumEntropy_DNA_10_0</th>\n",
       "      <th>Nuclei_Texture_SumEntropy_RNA_10_0</th>\n",
       "    </tr>\n",
       "  </thead>\n",
       "  <tbody>\n",
       "    <tr>\n",
       "      <th>0</th>\n",
       "      <td>2122</td>\n",
       "      <td>BRD-A56675431-001-04-0</td>\n",
       "      <td>altizide</td>\n",
       "      <td>NS(=O)(=O)c1cc2c(NC(CSCC=C)NS2(=O)=O)cc1Cl</td>\n",
       "      <td>0.618005</td>\n",
       "      <td>0.434264</td>\n",
       "      <td>0.328570</td>\n",
       "      <td>0.736717</td>\n",
       "      <td>0.575161</td>\n",
       "      <td>0.273073</td>\n",
       "      <td>...</td>\n",
       "      <td>0.331121</td>\n",
       "      <td>0.295925</td>\n",
       "      <td>0.143811</td>\n",
       "      <td>0.279064</td>\n",
       "      <td>0.297260</td>\n",
       "      <td>0.362669</td>\n",
       "      <td>0.178429</td>\n",
       "      <td>0.227307</td>\n",
       "      <td>0.306006</td>\n",
       "      <td>-0.49518</td>\n",
       "    </tr>\n",
       "    <tr>\n",
       "      <th>1</th>\n",
       "      <td>3654103</td>\n",
       "      <td>BRD-A51829654-001-01-4</td>\n",
       "      <td>BRL-15,572</td>\n",
       "      <td>OC(CN1CCN(CC1)c1cccc(Cl)c1)C(c1ccccc1)c1ccccc1</td>\n",
       "      <td>0.426721</td>\n",
       "      <td>0.248151</td>\n",
       "      <td>-0.151648</td>\n",
       "      <td>0.278634</td>\n",
       "      <td>-0.046143</td>\n",
       "      <td>0.378118</td>\n",
       "      <td>...</td>\n",
       "      <td>0.181314</td>\n",
       "      <td>0.271285</td>\n",
       "      <td>0.259782</td>\n",
       "      <td>-0.695487</td>\n",
       "      <td>0.799557</td>\n",
       "      <td>0.631237</td>\n",
       "      <td>0.815659</td>\n",
       "      <td>0.219172</td>\n",
       "      <td>0.161074</td>\n",
       "      <td>-0.03765</td>\n",
       "    </tr>\n",
       "  </tbody>\n",
       "</table>\n",
       "<p>2 rows × 294 columns</p>\n",
       "</div>"
      ],
      "text/plain": [
       "       CID   Metadata_broad_sample    CPD_NAME  \\\n",
       "0     2122  BRD-A56675431-001-04-0    altizide   \n",
       "1  3654103  BRD-A51829654-001-01-4  BRL-15,572   \n",
       "\n",
       "                                       CPD_SMILES  Cells_AreaShape_Area  \\\n",
       "0      NS(=O)(=O)c1cc2c(NC(CSCC=C)NS2(=O)=O)cc1Cl              0.618005   \n",
       "1  OC(CN1CCN(CC1)c1cccc(Cl)c1)C(c1ccccc1)c1ccccc1              0.426721   \n",
       "\n",
       "   Cells_AreaShape_Center_X  Cells_AreaShape_Center_Y  \\\n",
       "0                  0.434264                  0.328570   \n",
       "1                  0.248151                 -0.151648   \n",
       "\n",
       "   Cells_AreaShape_Compactness  Cells_AreaShape_FormFactor  \\\n",
       "0                     0.736717                    0.575161   \n",
       "1                     0.278634                   -0.046143   \n",
       "\n",
       "   Cells_AreaShape_Orientation  ...  Nuclei_Texture_InfoMeas1_RNA_10_0  \\\n",
       "0                     0.273073  ...                           0.331121   \n",
       "1                     0.378118  ...                           0.181314   \n",
       "\n",
       "   Nuclei_Texture_InfoMeas1_RNA_3_0  \\\n",
       "0                          0.295925   \n",
       "1                          0.271285   \n",
       "\n",
       "   Nuclei_Texture_InverseDifferenceMoment_ER_10_0  \\\n",
       "0                                        0.143811   \n",
       "1                                        0.259782   \n",
       "\n",
       "   Nuclei_Texture_InverseDifferenceMoment_RNA_3_0  \\\n",
       "0                                        0.279064   \n",
       "1                                       -0.695487   \n",
       "\n",
       "   Nuclei_Texture_SumAverage_AGP_10_0  Nuclei_Texture_SumAverage_DNA_10_0  \\\n",
       "0                            0.297260                            0.362669   \n",
       "1                            0.799557                            0.631237   \n",
       "\n",
       "   Nuclei_Texture_SumAverage_RNA_10_0  Nuclei_Texture_SumEntropy_AGP_10_0  \\\n",
       "0                            0.178429                            0.227307   \n",
       "1                            0.815659                            0.219172   \n",
       "\n",
       "   Nuclei_Texture_SumEntropy_DNA_10_0  Nuclei_Texture_SumEntropy_RNA_10_0  \n",
       "0                            0.306006                            -0.49518  \n",
       "1                            0.161074                            -0.03765  \n",
       "\n",
       "[2 rows x 294 columns]"
      ]
     },
     "execution_count": 11,
     "metadata": {},
     "output_type": "execute_result"
    }
   ],
   "source": [
    "profiles = profiles_cid_pubchem.merge(profiles, on='Metadata_broad_sample')\n",
    "print(f\"There are {profiles['CID'].nunique()} unique compounds in the activity dataset\")\n",
    "profiles.head(2)"
   ]
  },
  {
   "cell_type": "markdown",
   "metadata": {},
   "source": [
    "Load the activity table linking Tox21 and BBC047"
   ]
  },
  {
   "cell_type": "code",
   "execution_count": 12,
   "metadata": {},
   "outputs": [
    {
     "name": "stdout",
     "output_type": "stream",
     "text": [
      "There are 646 unique compounds in the activity dataset\n"
     ]
    },
    {
     "data": {
      "text/html": [
       "<div>\n",
       "<style scoped>\n",
       "    .dataframe tbody tr th:only-of-type {\n",
       "        vertical-align: middle;\n",
       "    }\n",
       "\n",
       "    .dataframe tbody tr th {\n",
       "        vertical-align: top;\n",
       "    }\n",
       "\n",
       "    .dataframe thead th {\n",
       "        text-align: right;\n",
       "    }\n",
       "</style>\n",
       "<table border=\"1\" class=\"dataframe\">\n",
       "  <thead>\n",
       "    <tr style=\"text-align: right;\">\n",
       "      <th></th>\n",
       "      <th>CID</th>\n",
       "      <th>Endocrine_activity</th>\n",
       "      <th>CAS</th>\n",
       "      <th>SMILES</th>\n",
       "      <th>Name</th>\n",
       "    </tr>\n",
       "  </thead>\n",
       "  <tbody>\n",
       "    <tr>\n",
       "      <th>0</th>\n",
       "      <td>323</td>\n",
       "      <td>inactive</td>\n",
       "      <td>91-64-5</td>\n",
       "      <td>O=C1C=Cc2ccccc2O1</td>\n",
       "      <td>Coumarin</td>\n",
       "    </tr>\n",
       "    <tr>\n",
       "      <th>1</th>\n",
       "      <td>338</td>\n",
       "      <td>inactive</td>\n",
       "      <td>69-72-7</td>\n",
       "      <td>OC(=O)c1ccccc1O</td>\n",
       "      <td>Salicylic acid</td>\n",
       "    </tr>\n",
       "  </tbody>\n",
       "</table>\n",
       "</div>"
      ],
      "text/plain": [
       "   CID Endocrine_activity      CAS             SMILES            Name\n",
       "0  323           inactive  91-64-5  O=C1C=Cc2ccccc2O1        Coumarin\n",
       "1  338           inactive  69-72-7    OC(=O)c1ccccc1O  Salicylic acid"
      ]
     },
     "execution_count": 12,
     "metadata": {},
     "output_type": "execute_result"
    }
   ],
   "source": [
    "activity = pd.read_csv('../Data/Output/Tox21_activity_agonist.csv', sep=',') #Tox21_Endocrine_activity_BBC047\n",
    "activity.rename(columns={'PUBCHEM_CID':'CID','CPD_NAME':'Name'}, inplace=True)\n",
    "print(f\"There are {activity['CID'].nunique()} unique compounds in the activity dataset\")\n",
    "activity.head(2)"
   ]
  },
  {
   "cell_type": "markdown",
   "metadata": {},
   "source": [
    "- We start with adding the cid columns from profiles_cid_pubchem to our pre-processed morphological profile file -> check which compounds is lost when merging the data "
   ]
  },
  {
   "cell_type": "code",
   "execution_count": 13,
   "metadata": {},
   "outputs": [],
   "source": [
    "t = activity.merge(profiles,on='CID')"
   ]
  },
  {
   "cell_type": "code",
   "execution_count": 14,
   "metadata": {},
   "outputs": [],
   "source": [
    "cid_cmbd = t['CID'].to_list()\n",
    "cid_activity = activity['CID'].to_list()\n",
    "cid_profiles = profiles['CID'].to_list()"
   ]
  },
  {
   "cell_type": "code",
   "execution_count": 15,
   "metadata": {},
   "outputs": [],
   "source": [
    "missing_cid = list(set(cid_activity) - set(cid_profiles))"
   ]
  },
  {
   "cell_type": "code",
   "execution_count": 16,
   "metadata": {},
   "outputs": [
    {
     "name": "stdout",
     "output_type": "stream",
     "text": [
      "There are 15 missing CID in the merge dataset\n"
     ]
    }
   ],
   "source": [
    "print(f'There are {len(missing_cid)} missing CID in the merge dataset')"
   ]
  },
  {
   "cell_type": "code",
   "execution_count": 17,
   "metadata": {},
   "outputs": [
    {
     "name": "stdout",
     "output_type": "stream",
     "text": [
      "We have 403 inactive and 234 active compounds\n"
     ]
    },
    {
     "data": {
      "text/html": [
       "<div>\n",
       "<style scoped>\n",
       "    .dataframe tbody tr th:only-of-type {\n",
       "        vertical-align: middle;\n",
       "    }\n",
       "\n",
       "    .dataframe tbody tr th {\n",
       "        vertical-align: top;\n",
       "    }\n",
       "\n",
       "    .dataframe thead th {\n",
       "        text-align: right;\n",
       "    }\n",
       "</style>\n",
       "<table border=\"1\" class=\"dataframe\">\n",
       "  <thead>\n",
       "    <tr style=\"text-align: right;\">\n",
       "      <th></th>\n",
       "      <th>CID</th>\n",
       "      <th>Endocrine_activity</th>\n",
       "      <th>CAS</th>\n",
       "      <th>SMILES</th>\n",
       "      <th>Name</th>\n",
       "      <th>Metadata_broad_sample</th>\n",
       "      <th>CPD_NAME</th>\n",
       "      <th>CPD_SMILES</th>\n",
       "      <th>Cells_AreaShape_Area</th>\n",
       "      <th>Cells_AreaShape_Center_X</th>\n",
       "      <th>...</th>\n",
       "      <th>Nuclei_Texture_InfoMeas1_RNA_10_0</th>\n",
       "      <th>Nuclei_Texture_InfoMeas1_RNA_3_0</th>\n",
       "      <th>Nuclei_Texture_InverseDifferenceMoment_ER_10_0</th>\n",
       "      <th>Nuclei_Texture_InverseDifferenceMoment_RNA_3_0</th>\n",
       "      <th>Nuclei_Texture_SumAverage_AGP_10_0</th>\n",
       "      <th>Nuclei_Texture_SumAverage_DNA_10_0</th>\n",
       "      <th>Nuclei_Texture_SumAverage_RNA_10_0</th>\n",
       "      <th>Nuclei_Texture_SumEntropy_AGP_10_0</th>\n",
       "      <th>Nuclei_Texture_SumEntropy_DNA_10_0</th>\n",
       "      <th>Nuclei_Texture_SumEntropy_RNA_10_0</th>\n",
       "    </tr>\n",
       "  </thead>\n",
       "  <tbody>\n",
       "    <tr>\n",
       "      <th>0</th>\n",
       "      <td>323</td>\n",
       "      <td>inactive</td>\n",
       "      <td>91-64-5</td>\n",
       "      <td>O=C1C=Cc2ccccc2O1</td>\n",
       "      <td>Coumarin</td>\n",
       "      <td>BRD-K23913458-001-02-5</td>\n",
       "      <td>coumarin</td>\n",
       "      <td>O=c1ccc2ccccc2o1</td>\n",
       "      <td>0.210650</td>\n",
       "      <td>0.034959</td>\n",
       "      <td>...</td>\n",
       "      <td>-0.735849</td>\n",
       "      <td>-0.312258</td>\n",
       "      <td>0.222973</td>\n",
       "      <td>0.162670</td>\n",
       "      <td>0.138114</td>\n",
       "      <td>0.460139</td>\n",
       "      <td>-0.232157</td>\n",
       "      <td>0.143794</td>\n",
       "      <td>-0.075845</td>\n",
       "      <td>-0.021427</td>\n",
       "    </tr>\n",
       "    <tr>\n",
       "      <th>1</th>\n",
       "      <td>338</td>\n",
       "      <td>inactive</td>\n",
       "      <td>69-72-7</td>\n",
       "      <td>OC(=O)c1ccccc1O</td>\n",
       "      <td>Salicylic acid</td>\n",
       "      <td>BRD-K93632104-001-12-3</td>\n",
       "      <td>salicylic acid</td>\n",
       "      <td>OC(=O)c1ccccc1O</td>\n",
       "      <td>0.144642</td>\n",
       "      <td>0.022497</td>\n",
       "      <td>...</td>\n",
       "      <td>0.431776</td>\n",
       "      <td>0.281568</td>\n",
       "      <td>0.371297</td>\n",
       "      <td>-0.169673</td>\n",
       "      <td>-0.063299</td>\n",
       "      <td>-0.143357</td>\n",
       "      <td>0.140593</td>\n",
       "      <td>-0.242057</td>\n",
       "      <td>-0.399327</td>\n",
       "      <td>0.110002</td>\n",
       "    </tr>\n",
       "  </tbody>\n",
       "</table>\n",
       "<p>2 rows × 298 columns</p>\n",
       "</div>"
      ],
      "text/plain": [
       "   CID Endocrine_activity      CAS             SMILES            Name  \\\n",
       "0  323           inactive  91-64-5  O=C1C=Cc2ccccc2O1        Coumarin   \n",
       "1  338           inactive  69-72-7    OC(=O)c1ccccc1O  Salicylic acid   \n",
       "\n",
       "    Metadata_broad_sample        CPD_NAME        CPD_SMILES  \\\n",
       "0  BRD-K23913458-001-02-5        coumarin  O=c1ccc2ccccc2o1   \n",
       "1  BRD-K93632104-001-12-3  salicylic acid   OC(=O)c1ccccc1O   \n",
       "\n",
       "   Cells_AreaShape_Area  Cells_AreaShape_Center_X  ...  \\\n",
       "0              0.210650                  0.034959  ...   \n",
       "1              0.144642                  0.022497  ...   \n",
       "\n",
       "   Nuclei_Texture_InfoMeas1_RNA_10_0  Nuclei_Texture_InfoMeas1_RNA_3_0  \\\n",
       "0                          -0.735849                         -0.312258   \n",
       "1                           0.431776                          0.281568   \n",
       "\n",
       "   Nuclei_Texture_InverseDifferenceMoment_ER_10_0  \\\n",
       "0                                        0.222973   \n",
       "1                                        0.371297   \n",
       "\n",
       "   Nuclei_Texture_InverseDifferenceMoment_RNA_3_0  \\\n",
       "0                                        0.162670   \n",
       "1                                       -0.169673   \n",
       "\n",
       "   Nuclei_Texture_SumAverage_AGP_10_0  Nuclei_Texture_SumAverage_DNA_10_0  \\\n",
       "0                            0.138114                            0.460139   \n",
       "1                           -0.063299                           -0.143357   \n",
       "\n",
       "   Nuclei_Texture_SumAverage_RNA_10_0  Nuclei_Texture_SumEntropy_AGP_10_0  \\\n",
       "0                           -0.232157                            0.143794   \n",
       "1                            0.140593                           -0.242057   \n",
       "\n",
       "   Nuclei_Texture_SumEntropy_DNA_10_0  Nuclei_Texture_SumEntropy_RNA_10_0  \n",
       "0                           -0.075845                           -0.021427  \n",
       "1                           -0.399327                            0.110002  \n",
       "\n",
       "[2 rows x 298 columns]"
      ]
     },
     "execution_count": 17,
     "metadata": {},
     "output_type": "execute_result"
    }
   ],
   "source": [
    "profiles = activity.merge(profiles, on='CID')\n",
    "print(f\"We have {profiles['Endocrine_activity'].value_counts()['inactive']} inactive and {profiles['Endocrine_activity'].value_counts()['active']} active compounds\")\n",
    "profiles.head(2)"
   ]
  },
  {
   "cell_type": "code",
   "execution_count": 18,
   "metadata": {},
   "outputs": [],
   "source": [
    "#profiles = profiles[profiles['CPD_NAME'] != 'DMSO'].reset_index(drop=True)"
   ]
  },
  {
   "cell_type": "code",
   "execution_count": 19,
   "metadata": {},
   "outputs": [
    {
     "name": "stdout",
     "output_type": "stream",
     "text": [
      "There are 631 unique CID in the profiles dataset and 631 unique CAS\n"
     ]
    }
   ],
   "source": [
    "print(f\"There are {profiles['CID'].nunique()} unique CID in the profiles dataset and {profiles['CAS'].nunique()} unique CAS\") "
   ]
  },
  {
   "cell_type": "markdown",
   "metadata": {},
   "source": [
    "## Spliting Data in Training and Testing Set"
   ]
  },
  {
   "cell_type": "markdown",
   "metadata": {},
   "source": [
    "For ML, we always need training and a test set that is pairwise disjoint. <br>\n",
    "To this end, we split the data into two parts, where the training set will contain 80% of the samples and the test set the remaining 20%. The training set will be utilized for training, evaluating, and optimizing the model, while the test set will be used for making predictions<br>\n",
    "\n",
    "Moreover, we need a response vector y, i.e., the column with the activity information and a feature matrix X, i.e., a matrix with the morphological or molecular fingerprints or a combination thereof, for each compound. <br>\n",
    "\n",
    "To make sure we do not have data leakage, we ensure that all instances of compounds, that appear several times in the dataset, are put in the same set. Moreover, we want to ensure that we have enough instances of the active class in both sets. Therefore, we perform a stratified split that ensures a constant ratio of active and inactive compounds in all datasets."
   ]
  },
  {
   "cell_type": "markdown",
   "metadata": {},
   "source": [
    "### Import library "
   ]
  },
  {
   "cell_type": "code",
   "execution_count": 20,
   "metadata": {},
   "outputs": [],
   "source": [
    "\n",
    "import warnings\n",
    "\n",
    "import numpy as np\n",
    "import plotly.express as px\n",
    "import requests\n",
    "from sklearn.ensemble import RandomForestClassifier\n",
    "from sklearn.manifold import TSNE\n",
    "from sklearn.model_selection import train_test_split\n",
    "from sklearn.neural_network import MLPClassifier\n",
    "\n",
    "from rdkit import Chem\n",
    "from rdkit import RDLogger\n",
    "from rdkit.Chem import rdFingerprintGenerator\n",
    "from rdkit.Chem.MolStandardize import rdMolStandardize\n"
   ]
  },
  {
   "cell_type": "markdown",
   "metadata": {},
   "source": [
    "1. Features and variables to predict "
   ]
  },
  {
   "cell_type": "code",
   "execution_count": 21,
   "metadata": {},
   "outputs": [],
   "source": [
    "def stratified_split(data,to_remove,activity):\n",
    "    data = data.drop(columns=to_remove)\n",
    "    if data[activity].dtype == 'object':\n",
    "        data[activity] = data[activity].apply(lambda x: 1 if x == 'active' else 0)\n",
    "    X_train, X_test, y_train_activities, y_test_activities= train_test_split(\n",
    "        data.iloc[:,1:], \n",
    "        data[activity].values.astype('int'), \n",
    "        random_state=42, \n",
    "        test_size=0.2, \n",
    "        shuffle=True,\n",
    "        stratify=data[activity].values.astype('int')) #stratify split \n",
    "    return data, X_train, X_test, y_train_activities, y_test_activities"
   ]
  },
  {
   "cell_type": "code",
   "execution_count": 22,
   "metadata": {},
   "outputs": [],
   "source": [
    "to_remove = ['CID', 'SMILES', 'CPD_NAME','Metadata_broad_sample', 'CPD_SMILES','CAS','Name']"
   ]
  },
  {
   "cell_type": "code",
   "execution_count": 23,
   "metadata": {},
   "outputs": [],
   "source": [
    "data, X_train, X_test, y_train_activities, y_test_activities = stratified_split(profiles,to_remove,'Endocrine_activity')"
   ]
  },
  {
   "cell_type": "code",
   "execution_count": 24,
   "metadata": {},
   "outputs": [
    {
     "data": {
      "text/plain": [
       "187"
      ]
     },
     "execution_count": 24,
     "metadata": {},
     "output_type": "execute_result"
    }
   ],
   "source": [
    "np.sum( y_test_activities==1)\n",
    "np.sum( y_train_activities==1)\n"
   ]
  },
  {
   "cell_type": "markdown",
   "metadata": {},
   "source": [
    "2. Features and variables to predict but make it structural "
   ]
  },
  {
   "cell_type": "markdown",
   "metadata": {},
   "source": [
    "We aim to sanitize SMILES strings by keeping the fragment parent, removing ions. Since we have a limited number of data points, we first ensure that all SMILES can be successfully converted into RDKit objects. If any conversion fails, we retrieve the appropriate isomeric structure from PubChem as a fallback"
   ]
  },
  {
   "cell_type": "code",
   "execution_count": 25,
   "metadata": {},
   "outputs": [],
   "source": [
    "def get_smiles_from_cid(cid):\n",
    "    '''\n",
    "    We get smile for cid from pubchem, for molecule where smile is not available when turned into a rdkit object\n",
    "    '''\n",
    "    url = f\"https://pubchem.ncbi.nlm.nih.gov/rest/pug/compound/cid/{cid}/property/CanonicalSMILES/JSON\"\n",
    "    \n",
    "    response = requests.get(url)\n",
    "    if response.status_code == 200:\n",
    "        data = response.json()\n",
    "        smiles = data['PropertyTable']['Properties'][0]['CanonicalSMILES']\n",
    "        return smiles\n",
    "    else:\n",
    "        return f\"Error: Unable to retrieve data for CID {cid}\"\n",
    "\n",
    "def replace_smile(data,old_smiles,new_smile):\n",
    "    '''\n",
    "    Replace the smile queried from pubchem in the dataset\n",
    "    '''\n",
    "    \n",
    "    data.loc[data['SMILES'] == old_smiles, 'SMILES'] = new_smile\n",
    "    return data\n",
    "\n",
    "def check_rdkit_object(dataset,SMILES):\n",
    "    ''' \n",
    "    Check if all smiles can be converted to rdkit object\n",
    "    '''\n",
    "    lg = RDLogger.logger()\n",
    "    lg.setLevel(RDLogger.CRITICAL)\n",
    "    object = dataset[SMILES].apply(Chem.MolFromSmiles)\n",
    "    idx = object[object.isnull()].index\n",
    "    for i in idx:\n",
    "        old_smiles = dataset.loc[i, 'SMILES']\n",
    "        CID = dataset.loc[i, 'CID']\n",
    "        new_smiles = get_smiles_from_cid(CID)\n",
    "        dataset= replace_smile(dataset,old_smiles,new_smiles)\n",
    "    object = dataset[SMILES].apply(Chem.MolFromSmiles)\n",
    "    if object.isnull().sum() == 0:\n",
    "        print('All smiles can be converted to rdkit object')\n",
    "    return dataset\n",
    "\n",
    "def clean_std_smiles(dataset, smiles_column):\n",
    "    \"\"\"\n",
    "    This function standardizes the SMILES strings in the dataset by:\n",
    "    1. Removing salts or solvents.\n",
    "    2. Keeping only the parent molecule.\n",
    "    3. Sanitizing the molecule to ensure it's chemically valid.\n",
    "\n",
    "    \"\"\"\n",
    "    \n",
    "    clean_mol = [Chem.MolFromSmiles(smile) for smile in dataset[smiles_column]]\n",
    "    parent_clean_mol = [rdMolStandardize.FragmentParent(mol) for mol in clean_mol]\n",
    "    # Sanitize the parent molecules\n",
    "    for mol in parent_clean_mol:\n",
    "        if mol is not None:\n",
    "            try:\n",
    "                Chem.SanitizeMol(mol)\n",
    "            except ValueError as e:\n",
    "                print(f\"Sanitization failed for molecule: {Chem.MolToSmiles(mol)}\")\n",
    "    \n",
    "    # Convert sanitized molecules back to SMILES\n",
    "    smiles = [Chem.MolToSmiles(mol) if mol is not None else None for mol in parent_clean_mol]\n",
    "    dataset['STD_smile'] = smiles\n",
    "    \n",
    "    return dataset\n"
   ]
  },
  {
   "cell_type": "markdown",
   "metadata": {},
   "source": [
    "a. Get the indices of the training and testing sets to split the structural data in the same way as the morphological data."
   ]
  },
  {
   "cell_type": "code",
   "execution_count": 26,
   "metadata": {},
   "outputs": [],
   "source": [
    "index_train = data.iloc[X_train.index,0]\n",
    "index_test = data.iloc[X_test.index,0]\n",
    "X_train_struct = profiles.loc[index_train.index, ['SMILES', 'Endocrine_activity','CID']]\n",
    "X_test_struct = profiles.loc[index_test.index, ['SMILES', 'Endocrine_activity','CID']]"
   ]
  },
  {
   "cell_type": "code",
   "execution_count": 27,
   "metadata": {},
   "outputs": [
    {
     "name": "stdout",
     "output_type": "stream",
     "text": [
      "All smiles can be converted to rdkit object\n"
     ]
    }
   ],
   "source": [
    "X_train_struct = check_rdkit_object(X_train_struct,'SMILES')"
   ]
  },
  {
   "cell_type": "code",
   "execution_count": 28,
   "metadata": {},
   "outputs": [
    {
     "name": "stdout",
     "output_type": "stream",
     "text": [
      "All smiles can be converted to rdkit object\n"
     ]
    }
   ],
   "source": [
    "X_test_struct = check_rdkit_object(X_test_struct,'SMILES')"
   ]
  },
  {
   "cell_type": "markdown",
   "metadata": {},
   "source": [
    "b. Standardize smile within each set "
   ]
  },
  {
   "cell_type": "code",
   "execution_count": 29,
   "metadata": {},
   "outputs": [
    {
     "name": "stdout",
     "output_type": "stream",
     "text": [
      "Standardized SMILES for training set\n",
      "Standardized SMILES for testing set\n"
     ]
    }
   ],
   "source": [
    "print('Standardized SMILES for training set')\n",
    "X_train_struct = clean_std_smiles(X_train_struct,'SMILES')\n",
    "print('Standardized SMILES for testing set')\n",
    "X_test_struct = clean_std_smiles(X_test_struct,'SMILES')\n"
   ]
  },
  {
   "cell_type": "markdown",
   "metadata": {},
   "source": [
    "c. Generate fingerprint "
   ]
  },
  {
   "cell_type": "markdown",
   "metadata": {},
   "source": [
    "Here we implement two functions : \n",
    "- One to instantiate Morgan fingerprints generator; _morgan_bin_\n",
    "- One that call and computes the binary morgan fingerprint and happened it to the data frame; _make_fps_\n",
    "- One to converts the structure fps features that are stored in an array"
   ]
  },
  {
   "cell_type": "code",
   "execution_count": 30,
   "metadata": {},
   "outputs": [],
   "source": [
    "def morgan_bin(fpg,dataset):\n",
    "    \n",
    "    '''\n",
    "    Generate Morgan fingerprints as binary vector  \n",
    "        Parameters : \n",
    "            fpg (object): rdFingerprintGenerator(radius=X,fpSize=X) object generated by make_fps()\n",
    "            dataset (data frame): data frame having a column named 'STD_smile' with smiles\n",
    "        Returns : \n",
    "            dataset (data frame): same data frame with one more column named 'morganB_fps' within a list\n",
    "    '''     \n",
    "    RDLogger.DisableLog('rdApp.info')\n",
    "    circular_bit_fp = [fpg.GetFingerprint(Chem.MolFromSmiles(smiles)).ToList() for smiles in dataset['STD_smile']]\n",
    "    dataset['morganB_fps'] =  circular_bit_fp\n",
    "    \n",
    "    return dataset\n",
    "\n",
    "def make_fps(dataset,val_radius=2,n_bits=1024):\n",
    "    \n",
    "    '''\n",
    "    Make fingerprints is the function call to create structural fingerprints, combine morphological fingerprints etc \n",
    "        Parameters : \n",
    "            dataset_profiles (data frame): initial dataset having the morphological profiles  \n",
    "            val_radius (int):  default = 2 can be changed, used to make morgan fingerprint cf GetMorganGenerator() Rdkit function \n",
    "            n_bits (int): default = 1024 can be changed, used to make morgan fingerprint cf GetMorganGenerator() Rdkit function \n",
    "        Returns : \n",
    "            dataset (data frame): initial dataset with a supplementary column containing the newly generated fps -> to drop before running make_models for a different fps \n",
    "    ''' \n",
    "    RDLogger.DisableLog('rdApp.info')\n",
    "    fpg = rdFingerprintGenerator.GetMorganGenerator(radius=val_radius, fpSize=n_bits)\n",
    "    dataset = morgan_bin(fpg,dataset)\n",
    "\n",
    "\n",
    "    return dataset\n",
    "\n",
    "def convert_list_features_to_numpy(x):\n",
    "    '''\n",
    "        converts the features that are stored in an array containing lists to an array of arrays such that shape works\n",
    "\n",
    "        @param x: array containing lists \n",
    "        @return x_new: array of arrays of ints\n",
    "    '''\n",
    "    new_x = []\n",
    "    for element in x:\n",
    "        new_x.append(np.array(element))\n",
    "    return np.array(new_x)"
   ]
  },
  {
   "cell_type": "code",
   "execution_count": 31,
   "metadata": {},
   "outputs": [],
   "source": [
    "test = X_train_struct.copy()"
   ]
  },
  {
   "cell_type": "code",
   "execution_count": 32,
   "metadata": {},
   "outputs": [],
   "source": [
    "morgan_bin(rdFingerprintGenerator.GetMorganGenerator(radius=2, fpSize=1024),test)\n",
    "X_train_struct_fps = convert_list_features_to_numpy(test['morganB_fps'].values)\n",
    "morgan_bin(rdFingerprintGenerator.GetMorganGenerator(radius=2, fpSize=1024),X_test_struct)\n",
    "X_test_struct_fps = convert_list_features_to_numpy(X_test_struct['morganB_fps'].values)"
   ]
  },
  {
   "cell_type": "code",
   "execution_count": 33,
   "metadata": {},
   "outputs": [
    {
     "data": {
      "text/plain": [
       "(509, 1024)"
      ]
     },
     "execution_count": 33,
     "metadata": {},
     "output_type": "execute_result"
    }
   ],
   "source": [
    "convert_list_features_to_numpy(test['morganB_fps'].values).shape"
   ]
  },
  {
   "cell_type": "code",
   "execution_count": 34,
   "metadata": {},
   "outputs": [],
   "source": [
    "def convert_array_to_df(array):\n",
    "    '''\n",
    "    Converts an array of arrays to a pandas dataframe\n",
    "\n",
    "    @param array: array of fps\n",
    "    '''\n",
    "    num_columns = array.shape[1]\n",
    "    column_names = [f'mfp_{i+1}' for i in range(num_columns)]\n",
    "    fingerprint_df = pd.DataFrame(array, columns=column_names)\n",
    "    return fingerprint_df\n"
   ]
  },
  {
   "cell_type": "code",
   "execution_count": 35,
   "metadata": {},
   "outputs": [],
   "source": [
    "fingerprint_train_df = convert_array_to_df(X_train_struct_fps)\n",
    "fingerprint_test_df = convert_array_to_df(X_test_struct_fps)"
   ]
  },
  {
   "cell_type": "code",
   "execution_count": 36,
   "metadata": {},
   "outputs": [
    {
     "data": {
      "text/html": [
       "<div>\n",
       "<style scoped>\n",
       "    .dataframe tbody tr th:only-of-type {\n",
       "        vertical-align: middle;\n",
       "    }\n",
       "\n",
       "    .dataframe tbody tr th {\n",
       "        vertical-align: top;\n",
       "    }\n",
       "\n",
       "    .dataframe thead th {\n",
       "        text-align: right;\n",
       "    }\n",
       "</style>\n",
       "<table border=\"1\" class=\"dataframe\">\n",
       "  <thead>\n",
       "    <tr style=\"text-align: right;\">\n",
       "      <th></th>\n",
       "      <th>mfp_1</th>\n",
       "      <th>mfp_2</th>\n",
       "      <th>mfp_3</th>\n",
       "      <th>mfp_4</th>\n",
       "      <th>mfp_5</th>\n",
       "      <th>mfp_6</th>\n",
       "      <th>mfp_7</th>\n",
       "      <th>mfp_8</th>\n",
       "      <th>mfp_9</th>\n",
       "      <th>mfp_10</th>\n",
       "      <th>...</th>\n",
       "      <th>mfp_1015</th>\n",
       "      <th>mfp_1016</th>\n",
       "      <th>mfp_1017</th>\n",
       "      <th>mfp_1018</th>\n",
       "      <th>mfp_1019</th>\n",
       "      <th>mfp_1020</th>\n",
       "      <th>mfp_1021</th>\n",
       "      <th>mfp_1022</th>\n",
       "      <th>mfp_1023</th>\n",
       "      <th>mfp_1024</th>\n",
       "    </tr>\n",
       "  </thead>\n",
       "  <tbody>\n",
       "    <tr>\n",
       "      <th>0</th>\n",
       "      <td>0</td>\n",
       "      <td>0</td>\n",
       "      <td>0</td>\n",
       "      <td>0</td>\n",
       "      <td>1</td>\n",
       "      <td>0</td>\n",
       "      <td>0</td>\n",
       "      <td>0</td>\n",
       "      <td>0</td>\n",
       "      <td>0</td>\n",
       "      <td>...</td>\n",
       "      <td>0</td>\n",
       "      <td>0</td>\n",
       "      <td>0</td>\n",
       "      <td>0</td>\n",
       "      <td>0</td>\n",
       "      <td>1</td>\n",
       "      <td>0</td>\n",
       "      <td>0</td>\n",
       "      <td>0</td>\n",
       "      <td>0</td>\n",
       "    </tr>\n",
       "    <tr>\n",
       "      <th>1</th>\n",
       "      <td>0</td>\n",
       "      <td>0</td>\n",
       "      <td>0</td>\n",
       "      <td>0</td>\n",
       "      <td>0</td>\n",
       "      <td>0</td>\n",
       "      <td>0</td>\n",
       "      <td>0</td>\n",
       "      <td>0</td>\n",
       "      <td>0</td>\n",
       "      <td>...</td>\n",
       "      <td>0</td>\n",
       "      <td>0</td>\n",
       "      <td>0</td>\n",
       "      <td>0</td>\n",
       "      <td>0</td>\n",
       "      <td>0</td>\n",
       "      <td>0</td>\n",
       "      <td>0</td>\n",
       "      <td>0</td>\n",
       "      <td>0</td>\n",
       "    </tr>\n",
       "  </tbody>\n",
       "</table>\n",
       "<p>2 rows × 1024 columns</p>\n",
       "</div>"
      ],
      "text/plain": [
       "   mfp_1  mfp_2  mfp_3  mfp_4  mfp_5  mfp_6  mfp_7  mfp_8  mfp_9  mfp_10  ...  \\\n",
       "0      0      0      0      0      1      0      0      0      0       0  ...   \n",
       "1      0      0      0      0      0      0      0      0      0       0  ...   \n",
       "\n",
       "   mfp_1015  mfp_1016  mfp_1017  mfp_1018  mfp_1019  mfp_1020  mfp_1021  \\\n",
       "0         0         0         0         0         0         1         0   \n",
       "1         0         0         0         0         0         0         0   \n",
       "\n",
       "   mfp_1022  mfp_1023  mfp_1024  \n",
       "0         0         0         0  \n",
       "1         0         0         0  \n",
       "\n",
       "[2 rows x 1024 columns]"
      ]
     },
     "execution_count": 36,
     "metadata": {},
     "output_type": "execute_result"
    }
   ],
   "source": [
    "fingerprint_train_df.head(2)"
   ]
  },
  {
   "cell_type": "markdown",
   "metadata": {},
   "source": [
    "3. Visualisation of the training and testing set"
   ]
  },
  {
   "cell_type": "markdown",
   "metadata": {},
   "source": [
    "Here we visualise the chemical and morphological space of the sets"
   ]
  },
  {
   "cell_type": "code",
   "execution_count": 37,
   "metadata": {},
   "outputs": [],
   "source": [
    "def tsne_plot_activity_set(X_train, X_test, y_train_activities, y_test_activities,features_type):\n",
    "    '''\n",
    "    Plot the t-SNE projection of either the chemical or morphological space of the compounds \n",
    "    in the training and test sets. To see if both sets are overlapping in both spaces.\n",
    "    We will change the seed in the stratified split until we get a good overlap of the two sets. \n",
    "    '''\n",
    "\n",
    "    # Add 'activity' column to X_train using assign()\n",
    "    Train = X_train.assign(activity=y_train_activities)\n",
    "    Test = X_test.assign(activity=y_test_activities)\n",
    "\n",
    "    #Add a set column to Train and Test\n",
    "    Train['set'] = ['train'] * len(X_train)\n",
    "    Test['set'] = ['test'] * len(X_test)\n",
    "\n",
    "    # Combine Train and Test \n",
    "    data_combined = pd.concat([Train, Test])\n",
    "\n",
    "    # Fit tsne on the features of the combined data\n",
    "    tsne = TSNE(n_components=2, random_state=52)\n",
    "    projection = tsne.fit_transform(data_combined.iloc[:,:-1])\n",
    "    # Retrieve the projection coordinated for visualization and the labels\n",
    "    projections_df = pd.DataFrame(projection, columns=['x', 'y'])\n",
    "    projections_df['activity'] = data_combined['activity'].values.astype('str')\n",
    "    projections_df['set'] = data_combined['set'].values\n",
    "\n",
    "    # scatter plot with Plotly\n",
    "    fig = px.scatter(\n",
    "    projections_df, \n",
    "    x='x', \n",
    "    y='y', \n",
    "    color='activity',  \n",
    "    symbol='set',\n",
    "    color_discrete_sequence=[px.colors.qualitative.Dark2[4], px.colors.qualitative.Dark2[3]],\n",
    "    labels={'color': 'Activity', 'symbol': 'Set'},\n",
    "    title=\"T-SNE Plot with Train and Test Sets Overlaid of\" + ' ' + features_type + ' ' + 'fingerprint.',\n",
    "    )\n",
    "    fig.show()\n",
    "    return projections_df"
   ]
  },
  {
   "cell_type": "code",
   "execution_count": 38,
   "metadata": {},
   "outputs": [
    {
     "data": {
      "application/vnd.plotly.v1+json": {
       "config": {
        "plotlyServerURL": "https://plot.ly"
       },
       "data": [
        {
         "hovertemplate": "activity=0<br>set=train<br>x=%{x}<br>y=%{y}<extra></extra>",
         "legendgroup": "0, train",
         "marker": {
          "color": "rgb(102,166,30)",
          "symbol": "circle"
         },
         "mode": "markers",
         "name": "0, train",
         "orientation": "v",
         "showlegend": true,
         "type": "scatter",
         "x": [
          -9.221685409545898,
          -2.7512028217315674,
          0.3442743122577667,
          -6.788379669189453,
          2.5295963287353516,
          -21.072099685668945,
          -10.475214958190918,
          20.219139099121094,
          -7.676026821136475,
          10.624055862426758,
          7.6494140625,
          -2.7007315158843994,
          10.982582092285156,
          -14.897504806518555,
          -8.120036125183105,
          -0.8582580089569092,
          -4.112964630126953,
          -10.725749015808105,
          5.736323833465576,
          -8.684881210327148,
          23.42401695251465,
          6.524784564971924,
          -17.012474060058594,
          -18.222591400146484,
          12.459518432617188,
          6.265214443206787,
          12.867988586425781,
          -7.70330286026001,
          26.61798858642578,
          8.492252349853516,
          -9.368108749389648,
          -3.7204394340515137,
          -9.275105476379395,
          -20.04513931274414,
          -5.159555435180664,
          -15.03893756866455,
          -13.720113754272461,
          -15.134730339050293,
          -8.47814655303955,
          -17.383943557739258,
          7.521866321563721,
          14.759177207946777,
          -1.42361581325531,
          4.272384166717529,
          -6.796139240264893,
          15.188638687133789,
          -18.33696937561035,
          2.915076494216919,
          -12.550538063049316,
          4.259307384490967,
          4.725334167480469,
          -17.212926864624023,
          15.038839340209961,
          -22.87642478942871,
          -6.237656116485596,
          11.52498722076416,
          -7.129356861114502,
          16.12053680419922,
          15.609962463378906,
          11.936355590820312,
          2.5145158767700195,
          20.28986930847168,
          6.57870626449585,
          -25.281518936157227,
          -24.72359275817871,
          -16.71528434753418,
          14.683279991149902,
          6.492671489715576,
          -15.348719596862793,
          -15.307910919189453,
          -1.8385814428329468,
          -5.8550543785095215,
          -17.92987632751465,
          5.830951690673828,
          6.219249248504639,
          -7.710576057434082,
          23.59590721130371,
          -11.506510734558105,
          17.50902557373047,
          -6.1643147468566895,
          0.21937379240989685,
          6.846885681152344,
          -9.49021053314209,
          -14.394193649291992,
          -1.187268853187561,
          3.593567371368408,
          -15.14591121673584,
          23.90058708190918,
          -2.233600378036499,
          6.4804463386535645,
          -7.7069926261901855,
          7.2187886238098145,
          5.68478536605835,
          20.28111457824707,
          -15.432823181152344,
          -1.8113105297088623,
          22.994340896606445,
          -1.4012171030044556,
          5.299377918243408,
          -2.159235954284668,
          11.473237991333008,
          20.763208389282227,
          -3.5023059844970703,
          -25.063587188720703,
          -20.043498992919922,
          2.5945944786071777,
          -16.7896671295166,
          -9.122922897338867,
          18.018613815307617,
          -13.882589340209961,
          -9.933266639709473,
          2.6540307998657227,
          4.861408710479736,
          16.63728141784668,
          6.483288764953613,
          -23.052555084228516,
          17.58110809326172,
          18.389535903930664,
          -17.441980361938477,
          7.620321273803711,
          -7.806859493255615,
          14.321491241455078,
          -19.575891494750977,
          -16.270309448242188,
          -16.620817184448242,
          -16.408733367919922,
          -8.173025131225586,
          -18.827802658081055,
          19.294353485107422,
          -1.2769321203231812,
          -14.9676513671875,
          4.2267255783081055,
          -6.868030071258545,
          14.093649864196777,
          -11.084394454956055,
          -13.58743667602539,
          17.481155395507812,
          -18.531450271606445,
          -0.17520537972450256,
          10.508356094360352,
          14.694108009338379,
          -17.42498016357422,
          -1.667440414428711,
          -2.3496620655059814,
          15.410524368286133,
          -1.3460086584091187,
          13.328296661376953,
          13.59239673614502,
          15.690671920776367,
          -17.202390670776367,
          -21.996864318847656,
          23.41905975341797,
          1.4334378242492676,
          -8.639728546142578,
          -19.05646324157715,
          -17.928842544555664,
          23.57901954650879,
          -9.418346405029297,
          -10.166193008422852,
          -13.939643859863281,
          -21.46436882019043,
          10.325223922729492,
          4.358841896057129,
          16.52370834350586,
          -5.623995304107666,
          26.006412506103516,
          8.136605262756348,
          -21.431840896606445,
          -23.370630264282227,
          -9.758688926696777,
          -13.677043914794922,
          -2.1921679973602295,
          -1.7281078100204468,
          19.661846160888672,
          -22.068721771240234,
          11.944244384765625,
          -8.90355396270752,
          -9.650959014892578,
          -9.349889755249023,
          3.5224201679229736,
          -11.381200790405273,
          -18.28233528137207,
          -8.840988159179688,
          -12.351484298706055,
          5.074018955230713,
          -19.948579788208008,
          7.876659393310547,
          16.70996856689453,
          -6.162694454193115,
          8.377898216247559,
          -2.9252116680145264,
          3.0475223064422607,
          -10.239517211914062,
          -21.616548538208008,
          -15.91171646118164,
          1.0929073095321655,
          -8.552361488342285,
          -18.328367233276367,
          -18.768991470336914,
          -7.695244312286377,
          7.37694787979126,
          -20.373666763305664,
          -3.9038631916046143,
          -12.343920707702637,
          5.38239049911499,
          -0.0417947955429554,
          21.697683334350586,
          24.758556365966797,
          -5.7427873611450195,
          -15.54056453704834,
          14.85205364227295,
          6.158252716064453,
          -12.607372283935547,
          4.837442398071289,
          -9.142951965332031,
          13.493345260620117,
          -5.981398582458496,
          23.40766143798828,
          -18.237764358520508,
          -14.572999000549316,
          -14.709970474243164,
          25.519643783569336,
          25.861927032470703,
          -22.786012649536133,
          4.112421989440918,
          1.336202621459961,
          9.398346900939941,
          -10.055737495422363,
          -10.711743354797363,
          11.595060348510742,
          -2.32295298576355,
          -22.7956600189209,
          15.397056579589844,
          -21.910890579223633,
          -20.18442726135254,
          -9.235289573669434,
          -1.0394110679626465,
          4.487565517425537,
          16.577804565429688,
          17.40718650817871,
          -13.152804374694824,
          10.487340927124023,
          9.518326759338379,
          1.748275876045227,
          19.06203269958496,
          7.942720890045166,
          5.5606889724731445,
          -7.890843391418457,
          -14.438830375671387,
          16.73414421081543,
          14.361165046691895,
          8.551325798034668,
          -16.068119049072266,
          -8.697576522827148,
          -13.615752220153809,
          -18.733386993408203,
          -22.57680320739746,
          -1.1878528594970703,
          -15.904380798339844,
          3.750235080718994,
          -11.714299201965332,
          -11.36055850982666,
          -7.077637195587158,
          3.2555370330810547,
          -7.327004909515381,
          4.8126983642578125,
          13.27542495727539,
          -15.674172401428223,
          3.8465890884399414,
          -14.57839584350586,
          6.245968818664551,
          18.264034271240234,
          -5.544152736663818,
          27.493785858154297,
          3.1145341396331787,
          8.904932022094727,
          9.45738410949707,
          14.499284744262695,
          -18.27002716064453,
          -12.371391296386719,
          14.686595916748047,
          -14.685202598571777,
          18.84429359436035,
          -11.029561996459961,
          -15.617945671081543,
          -15.888500213623047,
          8.397723197937012,
          10.008277893066406,
          4.711272239685059,
          -16.20471954345703,
          -5.084163665771484,
          0.08605511486530304,
          7.158711910247803,
          -19.49732780456543,
          -1.2610399723052979,
          -6.122838497161865,
          9.131885528564453,
          8.132792472839355,
          5.99150276184082,
          -1.0400973558425903,
          -25.90730094909668,
          2.5399980545043945,
          -1.7085806131362915,
          -18.59842300415039,
          -6.233713150024414,
          -2.322152853012085,
          -15.78709602355957,
          -16.792695999145508,
          4.695828914642334,
          10.69620132446289,
          -24.456064224243164,
          -4.997074604034424,
          -21.958084106445312,
          15.834561347961426,
          9.657294273376465,
          13.494852066040039,
          4.763495445251465,
          3.1197550296783447,
          -18.802120208740234,
          -2.1440534591674805,
          -5.035431385040283,
          6.395626068115234
         ],
         "xaxis": "x",
         "y": [
          -6.022467613220215,
          -13.45854663848877,
          11.869855880737305,
          -6.918510437011719,
          5.885354995727539,
          -11.210033416748047,
          -11.665070533752441,
          13.096692085266113,
          7.455806732177734,
          3.7972352504730225,
          13.759615898132324,
          -14.378755569458008,
          2.081794023513794,
          8.192476272583008,
          11.124824523925781,
          -17.650854110717773,
          1.4279154539108276,
          3.5365004539489746,
          -13.038217544555664,
          7.7161688804626465,
          -4.585370063781738,
          -3.643561363220215,
          -14.516667366027832,
          -16.926225662231445,
          15.094541549682617,
          -9.8013334274292,
          3.1984846591949463,
          -3.6418139934539795,
          7.650940418243408,
          -12.877913475036621,
          -4.492398262023926,
          -12.255010604858398,
          -6.507360935211182,
          -2.7989754676818848,
          12.161776542663574,
          -1.8236027956008911,
          -4.828634738922119,
          -8.094758987426758,
          -9.363728523254395,
          -7.971613883972168,
          -12.797184944152832,
          2.846215009689331,
          -1.0577495098114014,
          -13.792316436767578,
          -1.8070297241210938,
          7.36343240737915,
          1.2300368547439575,
          -0.6912912130355835,
          2.5617477893829346,
          4.613606929779053,
          -18.864431381225586,
          -13.413139343261719,
          10.729316711425781,
          -8.919537544250488,
          -14.062655448913574,
          9.033259391784668,
          -1.8242895603179932,
          5.3212175369262695,
          0.004746632184833288,
          10.174999237060547,
          3.3930470943450928,
          11.31608772277832,
          -5.88311767578125,
          -3.7292914390563965,
          -6.180980205535889,
          -2.450822353363037,
          15.439630508422852,
          0.08974779397249222,
          -13.310266494750977,
          8.560541152954102,
          -4.655574798583984,
          -9.833466529846191,
          -4.566203594207764,
          2.4413700103759766,
          6.292466163635254,
          -12.634622573852539,
          5.874539375305176,
          -8.88888168334961,
          5.780262470245361,
          -7.555104732513428,
          -3.403759717941284,
          -15.100006103515625,
          16.449636459350586,
          -11.518430709838867,
          5.7248215675354,
          -8.211759567260742,
          -9.197790145874023,
          0.43636006116867065,
          -19.72966766357422,
          5.617008686065674,
          5.412664413452148,
          2.2723755836486816,
          -6.274946212768555,
          11.69811725616455,
          -12.01616096496582,
          -5.913853645324707,
          11.43140983581543,
          -17.880237579345703,
          12.141958236694336,
          6.4359941482543945,
          -9.184897422790527,
          4.071613788604736,
          9.553000450134277,
          -6.491201877593994,
          -10.713661193847656,
          17.832847595214844,
          -11.20305061340332,
          11.198923110961914,
          4.31315279006958,
          7.042322158813477,
          6.557684898376465,
          -3.988999605178833,
          -5.906778812408447,
          9.078969955444336,
          -13.365277290344238,
          0.3809746503829956,
          -0.2756546139717102,
          13.440399169921875,
          1.2753201723098755,
          11.556384086608887,
          10.34505558013916,
          -4.105029106140137,
          1.2506428956985474,
          3.750835657119751,
          1.872737169265747,
          -5.660027980804443,
          5.555163860321045,
          -6.473265171051025,
          -8.515436172485352,
          -16.914508819580078,
          9.252304077148438,
          -20.261905670166016,
          -2.592928171157837,
          -7.048287391662598,
          2.365527868270874,
          -9.01224136352539,
          10.425373077392578,
          2.3881943225860596,
          -4.17933988571167,
          -12.110560417175293,
          -3.6873481273651123,
          -0.642804741859436,
          12.047952651977539,
          5.870845317840576,
          8.523056030273438,
          8.180644035339355,
          7.274104595184326,
          1.3178722858428955,
          6.159432411193848,
          -5.9496026039123535,
          -5.83054780960083,
          -3.246379852294922,
          8.119437217712402,
          -12.42312240600586,
          5.2425312995910645,
          -3.312387466430664,
          1.5415302515029907,
          8.456111907958984,
          -3.5647058486938477,
          -9.891520500183105,
          -7.8862690925598145,
          -0.5483872294425964,
          -20.04903221130371,
          6.523953437805176,
          -12.556580543518066,
          0.6337609887123108,
          10.171233177185059,
          -3.7169220447540283,
          -7.489166736602783,
          8.976615905761719,
          -11.742659568786621,
          11.823201179504395,
          -18.8341064453125,
          -1.7241634130477905,
          -8.862292289733887,
          2.7699756622314453,
          8.740764617919922,
          7.038944244384766,
          -7.935919761657715,
          0.2705914378166199,
          9.385917663574219,
          -4.090720176696777,
          -14.796964645385742,
          -5.44760274887085,
          0.632529616355896,
          -7.034667015075684,
          -10.036166191101074,
          4.40334939956665,
          0.6320834159851074,
          5.11413049697876,
          -2.47151780128479,
          7.732377529144287,
          -9.053776741027832,
          -0.4138006269931793,
          -13.346956253051758,
          -7.178606986999512,
          -10.677852630615234,
          0.4122471809387207,
          -13.453190803527832,
          -7.919134616851807,
          -11.774633407592773,
          -4.784743309020996,
          7.368422031402588,
          -9.618084907531738,
          9.405126571655273,
          1.3371288776397705,
          8.356145858764648,
          11.155320167541504,
          4.729893207550049,
          4.505623817443848,
          -2.796170473098755,
          -3.417928695678711,
          -2.975492000579834,
          -2.3615622520446777,
          -16.28885841369629,
          5.571760177612305,
          6.400856971740723,
          -3.1834628582000732,
          4.561688423156738,
          2.986586809158325,
          -14.459737777709961,
          8.248672485351562,
          0.5466532707214355,
          -5.193512439727783,
          -2.5540051460266113,
          -15.829556465148926,
          -5.57647705078125,
          -1.9090509414672852,
          -16.346311569213867,
          5.4437103271484375,
          4.225440979003906,
          2.2206103801727295,
          2.4429874420166016,
          -3.640073776245117,
          -8.333624839782715,
          0.5216943025588989,
          6.124538898468018,
          10.647136688232422,
          10.468080520629883,
          -8.003915786743164,
          7.6922760009765625,
          6.307610988616943,
          -10.125972747802734,
          17.00942611694336,
          2.7755191326141357,
          -0.8911268711090088,
          -8.038253784179688,
          6.571781635284424,
          -9.242216110229492,
          -3.8435089588165283,
          6.026804447174072,
          -10.786224365234375,
          -6.959997653961182,
          17.056926727294922,
          -6.060989856719971,
          -0.4655326008796692,
          -12.407732963562012,
          -0.29738137125968933,
          -3.2906436920166016,
          -6.569716453552246,
          -11.2970552444458,
          -6.881293773651123,
          12.68458366394043,
          9.265966415405273,
          11.7259521484375,
          8.399232864379883,
          11.170280456542969,
          3.5631163120269775,
          4.659006118774414,
          7.752312183380127,
          17.99448013305664,
          3.1693880558013916,
          -2.3318843841552734,
          6.671664237976074,
          10.757596015930176,
          -3.525568723678589,
          -2.809278726577759,
          4.448198318481445,
          -12.783156394958496,
          -11.424341201782227,
          -1.9358938932418823,
          -5.482337951660156,
          6.569325923919678,
          -11.433205604553223,
          -10.189814567565918,
          -6.284763336181641,
          -10.849940299987793,
          4.143415927886963,
          6.800234317779541,
          -8.405501365661621,
          9.725582122802734,
          1.2860623598098755,
          9.513134002685547,
          -14.080243110656738,
          -16.235322952270508,
          0.5569013953208923,
          -8.272019386291504,
          7.662451267242432,
          -1.9693098068237305,
          -7.346079349517822,
          -9.983743667602539,
          4.775617599487305,
          7.435914516448975,
          -3.6058804988861084,
          4.770569324493408,
          9.611977577209473,
          7.886712074279785,
          -5.069119453430176,
          -8.330041885375977,
          -0.657335102558136,
          -0.830075204372406,
          9.741785049438477,
          -11.948357582092285,
          -6.316606044769287,
          -11.745895385742188,
          1.3689686059951782,
          11.548462867736816,
          0.43366900086402893,
          -9.281577110290527,
          -20.14740562438965,
          -13.873866081237793,
          -15.353883743286133
         ],
         "yaxis": "y"
        },
        {
         "hovertemplate": "activity=0<br>set=test<br>x=%{x}<br>y=%{y}<extra></extra>",
         "legendgroup": "0, test",
         "marker": {
          "color": "rgb(102,166,30)",
          "symbol": "diamond"
         },
         "mode": "markers",
         "name": "0, test",
         "orientation": "v",
         "showlegend": true,
         "type": "scatter",
         "x": [
          1.3233007192611694,
          -2.1517045497894287,
          10.981725692749023,
          -5.41746711730957,
          2.421428680419922,
          -21.514734268188477,
          14.804391860961914,
          -13.217330932617188,
          -18.49910545349121,
          16.082687377929688,
          10.916187286376953,
          7.295846462249756,
          13.031953811645508,
          -14.00102424621582,
          2.803415298461914,
          -8.436708450317383,
          -1.0255675315856934,
          9.703092575073242,
          -2.982869863510132,
          5.180758953094482,
          -18.579633712768555,
          -12.144268035888672,
          -15.680848121643066,
          0.7394753098487854,
          -10.821595191955566,
          -14.308363914489746,
          14.247334480285645,
          5.172080993652344,
          3.5396971702575684,
          -8.40320110321045,
          -2.587862730026245,
          23.60652732849121,
          8.692692756652832,
          12.927804946899414,
          -8.167479515075684,
          13.199193000793457,
          10.375595092773438,
          1.6759490966796875,
          -15.527974128723145,
          -15.42824649810791,
          -13.182573318481445,
          2.5636658668518066,
          -13.368593215942383,
          -16.61707878112793,
          -20.33339500427246,
          -14.1717529296875,
          -7.446653842926025,
          -14.505937576293945,
          -12.90880012512207,
          -0.717592716217041,
          11.310790061950684,
          -2.573913812637329,
          -1.8437466621398926,
          3.7979092597961426,
          19.487348556518555,
          -4.102871894836426,
          7.901180267333984,
          16.78858184814453,
          2.176687002182007,
          -18.750293731689453,
          14.914145469665527,
          -15.1309175491333,
          -22.52593994140625,
          -18.28943634033203,
          -11.680217742919922,
          -12.089471817016602,
          12.011711120605469,
          -14.792476654052734,
          2.710897922515869,
          21.202653884887695,
          18.300796508789062,
          -2.9642157554626465,
          11.477828979492188,
          -5.838810920715332,
          6.330430030822754,
          13.699703216552734,
          -10.253432273864746,
          -7.820104122161865,
          -0.7728492617607117,
          -21.50593376159668,
          -22.679330825805664
         ],
         "xaxis": "x",
         "y": [
          3.8330352306365967,
          -2.4393553733825684,
          9.4033203125,
          1.9211159944534302,
          -4.452944278717041,
          3.9905600547790527,
          8.907228469848633,
          -7.828023433685303,
          -5.389242649078369,
          11.169482231140137,
          -8.524283409118652,
          -7.689275741577148,
          6.499185562133789,
          -0.34265488386154175,
          -1.0774215459823608,
          17.218477249145508,
          2.098926067352295,
          11.514229774475098,
          1.743897557258606,
          -5.770043849945068,
          -2.488283157348633,
          -2.1037960052490234,
          0.49928519129753113,
          12.400384902954102,
          14.3150634765625,
          -10.668405532836914,
          7.1554951667785645,
          14.085073471069336,
          -13.855764389038086,
          4.780974864959717,
          -0.6575013995170593,
          -2.1094868183135986,
          11.227145195007324,
          -2.275256872177124,
          -0.32921257615089417,
          8.146559715270996,
          -2.372657537460327,
          -1.1311806440353394,
          -7.278870582580566,
          -2.0315258502960205,
          -1.6167939901351929,
          2.0664126873016357,
          11.031000137329102,
          -2.4860293865203857,
          -5.032470703125,
          -12.874152183532715,
          -10.328296661376953,
          -3.8683338165283203,
          -4.323896884918213,
          -11.741307258605957,
          -5.156832218170166,
          14.608294486999512,
          -13.788755416870117,
          -8.730613708496094,
          5.163580417633057,
          5.849420070648193,
          13.000543594360352,
          7.650976657867432,
          -6.732819080352783,
          -11.747580528259277,
          5.256018161773682,
          2.4349052906036377,
          -10.786395072937012,
          -16.848299026489258,
          -12.012043952941895,
          -17.29671287536621,
          6.369154930114746,
          0.0650620311498642,
          -7.185048580169678,
          15.995980262756348,
          6.973822593688965,
          -19.139036178588867,
          -0.04508308321237564,
          8.00537395477295,
          17.982336044311523,
          4.9942097663879395,
          -9.391003608703613,
          -13.65489387512207,
          5.527939796447754,
          -5.25190544128418,
          2.5228707790374756
         ],
         "yaxis": "y"
        },
        {
         "hovertemplate": "activity=1<br>set=train<br>x=%{x}<br>y=%{y}<extra></extra>",
         "legendgroup": "1, train",
         "marker": {
          "color": "rgb(231,41,138)",
          "symbol": "circle"
         },
         "mode": "markers",
         "name": "1, train",
         "orientation": "v",
         "showlegend": true,
         "type": "scatter",
         "x": [
          -7.698167324066162,
          18.958881378173828,
          -11.104267120361328,
          7.697033882141113,
          26.834482192993164,
          -11.598998069763184,
          19.270965576171875,
          4.875850200653076,
          -6.75308084487915,
          -12.629319190979004,
          16.0970458984375,
          -5.245510578155518,
          15.366074562072754,
          21.11994743347168,
          -14.261393547058105,
          -6.4183173179626465,
          -4.461202621459961,
          11.037055015563965,
          5.680957317352295,
          20.930273056030273,
          10.266305923461914,
          24.207042694091797,
          -6.515763282775879,
          -11.816739082336426,
          -7.770811557769775,
          2.5354275703430176,
          9.084341049194336,
          -4.47639274597168,
          -14.99760913848877,
          3.1396310329437256,
          -0.6877928972244263,
          16.419492721557617,
          -0.36145690083503723,
          19.67262077331543,
          3.7554240226745605,
          14.0846586227417,
          -7.595198154449463,
          -17.866979598999023,
          13.32997989654541,
          22.007991790771484,
          22.588077545166016,
          19.926822662353516,
          -23.71359634399414,
          2.628415584564209,
          -16.89791488647461,
          0.555122435092926,
          23.49094581604004,
          -2.2991812229156494,
          2.510866641998291,
          4.662298202514648,
          10.185248374938965,
          14.402931213378906,
          22.118833541870117,
          -11.389326095581055,
          -15.208014488220215,
          -20.135282516479492,
          -22.619258880615234,
          16.511064529418945,
          -10.089085578918457,
          9.878003120422363,
          13.5199556350708,
          24.097604751586914,
          3.8271090984344482,
          -5.158188819885254,
          -5.276393413543701,
          9.815169334411621,
          -4.576072692871094,
          -7.377660751342773,
          8.634514808654785,
          -23.4659481048584,
          0.9477725028991699,
          -3.2402901649475098,
          22.329042434692383,
          -21.610685348510742,
          -10.511022567749023,
          -0.9419253468513489,
          -4.546256065368652,
          8.772810935974121,
          15.128656387329102,
          19.89334487915039,
          -21.0327205657959,
          -17.788185119628906,
          20.391197204589844,
          4.653595924377441,
          23.694272994995117,
          1.396773338317871,
          -4.017967224121094,
          20.86977767944336,
          -17.954378128051758,
          15.26458740234375,
          -4.4593400955200195,
          23.15142059326172,
          1.2636202573776245,
          11.858553886413574,
          17.77467155456543,
          -0.8588980436325073,
          -20.398237228393555,
          18.481748580932617,
          2.703721046447754,
          10.777758598327637,
          -26.78341293334961,
          -3.622387647628784,
          15.243717193603516,
          14.325571060180664,
          17.182035446166992,
          -12.09595775604248,
          -14.68268871307373,
          -17.279796600341797,
          -11.44122314453125,
          9.295337677001953,
          10.234512329101562,
          18.18216896057129,
          -9.98270034790039,
          18.18790054321289,
          -17.752723693847656,
          -7.680731773376465,
          -8.74486255645752,
          17.86917495727539,
          -7.043951034545898,
          22.89934539794922,
          -8.637335777282715,
          -4.725468635559082,
          18.798032760620117,
          -4.509204864501953,
          5.863693714141846,
          6.243167877197266,
          15.563287734985352,
          22.866716384887695,
          -12.386393547058105,
          0.8976832032203674,
          1.1966640949249268,
          13.151386260986328,
          -13.382087707519531,
          0.5404582023620605,
          16.450912475585938,
          8.09053897857666,
          5.615355968475342,
          -15.869001388549805,
          10.411057472229004,
          -11.063013076782227,
          21.887115478515625,
          14.701176643371582,
          -16.7097225189209,
          0.9169966578483582,
          0.36431553959846497,
          -16.268352508544922,
          17.63742446899414,
          -21.72777557373047,
          -23.97193145751953,
          14.058083534240723,
          -15.114876747131348,
          15.990330696105957,
          4.371493816375732,
          19.75535011291504,
          16.665979385375977,
          11.977058410644531,
          6.98003625869751,
          -9.406728744506836,
          -0.4393041133880615,
          2.578382730484009,
          12.480951309204102,
          17.468366622924805,
          25.408479690551758,
          -11.38745403289795,
          -7.518362045288086,
          16.023988723754883,
          0.9629486203193665,
          19.71933364868164,
          -15.018156051635742,
          6.010644435882568,
          -24.653514862060547,
          12.091792106628418,
          8.695430755615234,
          -21.023353576660156,
          22.851131439208984,
          -4.065385818481445,
          5.488012313842773,
          0.9264792203903198,
          16.866409301757812,
          16.752887725830078,
          -19.02492332458496,
          8.10474967956543,
          1.071225643157959,
          0.1459471732378006,
          6.737590789794922,
          23.900667190551758,
          -8.293999671936035
         ],
         "xaxis": "x",
         "y": [
          -2.2197678089141846,
          9.22702407836914,
          -4.005341053009033,
          -15.285501480102539,
          12.504931449890137,
          5.8966450691223145,
          15.914268493652344,
          -14.124067306518555,
          -15.708088874816895,
          -7.8807597160339355,
          13.290278434753418,
          15.089597702026367,
          -0.879183292388916,
          20.0417537689209,
          6.468889236450195,
          -0.8219037055969238,
          -15.54237174987793,
          17.282489776611328,
          -4.0455708503723145,
          19.71625328063965,
          9.019515991210938,
          2.1731607913970947,
          -18.491897583007812,
          0.3017287254333496,
          -20.92129135131836,
          -12.907726287841797,
          1.3059301376342773,
          -9.67812442779541,
          10.158004760742188,
          -5.495412349700928,
          -9.375389099121094,
          17.324554443359375,
          -1.1912338733673096,
          20.29231834411621,
          -21.00468635559082,
          -7.907929420471191,
          -13.431458473205566,
          -6.818789482116699,
          -11.167327880859375,
          14.03640365600586,
          12.110465049743652,
          6.782374858856201,
          -0.6365086436271667,
          6.704902648925781,
          0.49941590428352356,
          4.558989524841309,
          13.930870056152344,
          -10.085291862487793,
          16.627777099609375,
          -19.099105834960938,
          11.27090072631836,
          11.942697525024414,
          7.728027820587158,
          9.895269393920898,
          -3.9660871028900146,
          3.0840225219726562,
          -3.0781984329223633,
          -3.18984317779541,
          -8.112375259399414,
          13.83541202545166,
          8.980427742004395,
          5.441832542419434,
          6.5743608474731445,
          -5.468142032623291,
          15.021315574645996,
          -5.390485763549805,
          -13.614872932434082,
          -5.7468581199646,
          -3.8999197483062744,
          -6.198988914489746,
          -4.784980297088623,
          -3.9751667976379395,
          14.264026641845703,
          -12.353950500488281,
          -12.694406509399414,
          -9.821337699890137,
          -2.6206939220428467,
          -5.302034378051758,
          -1.0989675521850586,
          -2.5111451148986816,
          2.6267762184143066,
          -1.5308153629302979,
          8.591668128967285,
          1.6231002807617188,
          -1.6343839168548584,
          13.392447471618652,
          -7.3561882972717285,
          2.5816988945007324,
          -5.458470344543457,
          12.585811614990234,
          -0.70774245262146,
          9.41657829284668,
          -13.149127960205078,
          16.345245361328125,
          21.588647842407227,
          -4.713220119476318,
          -0.6501157283782959,
          -0.6072324514389038,
          17.803512573242188,
          17.38840675354004,
          -4.7603583335876465,
          1.3366646766662598,
          17.77707862854004,
          -0.18469339609146118,
          17.5684871673584,
          1.6129415035247803,
          -16.944368362426758,
          -7.457274436950684,
          -10.696026802062988,
          2.4403223991394043,
          -6.784726142883301,
          -8.50856876373291,
          -0.011454770341515541,
          3.305466413497925,
          -10.228641510009766,
          9.196499824523926,
          0.264623761177063,
          -5.9227118492126465,
          -6.007923603057861,
          14.992387771606445,
          2.2518038749694824,
          6.723282337188721,
          -5.964324474334717,
          4.516071319580078,
          -8.266709327697754,
          -10.490790367126465,
          15.889777183532715,
          2.280856132507324,
          -13.311046600341797,
          9.630914688110352,
          -3.003793716430664,
          -0.4987688660621643,
          -6.901223182678223,
          -5.486827850341797,
          19.963748931884766,
          1.7880762815475464,
          10.940788269042969,
          6.272246837615967,
          12.3871431350708,
          14.276691436767578,
          5.2873969078063965,
          17.88913917541504,
          -1.4673463106155396,
          6.633822917938232,
          -10.32509708404541,
          8.928389549255371,
          20.634775161743164,
          -0.5057966709136963,
          0.8515488505363464,
          11.40891170501709,
          -17.78122329711914,
          -5.964395523071289,
          -9.682184219360352,
          18.089881896972656,
          2.078091859817505,
          8.112070083618164,
          -7.6208882331848145,
          4.767971038818359,
          4.39002799987793,
          -6.4225263595581055,
          14.353501319885254,
          1.484724760055542,
          8.335586547851562,
          -18.132116317749023,
          2.579767942428589,
          17.332170486450195,
          9.408226013183594,
          14.938627243041992,
          -6.879650115966797,
          4.847105503082275,
          -5.488181114196777,
          1.7480504512786865,
          0.7346992492675781,
          -12.492785453796387,
          11.469271659851074,
          -7.365208625793457,
          -1.0482596158981323,
          4.518321990966797,
          -7.459022045135498,
          20.13113021850586,
          -4.751352787017822,
          -6.827829360961914,
          3.0978987216949463,
          -17.65870475769043,
          7.937260627746582,
          0.5482679009437561,
          14.36624526977539
         ],
         "yaxis": "y"
        },
        {
         "hovertemplate": "activity=1<br>set=test<br>x=%{x}<br>y=%{y}<extra></extra>",
         "legendgroup": "1, test",
         "marker": {
          "color": "rgb(231,41,138)",
          "symbol": "diamond"
         },
         "mode": "markers",
         "name": "1, test",
         "orientation": "v",
         "showlegend": true,
         "type": "scatter",
         "x": [
          20.057035446166992,
          -19.104063034057617,
          -6.18170166015625,
          2.296718120574951,
          -17.03377914428711,
          26.756460189819336,
          -19.044424057006836,
          18.766414642333984,
          7.63862943649292,
          19.40699005126953,
          22.874290466308594,
          0.9562252759933472,
          -4.498523712158203,
          -21.46930503845215,
          3.487281084060669,
          11.227583885192871,
          18.790767669677734,
          -1.8762319087982178,
          15.121208190917969,
          11.967071533203125,
          -13.05933952331543,
          22.921844482421875,
          13.084142684936523,
          14.411803245544434,
          14.440421104431152,
          5.175435543060303,
          -17.34994888305664,
          9.137940406799316,
          16.84440803527832,
          3.914583921432495,
          -2.944265365600586,
          0.8343327641487122,
          -3.3279402256011963,
          9.837414741516113,
          2.5105350017547607,
          -17.174711227416992,
          1.3043348789215088,
          21.691438674926758,
          -10.350722312927246,
          -25.05205726623535,
          2.070240020751953,
          10.025540351867676,
          -2.6366944313049316,
          7.910228252410889,
          12.466979026794434,
          18.710567474365234,
          15.732738494873047
         ],
         "xaxis": "x",
         "y": [
          16.542179107666016,
          5.1877312660217285,
          10.682052612304688,
          -12.650837898254395,
          -9.25015640258789,
          12.477129936218262,
          -11.61013412475586,
          -6.233015060424805,
          3.9699976444244385,
          -1.3332682847976685,
          16.653791427612305,
          -1.4700027704238892,
          7.968401908874512,
          0.7851110696792603,
          17.35076904296875,
          3.216869354248047,
          20.017589569091797,
          15.070508003234863,
          -8.475937843322754,
          17.125112533569336,
          1.1421616077423096,
          16.868043899536133,
          18.26411247253418,
          -8.295230865478516,
          10.115941047668457,
          -4.1797919273376465,
          8.225055694580078,
          5.028541088104248,
          11.942800521850586,
          12.330140113830566,
          -12.403944969177246,
          -4.910524368286133,
          -7.288559436798096,
          7.96109676361084,
          -9.089653015136719,
          -12.636648178100586,
          1.1265348196029663,
          5.775382041931152,
          -14.097068786621094,
          -7.195989608764648,
          18.32490348815918,
          9.579704284667969,
          -9.738533973693848,
          -2.918121814727783,
          3.871706008911133,
          15.975325584411621,
          2.51151704788208
         ],
         "yaxis": "y"
        }
       ],
       "layout": {
        "legend": {
         "title": {
          "text": "activity, set"
         },
         "tracegroupgap": 0
        },
        "template": {
         "data": {
          "bar": [
           {
            "error_x": {
             "color": "#2a3f5f"
            },
            "error_y": {
             "color": "#2a3f5f"
            },
            "marker": {
             "line": {
              "color": "#E5ECF6",
              "width": 0.5
             },
             "pattern": {
              "fillmode": "overlay",
              "size": 10,
              "solidity": 0.2
             }
            },
            "type": "bar"
           }
          ],
          "barpolar": [
           {
            "marker": {
             "line": {
              "color": "#E5ECF6",
              "width": 0.5
             },
             "pattern": {
              "fillmode": "overlay",
              "size": 10,
              "solidity": 0.2
             }
            },
            "type": "barpolar"
           }
          ],
          "carpet": [
           {
            "aaxis": {
             "endlinecolor": "#2a3f5f",
             "gridcolor": "white",
             "linecolor": "white",
             "minorgridcolor": "white",
             "startlinecolor": "#2a3f5f"
            },
            "baxis": {
             "endlinecolor": "#2a3f5f",
             "gridcolor": "white",
             "linecolor": "white",
             "minorgridcolor": "white",
             "startlinecolor": "#2a3f5f"
            },
            "type": "carpet"
           }
          ],
          "choropleth": [
           {
            "colorbar": {
             "outlinewidth": 0,
             "ticks": ""
            },
            "type": "choropleth"
           }
          ],
          "contour": [
           {
            "colorbar": {
             "outlinewidth": 0,
             "ticks": ""
            },
            "colorscale": [
             [
              0,
              "#0d0887"
             ],
             [
              0.1111111111111111,
              "#46039f"
             ],
             [
              0.2222222222222222,
              "#7201a8"
             ],
             [
              0.3333333333333333,
              "#9c179e"
             ],
             [
              0.4444444444444444,
              "#bd3786"
             ],
             [
              0.5555555555555556,
              "#d8576b"
             ],
             [
              0.6666666666666666,
              "#ed7953"
             ],
             [
              0.7777777777777778,
              "#fb9f3a"
             ],
             [
              0.8888888888888888,
              "#fdca26"
             ],
             [
              1,
              "#f0f921"
             ]
            ],
            "type": "contour"
           }
          ],
          "contourcarpet": [
           {
            "colorbar": {
             "outlinewidth": 0,
             "ticks": ""
            },
            "type": "contourcarpet"
           }
          ],
          "heatmap": [
           {
            "colorbar": {
             "outlinewidth": 0,
             "ticks": ""
            },
            "colorscale": [
             [
              0,
              "#0d0887"
             ],
             [
              0.1111111111111111,
              "#46039f"
             ],
             [
              0.2222222222222222,
              "#7201a8"
             ],
             [
              0.3333333333333333,
              "#9c179e"
             ],
             [
              0.4444444444444444,
              "#bd3786"
             ],
             [
              0.5555555555555556,
              "#d8576b"
             ],
             [
              0.6666666666666666,
              "#ed7953"
             ],
             [
              0.7777777777777778,
              "#fb9f3a"
             ],
             [
              0.8888888888888888,
              "#fdca26"
             ],
             [
              1,
              "#f0f921"
             ]
            ],
            "type": "heatmap"
           }
          ],
          "heatmapgl": [
           {
            "colorbar": {
             "outlinewidth": 0,
             "ticks": ""
            },
            "colorscale": [
             [
              0,
              "#0d0887"
             ],
             [
              0.1111111111111111,
              "#46039f"
             ],
             [
              0.2222222222222222,
              "#7201a8"
             ],
             [
              0.3333333333333333,
              "#9c179e"
             ],
             [
              0.4444444444444444,
              "#bd3786"
             ],
             [
              0.5555555555555556,
              "#d8576b"
             ],
             [
              0.6666666666666666,
              "#ed7953"
             ],
             [
              0.7777777777777778,
              "#fb9f3a"
             ],
             [
              0.8888888888888888,
              "#fdca26"
             ],
             [
              1,
              "#f0f921"
             ]
            ],
            "type": "heatmapgl"
           }
          ],
          "histogram": [
           {
            "marker": {
             "pattern": {
              "fillmode": "overlay",
              "size": 10,
              "solidity": 0.2
             }
            },
            "type": "histogram"
           }
          ],
          "histogram2d": [
           {
            "colorbar": {
             "outlinewidth": 0,
             "ticks": ""
            },
            "colorscale": [
             [
              0,
              "#0d0887"
             ],
             [
              0.1111111111111111,
              "#46039f"
             ],
             [
              0.2222222222222222,
              "#7201a8"
             ],
             [
              0.3333333333333333,
              "#9c179e"
             ],
             [
              0.4444444444444444,
              "#bd3786"
             ],
             [
              0.5555555555555556,
              "#d8576b"
             ],
             [
              0.6666666666666666,
              "#ed7953"
             ],
             [
              0.7777777777777778,
              "#fb9f3a"
             ],
             [
              0.8888888888888888,
              "#fdca26"
             ],
             [
              1,
              "#f0f921"
             ]
            ],
            "type": "histogram2d"
           }
          ],
          "histogram2dcontour": [
           {
            "colorbar": {
             "outlinewidth": 0,
             "ticks": ""
            },
            "colorscale": [
             [
              0,
              "#0d0887"
             ],
             [
              0.1111111111111111,
              "#46039f"
             ],
             [
              0.2222222222222222,
              "#7201a8"
             ],
             [
              0.3333333333333333,
              "#9c179e"
             ],
             [
              0.4444444444444444,
              "#bd3786"
             ],
             [
              0.5555555555555556,
              "#d8576b"
             ],
             [
              0.6666666666666666,
              "#ed7953"
             ],
             [
              0.7777777777777778,
              "#fb9f3a"
             ],
             [
              0.8888888888888888,
              "#fdca26"
             ],
             [
              1,
              "#f0f921"
             ]
            ],
            "type": "histogram2dcontour"
           }
          ],
          "mesh3d": [
           {
            "colorbar": {
             "outlinewidth": 0,
             "ticks": ""
            },
            "type": "mesh3d"
           }
          ],
          "parcoords": [
           {
            "line": {
             "colorbar": {
              "outlinewidth": 0,
              "ticks": ""
             }
            },
            "type": "parcoords"
           }
          ],
          "pie": [
           {
            "automargin": true,
            "type": "pie"
           }
          ],
          "scatter": [
           {
            "fillpattern": {
             "fillmode": "overlay",
             "size": 10,
             "solidity": 0.2
            },
            "type": "scatter"
           }
          ],
          "scatter3d": [
           {
            "line": {
             "colorbar": {
              "outlinewidth": 0,
              "ticks": ""
             }
            },
            "marker": {
             "colorbar": {
              "outlinewidth": 0,
              "ticks": ""
             }
            },
            "type": "scatter3d"
           }
          ],
          "scattercarpet": [
           {
            "marker": {
             "colorbar": {
              "outlinewidth": 0,
              "ticks": ""
             }
            },
            "type": "scattercarpet"
           }
          ],
          "scattergeo": [
           {
            "marker": {
             "colorbar": {
              "outlinewidth": 0,
              "ticks": ""
             }
            },
            "type": "scattergeo"
           }
          ],
          "scattergl": [
           {
            "marker": {
             "colorbar": {
              "outlinewidth": 0,
              "ticks": ""
             }
            },
            "type": "scattergl"
           }
          ],
          "scattermapbox": [
           {
            "marker": {
             "colorbar": {
              "outlinewidth": 0,
              "ticks": ""
             }
            },
            "type": "scattermapbox"
           }
          ],
          "scatterpolar": [
           {
            "marker": {
             "colorbar": {
              "outlinewidth": 0,
              "ticks": ""
             }
            },
            "type": "scatterpolar"
           }
          ],
          "scatterpolargl": [
           {
            "marker": {
             "colorbar": {
              "outlinewidth": 0,
              "ticks": ""
             }
            },
            "type": "scatterpolargl"
           }
          ],
          "scatterternary": [
           {
            "marker": {
             "colorbar": {
              "outlinewidth": 0,
              "ticks": ""
             }
            },
            "type": "scatterternary"
           }
          ],
          "surface": [
           {
            "colorbar": {
             "outlinewidth": 0,
             "ticks": ""
            },
            "colorscale": [
             [
              0,
              "#0d0887"
             ],
             [
              0.1111111111111111,
              "#46039f"
             ],
             [
              0.2222222222222222,
              "#7201a8"
             ],
             [
              0.3333333333333333,
              "#9c179e"
             ],
             [
              0.4444444444444444,
              "#bd3786"
             ],
             [
              0.5555555555555556,
              "#d8576b"
             ],
             [
              0.6666666666666666,
              "#ed7953"
             ],
             [
              0.7777777777777778,
              "#fb9f3a"
             ],
             [
              0.8888888888888888,
              "#fdca26"
             ],
             [
              1,
              "#f0f921"
             ]
            ],
            "type": "surface"
           }
          ],
          "table": [
           {
            "cells": {
             "fill": {
              "color": "#EBF0F8"
             },
             "line": {
              "color": "white"
             }
            },
            "header": {
             "fill": {
              "color": "#C8D4E3"
             },
             "line": {
              "color": "white"
             }
            },
            "type": "table"
           }
          ]
         },
         "layout": {
          "annotationdefaults": {
           "arrowcolor": "#2a3f5f",
           "arrowhead": 0,
           "arrowwidth": 1
          },
          "autotypenumbers": "strict",
          "coloraxis": {
           "colorbar": {
            "outlinewidth": 0,
            "ticks": ""
           }
          },
          "colorscale": {
           "diverging": [
            [
             0,
             "#8e0152"
            ],
            [
             0.1,
             "#c51b7d"
            ],
            [
             0.2,
             "#de77ae"
            ],
            [
             0.3,
             "#f1b6da"
            ],
            [
             0.4,
             "#fde0ef"
            ],
            [
             0.5,
             "#f7f7f7"
            ],
            [
             0.6,
             "#e6f5d0"
            ],
            [
             0.7,
             "#b8e186"
            ],
            [
             0.8,
             "#7fbc41"
            ],
            [
             0.9,
             "#4d9221"
            ],
            [
             1,
             "#276419"
            ]
           ],
           "sequential": [
            [
             0,
             "#0d0887"
            ],
            [
             0.1111111111111111,
             "#46039f"
            ],
            [
             0.2222222222222222,
             "#7201a8"
            ],
            [
             0.3333333333333333,
             "#9c179e"
            ],
            [
             0.4444444444444444,
             "#bd3786"
            ],
            [
             0.5555555555555556,
             "#d8576b"
            ],
            [
             0.6666666666666666,
             "#ed7953"
            ],
            [
             0.7777777777777778,
             "#fb9f3a"
            ],
            [
             0.8888888888888888,
             "#fdca26"
            ],
            [
             1,
             "#f0f921"
            ]
           ],
           "sequentialminus": [
            [
             0,
             "#0d0887"
            ],
            [
             0.1111111111111111,
             "#46039f"
            ],
            [
             0.2222222222222222,
             "#7201a8"
            ],
            [
             0.3333333333333333,
             "#9c179e"
            ],
            [
             0.4444444444444444,
             "#bd3786"
            ],
            [
             0.5555555555555556,
             "#d8576b"
            ],
            [
             0.6666666666666666,
             "#ed7953"
            ],
            [
             0.7777777777777778,
             "#fb9f3a"
            ],
            [
             0.8888888888888888,
             "#fdca26"
            ],
            [
             1,
             "#f0f921"
            ]
           ]
          },
          "colorway": [
           "#636efa",
           "#EF553B",
           "#00cc96",
           "#ab63fa",
           "#FFA15A",
           "#19d3f3",
           "#FF6692",
           "#B6E880",
           "#FF97FF",
           "#FECB52"
          ],
          "font": {
           "color": "#2a3f5f"
          },
          "geo": {
           "bgcolor": "white",
           "lakecolor": "white",
           "landcolor": "#E5ECF6",
           "showlakes": true,
           "showland": true,
           "subunitcolor": "white"
          },
          "hoverlabel": {
           "align": "left"
          },
          "hovermode": "closest",
          "mapbox": {
           "style": "light"
          },
          "paper_bgcolor": "white",
          "plot_bgcolor": "#E5ECF6",
          "polar": {
           "angularaxis": {
            "gridcolor": "white",
            "linecolor": "white",
            "ticks": ""
           },
           "bgcolor": "#E5ECF6",
           "radialaxis": {
            "gridcolor": "white",
            "linecolor": "white",
            "ticks": ""
           }
          },
          "scene": {
           "xaxis": {
            "backgroundcolor": "#E5ECF6",
            "gridcolor": "white",
            "gridwidth": 2,
            "linecolor": "white",
            "showbackground": true,
            "ticks": "",
            "zerolinecolor": "white"
           },
           "yaxis": {
            "backgroundcolor": "#E5ECF6",
            "gridcolor": "white",
            "gridwidth": 2,
            "linecolor": "white",
            "showbackground": true,
            "ticks": "",
            "zerolinecolor": "white"
           },
           "zaxis": {
            "backgroundcolor": "#E5ECF6",
            "gridcolor": "white",
            "gridwidth": 2,
            "linecolor": "white",
            "showbackground": true,
            "ticks": "",
            "zerolinecolor": "white"
           }
          },
          "shapedefaults": {
           "line": {
            "color": "#2a3f5f"
           }
          },
          "ternary": {
           "aaxis": {
            "gridcolor": "white",
            "linecolor": "white",
            "ticks": ""
           },
           "baxis": {
            "gridcolor": "white",
            "linecolor": "white",
            "ticks": ""
           },
           "bgcolor": "#E5ECF6",
           "caxis": {
            "gridcolor": "white",
            "linecolor": "white",
            "ticks": ""
           }
          },
          "title": {
           "x": 0.05
          },
          "xaxis": {
           "automargin": true,
           "gridcolor": "white",
           "linecolor": "white",
           "ticks": "",
           "title": {
            "standoff": 15
           },
           "zerolinecolor": "white",
           "zerolinewidth": 2
          },
          "yaxis": {
           "automargin": true,
           "gridcolor": "white",
           "linecolor": "white",
           "ticks": "",
           "title": {
            "standoff": 15
           },
           "zerolinecolor": "white",
           "zerolinewidth": 2
          }
         }
        },
        "title": {
         "text": "T-SNE Plot with Train and Test Sets Overlaid of Morphological fingerprint."
        },
        "xaxis": {
         "anchor": "y",
         "domain": [
          0,
          1
         ],
         "title": {
          "text": "x"
         }
        },
        "yaxis": {
         "anchor": "x",
         "domain": [
          0,
          1
         ],
         "title": {
          "text": "y"
         }
        }
       }
      }
     },
     "metadata": {},
     "output_type": "display_data"
    },
    {
     "data": {
      "text/html": [
       "<div>\n",
       "<style scoped>\n",
       "    .dataframe tbody tr th:only-of-type {\n",
       "        vertical-align: middle;\n",
       "    }\n",
       "\n",
       "    .dataframe tbody tr th {\n",
       "        vertical-align: top;\n",
       "    }\n",
       "\n",
       "    .dataframe thead th {\n",
       "        text-align: right;\n",
       "    }\n",
       "</style>\n",
       "<table border=\"1\" class=\"dataframe\">\n",
       "  <thead>\n",
       "    <tr style=\"text-align: right;\">\n",
       "      <th></th>\n",
       "      <th>x</th>\n",
       "      <th>y</th>\n",
       "      <th>activity</th>\n",
       "      <th>set</th>\n",
       "    </tr>\n",
       "  </thead>\n",
       "  <tbody>\n",
       "    <tr>\n",
       "      <th>0</th>\n",
       "      <td>-9.221685</td>\n",
       "      <td>-6.022468</td>\n",
       "      <td>0</td>\n",
       "      <td>train</td>\n",
       "    </tr>\n",
       "    <tr>\n",
       "      <th>1</th>\n",
       "      <td>-2.751203</td>\n",
       "      <td>-13.458547</td>\n",
       "      <td>0</td>\n",
       "      <td>train</td>\n",
       "    </tr>\n",
       "    <tr>\n",
       "      <th>2</th>\n",
       "      <td>0.344274</td>\n",
       "      <td>11.869856</td>\n",
       "      <td>0</td>\n",
       "      <td>train</td>\n",
       "    </tr>\n",
       "    <tr>\n",
       "      <th>3</th>\n",
       "      <td>-7.698167</td>\n",
       "      <td>-2.219768</td>\n",
       "      <td>1</td>\n",
       "      <td>train</td>\n",
       "    </tr>\n",
       "    <tr>\n",
       "      <th>4</th>\n",
       "      <td>18.958881</td>\n",
       "      <td>9.227024</td>\n",
       "      <td>1</td>\n",
       "      <td>train</td>\n",
       "    </tr>\n",
       "    <tr>\n",
       "      <th>...</th>\n",
       "      <td>...</td>\n",
       "      <td>...</td>\n",
       "      <td>...</td>\n",
       "      <td>...</td>\n",
       "    </tr>\n",
       "    <tr>\n",
       "      <th>632</th>\n",
       "      <td>-21.505934</td>\n",
       "      <td>-5.251905</td>\n",
       "      <td>0</td>\n",
       "      <td>test</td>\n",
       "    </tr>\n",
       "    <tr>\n",
       "      <th>633</th>\n",
       "      <td>-22.679331</td>\n",
       "      <td>2.522871</td>\n",
       "      <td>0</td>\n",
       "      <td>test</td>\n",
       "    </tr>\n",
       "    <tr>\n",
       "      <th>634</th>\n",
       "      <td>12.466979</td>\n",
       "      <td>3.871706</td>\n",
       "      <td>1</td>\n",
       "      <td>test</td>\n",
       "    </tr>\n",
       "    <tr>\n",
       "      <th>635</th>\n",
       "      <td>18.710567</td>\n",
       "      <td>15.975326</td>\n",
       "      <td>1</td>\n",
       "      <td>test</td>\n",
       "    </tr>\n",
       "    <tr>\n",
       "      <th>636</th>\n",
       "      <td>15.732738</td>\n",
       "      <td>2.511517</td>\n",
       "      <td>1</td>\n",
       "      <td>test</td>\n",
       "    </tr>\n",
       "  </tbody>\n",
       "</table>\n",
       "<p>637 rows × 4 columns</p>\n",
       "</div>"
      ],
      "text/plain": [
       "             x          y activity    set\n",
       "0    -9.221685  -6.022468        0  train\n",
       "1    -2.751203 -13.458547        0  train\n",
       "2     0.344274  11.869856        0  train\n",
       "3    -7.698167  -2.219768        1  train\n",
       "4    18.958881   9.227024        1  train\n",
       "..         ...        ...      ...    ...\n",
       "632 -21.505934  -5.251905        0   test\n",
       "633 -22.679331   2.522871        0   test\n",
       "634  12.466979   3.871706        1   test\n",
       "635  18.710567  15.975326        1   test\n",
       "636  15.732738   2.511517        1   test\n",
       "\n",
       "[637 rows x 4 columns]"
      ]
     },
     "execution_count": 38,
     "metadata": {},
     "output_type": "execute_result"
    }
   ],
   "source": [
    "tsne_plot_activity_set(X_train, X_test, y_train_activities, y_test_activities, \"Morphological\")"
   ]
  },
  {
   "cell_type": "code",
   "execution_count": 39,
   "metadata": {},
   "outputs": [
    {
     "data": {
      "application/vnd.plotly.v1+json": {
       "config": {
        "plotlyServerURL": "https://plot.ly"
       },
       "data": [
        {
         "hovertemplate": "activity=0<br>set=train<br>x=%{x}<br>y=%{y}<extra></extra>",
         "legendgroup": "0, train",
         "marker": {
          "color": "rgb(102,166,30)",
          "symbol": "circle"
         },
         "mode": "markers",
         "name": "0, train",
         "orientation": "v",
         "showlegend": true,
         "type": "scatter",
         "x": [
          16.868791580200195,
          -12.26115608215332,
          21.236581802368164,
          11.286338806152344,
          24.1778621673584,
          -0.827408492565155,
          9.905719757080078,
          -9.45446491241455,
          2.8459877967834473,
          12.464629173278809,
          4.346583843231201,
          -11.242133140563965,
          -0.24592317640781403,
          -5.479058742523193,
          5.5943098068237305,
          24.250308990478516,
          11.443448066711426,
          21.65662384033203,
          5.80027437210083,
          -9.532262802124023,
          -1.1737221479415894,
          -6.962331771850586,
          3.41357421875,
          20.303083419799805,
          -3.416309118270874,
          17.567663192749023,
          4.799168586730957,
          24.958005905151367,
          -9.963372230529785,
          7.222829341888428,
          -9.399925231933594,
          26.398609161376953,
          16.777324676513672,
          -17.16109275817871,
          21.020198822021484,
          13.265667915344238,
          3.889774799346924,
          15.46146297454834,
          1.1620796918869019,
          6.917647838592529,
          3.1795432567596436,
          5.272974014282227,
          8.781816482543945,
          -25.18114471435547,
          -18.07801055908203,
          -12.001630783081055,
          32.41810607910156,
          9.716012954711914,
          -13.171232223510742,
          17.98847007751465,
          -33.875736236572266,
          31.878414154052734,
          -12.174139976501465,
          31.213367462158203,
          5.57869815826416,
          2.014920711517334,
          -10.155641555786133,
          21.650522232055664,
          -34.45624923706055,
          -5.87449312210083,
          0.07704351097345352,
          15.371870994567871,
          -13.620046615600586,
          -14.796899795532227,
          12.447843551635742,
          -30.5024471282959,
          -27.461166381835938,
          10.740521430969238,
          -12.32579517364502,
          4.470694541931152,
          -26.301124572753906,
          -8.21900749206543,
          4.517805576324463,
          -6.0291032791137695,
          -30.462326049804688,
          20.33460807800293,
          0.32097095251083374,
          -13.123708724975586,
          8.393080711364746,
          -2.838355541229248,
          -6.658666610717773,
          3.659287452697754,
          0.2099117636680603,
          -12.138296127319336,
          -1.7008026838302612,
          8.451939582824707,
          22.458955764770508,
          0.708195149898529,
          -15.859299659729004,
          11.631041526794434,
          -10.080918312072754,
          -15.38733959197998,
          23.262784957885742,
          -4.318496227264404,
          7.252072334289551,
          21.76236915588379,
          -24.2987003326416,
          -2.4300200939178467,
          26.51573371887207,
          1.8498433828353882,
          12.626375198364258,
          0.40854427218437195,
          3.2097251415252686,
          21.636354446411133,
          -21.30518913269043,
          -20.84124755859375,
          25.3729248046875,
          24.842153549194336,
          14.660991668701172,
          -21.293487548828125,
          -6.404109001159668,
          12.635684967041016,
          -6.953770637512207,
          17.1754150390625,
          -12.99511432647705,
          6.628227710723877,
          -27.30828857421875,
          -28.319982528686523,
          17.265329360961914,
          4.457980155944824,
          0.17214111983776093,
          2.4586780071258545,
          -0.326778769493103,
          -8.925482749938965,
          12.447784423828125,
          7.347553253173828,
          30.129680633544922,
          16.49153709411621,
          9.716082572937012,
          0.1880502700805664,
          15.4832181930542,
          7.376335144042969,
          32.82527542114258,
          3.245074510574341,
          -12.037480354309082,
          4.744130611419678,
          -22.7991886138916,
          19.919830322265625,
          -23.476411819458008,
          12.152249336242676,
          -6.524669170379639,
          -4.92275857925415,
          -21.371801376342773,
          -9.14185905456543,
          22.86996078491211,
          14.573387145996094,
          3.8601160049438477,
          -20.61323356628418,
          -19.112464904785156,
          11.751158714294434,
          10.395325660705566,
          -20.909059524536133,
          -11.633529663085938,
          -1.4828025102615356,
          -25.50164794921875,
          -8.762409210205078,
          26.51568031311035,
          3.949734926223755,
          -13.133707046508789,
          25.184078216552734,
          17.847721099853516,
          -1.5058711767196655,
          -15.862215995788574,
          -0.09688059985637665,
          -25.77591323852539,
          -18.73015785217285,
          -12.086284637451172,
          -11.197469711303711,
          -17.823020935058594,
          -12.111393928527832,
          10.215691566467285,
          -14.315547943115234,
          -2.0064709186553955,
          -19.31138038635254,
          -21.309541702270508,
          23.60610580444336,
          -5.859749794006348,
          -8.637298583984375,
          6.060953140258789,
          9.719006538391113,
          0.7002981901168823,
          -11.147982597351074,
          -3.9819228649139404,
          6.129383087158203,
          22.86996078491211,
          6.104961395263672,
          -7.965173721313477,
          -13.360491752624512,
          5.863949775695801,
          -3.640310525894165,
          36.958099365234375,
          -23.09687042236328,
          -16.735332489013672,
          -5.600526332855225,
          -20.447874069213867,
          26.438983917236328,
          -13.668846130371094,
          -16.57209587097168,
          -2.199037790298462,
          -5.057065010070801,
          12.320688247680664,
          4.875284194946289,
          -24.37236785888672,
          -3.1377410888671875,
          14.935948371887207,
          -20.114656448364258,
          18.674503326416016,
          -18.253501892089844,
          -21.03950309753418,
          16.466598510742188,
          5.012884140014648,
          -0.016692359000444412,
          28.882919311523438,
          -20.991361618041992,
          11.490856170654297,
          -1.4407023191452026,
          -11.730142593383789,
          -20.35000228881836,
          22.832765579223633,
          8.314974784851074,
          9.533772468566895,
          10.119281768798828,
          22.472917556762695,
          -10.589868545532227,
          -6.212819576263428,
          7.312509059906006,
          -26.83207893371582,
          -20.29178237915039,
          31.22208595275879,
          -1.3411952257156372,
          4.344828128814697,
          2.310271739959717,
          31.908212661743164,
          4.882868766784668,
          -20.336965560913086,
          22.8933162689209,
          22.08230209350586,
          6.330615043640137,
          -13.829340934753418,
          -5.062388896942139,
          15.06428337097168,
          17.98192024230957,
          -21.789501190185547,
          14.769498825073242,
          -36.3603401184082,
          -27.253076553344727,
          -5.114346027374268,
          -32.291194915771484,
          -3.5551819801330566,
          24.90731430053711,
          1.5498803853988647,
          -12.298392295837402,
          0.5113272070884705,
          -1.7492215633392334,
          -17.6562442779541,
          1.6390098333358765,
          8.962848663330078,
          -14.85666561126709,
          -14.174786567687988,
          14.720368385314941,
          -6.479228973388672,
          23.60782814025879,
          -3.777940273284912,
          29.710336685180664,
          7.975721836090088,
          -4.925363063812256,
          23.735471725463867,
          0.23294246196746826,
          8.586129188537598,
          -15.030879020690918,
          -24.813371658325195,
          27.387100219726562,
          -10.668601989746094,
          11.74998950958252,
          -5.650936603546143,
          -12.348369598388672,
          1.5805374383926392,
          -7.4979352951049805,
          -9.610969543457031,
          -15.511698722839355,
          5.877573490142822,
          -34.286590576171875,
          18.210020065307617,
          -16.600927352905273,
          19.645042419433594,
          2.218303918838501,
          34.494991302490234,
          0.17350350320339203,
          -20.29183578491211,
          32.706424713134766,
          -25.352460861206055,
          -16.509614944458008,
          -5.827162265777588,
          26.14776611328125,
          -8.47006893157959,
          -12.313528060913086,
          -11.007926940917969,
          31.60367202758789,
          -22.813148498535156,
          21.043291091918945,
          -26.579668045043945,
          14.202605247497559,
          31.665420532226562,
          6.915921211242676,
          -11.094030380249023,
          10.441073417663574,
          -7.051416397094727,
          27.39739418029785,
          2.377761125564575,
          -0.9671576023101807,
          10.131011962890625,
          -14.469592094421387,
          12.537300109863281,
          6.65736722946167,
          12.670083045959473,
          21.40510368347168,
          -17.06620216369629,
          10.530072212219238,
          -3.9573662281036377,
          29.459091186523438,
          4.230831623077393,
          -2.378848075866699
         ],
         "xaxis": "x",
         "y": [
          21.374662399291992,
          28.907894134521484,
          14.675443649291992,
          15.733878135681152,
          21.335187911987305,
          -1.0862557888031006,
          -6.606329917907715,
          23.110164642333984,
          -2.944807291030884,
          -24.166259765625,
          4.668816089630127,
          -2.3193955421447754,
          -3.632873773574829,
          -13.580079078674316,
          -21.76670265197754,
          20.51526641845703,
          -29.111116409301758,
          20.252656936645508,
          -13.794852256774902,
          8.310349464416504,
          4.713473796844482,
          -1.7852317094802856,
          -16.086599349975586,
          19.262237548828125,
          -18.89668083190918,
          6.201391220092773,
          0.9633978605270386,
          19.39411735534668,
          2.4014952182769775,
          -6.516916275024414,
          3.3956546783447266,
          5.212582588195801,
          21.345935821533203,
          4.364462852478027,
          18.776309967041016,
          -23.951610565185547,
          14.080880165100098,
          8.43187141418457,
          -21.5505313873291,
          -1.9322220087051392,
          -12.0348539352417,
          8.496024131774902,
          -11.692008018493652,
          -18.793359756469727,
          7.421749591827393,
          -6.870227813720703,
          -15.274821281433105,
          -27.506269454956055,
          -22.479223251342773,
          18.249553680419922,
          7.706724643707275,
          -14.952880859375,
          31.236276626586914,
          7.918210506439209,
          17.99835777282715,
          36.887935638427734,
          -1.3026870489120483,
          -33.100433349609375,
          -10.065594673156738,
          -4.385838508605957,
          -4.456460952758789,
          -0.527486264705658,
          6.365453243255615,
          -9.962160110473633,
          -29.496807098388672,
          -3.9967129230499268,
          4.807194232940674,
          -20.658418655395508,
          5.009102821350098,
          10.969168663024902,
          0.8185038566589355,
          -15.017962455749512,
          -2.870983123779297,
          1.0758345127105713,
          -4.765583515167236,
          17.55511474609375,
          -3.25045108795166,
          3.9060494899749756,
          -29.25404930114746,
          -3.471508264541626,
          12.312971115112305,
          -8.045710563659668,
          -31.75204086303711,
          8.949366569519043,
          -11.348840713500977,
          16.903310775756836,
          21.132484436035156,
          12.705945014953613,
          -26.04495620727539,
          -31.056381225585938,
          5.093480587005615,
          -0.5197035074234009,
          17.301593780517578,
          0.9684469103813171,
          22.31683921813965,
          -33.10071563720703,
          -14.192713737487793,
          -13.233756065368652,
          -0.2063348889350891,
          -4.365001678466797,
          -1.1463581323623657,
          1.6044741868972778,
          -7.1491522789001465,
          18.293598175048828,
          27.29998016357422,
          12.637222290039062,
          -10.517045974731445,
          -10.224625587463379,
          5.352699279785156,
          -9.997318267822266,
          -5.645485877990723,
          0.8639631867408752,
          5.940968990325928,
          -0.9770815372467041,
          -21.442974090576172,
          -25.625503540039062,
          12.812658309936523,
          -0.017171155661344528,
          1.381019115447998,
          10.969366073608398,
          3.564648389816284,
          6.760824203491211,
          -9.454316139221191,
          18.480195999145508,
          -29.49538803100586,
          23.149566650390625,
          9.506681442260742,
          10.629331588745117,
          -27.505550384521484,
          -5.817378520965576,
          -7.9195332527160645,
          -29.87538719177246,
          10.02791976928711,
          16.49043083190918,
          30.614627838134766,
          -0.39809614419937134,
          -6.5023579597473145,
          -11.40320110321045,
          -11.622621536254883,
          8.960906982421875,
          5.775338649749756,
          6.718940258026123,
          9.066817283630371,
          -2.3586456775665283,
          -4.959102153778076,
          23.047706604003906,
          6.405881881713867,
          14.088274955749512,
          -4.311180114746094,
          -7.0792717933654785,
          11.954010009765625,
          2.2640023231506348,
          -19.964357376098633,
          -5.491093158721924,
          18.081209182739258,
          30.74043083190918,
          -0.2067524492740631,
          -11.94638442993164,
          -31.71722412109375,
          -21.899093627929688,
          -18.272268295288086,
          9.448759078979492,
          -26.080942153930664,
          32.09726333618164,
          -17.854583740234375,
          11.84294319152832,
          9.713665008544922,
          6.7619099617004395,
          -10.578567504882812,
          -0.7580678462982178,
          -22.42191505432129,
          -31.822898864746094,
          4.132637977600098,
          12.388266563415527,
          -2.359428882598877,
          16.995485305786133,
          -13.239126205444336,
          -13.107281684875488,
          11.405322074890137,
          -16.69439697265625,
          -13.27975845336914,
          -13.18744945526123,
          -11.108683586120605,
          -2.7505342960357666,
          -4.959102153778076,
          -14.648598670959473,
          4.411080837249756,
          32.0020866394043,
          -24.888437271118164,
          11.25025463104248,
          -1.8304368257522583,
          3.833676815032959,
          13.698785781860352,
          17.98187255859375,
          3.8300576210021973,
          -21.53325843811035,
          -31.759328842163086,
          -7.33627986907959,
          3.423877716064453,
          -2.123506784439087,
          -24.347713470458984,
          -12.619852066040039,
          -11.70487117767334,
          -19.148941040039062,
          16.107196807861328,
          4.996791839599609,
          2.6466379165649414,
          -1.1944204568862915,
          25.863569259643555,
          23.053035736083984,
          -1.6956536769866943,
          -12.264382362365723,
          6.432386875152588,
          21.82366371154785,
          -30.47862434387207,
          -15.246618270874023,
          0.9753661155700684,
          0.0854930505156517,
          -20.1485538482666,
          -0.9828006625175476,
          -28.699607849121094,
          11.868279457092285,
          -22.400379180908203,
          -0.3796554207801819,
          -18.988698959350586,
          1.5892307758331299,
          -18.238574981689453,
          26.53586196899414,
          9.20660400390625,
          -0.12205404788255692,
          -5.6448445320129395,
          3.1237332820892334,
          9.834464073181152,
          -37.04879379272461,
          5.139199733734131,
          -21.708959579467773,
          -20.037553787231445,
          -27.477922439575195,
          0.6501044631004333,
          -2.105924606323242,
          21.005285263061523,
          -10.062941551208496,
          27.458982467651367,
          4.676036357879639,
          0.9979001879692078,
          -11.89124584197998,
          -5.567729473114014,
          -9.821467399597168,
          -37.98037338256836,
          9.093831062316895,
          -16.09099578857422,
          -10.442798614501953,
          -7.272555828094482,
          -4.047862529754639,
          5.554783821105957,
          -1.9960275888442993,
          -11.686022758483887,
          3.9096202850341797,
          -7.212336540222168,
          11.220300674438477,
          -10.913818359375,
          19.069746017456055,
          -9.332459449768066,
          10.228702545166016,
          0.6529062986373901,
          -21.033184051513672,
          6.62233829498291,
          36.05320739746094,
          3.4355740547180176,
          2.5551536083221436,
          1.025599479675293,
          9.313690185546875,
          1.5919384956359863,
          -16.397138595581055,
          1.9632093906402588,
          -4.609563827514648,
          -0.032058291137218475,
          -27.53488540649414,
          31.346559524536133,
          1.397881031036377,
          -0.6270239353179932,
          -10.047354698181152,
          17.796762466430664,
          24.5035343170166,
          -33.28023910522461,
          -4.726883888244629,
          -1.1793006658554077,
          -1.5459755659103394,
          26.535982131958008,
          -15.448785781860352,
          -11.074125289916992,
          9.314255714416504,
          4.8690505027771,
          8.016203880310059,
          -2.967546224594116,
          28.50824737548828,
          -8.056363105773926,
          7.532157897949219,
          -25.817800521850586,
          0.7134711146354675,
          -18.071741104125977,
          3.1845078468322754,
          6.842003345489502,
          -4.702899932861328,
          3.101322889328003,
          -16.5502872467041,
          9.464253425598145,
          -22.270666122436523,
          20.714797973632812,
          11.149818420410156,
          -0.5771019458770752,
          2.5666446685791016,
          1.0393017530441284,
          13.761444091796875,
          -10.453678131103516,
          14.82276439666748,
          10.6611967086792,
          -8.122776985168457,
          -18.65018653869629,
          6.733842849731445,
          -19.019378662109375,
          10.179739952087402
         ],
         "yaxis": "y"
        },
        {
         "hovertemplate": "activity=0<br>set=test<br>x=%{x}<br>y=%{y}<extra></extra>",
         "legendgroup": "0, test",
         "marker": {
          "color": "rgb(102,166,30)",
          "symbol": "diamond"
         },
         "mode": "markers",
         "name": "0, test",
         "orientation": "v",
         "showlegend": true,
         "type": "scatter",
         "x": [
          -9.824956893920898,
          2.2593023777008057,
          23.270286560058594,
          -0.5166618227958679,
          -0.07280220836400986,
          8.52493953704834,
          -9.44701862335205,
          5.280891418457031,
          17.40264892578125,
          -5.771407127380371,
          -36.3603401184082,
          -22.08134651184082,
          -12.832162857055664,
          -18.390684127807617,
          -25.54867935180664,
          4.506201267242432,
          32.47348403930664,
          17.67212677001953,
          -17.310029983520508,
          9.912288665771484,
          -13.150903701782227,
          3.000899076461792,
          15.753625869750977,
          13.00137710571289,
          -4.120962142944336,
          -12.72088623046875,
          20.379976272583008,
          3.2015786170959473,
          -2.492079734802246,
          4.804736614227295,
          -24.457197189331055,
          25.979406356811523,
          1.4889318943023682,
          -11.679505348205566,
          -4.661787986755371,
          14.869253158569336,
          -2.435938596725464,
          -11.107834815979004,
          2.6294662952423096,
          28.227792739868164,
          16.2548828125,
          8.311223983764648,
          -27.65395736694336,
          -25.220687866210938,
          4.335662364959717,
          -27.47997283935547,
          -4.899879455566406,
          8.393261909484863,
          -0.22895492613315582,
          -27.309782028198242,
          18.674007415771484,
          7.218189716339111,
          4.883448600769043,
          -17.318544387817383,
          -14.451234817504883,
          11.320432662963867,
          -7.319281101226807,
          11.789531707763672,
          9.29379653930664,
          -2.4965972900390625,
          10.64123249053955,
          -17.83894157409668,
          7.90455961227417,
          -4.235802173614502,
          -2.336388349533081,
          12.899043083190918,
          -27.394676208496094,
          22.429004669189453,
          16.114965438842773,
          -28.41183090209961,
          -16.404577255249023,
          6.178728103637695,
          6.857634544372559,
          -21.04610252380371,
          22.65981101989746,
          1.8226146697998047,
          24.366729736328125,
          22.430423736572266,
          -20.989595413208008,
          20.356298446655273,
          -8.78604507446289
         ],
         "xaxis": "x",
         "y": [
          -15.926299095153809,
          2.1680023670196533,
          20.809356689453125,
          -0.2494431734085083,
          9.67495059967041,
          -28.590255737304688,
          14.42575454711914,
          8.463407516479492,
          2.675013303756714,
          -30.010570526123047,
          0.9979001879692078,
          -16.883211135864258,
          12.003409385681152,
          -5.270695686340332,
          -10.360246658325195,
          -4.954142093658447,
          7.961002826690674,
          0.6426763534545898,
          -17.697425842285156,
          -6.60733699798584,
          31.87444496154785,
          1.9521056413650513,
          23.86174964904785,
          14.42032241821289,
          -14.655975341796875,
          -20.940532684326172,
          8.916404724121094,
          6.816799163818359,
          -1.7230817079544067,
          -10.529481887817383,
          8.357150077819824,
          7.567389488220215,
          -16.092796325683594,
          -4.727838516235352,
          -26.178611755371094,
          20.979095458984375,
          13.339781761169434,
          -4.726766109466553,
          11.140093803405762,
          -5.426351547241211,
          -11.287654876708984,
          -9.023037910461426,
          0.37970444560050964,
          -10.426897048950195,
          -18.99884605407715,
          4.774091720581055,
          -27.47905158996582,
          -23.69962501525879,
          36.11155319213867,
          12.81287956237793,
          -5.90366792678833,
          -0.830011785030365,
          -37.044891357421875,
          0.7742133140563965,
          15.184568405151367,
          3.4691648483276367,
          2.8337299823760986,
          -5.966315269470215,
          3.788459300994873,
          -13.99079418182373,
          -21.996212005615234,
          -10.575982093811035,
          -6.174646377563477,
          -8.979462623596191,
          21.559202194213867,
          -25.171043395996094,
          -11.797473907470703,
          18.58494758605957,
          -11.363268852233887,
          8.561994552612305,
          2.632493257522583,
          0.46829846501350403,
          -25.881084442138672,
          6.264385223388672,
          -18.693359375,
          -6.117325782775879,
          -9.93637752532959,
          19.147321701049805,
          21.821575164794922,
          -0.8051244020462036,
          30.722637176513672
         ],
         "yaxis": "y"
        },
        {
         "hovertemplate": "activity=1<br>set=train<br>x=%{x}<br>y=%{y}<extra></extra>",
         "legendgroup": "1, train",
         "marker": {
          "color": "rgb(231,41,138)",
          "symbol": "circle"
         },
         "mode": "markers",
         "name": "1, train",
         "orientation": "v",
         "showlegend": true,
         "type": "scatter",
         "x": [
          -20.495044708251953,
          3.0548417568206787,
          -8.077204704284668,
          5.889341354370117,
          18.888891220092773,
          -2.872317314147949,
          -25.174100875854492,
          -4.201440811157227,
          9.129859924316406,
          7.653289794921875,
          -0.999320387840271,
          16.056615829467773,
          -16.04489517211914,
          -9.036771774291992,
          20.407169342041016,
          -31.905813217163086,
          -5.624091148376465,
          37.527076721191406,
          -15.092020034790039,
          -8.584321975708008,
          -3.053621292114258,
          -14.487290382385254,
          -2.1482632160186768,
          1.4061633348464966,
          -21.882139205932617,
          13.802984237670898,
          -7.676675319671631,
          34.229061126708984,
          1.4063318967819214,
          10.699198722839355,
          1.251505732536316,
          -18.534021377563477,
          5.184332847595215,
          18.831390380859375,
          -5.874423980712891,
          4.427386283874512,
          -13.45312213897705,
          18.06669807434082,
          11.971628189086914,
          -16.46012306213379,
          17.127222061157227,
          26.66799545288086,
          -8.230891227722168,
          21.814863204956055,
          8.766766548156738,
          -14.995601654052734,
          10.283562660217285,
          -1.795737624168396,
          3.4951860904693604,
          -16.997955322265625,
          2.8032402992248535,
          -6.577009677886963,
          -9.402667999267578,
          -3.760603666305542,
          -10.546503067016602,
          -31.903242111206055,
          8.489765167236328,
          8.319075584411621,
          -33.87718963623047,
          -2.9261837005615234,
          36.52891540527344,
          -13.809784889221191,
          -7.009153842926025,
          5.478351593017578,
          10.51945686340332,
          18.69462776184082,
          -4.559281349182129,
          21.171344757080078,
          11.048542022705078,
          9.131019592285156,
          -9.907538414001465,
          -30.50643539428711,
          3.053426742553711,
          20.868927001953125,
          -2.7719860076904297,
          -17.386695861816406,
          6.230655193328857,
          6.502898693084717,
          -16.90287208557129,
          -10.221224784851074,
          -5.086196422576904,
          5.413087368011475,
          15.533873558044434,
          -15.731842994689941,
          -15.548318862915039,
          15.8843994140625,
          11.372368812561035,
          14.920732498168945,
          -24.543384552001953,
          -3.6527607440948486,
          22.089393615722656,
          10.884233474731445,
          8.895739555358887,
          21.760143280029297,
          2.168459415435791,
          3.763335704803467,
          5.594159126281738,
          -1.7778645753860474,
          17.066085815429688,
          34.229061126708984,
          8.855853080749512,
          -12.827295303344727,
          -5.906631946563721,
          17.598331451416016,
          -6.645728588104248,
          -5.573094367980957,
          3.730660915374756,
          -0.7195476293563843,
          1.0199159383773804,
          -9.32328987121582,
          2.3678858280181885,
          -9.32443904876709,
          -1.390921711921692,
          -1.2195589542388916,
          -0.8424487113952637,
          17.859214782714844,
          -24.5534725189209,
          15.533873558044434,
          9.795877456665039,
          11.59305477142334,
          -6.583683013916016,
          1.3166542053222656,
          15.800187110900879,
          -13.377349853515625,
          -3.5501790046691895,
          7.211116790771484,
          19.850807189941406,
          -7.806849479675293,
          -8.22109317779541,
          -3.5441699028015137,
          6.617336750030518,
          -1.1264652013778687,
          -8.68520736694336,
          7.753684997558594,
          -16.383283615112305,
          -15.722764015197754,
          -1.9562832117080688,
          3.8863413333892822,
          0.9294514656066895,
          -7.295542240142822,
          16.528667449951172,
          22.750600814819336,
          35.143707275390625,
          -22.617399215698242,
          -35.76417541503906,
          -25.716745376586914,
          -3.2987968921661377,
          -4.245724678039551,
          5.591897010803223,
          -8.930118560791016,
          -7.849489688873291,
          17.962982177734375,
          18.519107818603516,
          -15.694189071655273,
          -1.285757303237915,
          8.836565971374512,
          -15.75970458984375,
          -9.704507827758789,
          6.750710487365723,
          5.403543472290039,
          -7.847116470336914,
          -3.802382707595825,
          -4.24090576171875,
          -2.8638830184936523,
          -9.410224914550781,
          -23.335182189941406,
          1.9538178443908691,
          -8.777117729187012,
          3.042778730392456,
          -6.625096797943115,
          4.073614597320557,
          -17.264713287353516,
          13.502510070800781,
          17.908493041992188,
          -4.85029411315918,
          16.425268173217773,
          -5.0451531410217285,
          1.019532561302185,
          11.426037788391113,
          -3.791816234588623,
          19.92960548400879,
          -8.172112464904785,
          -13.225154876708984,
          -22.61289405822754,
          -1.454955816268921,
          15.107793807983398,
          0.38376909494400024
         ],
         "xaxis": "x",
         "y": [
          13.56738567352295,
          27.987394332885742,
          -7.012144088745117,
          34.68765640258789,
          -18.90171241760254,
          -7.376345157623291,
          1.0929173231124878,
          -4.1654863357543945,
          -2.695626974105835,
          5.821990489959717,
          16.55565071105957,
          36.855525970458984,
          18.110105514526367,
          23.079418182373047,
          8.916053771972656,
          17.168411254882812,
          0.08495304733514786,
          -1.8571239709854126,
          4.653610706329346,
          23.03955841064453,
          1.969140648841858,
          18.905006408691406,
          6.1772308349609375,
          -24.317028045654297,
          -6.3330864906311035,
          -3.568438768386841,
          15.413934707641602,
          -8.640436172485352,
          -24.317407608032227,
          15.721293449401855,
          -23.70379066467285,
          2.3922650814056396,
          35.34574508666992,
          -19.329193115234375,
          -30.032089233398438,
          40.366798400878906,
          2.205657720565796,
          0.5839972496032715,
          15.98366928100586,
          -2.87026309967041,
          -3.0652081966400146,
          -20.98844337463379,
          -0.23786088824272156,
          16.491287231445312,
          7.234949588775635,
          -4.776679515838623,
          1.5076484680175781,
          8.453391075134277,
          8.077564239501953,
          -14.334239959716797,
          28.307218551635742,
          -8.778973579406738,
          -10.559958457946777,
          22.26352882385254,
          14.42604923248291,
          17.16677474975586,
          7.1570844650268555,
          9.532098770141602,
          7.710607528686523,
          -7.377695083618164,
          -1.2618309259414673,
          8.701305389404297,
          7.56010103225708,
          37.48237991333008,
          36.2298698425293,
          -5.929521560668945,
          -37.15325927734375,
          0.9451776742935181,
          -5.351201057434082,
          -2.694713592529297,
          -26.00702476501465,
          -3.847564220428467,
          -19.491655349731445,
          20.76002311706543,
          -9.565954208374023,
          -17.78742027282715,
          32.06454849243164,
          36.53864288330078,
          17.526153564453125,
          11.296024322509766,
          13.069272994995117,
          -8.358506202697754,
          39.42127227783203,
          6.635498046875,
          15.16673469543457,
          24.48676109313965,
          39.45353698730469,
          39.741302490234375,
          -2.337087392807007,
          -0.43758639693260193,
          -24.80072784423828,
          -2.6332356929779053,
          -3.770615577697754,
          -23.772951126098633,
          -9.542981147766113,
          2.7121143341064453,
          31.776432037353516,
          0.4148390591144562,
          24.626319885253906,
          -8.640436172485352,
          36.46171569824219,
          -15.644675254821777,
          -22.11611557006836,
          36.76275634765625,
          -26.587257385253906,
          -27.371370315551758,
          27.409221649169922,
          -2.3112399578094482,
          -21.28356170654297,
          9.054676055908203,
          20.712453842163086,
          -9.532052040100098,
          17.411090850830078,
          -17.95256996154785,
          7.653250217437744,
          -0.7754226922988892,
          -12.687780380249023,
          39.42127227783203,
          35.58342742919922,
          16.73638153076172,
          -8.459736824035645,
          -14.419471740722656,
          38.10157775878906,
          -10.405312538146973,
          3.9713659286499023,
          31.206680297851562,
          -11.357979774475098,
          -4.914006233215332,
          0.9511246085166931,
          22.162649154663086,
          4.0384345054626465,
          31.7722225189209,
          14.801921844482422,
          31.156808853149414,
          -15.90897274017334,
          -1.7710537910461426,
          7.897403240203857,
          34.2530517578125,
          36.021663665771484,
          -25.296070098876953,
          37.36545944213867,
          -16.740243911743164,
          -1.037797212600708,
          -25.980920791625977,
          1.9184767007827759,
          -17.3127384185791,
          8.213700294494629,
          15.443986892700195,
          -8.387760162353516,
          -6.900826930999756,
          -24.688899993896484,
          40.13812255859375,
          -21.550477981567383,
          -21.578672409057617,
          16.05394172668457,
          35.61422348022461,
          14.690601348876953,
          0.5559449195861816,
          -12.635826110839844,
          6.284842014312744,
          -24.68878746032715,
          3.486053705215454,
          2.9952659606933594,
          -5.0408525466918945,
          -15.464811325073242,
          0.3810495436191559,
          8.108624458312988,
          6.185351848602295,
          0.9532200694084167,
          12.347478866577148,
          36.687740325927734,
          17.43113899230957,
          -21.05047607421875,
          -0.32972460985183716,
          -6.591979026794434,
          39.382694244384766,
          -22.018569946289062,
          28.029449462890625,
          35.43791961669922,
          -22.59592056274414,
          -33.25787353515625,
          1.6822597980499268,
          -2.3556554317474365,
          -25.506269454956055,
          -5.973042011260986,
          -14.034869194030762,
          5.789647579193115
         ],
         "yaxis": "y"
        },
        {
         "hovertemplate": "activity=1<br>set=test<br>x=%{x}<br>y=%{y}<extra></extra>",
         "legendgroup": "1, test",
         "marker": {
          "color": "rgb(231,41,138)",
          "symbol": "diamond"
         },
         "mode": "markers",
         "name": "1, test",
         "orientation": "v",
         "showlegend": true,
         "type": "scatter",
         "x": [
          11.985177993774414,
          8.583868026733398,
          1.9624744653701782,
          0.6713283061981201,
          0.2110026329755783,
          19.641359329223633,
          2.642451286315918,
          11.375774383544922,
          -13.760252952575684,
          -14.570137977600098,
          -5.620767593383789,
          -0.26205089688301086,
          -4.636660575866699,
          12.615673065185547,
          10.360854148864746,
          8.287403106689453,
          -4.780566692352295,
          5.706367492675781,
          12.978416442871094,
          15.141024589538574,
          22.645078659057617,
          21.901315689086914,
          37.20177459716797,
          10.872663497924805,
          1.9394108057022095,
          28.228796005249023,
          -3.800912857055664,
          -9.381046295166016,
          6.368741035461426,
          -13.934139251708984,
          -1.1025116443634033,
          4.7069597244262695,
          14.476593971252441,
          7.7899169921875,
          4.415347099304199,
          3.191554546356201,
          -5.756929874420166,
          18.170148849487305,
          5.738936901092529,
          1.1057484149932861,
          -9.87706184387207,
          -10.57640266418457,
          5.249795913696289,
          9.936500549316406,
          5.493112564086914,
          -9.221373558044434,
          -25.499221801757812
         ],
         "xaxis": "x",
         "y": [
          5.718518257141113,
          16.420207977294922,
          28.380104064941406,
          31.838489532470703,
          -31.7529239654541,
          -19.053796768188477,
          -8.956960678100586,
          39.65477752685547,
          17.85352325439453,
          18.7209415435791,
          -0.024917716160416603,
          16.764671325683594,
          -37.34808349609375,
          -6.433250427246094,
          -11.839703559875488,
          8.638903617858887,
          9.096920013427734,
          35.777008056640625,
          40.2943115234375,
          -13.952149391174316,
          -18.373546600341797,
          -23.18953514099121,
          -0.8600528836250305,
          36.98401641845703,
          4.648118495941162,
          -5.42659330368042,
          -38.13162612915039,
          -10.368879318237305,
          30.427879333496094,
          -12.99749755859375,
          -8.6969575881958,
          35.81981658935547,
          37.70529556274414,
          -17.519641876220703,
          40.3818473815918,
          -1.0459970235824585,
          -16.68793487548828,
          40.37889862060547,
          -13.1716947555542,
          13.212903022766113,
          -19.784452438354492,
          -4.623373031616211,
          29.670040130615234,
          7.056896686553955,
          2.6500630378723145,
          -8.599920272827148,
          18.079326629638672
         ],
         "yaxis": "y"
        }
       ],
       "layout": {
        "legend": {
         "title": {
          "text": "activity, set"
         },
         "tracegroupgap": 0
        },
        "template": {
         "data": {
          "bar": [
           {
            "error_x": {
             "color": "#2a3f5f"
            },
            "error_y": {
             "color": "#2a3f5f"
            },
            "marker": {
             "line": {
              "color": "#E5ECF6",
              "width": 0.5
             },
             "pattern": {
              "fillmode": "overlay",
              "size": 10,
              "solidity": 0.2
             }
            },
            "type": "bar"
           }
          ],
          "barpolar": [
           {
            "marker": {
             "line": {
              "color": "#E5ECF6",
              "width": 0.5
             },
             "pattern": {
              "fillmode": "overlay",
              "size": 10,
              "solidity": 0.2
             }
            },
            "type": "barpolar"
           }
          ],
          "carpet": [
           {
            "aaxis": {
             "endlinecolor": "#2a3f5f",
             "gridcolor": "white",
             "linecolor": "white",
             "minorgridcolor": "white",
             "startlinecolor": "#2a3f5f"
            },
            "baxis": {
             "endlinecolor": "#2a3f5f",
             "gridcolor": "white",
             "linecolor": "white",
             "minorgridcolor": "white",
             "startlinecolor": "#2a3f5f"
            },
            "type": "carpet"
           }
          ],
          "choropleth": [
           {
            "colorbar": {
             "outlinewidth": 0,
             "ticks": ""
            },
            "type": "choropleth"
           }
          ],
          "contour": [
           {
            "colorbar": {
             "outlinewidth": 0,
             "ticks": ""
            },
            "colorscale": [
             [
              0,
              "#0d0887"
             ],
             [
              0.1111111111111111,
              "#46039f"
             ],
             [
              0.2222222222222222,
              "#7201a8"
             ],
             [
              0.3333333333333333,
              "#9c179e"
             ],
             [
              0.4444444444444444,
              "#bd3786"
             ],
             [
              0.5555555555555556,
              "#d8576b"
             ],
             [
              0.6666666666666666,
              "#ed7953"
             ],
             [
              0.7777777777777778,
              "#fb9f3a"
             ],
             [
              0.8888888888888888,
              "#fdca26"
             ],
             [
              1,
              "#f0f921"
             ]
            ],
            "type": "contour"
           }
          ],
          "contourcarpet": [
           {
            "colorbar": {
             "outlinewidth": 0,
             "ticks": ""
            },
            "type": "contourcarpet"
           }
          ],
          "heatmap": [
           {
            "colorbar": {
             "outlinewidth": 0,
             "ticks": ""
            },
            "colorscale": [
             [
              0,
              "#0d0887"
             ],
             [
              0.1111111111111111,
              "#46039f"
             ],
             [
              0.2222222222222222,
              "#7201a8"
             ],
             [
              0.3333333333333333,
              "#9c179e"
             ],
             [
              0.4444444444444444,
              "#bd3786"
             ],
             [
              0.5555555555555556,
              "#d8576b"
             ],
             [
              0.6666666666666666,
              "#ed7953"
             ],
             [
              0.7777777777777778,
              "#fb9f3a"
             ],
             [
              0.8888888888888888,
              "#fdca26"
             ],
             [
              1,
              "#f0f921"
             ]
            ],
            "type": "heatmap"
           }
          ],
          "heatmapgl": [
           {
            "colorbar": {
             "outlinewidth": 0,
             "ticks": ""
            },
            "colorscale": [
             [
              0,
              "#0d0887"
             ],
             [
              0.1111111111111111,
              "#46039f"
             ],
             [
              0.2222222222222222,
              "#7201a8"
             ],
             [
              0.3333333333333333,
              "#9c179e"
             ],
             [
              0.4444444444444444,
              "#bd3786"
             ],
             [
              0.5555555555555556,
              "#d8576b"
             ],
             [
              0.6666666666666666,
              "#ed7953"
             ],
             [
              0.7777777777777778,
              "#fb9f3a"
             ],
             [
              0.8888888888888888,
              "#fdca26"
             ],
             [
              1,
              "#f0f921"
             ]
            ],
            "type": "heatmapgl"
           }
          ],
          "histogram": [
           {
            "marker": {
             "pattern": {
              "fillmode": "overlay",
              "size": 10,
              "solidity": 0.2
             }
            },
            "type": "histogram"
           }
          ],
          "histogram2d": [
           {
            "colorbar": {
             "outlinewidth": 0,
             "ticks": ""
            },
            "colorscale": [
             [
              0,
              "#0d0887"
             ],
             [
              0.1111111111111111,
              "#46039f"
             ],
             [
              0.2222222222222222,
              "#7201a8"
             ],
             [
              0.3333333333333333,
              "#9c179e"
             ],
             [
              0.4444444444444444,
              "#bd3786"
             ],
             [
              0.5555555555555556,
              "#d8576b"
             ],
             [
              0.6666666666666666,
              "#ed7953"
             ],
             [
              0.7777777777777778,
              "#fb9f3a"
             ],
             [
              0.8888888888888888,
              "#fdca26"
             ],
             [
              1,
              "#f0f921"
             ]
            ],
            "type": "histogram2d"
           }
          ],
          "histogram2dcontour": [
           {
            "colorbar": {
             "outlinewidth": 0,
             "ticks": ""
            },
            "colorscale": [
             [
              0,
              "#0d0887"
             ],
             [
              0.1111111111111111,
              "#46039f"
             ],
             [
              0.2222222222222222,
              "#7201a8"
             ],
             [
              0.3333333333333333,
              "#9c179e"
             ],
             [
              0.4444444444444444,
              "#bd3786"
             ],
             [
              0.5555555555555556,
              "#d8576b"
             ],
             [
              0.6666666666666666,
              "#ed7953"
             ],
             [
              0.7777777777777778,
              "#fb9f3a"
             ],
             [
              0.8888888888888888,
              "#fdca26"
             ],
             [
              1,
              "#f0f921"
             ]
            ],
            "type": "histogram2dcontour"
           }
          ],
          "mesh3d": [
           {
            "colorbar": {
             "outlinewidth": 0,
             "ticks": ""
            },
            "type": "mesh3d"
           }
          ],
          "parcoords": [
           {
            "line": {
             "colorbar": {
              "outlinewidth": 0,
              "ticks": ""
             }
            },
            "type": "parcoords"
           }
          ],
          "pie": [
           {
            "automargin": true,
            "type": "pie"
           }
          ],
          "scatter": [
           {
            "fillpattern": {
             "fillmode": "overlay",
             "size": 10,
             "solidity": 0.2
            },
            "type": "scatter"
           }
          ],
          "scatter3d": [
           {
            "line": {
             "colorbar": {
              "outlinewidth": 0,
              "ticks": ""
             }
            },
            "marker": {
             "colorbar": {
              "outlinewidth": 0,
              "ticks": ""
             }
            },
            "type": "scatter3d"
           }
          ],
          "scattercarpet": [
           {
            "marker": {
             "colorbar": {
              "outlinewidth": 0,
              "ticks": ""
             }
            },
            "type": "scattercarpet"
           }
          ],
          "scattergeo": [
           {
            "marker": {
             "colorbar": {
              "outlinewidth": 0,
              "ticks": ""
             }
            },
            "type": "scattergeo"
           }
          ],
          "scattergl": [
           {
            "marker": {
             "colorbar": {
              "outlinewidth": 0,
              "ticks": ""
             }
            },
            "type": "scattergl"
           }
          ],
          "scattermapbox": [
           {
            "marker": {
             "colorbar": {
              "outlinewidth": 0,
              "ticks": ""
             }
            },
            "type": "scattermapbox"
           }
          ],
          "scatterpolar": [
           {
            "marker": {
             "colorbar": {
              "outlinewidth": 0,
              "ticks": ""
             }
            },
            "type": "scatterpolar"
           }
          ],
          "scatterpolargl": [
           {
            "marker": {
             "colorbar": {
              "outlinewidth": 0,
              "ticks": ""
             }
            },
            "type": "scatterpolargl"
           }
          ],
          "scatterternary": [
           {
            "marker": {
             "colorbar": {
              "outlinewidth": 0,
              "ticks": ""
             }
            },
            "type": "scatterternary"
           }
          ],
          "surface": [
           {
            "colorbar": {
             "outlinewidth": 0,
             "ticks": ""
            },
            "colorscale": [
             [
              0,
              "#0d0887"
             ],
             [
              0.1111111111111111,
              "#46039f"
             ],
             [
              0.2222222222222222,
              "#7201a8"
             ],
             [
              0.3333333333333333,
              "#9c179e"
             ],
             [
              0.4444444444444444,
              "#bd3786"
             ],
             [
              0.5555555555555556,
              "#d8576b"
             ],
             [
              0.6666666666666666,
              "#ed7953"
             ],
             [
              0.7777777777777778,
              "#fb9f3a"
             ],
             [
              0.8888888888888888,
              "#fdca26"
             ],
             [
              1,
              "#f0f921"
             ]
            ],
            "type": "surface"
           }
          ],
          "table": [
           {
            "cells": {
             "fill": {
              "color": "#EBF0F8"
             },
             "line": {
              "color": "white"
             }
            },
            "header": {
             "fill": {
              "color": "#C8D4E3"
             },
             "line": {
              "color": "white"
             }
            },
            "type": "table"
           }
          ]
         },
         "layout": {
          "annotationdefaults": {
           "arrowcolor": "#2a3f5f",
           "arrowhead": 0,
           "arrowwidth": 1
          },
          "autotypenumbers": "strict",
          "coloraxis": {
           "colorbar": {
            "outlinewidth": 0,
            "ticks": ""
           }
          },
          "colorscale": {
           "diverging": [
            [
             0,
             "#8e0152"
            ],
            [
             0.1,
             "#c51b7d"
            ],
            [
             0.2,
             "#de77ae"
            ],
            [
             0.3,
             "#f1b6da"
            ],
            [
             0.4,
             "#fde0ef"
            ],
            [
             0.5,
             "#f7f7f7"
            ],
            [
             0.6,
             "#e6f5d0"
            ],
            [
             0.7,
             "#b8e186"
            ],
            [
             0.8,
             "#7fbc41"
            ],
            [
             0.9,
             "#4d9221"
            ],
            [
             1,
             "#276419"
            ]
           ],
           "sequential": [
            [
             0,
             "#0d0887"
            ],
            [
             0.1111111111111111,
             "#46039f"
            ],
            [
             0.2222222222222222,
             "#7201a8"
            ],
            [
             0.3333333333333333,
             "#9c179e"
            ],
            [
             0.4444444444444444,
             "#bd3786"
            ],
            [
             0.5555555555555556,
             "#d8576b"
            ],
            [
             0.6666666666666666,
             "#ed7953"
            ],
            [
             0.7777777777777778,
             "#fb9f3a"
            ],
            [
             0.8888888888888888,
             "#fdca26"
            ],
            [
             1,
             "#f0f921"
            ]
           ],
           "sequentialminus": [
            [
             0,
             "#0d0887"
            ],
            [
             0.1111111111111111,
             "#46039f"
            ],
            [
             0.2222222222222222,
             "#7201a8"
            ],
            [
             0.3333333333333333,
             "#9c179e"
            ],
            [
             0.4444444444444444,
             "#bd3786"
            ],
            [
             0.5555555555555556,
             "#d8576b"
            ],
            [
             0.6666666666666666,
             "#ed7953"
            ],
            [
             0.7777777777777778,
             "#fb9f3a"
            ],
            [
             0.8888888888888888,
             "#fdca26"
            ],
            [
             1,
             "#f0f921"
            ]
           ]
          },
          "colorway": [
           "#636efa",
           "#EF553B",
           "#00cc96",
           "#ab63fa",
           "#FFA15A",
           "#19d3f3",
           "#FF6692",
           "#B6E880",
           "#FF97FF",
           "#FECB52"
          ],
          "font": {
           "color": "#2a3f5f"
          },
          "geo": {
           "bgcolor": "white",
           "lakecolor": "white",
           "landcolor": "#E5ECF6",
           "showlakes": true,
           "showland": true,
           "subunitcolor": "white"
          },
          "hoverlabel": {
           "align": "left"
          },
          "hovermode": "closest",
          "mapbox": {
           "style": "light"
          },
          "paper_bgcolor": "white",
          "plot_bgcolor": "#E5ECF6",
          "polar": {
           "angularaxis": {
            "gridcolor": "white",
            "linecolor": "white",
            "ticks": ""
           },
           "bgcolor": "#E5ECF6",
           "radialaxis": {
            "gridcolor": "white",
            "linecolor": "white",
            "ticks": ""
           }
          },
          "scene": {
           "xaxis": {
            "backgroundcolor": "#E5ECF6",
            "gridcolor": "white",
            "gridwidth": 2,
            "linecolor": "white",
            "showbackground": true,
            "ticks": "",
            "zerolinecolor": "white"
           },
           "yaxis": {
            "backgroundcolor": "#E5ECF6",
            "gridcolor": "white",
            "gridwidth": 2,
            "linecolor": "white",
            "showbackground": true,
            "ticks": "",
            "zerolinecolor": "white"
           },
           "zaxis": {
            "backgroundcolor": "#E5ECF6",
            "gridcolor": "white",
            "gridwidth": 2,
            "linecolor": "white",
            "showbackground": true,
            "ticks": "",
            "zerolinecolor": "white"
           }
          },
          "shapedefaults": {
           "line": {
            "color": "#2a3f5f"
           }
          },
          "ternary": {
           "aaxis": {
            "gridcolor": "white",
            "linecolor": "white",
            "ticks": ""
           },
           "baxis": {
            "gridcolor": "white",
            "linecolor": "white",
            "ticks": ""
           },
           "bgcolor": "#E5ECF6",
           "caxis": {
            "gridcolor": "white",
            "linecolor": "white",
            "ticks": ""
           }
          },
          "title": {
           "x": 0.05
          },
          "xaxis": {
           "automargin": true,
           "gridcolor": "white",
           "linecolor": "white",
           "ticks": "",
           "title": {
            "standoff": 15
           },
           "zerolinecolor": "white",
           "zerolinewidth": 2
          },
          "yaxis": {
           "automargin": true,
           "gridcolor": "white",
           "linecolor": "white",
           "ticks": "",
           "title": {
            "standoff": 15
           },
           "zerolinecolor": "white",
           "zerolinewidth": 2
          }
         }
        },
        "title": {
         "text": "T-SNE Plot with Train and Test Sets Overlaid of Structrural fingerprint."
        },
        "xaxis": {
         "anchor": "y",
         "domain": [
          0,
          1
         ],
         "title": {
          "text": "x"
         }
        },
        "yaxis": {
         "anchor": "x",
         "domain": [
          0,
          1
         ],
         "title": {
          "text": "y"
         }
        }
       }
      }
     },
     "metadata": {},
     "output_type": "display_data"
    },
    {
     "data": {
      "text/html": [
       "<div>\n",
       "<style scoped>\n",
       "    .dataframe tbody tr th:only-of-type {\n",
       "        vertical-align: middle;\n",
       "    }\n",
       "\n",
       "    .dataframe tbody tr th {\n",
       "        vertical-align: top;\n",
       "    }\n",
       "\n",
       "    .dataframe thead th {\n",
       "        text-align: right;\n",
       "    }\n",
       "</style>\n",
       "<table border=\"1\" class=\"dataframe\">\n",
       "  <thead>\n",
       "    <tr style=\"text-align: right;\">\n",
       "      <th></th>\n",
       "      <th>x</th>\n",
       "      <th>y</th>\n",
       "      <th>activity</th>\n",
       "      <th>set</th>\n",
       "    </tr>\n",
       "  </thead>\n",
       "  <tbody>\n",
       "    <tr>\n",
       "      <th>0</th>\n",
       "      <td>16.868792</td>\n",
       "      <td>21.374662</td>\n",
       "      <td>0</td>\n",
       "      <td>train</td>\n",
       "    </tr>\n",
       "    <tr>\n",
       "      <th>1</th>\n",
       "      <td>-12.261156</td>\n",
       "      <td>28.907894</td>\n",
       "      <td>0</td>\n",
       "      <td>train</td>\n",
       "    </tr>\n",
       "    <tr>\n",
       "      <th>2</th>\n",
       "      <td>21.236582</td>\n",
       "      <td>14.675444</td>\n",
       "      <td>0</td>\n",
       "      <td>train</td>\n",
       "    </tr>\n",
       "    <tr>\n",
       "      <th>3</th>\n",
       "      <td>-20.495045</td>\n",
       "      <td>13.567386</td>\n",
       "      <td>1</td>\n",
       "      <td>train</td>\n",
       "    </tr>\n",
       "    <tr>\n",
       "      <th>4</th>\n",
       "      <td>3.054842</td>\n",
       "      <td>27.987394</td>\n",
       "      <td>1</td>\n",
       "      <td>train</td>\n",
       "    </tr>\n",
       "    <tr>\n",
       "      <th>...</th>\n",
       "      <td>...</td>\n",
       "      <td>...</td>\n",
       "      <td>...</td>\n",
       "      <td>...</td>\n",
       "    </tr>\n",
       "    <tr>\n",
       "      <th>632</th>\n",
       "      <td>20.356298</td>\n",
       "      <td>-0.805124</td>\n",
       "      <td>0</td>\n",
       "      <td>test</td>\n",
       "    </tr>\n",
       "    <tr>\n",
       "      <th>633</th>\n",
       "      <td>-8.786045</td>\n",
       "      <td>30.722637</td>\n",
       "      <td>0</td>\n",
       "      <td>test</td>\n",
       "    </tr>\n",
       "    <tr>\n",
       "      <th>634</th>\n",
       "      <td>5.493113</td>\n",
       "      <td>2.650063</td>\n",
       "      <td>1</td>\n",
       "      <td>test</td>\n",
       "    </tr>\n",
       "    <tr>\n",
       "      <th>635</th>\n",
       "      <td>-9.221374</td>\n",
       "      <td>-8.599920</td>\n",
       "      <td>1</td>\n",
       "      <td>test</td>\n",
       "    </tr>\n",
       "    <tr>\n",
       "      <th>636</th>\n",
       "      <td>-25.499222</td>\n",
       "      <td>18.079327</td>\n",
       "      <td>1</td>\n",
       "      <td>test</td>\n",
       "    </tr>\n",
       "  </tbody>\n",
       "</table>\n",
       "<p>637 rows × 4 columns</p>\n",
       "</div>"
      ],
      "text/plain": [
       "             x          y activity    set\n",
       "0    16.868792  21.374662        0  train\n",
       "1   -12.261156  28.907894        0  train\n",
       "2    21.236582  14.675444        0  train\n",
       "3   -20.495045  13.567386        1  train\n",
       "4     3.054842  27.987394        1  train\n",
       "..         ...        ...      ...    ...\n",
       "632  20.356298  -0.805124        0   test\n",
       "633  -8.786045  30.722637        0   test\n",
       "634   5.493113   2.650063        1   test\n",
       "635  -9.221374  -8.599920        1   test\n",
       "636 -25.499222  18.079327        1   test\n",
       "\n",
       "[637 rows x 4 columns]"
      ]
     },
     "execution_count": 39,
     "metadata": {},
     "output_type": "execute_result"
    }
   ],
   "source": [
    "tsne_plot_activity_set(fingerprint_train_df, fingerprint_test_df, y_train_activities, y_test_activities, \"Structrural\")"
   ]
  },
  {
   "cell_type": "markdown",
   "metadata": {},
   "source": [
    "### Save sets "
   ]
  },
  {
   "cell_type": "code",
   "execution_count": 40,
   "metadata": {},
   "outputs": [
    {
     "name": "stdout",
     "output_type": "stream",
     "text": [
      "Directory '../Data/Output' already exists.\n"
     ]
    }
   ],
   "source": [
    "create_directory('../Data/Output')\n",
    "index_train = X_train.index\n",
    "index_test = X_test.index\n",
    "#create dictionaty with train and test set indexes\n",
    "index = {'train':index_train,'test':index_test}\n",
    "\n",
    "#save the dictionary and profiles\n",
    "pickle.dump(index, open('../Data/Output/index_train_test.pkl', 'wb'))\n",
    "pickle.dump(data, open('../Data/Output/profiles.pkl', 'wb'))\n",
    "\n"
   ]
  },
  {
   "cell_type": "markdown",
   "metadata": {},
   "source": [
    "## Models : Random Forest and Multi layer perceptron "
   ]
  },
  {
   "cell_type": "markdown",
   "metadata": {},
   "source": [
    "### Import library "
   ]
  },
  {
   "cell_type": "code",
   "execution_count": 41,
   "metadata": {},
   "outputs": [],
   "source": [
    "from sklearn.neural_network import MLPClassifier\n",
    "from sklearn.metrics import accuracy_score, classification_report\n",
    "from sklearn.model_selection import cross_validate\n",
    "from sklearn.metrics import matthews_corrcoef\n",
    "from sklearn.metrics import  balanced_accuracy_score,classification_report"
   ]
  },
  {
   "cell_type": "markdown",
   "metadata": {},
   "source": [
    "## Cross-validation and Hyperparemeter Tuning "
   ]
  },
  {
   "cell_type": "markdown",
   "metadata": {},
   "source": [
    "### Fine tune RF using random search "
   ]
  },
  {
   "cell_type": "code",
   "execution_count": 42,
   "metadata": {},
   "outputs": [],
   "source": [
    "def rf_cross_validation(X_train, y_train, max_depth_range=[10, 20, 30, 50], num_tree_range=[100, 200,400,300, 500], min_samples_leaf_range=[5,15,30,65,100]):\n",
    "    '''\n",
    "        performs a 5-fold CV for a Random Forest for given X_train and y_train\n",
    "\n",
    "        @param X_train: the training matrix\n",
    "        @param y_train: the associated response vector\n",
    "        @param max_depth_range: list containing the values that should be tested for max depth, default [10,20,30]\n",
    "        @param num_tree_range: list containing the values that should be tested for the number of trees, default [100,300,500]\n",
    "        @param min_samples_leaf_range: list containing the values that should be tested for the minimum number of samples per leaf, default [10,15,20]\n",
    "\n",
    "        @return: a forest with the best hyperparameter according to the estimated test MSE and trained on the whole training set\n",
    "    '''\n",
    "    best_score = -float('inf')\n",
    "    for depth in max_depth_range:\n",
    "        cv_results = cross_validate(RandomForestClassifier(random_state=42, max_depth=depth, n_jobs=-1,\n",
    "                                    class_weight='balanced'), X=X_train, y=y_train, scoring='balanced_accuracy', cv=5)\n",
    "        score = np.mean(cv_results['test_score'])\n",
    "        if score > best_score:\n",
    "            best_score = score\n",
    "            best_depth = depth\n",
    "\n",
    "    best_score = -float('inf')\n",
    "    for n_tree in num_tree_range:\n",
    "        cv_results = cross_validate(RandomForestClassifier(random_state=42, n_estimators=n_tree,\n",
    "                                    n_jobs=-1, class_weight='balanced'), X=X_train, y=y_train, scoring='balanced_accuracy', cv=5)\n",
    "        score = np.mean(cv_results['test_score'])\n",
    "        if score > best_score:\n",
    "            best_score = score\n",
    "            best_n_tree = n_tree\n",
    "\n",
    "    best_score = -float('inf')\n",
    "    for num_samples in min_samples_leaf_range:\n",
    "        cv_results = cross_validate(RandomForestClassifier(random_state=42, min_samples_leaf=num_samples,\n",
    "                                    n_jobs=-1, class_weight='balanced'), X=X_train, y=y_train, scoring='balanced_accuracy', cv=5)\n",
    "        score = np.mean(cv_results['test_score'])\n",
    "        if score > best_score:\n",
    "            best_score = score\n",
    "            best_min_samples = num_samples\n",
    "\n",
    "    rf = RandomForestClassifier(random_state=42, n_estimators=best_n_tree, max_depth=best_depth,\n",
    "                                min_samples_leaf=best_min_samples, n_jobs=-1, class_weight='balanced')\n",
    "    \n",
    "    return rf"
   ]
  },
  {
   "cell_type": "code",
   "execution_count": 43,
   "metadata": {},
   "outputs": [],
   "source": [
    "best_estimator_morpho = rf_cross_validation(X_train, y_train_activities)"
   ]
  },
  {
   "cell_type": "code",
   "execution_count": 44,
   "metadata": {},
   "outputs": [],
   "source": [
    "best_estimator_struct = rf_cross_validation(X_train_struct_fps, y_train_activities)"
   ]
  },
  {
   "cell_type": "markdown",
   "metadata": {},
   "source": [
    "### Fine tune MLPC using random search "
   ]
  },
  {
   "cell_type": "code",
   "execution_count": 45,
   "metadata": {},
   "outputs": [],
   "source": [
    "def MLPC_cross_validation(X_train, y_train, \n",
    "                        hidden_layer_sizes = [50,150,250, 350, 450, 550], \n",
    "                        activations = ['logistic', 'tanh', 'relu'],\n",
    "                        solvers =  ['adam', 'sgd'],\n",
    "                        alphas = [0.0001, 0.001, 0.01, 0.1, 1],\n",
    "                        learning_rate = ['constant', 'adaptive'],\n",
    "                        max_iter = [150,200, 400, 600, 800, 1000],\n",
    "                        batch_size = [80, 120, 180], \n",
    "                      ):\n",
    "    '''\n",
    "        performs a 5-fold CV for a Random Forest for given X_train and y_train\n",
    "\n",
    "        @param X_train: the training matrix\n",
    "        @param y_train: the associated response vector\n",
    "        @param max_depth_range: list containing the values that should be tested for max depth, default [10,20,30]\n",
    "        @param num_tree_range: list containing the values that should be tested for the number of trees, default [100,300,500]\n",
    "        @param min_samples_leaf_range: list containing the values that should be tested for the minimum number of samples per leaf, default [10,15,20]\n",
    "\n",
    "        @return: a forest with the best hyperparameter according to the estimated test MSE and trained on the whole training set\n",
    "    '''\n",
    "    best_score = -float('inf')\n",
    "    for layer in hidden_layer_sizes :\n",
    "        cv_results = cross_validate(MLPClassifier(random_state=42,hidden_layer_sizes=layer),\n",
    "                                      n_jobs=1, X=X_train, y=y_train, scoring='balanced_accuracy', cv=5)\n",
    "        score = np.mean(cv_results['test_score'])\n",
    "        if score > best_score:\n",
    "            best_score = score\n",
    "            best_n_layer =  layer\n",
    "\n",
    "    best_score = -float('inf')\n",
    "    for a in alphas:\n",
    "        cv_results = cross_validate(MLPClassifier(random_state=42, alpha = a), n_jobs=1, X=X_train, y=y_train, scoring='balanced_accuracy', cv=5)\n",
    "        score = np.mean(cv_results['test_score'])\n",
    "        if score > best_score:\n",
    "            best_score = score\n",
    "            best_alpha_ = a\n",
    "\n",
    "    best_score = -float('inf')\n",
    "    for solver_ in solvers:\n",
    "        cv_results = cross_validate(MLPClassifier(random_state=42, solver = solver_), n_jobs=1, X=X_train, y=y_train, scoring='balanced_accuracy', cv=5)\n",
    "        score = np.mean(cv_results['test_score'])\n",
    "        if score > best_score:\n",
    "            best_score = score\n",
    "            best_solver = solver_\n",
    "    \n",
    "    best_score = -float('inf')\n",
    "    for activation_ in activations:\n",
    "        cv_results = cross_validate(MLPClassifier(random_state=42, activation= activation_),n_jobs=1,\n",
    "                                     X=X_train, y=y_train, scoring='balanced_accuracy', cv=5)\n",
    "        score = np.mean(cv_results['test_score'])\n",
    "        if score > best_score:\n",
    "            best_score = score\n",
    "            best_activation= activation_\n",
    "    \n",
    "    best_score = -float('inf')\n",
    "    for batch in batch_size:\n",
    "        cv_results = cross_validate(MLPClassifier(random_state=42, batch_size= batch), n_jobs=1, X=X_train, y=y_train, scoring='balanced_accuracy', cv=5)\n",
    "        score = np.mean(cv_results['test_score'])\n",
    "        if score > best_score:\n",
    "            best_score = score\n",
    "            best_batch_size= batch\n",
    "    \n",
    "    best_score = -float('inf')\n",
    "    for iter in max_iter:\n",
    "        cv_results = cross_validate(MLPClassifier(random_state=42, max_iter = iter), n_jobs=1, X=X_train, y=y_train, scoring='balanced_accuracy', cv=5)\n",
    "        score = np.mean(cv_results['test_score'])\n",
    "        if score > best_score:\n",
    "            best_score = score\n",
    "            best_nb_iter= iter\n",
    "\n",
    "    best_score = -float('inf')\n",
    "    for lr in learning_rate:\n",
    "        cv_results = cross_validate(MLPClassifier(random_state=42, learning_rate = lr), n_jobs=1, X=X_train, y=y_train, scoring='balanced_accuracy', cv=5)\n",
    "        score = np.mean(cv_results['test_score'])\n",
    "        if score > best_score:\n",
    "            best_score = score\n",
    "            best_lr = lr\n",
    "\n",
    "    MLPC = MLPClassifier(random_state  = 42,\n",
    "                         hidden_layer_sizes = best_n_layer,\n",
    "                         alpha = best_alpha_,\n",
    "                         solver = best_solver,\n",
    "                         activation = activation_,\n",
    "                         batch_size = best_batch_size,\n",
    "                         max_iter= best_nb_iter,\n",
    "                         learning_rate= best_lr\n",
    "                         )\n",
    "    \n",
    "    return MLPC"
   ]
  },
  {
   "cell_type": "code",
   "execution_count": 46,
   "metadata": {},
   "outputs": [
    {
     "name": "stderr",
     "output_type": "stream",
     "text": [
      "/Users/flodje_uds/anaconda3/envs/GCC_DL_Endocrinology/lib/python3.9/site-packages/sklearn/neural_network/_multilayer_perceptron.py:690: ConvergenceWarning:\n",
      "\n",
      "Stochastic Optimizer: Maximum iterations (200) reached and the optimization hasn't converged yet.\n",
      "\n",
      "/Users/flodje_uds/anaconda3/envs/GCC_DL_Endocrinology/lib/python3.9/site-packages/sklearn/neural_network/_multilayer_perceptron.py:690: ConvergenceWarning:\n",
      "\n",
      "Stochastic Optimizer: Maximum iterations (200) reached and the optimization hasn't converged yet.\n",
      "\n",
      "/Users/flodje_uds/anaconda3/envs/GCC_DL_Endocrinology/lib/python3.9/site-packages/sklearn/neural_network/_multilayer_perceptron.py:690: ConvergenceWarning:\n",
      "\n",
      "Stochastic Optimizer: Maximum iterations (200) reached and the optimization hasn't converged yet.\n",
      "\n",
      "/Users/flodje_uds/anaconda3/envs/GCC_DL_Endocrinology/lib/python3.9/site-packages/sklearn/neural_network/_multilayer_perceptron.py:690: ConvergenceWarning:\n",
      "\n",
      "Stochastic Optimizer: Maximum iterations (200) reached and the optimization hasn't converged yet.\n",
      "\n",
      "/Users/flodje_uds/anaconda3/envs/GCC_DL_Endocrinology/lib/python3.9/site-packages/sklearn/neural_network/_multilayer_perceptron.py:690: ConvergenceWarning:\n",
      "\n",
      "Stochastic Optimizer: Maximum iterations (200) reached and the optimization hasn't converged yet.\n",
      "\n",
      "/Users/flodje_uds/anaconda3/envs/GCC_DL_Endocrinology/lib/python3.9/site-packages/sklearn/neural_network/_multilayer_perceptron.py:690: ConvergenceWarning:\n",
      "\n",
      "Stochastic Optimizer: Maximum iterations (200) reached and the optimization hasn't converged yet.\n",
      "\n",
      "/Users/flodje_uds/anaconda3/envs/GCC_DL_Endocrinology/lib/python3.9/site-packages/sklearn/neural_network/_multilayer_perceptron.py:690: ConvergenceWarning:\n",
      "\n",
      "Stochastic Optimizer: Maximum iterations (200) reached and the optimization hasn't converged yet.\n",
      "\n",
      "/Users/flodje_uds/anaconda3/envs/GCC_DL_Endocrinology/lib/python3.9/site-packages/sklearn/neural_network/_multilayer_perceptron.py:690: ConvergenceWarning:\n",
      "\n",
      "Stochastic Optimizer: Maximum iterations (200) reached and the optimization hasn't converged yet.\n",
      "\n",
      "/Users/flodje_uds/anaconda3/envs/GCC_DL_Endocrinology/lib/python3.9/site-packages/sklearn/neural_network/_multilayer_perceptron.py:690: ConvergenceWarning:\n",
      "\n",
      "Stochastic Optimizer: Maximum iterations (200) reached and the optimization hasn't converged yet.\n",
      "\n",
      "/Users/flodje_uds/anaconda3/envs/GCC_DL_Endocrinology/lib/python3.9/site-packages/sklearn/neural_network/_multilayer_perceptron.py:690: ConvergenceWarning:\n",
      "\n",
      "Stochastic Optimizer: Maximum iterations (200) reached and the optimization hasn't converged yet.\n",
      "\n",
      "/Users/flodje_uds/anaconda3/envs/GCC_DL_Endocrinology/lib/python3.9/site-packages/sklearn/neural_network/_multilayer_perceptron.py:690: ConvergenceWarning:\n",
      "\n",
      "Stochastic Optimizer: Maximum iterations (200) reached and the optimization hasn't converged yet.\n",
      "\n",
      "/Users/flodje_uds/anaconda3/envs/GCC_DL_Endocrinology/lib/python3.9/site-packages/sklearn/neural_network/_multilayer_perceptron.py:690: ConvergenceWarning:\n",
      "\n",
      "Stochastic Optimizer: Maximum iterations (200) reached and the optimization hasn't converged yet.\n",
      "\n",
      "/Users/flodje_uds/anaconda3/envs/GCC_DL_Endocrinology/lib/python3.9/site-packages/sklearn/neural_network/_multilayer_perceptron.py:690: ConvergenceWarning:\n",
      "\n",
      "Stochastic Optimizer: Maximum iterations (200) reached and the optimization hasn't converged yet.\n",
      "\n",
      "/Users/flodje_uds/anaconda3/envs/GCC_DL_Endocrinology/lib/python3.9/site-packages/sklearn/neural_network/_multilayer_perceptron.py:690: ConvergenceWarning:\n",
      "\n",
      "Stochastic Optimizer: Maximum iterations (200) reached and the optimization hasn't converged yet.\n",
      "\n",
      "/Users/flodje_uds/anaconda3/envs/GCC_DL_Endocrinology/lib/python3.9/site-packages/sklearn/neural_network/_multilayer_perceptron.py:690: ConvergenceWarning:\n",
      "\n",
      "Stochastic Optimizer: Maximum iterations (200) reached and the optimization hasn't converged yet.\n",
      "\n",
      "/Users/flodje_uds/anaconda3/envs/GCC_DL_Endocrinology/lib/python3.9/site-packages/sklearn/neural_network/_multilayer_perceptron.py:690: ConvergenceWarning:\n",
      "\n",
      "Stochastic Optimizer: Maximum iterations (200) reached and the optimization hasn't converged yet.\n",
      "\n",
      "/Users/flodje_uds/anaconda3/envs/GCC_DL_Endocrinology/lib/python3.9/site-packages/sklearn/neural_network/_multilayer_perceptron.py:690: ConvergenceWarning:\n",
      "\n",
      "Stochastic Optimizer: Maximum iterations (200) reached and the optimization hasn't converged yet.\n",
      "\n",
      "/Users/flodje_uds/anaconda3/envs/GCC_DL_Endocrinology/lib/python3.9/site-packages/sklearn/neural_network/_multilayer_perceptron.py:690: ConvergenceWarning:\n",
      "\n",
      "Stochastic Optimizer: Maximum iterations (200) reached and the optimization hasn't converged yet.\n",
      "\n",
      "/Users/flodje_uds/anaconda3/envs/GCC_DL_Endocrinology/lib/python3.9/site-packages/sklearn/neural_network/_multilayer_perceptron.py:690: ConvergenceWarning:\n",
      "\n",
      "Stochastic Optimizer: Maximum iterations (200) reached and the optimization hasn't converged yet.\n",
      "\n",
      "/Users/flodje_uds/anaconda3/envs/GCC_DL_Endocrinology/lib/python3.9/site-packages/sklearn/neural_network/_multilayer_perceptron.py:690: ConvergenceWarning:\n",
      "\n",
      "Stochastic Optimizer: Maximum iterations (200) reached and the optimization hasn't converged yet.\n",
      "\n",
      "/Users/flodje_uds/anaconda3/envs/GCC_DL_Endocrinology/lib/python3.9/site-packages/sklearn/neural_network/_multilayer_perceptron.py:690: ConvergenceWarning:\n",
      "\n",
      "Stochastic Optimizer: Maximum iterations (200) reached and the optimization hasn't converged yet.\n",
      "\n",
      "/Users/flodje_uds/anaconda3/envs/GCC_DL_Endocrinology/lib/python3.9/site-packages/sklearn/neural_network/_multilayer_perceptron.py:690: ConvergenceWarning:\n",
      "\n",
      "Stochastic Optimizer: Maximum iterations (200) reached and the optimization hasn't converged yet.\n",
      "\n",
      "/Users/flodje_uds/anaconda3/envs/GCC_DL_Endocrinology/lib/python3.9/site-packages/sklearn/neural_network/_multilayer_perceptron.py:690: ConvergenceWarning:\n",
      "\n",
      "Stochastic Optimizer: Maximum iterations (200) reached and the optimization hasn't converged yet.\n",
      "\n",
      "/Users/flodje_uds/anaconda3/envs/GCC_DL_Endocrinology/lib/python3.9/site-packages/sklearn/neural_network/_multilayer_perceptron.py:690: ConvergenceWarning:\n",
      "\n",
      "Stochastic Optimizer: Maximum iterations (200) reached and the optimization hasn't converged yet.\n",
      "\n",
      "/Users/flodje_uds/anaconda3/envs/GCC_DL_Endocrinology/lib/python3.9/site-packages/sklearn/neural_network/_multilayer_perceptron.py:690: ConvergenceWarning:\n",
      "\n",
      "Stochastic Optimizer: Maximum iterations (200) reached and the optimization hasn't converged yet.\n",
      "\n",
      "/Users/flodje_uds/anaconda3/envs/GCC_DL_Endocrinology/lib/python3.9/site-packages/sklearn/neural_network/_multilayer_perceptron.py:690: ConvergenceWarning:\n",
      "\n",
      "Stochastic Optimizer: Maximum iterations (200) reached and the optimization hasn't converged yet.\n",
      "\n",
      "/Users/flodje_uds/anaconda3/envs/GCC_DL_Endocrinology/lib/python3.9/site-packages/sklearn/neural_network/_multilayer_perceptron.py:690: ConvergenceWarning:\n",
      "\n",
      "Stochastic Optimizer: Maximum iterations (200) reached and the optimization hasn't converged yet.\n",
      "\n",
      "/Users/flodje_uds/anaconda3/envs/GCC_DL_Endocrinology/lib/python3.9/site-packages/sklearn/neural_network/_multilayer_perceptron.py:690: ConvergenceWarning:\n",
      "\n",
      "Stochastic Optimizer: Maximum iterations (200) reached and the optimization hasn't converged yet.\n",
      "\n",
      "/Users/flodje_uds/anaconda3/envs/GCC_DL_Endocrinology/lib/python3.9/site-packages/sklearn/neural_network/_multilayer_perceptron.py:690: ConvergenceWarning:\n",
      "\n",
      "Stochastic Optimizer: Maximum iterations (200) reached and the optimization hasn't converged yet.\n",
      "\n",
      "/Users/flodje_uds/anaconda3/envs/GCC_DL_Endocrinology/lib/python3.9/site-packages/sklearn/neural_network/_multilayer_perceptron.py:690: ConvergenceWarning:\n",
      "\n",
      "Stochastic Optimizer: Maximum iterations (200) reached and the optimization hasn't converged yet.\n",
      "\n",
      "/Users/flodje_uds/anaconda3/envs/GCC_DL_Endocrinology/lib/python3.9/site-packages/sklearn/neural_network/_multilayer_perceptron.py:690: ConvergenceWarning:\n",
      "\n",
      "Stochastic Optimizer: Maximum iterations (200) reached and the optimization hasn't converged yet.\n",
      "\n",
      "/Users/flodje_uds/anaconda3/envs/GCC_DL_Endocrinology/lib/python3.9/site-packages/sklearn/neural_network/_multilayer_perceptron.py:690: ConvergenceWarning:\n",
      "\n",
      "Stochastic Optimizer: Maximum iterations (200) reached and the optimization hasn't converged yet.\n",
      "\n",
      "/Users/flodje_uds/anaconda3/envs/GCC_DL_Endocrinology/lib/python3.9/site-packages/sklearn/neural_network/_multilayer_perceptron.py:690: ConvergenceWarning:\n",
      "\n",
      "Stochastic Optimizer: Maximum iterations (200) reached and the optimization hasn't converged yet.\n",
      "\n",
      "/Users/flodje_uds/anaconda3/envs/GCC_DL_Endocrinology/lib/python3.9/site-packages/sklearn/neural_network/_multilayer_perceptron.py:690: ConvergenceWarning:\n",
      "\n",
      "Stochastic Optimizer: Maximum iterations (200) reached and the optimization hasn't converged yet.\n",
      "\n",
      "/Users/flodje_uds/anaconda3/envs/GCC_DL_Endocrinology/lib/python3.9/site-packages/sklearn/neural_network/_multilayer_perceptron.py:690: ConvergenceWarning:\n",
      "\n",
      "Stochastic Optimizer: Maximum iterations (200) reached and the optimization hasn't converged yet.\n",
      "\n",
      "/Users/flodje_uds/anaconda3/envs/GCC_DL_Endocrinology/lib/python3.9/site-packages/sklearn/neural_network/_multilayer_perceptron.py:690: ConvergenceWarning:\n",
      "\n",
      "Stochastic Optimizer: Maximum iterations (200) reached and the optimization hasn't converged yet.\n",
      "\n",
      "/Users/flodje_uds/anaconda3/envs/GCC_DL_Endocrinology/lib/python3.9/site-packages/sklearn/neural_network/_multilayer_perceptron.py:690: ConvergenceWarning:\n",
      "\n",
      "Stochastic Optimizer: Maximum iterations (200) reached and the optimization hasn't converged yet.\n",
      "\n",
      "/Users/flodje_uds/anaconda3/envs/GCC_DL_Endocrinology/lib/python3.9/site-packages/sklearn/neural_network/_multilayer_perceptron.py:690: ConvergenceWarning:\n",
      "\n",
      "Stochastic Optimizer: Maximum iterations (200) reached and the optimization hasn't converged yet.\n",
      "\n",
      "/Users/flodje_uds/anaconda3/envs/GCC_DL_Endocrinology/lib/python3.9/site-packages/sklearn/neural_network/_multilayer_perceptron.py:690: ConvergenceWarning:\n",
      "\n",
      "Stochastic Optimizer: Maximum iterations (200) reached and the optimization hasn't converged yet.\n",
      "\n",
      "/Users/flodje_uds/anaconda3/envs/GCC_DL_Endocrinology/lib/python3.9/site-packages/sklearn/neural_network/_multilayer_perceptron.py:690: ConvergenceWarning:\n",
      "\n",
      "Stochastic Optimizer: Maximum iterations (200) reached and the optimization hasn't converged yet.\n",
      "\n",
      "/Users/flodje_uds/anaconda3/envs/GCC_DL_Endocrinology/lib/python3.9/site-packages/sklearn/neural_network/_multilayer_perceptron.py:690: ConvergenceWarning:\n",
      "\n",
      "Stochastic Optimizer: Maximum iterations (200) reached and the optimization hasn't converged yet.\n",
      "\n",
      "/Users/flodje_uds/anaconda3/envs/GCC_DL_Endocrinology/lib/python3.9/site-packages/sklearn/neural_network/_multilayer_perceptron.py:690: ConvergenceWarning:\n",
      "\n",
      "Stochastic Optimizer: Maximum iterations (200) reached and the optimization hasn't converged yet.\n",
      "\n",
      "/Users/flodje_uds/anaconda3/envs/GCC_DL_Endocrinology/lib/python3.9/site-packages/sklearn/neural_network/_multilayer_perceptron.py:690: ConvergenceWarning:\n",
      "\n",
      "Stochastic Optimizer: Maximum iterations (200) reached and the optimization hasn't converged yet.\n",
      "\n",
      "/Users/flodje_uds/anaconda3/envs/GCC_DL_Endocrinology/lib/python3.9/site-packages/sklearn/neural_network/_multilayer_perceptron.py:690: ConvergenceWarning:\n",
      "\n",
      "Stochastic Optimizer: Maximum iterations (200) reached and the optimization hasn't converged yet.\n",
      "\n",
      "/Users/flodje_uds/anaconda3/envs/GCC_DL_Endocrinology/lib/python3.9/site-packages/sklearn/neural_network/_multilayer_perceptron.py:690: ConvergenceWarning:\n",
      "\n",
      "Stochastic Optimizer: Maximum iterations (200) reached and the optimization hasn't converged yet.\n",
      "\n",
      "/Users/flodje_uds/anaconda3/envs/GCC_DL_Endocrinology/lib/python3.9/site-packages/sklearn/neural_network/_multilayer_perceptron.py:690: ConvergenceWarning:\n",
      "\n",
      "Stochastic Optimizer: Maximum iterations (200) reached and the optimization hasn't converged yet.\n",
      "\n",
      "/Users/flodje_uds/anaconda3/envs/GCC_DL_Endocrinology/lib/python3.9/site-packages/sklearn/neural_network/_multilayer_perceptron.py:690: ConvergenceWarning:\n",
      "\n",
      "Stochastic Optimizer: Maximum iterations (200) reached and the optimization hasn't converged yet.\n",
      "\n",
      "/Users/flodje_uds/anaconda3/envs/GCC_DL_Endocrinology/lib/python3.9/site-packages/sklearn/neural_network/_multilayer_perceptron.py:690: ConvergenceWarning:\n",
      "\n",
      "Stochastic Optimizer: Maximum iterations (200) reached and the optimization hasn't converged yet.\n",
      "\n",
      "/Users/flodje_uds/anaconda3/envs/GCC_DL_Endocrinology/lib/python3.9/site-packages/sklearn/neural_network/_multilayer_perceptron.py:690: ConvergenceWarning:\n",
      "\n",
      "Stochastic Optimizer: Maximum iterations (200) reached and the optimization hasn't converged yet.\n",
      "\n",
      "/Users/flodje_uds/anaconda3/envs/GCC_DL_Endocrinology/lib/python3.9/site-packages/sklearn/neural_network/_multilayer_perceptron.py:690: ConvergenceWarning:\n",
      "\n",
      "Stochastic Optimizer: Maximum iterations (200) reached and the optimization hasn't converged yet.\n",
      "\n",
      "/Users/flodje_uds/anaconda3/envs/GCC_DL_Endocrinology/lib/python3.9/site-packages/sklearn/neural_network/_multilayer_perceptron.py:690: ConvergenceWarning:\n",
      "\n",
      "Stochastic Optimizer: Maximum iterations (200) reached and the optimization hasn't converged yet.\n",
      "\n",
      "/Users/flodje_uds/anaconda3/envs/GCC_DL_Endocrinology/lib/python3.9/site-packages/sklearn/neural_network/_multilayer_perceptron.py:690: ConvergenceWarning:\n",
      "\n",
      "Stochastic Optimizer: Maximum iterations (200) reached and the optimization hasn't converged yet.\n",
      "\n",
      "/Users/flodje_uds/anaconda3/envs/GCC_DL_Endocrinology/lib/python3.9/site-packages/sklearn/neural_network/_multilayer_perceptron.py:690: ConvergenceWarning:\n",
      "\n",
      "Stochastic Optimizer: Maximum iterations (200) reached and the optimization hasn't converged yet.\n",
      "\n",
      "/Users/flodje_uds/anaconda3/envs/GCC_DL_Endocrinology/lib/python3.9/site-packages/sklearn/neural_network/_multilayer_perceptron.py:690: ConvergenceWarning:\n",
      "\n",
      "Stochastic Optimizer: Maximum iterations (200) reached and the optimization hasn't converged yet.\n",
      "\n",
      "/Users/flodje_uds/anaconda3/envs/GCC_DL_Endocrinology/lib/python3.9/site-packages/sklearn/neural_network/_multilayer_perceptron.py:690: ConvergenceWarning:\n",
      "\n",
      "Stochastic Optimizer: Maximum iterations (200) reached and the optimization hasn't converged yet.\n",
      "\n",
      "/Users/flodje_uds/anaconda3/envs/GCC_DL_Endocrinology/lib/python3.9/site-packages/sklearn/neural_network/_multilayer_perceptron.py:690: ConvergenceWarning:\n",
      "\n",
      "Stochastic Optimizer: Maximum iterations (200) reached and the optimization hasn't converged yet.\n",
      "\n",
      "/Users/flodje_uds/anaconda3/envs/GCC_DL_Endocrinology/lib/python3.9/site-packages/sklearn/neural_network/_multilayer_perceptron.py:690: ConvergenceWarning:\n",
      "\n",
      "Stochastic Optimizer: Maximum iterations (200) reached and the optimization hasn't converged yet.\n",
      "\n",
      "/Users/flodje_uds/anaconda3/envs/GCC_DL_Endocrinology/lib/python3.9/site-packages/sklearn/neural_network/_multilayer_perceptron.py:690: ConvergenceWarning:\n",
      "\n",
      "Stochastic Optimizer: Maximum iterations (200) reached and the optimization hasn't converged yet.\n",
      "\n",
      "/Users/flodje_uds/anaconda3/envs/GCC_DL_Endocrinology/lib/python3.9/site-packages/sklearn/neural_network/_multilayer_perceptron.py:690: ConvergenceWarning:\n",
      "\n",
      "Stochastic Optimizer: Maximum iterations (200) reached and the optimization hasn't converged yet.\n",
      "\n",
      "/Users/flodje_uds/anaconda3/envs/GCC_DL_Endocrinology/lib/python3.9/site-packages/sklearn/neural_network/_multilayer_perceptron.py:690: ConvergenceWarning:\n",
      "\n",
      "Stochastic Optimizer: Maximum iterations (200) reached and the optimization hasn't converged yet.\n",
      "\n",
      "/Users/flodje_uds/anaconda3/envs/GCC_DL_Endocrinology/lib/python3.9/site-packages/sklearn/neural_network/_multilayer_perceptron.py:690: ConvergenceWarning:\n",
      "\n",
      "Stochastic Optimizer: Maximum iterations (200) reached and the optimization hasn't converged yet.\n",
      "\n",
      "/Users/flodje_uds/anaconda3/envs/GCC_DL_Endocrinology/lib/python3.9/site-packages/sklearn/neural_network/_multilayer_perceptron.py:690: ConvergenceWarning:\n",
      "\n",
      "Stochastic Optimizer: Maximum iterations (200) reached and the optimization hasn't converged yet.\n",
      "\n",
      "/Users/flodje_uds/anaconda3/envs/GCC_DL_Endocrinology/lib/python3.9/site-packages/sklearn/neural_network/_multilayer_perceptron.py:690: ConvergenceWarning:\n",
      "\n",
      "Stochastic Optimizer: Maximum iterations (200) reached and the optimization hasn't converged yet.\n",
      "\n",
      "/Users/flodje_uds/anaconda3/envs/GCC_DL_Endocrinology/lib/python3.9/site-packages/sklearn/neural_network/_multilayer_perceptron.py:690: ConvergenceWarning:\n",
      "\n",
      "Stochastic Optimizer: Maximum iterations (200) reached and the optimization hasn't converged yet.\n",
      "\n",
      "/Users/flodje_uds/anaconda3/envs/GCC_DL_Endocrinology/lib/python3.9/site-packages/sklearn/neural_network/_multilayer_perceptron.py:690: ConvergenceWarning:\n",
      "\n",
      "Stochastic Optimizer: Maximum iterations (200) reached and the optimization hasn't converged yet.\n",
      "\n",
      "/Users/flodje_uds/anaconda3/envs/GCC_DL_Endocrinology/lib/python3.9/site-packages/sklearn/neural_network/_multilayer_perceptron.py:690: ConvergenceWarning:\n",
      "\n",
      "Stochastic Optimizer: Maximum iterations (200) reached and the optimization hasn't converged yet.\n",
      "\n",
      "/Users/flodje_uds/anaconda3/envs/GCC_DL_Endocrinology/lib/python3.9/site-packages/sklearn/neural_network/_multilayer_perceptron.py:690: ConvergenceWarning:\n",
      "\n",
      "Stochastic Optimizer: Maximum iterations (200) reached and the optimization hasn't converged yet.\n",
      "\n",
      "/Users/flodje_uds/anaconda3/envs/GCC_DL_Endocrinology/lib/python3.9/site-packages/sklearn/neural_network/_multilayer_perceptron.py:690: ConvergenceWarning:\n",
      "\n",
      "Stochastic Optimizer: Maximum iterations (200) reached and the optimization hasn't converged yet.\n",
      "\n",
      "/Users/flodje_uds/anaconda3/envs/GCC_DL_Endocrinology/lib/python3.9/site-packages/sklearn/neural_network/_multilayer_perceptron.py:690: ConvergenceWarning:\n",
      "\n",
      "Stochastic Optimizer: Maximum iterations (200) reached and the optimization hasn't converged yet.\n",
      "\n",
      "/Users/flodje_uds/anaconda3/envs/GCC_DL_Endocrinology/lib/python3.9/site-packages/sklearn/neural_network/_multilayer_perceptron.py:690: ConvergenceWarning:\n",
      "\n",
      "Stochastic Optimizer: Maximum iterations (200) reached and the optimization hasn't converged yet.\n",
      "\n",
      "/Users/flodje_uds/anaconda3/envs/GCC_DL_Endocrinology/lib/python3.9/site-packages/sklearn/neural_network/_multilayer_perceptron.py:690: ConvergenceWarning:\n",
      "\n",
      "Stochastic Optimizer: Maximum iterations (200) reached and the optimization hasn't converged yet.\n",
      "\n",
      "/Users/flodje_uds/anaconda3/envs/GCC_DL_Endocrinology/lib/python3.9/site-packages/sklearn/neural_network/_multilayer_perceptron.py:690: ConvergenceWarning:\n",
      "\n",
      "Stochastic Optimizer: Maximum iterations (200) reached and the optimization hasn't converged yet.\n",
      "\n",
      "/Users/flodje_uds/anaconda3/envs/GCC_DL_Endocrinology/lib/python3.9/site-packages/sklearn/neural_network/_multilayer_perceptron.py:690: ConvergenceWarning:\n",
      "\n",
      "Stochastic Optimizer: Maximum iterations (200) reached and the optimization hasn't converged yet.\n",
      "\n",
      "/Users/flodje_uds/anaconda3/envs/GCC_DL_Endocrinology/lib/python3.9/site-packages/sklearn/neural_network/_multilayer_perceptron.py:690: ConvergenceWarning:\n",
      "\n",
      "Stochastic Optimizer: Maximum iterations (200) reached and the optimization hasn't converged yet.\n",
      "\n",
      "/Users/flodje_uds/anaconda3/envs/GCC_DL_Endocrinology/lib/python3.9/site-packages/sklearn/neural_network/_multilayer_perceptron.py:690: ConvergenceWarning:\n",
      "\n",
      "Stochastic Optimizer: Maximum iterations (200) reached and the optimization hasn't converged yet.\n",
      "\n",
      "/Users/flodje_uds/anaconda3/envs/GCC_DL_Endocrinology/lib/python3.9/site-packages/sklearn/neural_network/_multilayer_perceptron.py:690: ConvergenceWarning:\n",
      "\n",
      "Stochastic Optimizer: Maximum iterations (200) reached and the optimization hasn't converged yet.\n",
      "\n",
      "/Users/flodje_uds/anaconda3/envs/GCC_DL_Endocrinology/lib/python3.9/site-packages/sklearn/neural_network/_multilayer_perceptron.py:690: ConvergenceWarning:\n",
      "\n",
      "Stochastic Optimizer: Maximum iterations (200) reached and the optimization hasn't converged yet.\n",
      "\n",
      "/Users/flodje_uds/anaconda3/envs/GCC_DL_Endocrinology/lib/python3.9/site-packages/sklearn/neural_network/_multilayer_perceptron.py:690: ConvergenceWarning:\n",
      "\n",
      "Stochastic Optimizer: Maximum iterations (200) reached and the optimization hasn't converged yet.\n",
      "\n",
      "/Users/flodje_uds/anaconda3/envs/GCC_DL_Endocrinology/lib/python3.9/site-packages/sklearn/neural_network/_multilayer_perceptron.py:690: ConvergenceWarning:\n",
      "\n",
      "Stochastic Optimizer: Maximum iterations (200) reached and the optimization hasn't converged yet.\n",
      "\n",
      "/Users/flodje_uds/anaconda3/envs/GCC_DL_Endocrinology/lib/python3.9/site-packages/sklearn/neural_network/_multilayer_perceptron.py:690: ConvergenceWarning:\n",
      "\n",
      "Stochastic Optimizer: Maximum iterations (200) reached and the optimization hasn't converged yet.\n",
      "\n",
      "/Users/flodje_uds/anaconda3/envs/GCC_DL_Endocrinology/lib/python3.9/site-packages/sklearn/neural_network/_multilayer_perceptron.py:690: ConvergenceWarning:\n",
      "\n",
      "Stochastic Optimizer: Maximum iterations (200) reached and the optimization hasn't converged yet.\n",
      "\n",
      "/Users/flodje_uds/anaconda3/envs/GCC_DL_Endocrinology/lib/python3.9/site-packages/sklearn/neural_network/_multilayer_perceptron.py:690: ConvergenceWarning:\n",
      "\n",
      "Stochastic Optimizer: Maximum iterations (150) reached and the optimization hasn't converged yet.\n",
      "\n",
      "/Users/flodje_uds/anaconda3/envs/GCC_DL_Endocrinology/lib/python3.9/site-packages/sklearn/neural_network/_multilayer_perceptron.py:690: ConvergenceWarning:\n",
      "\n",
      "Stochastic Optimizer: Maximum iterations (150) reached and the optimization hasn't converged yet.\n",
      "\n",
      "/Users/flodje_uds/anaconda3/envs/GCC_DL_Endocrinology/lib/python3.9/site-packages/sklearn/neural_network/_multilayer_perceptron.py:690: ConvergenceWarning:\n",
      "\n",
      "Stochastic Optimizer: Maximum iterations (150) reached and the optimization hasn't converged yet.\n",
      "\n",
      "/Users/flodje_uds/anaconda3/envs/GCC_DL_Endocrinology/lib/python3.9/site-packages/sklearn/neural_network/_multilayer_perceptron.py:690: ConvergenceWarning:\n",
      "\n",
      "Stochastic Optimizer: Maximum iterations (150) reached and the optimization hasn't converged yet.\n",
      "\n",
      "/Users/flodje_uds/anaconda3/envs/GCC_DL_Endocrinology/lib/python3.9/site-packages/sklearn/neural_network/_multilayer_perceptron.py:690: ConvergenceWarning:\n",
      "\n",
      "Stochastic Optimizer: Maximum iterations (150) reached and the optimization hasn't converged yet.\n",
      "\n",
      "/Users/flodje_uds/anaconda3/envs/GCC_DL_Endocrinology/lib/python3.9/site-packages/sklearn/neural_network/_multilayer_perceptron.py:690: ConvergenceWarning:\n",
      "\n",
      "Stochastic Optimizer: Maximum iterations (200) reached and the optimization hasn't converged yet.\n",
      "\n",
      "/Users/flodje_uds/anaconda3/envs/GCC_DL_Endocrinology/lib/python3.9/site-packages/sklearn/neural_network/_multilayer_perceptron.py:690: ConvergenceWarning:\n",
      "\n",
      "Stochastic Optimizer: Maximum iterations (200) reached and the optimization hasn't converged yet.\n",
      "\n",
      "/Users/flodje_uds/anaconda3/envs/GCC_DL_Endocrinology/lib/python3.9/site-packages/sklearn/neural_network/_multilayer_perceptron.py:690: ConvergenceWarning:\n",
      "\n",
      "Stochastic Optimizer: Maximum iterations (200) reached and the optimization hasn't converged yet.\n",
      "\n",
      "/Users/flodje_uds/anaconda3/envs/GCC_DL_Endocrinology/lib/python3.9/site-packages/sklearn/neural_network/_multilayer_perceptron.py:690: ConvergenceWarning:\n",
      "\n",
      "Stochastic Optimizer: Maximum iterations (200) reached and the optimization hasn't converged yet.\n",
      "\n",
      "/Users/flodje_uds/anaconda3/envs/GCC_DL_Endocrinology/lib/python3.9/site-packages/sklearn/neural_network/_multilayer_perceptron.py:690: ConvergenceWarning:\n",
      "\n",
      "Stochastic Optimizer: Maximum iterations (200) reached and the optimization hasn't converged yet.\n",
      "\n",
      "/Users/flodje_uds/anaconda3/envs/GCC_DL_Endocrinology/lib/python3.9/site-packages/sklearn/neural_network/_multilayer_perceptron.py:690: ConvergenceWarning:\n",
      "\n",
      "Stochastic Optimizer: Maximum iterations (200) reached and the optimization hasn't converged yet.\n",
      "\n",
      "/Users/flodje_uds/anaconda3/envs/GCC_DL_Endocrinology/lib/python3.9/site-packages/sklearn/neural_network/_multilayer_perceptron.py:690: ConvergenceWarning:\n",
      "\n",
      "Stochastic Optimizer: Maximum iterations (200) reached and the optimization hasn't converged yet.\n",
      "\n",
      "/Users/flodje_uds/anaconda3/envs/GCC_DL_Endocrinology/lib/python3.9/site-packages/sklearn/neural_network/_multilayer_perceptron.py:690: ConvergenceWarning:\n",
      "\n",
      "Stochastic Optimizer: Maximum iterations (200) reached and the optimization hasn't converged yet.\n",
      "\n",
      "/Users/flodje_uds/anaconda3/envs/GCC_DL_Endocrinology/lib/python3.9/site-packages/sklearn/neural_network/_multilayer_perceptron.py:690: ConvergenceWarning:\n",
      "\n",
      "Stochastic Optimizer: Maximum iterations (200) reached and the optimization hasn't converged yet.\n",
      "\n",
      "/Users/flodje_uds/anaconda3/envs/GCC_DL_Endocrinology/lib/python3.9/site-packages/sklearn/neural_network/_multilayer_perceptron.py:690: ConvergenceWarning:\n",
      "\n",
      "Stochastic Optimizer: Maximum iterations (200) reached and the optimization hasn't converged yet.\n",
      "\n",
      "/Users/flodje_uds/anaconda3/envs/GCC_DL_Endocrinology/lib/python3.9/site-packages/sklearn/neural_network/_multilayer_perceptron.py:690: ConvergenceWarning:\n",
      "\n",
      "Stochastic Optimizer: Maximum iterations (200) reached and the optimization hasn't converged yet.\n",
      "\n",
      "/Users/flodje_uds/anaconda3/envs/GCC_DL_Endocrinology/lib/python3.9/site-packages/sklearn/neural_network/_multilayer_perceptron.py:690: ConvergenceWarning:\n",
      "\n",
      "Stochastic Optimizer: Maximum iterations (200) reached and the optimization hasn't converged yet.\n",
      "\n",
      "/Users/flodje_uds/anaconda3/envs/GCC_DL_Endocrinology/lib/python3.9/site-packages/sklearn/neural_network/_multilayer_perceptron.py:690: ConvergenceWarning:\n",
      "\n",
      "Stochastic Optimizer: Maximum iterations (200) reached and the optimization hasn't converged yet.\n",
      "\n",
      "/Users/flodje_uds/anaconda3/envs/GCC_DL_Endocrinology/lib/python3.9/site-packages/sklearn/neural_network/_multilayer_perceptron.py:690: ConvergenceWarning:\n",
      "\n",
      "Stochastic Optimizer: Maximum iterations (200) reached and the optimization hasn't converged yet.\n",
      "\n",
      "/Users/flodje_uds/anaconda3/envs/GCC_DL_Endocrinology/lib/python3.9/site-packages/sklearn/neural_network/_multilayer_perceptron.py:690: ConvergenceWarning:\n",
      "\n",
      "Stochastic Optimizer: Maximum iterations (200) reached and the optimization hasn't converged yet.\n",
      "\n"
     ]
    }
   ],
   "source": [
    "best_estimator_morpho_mlpc = MLPC_cross_validation(X_train,y_train_activities)\n"
   ]
  },
  {
   "cell_type": "code",
   "execution_count": null,
   "metadata": {},
   "outputs": [
    {
     "name": "stderr",
     "output_type": "stream",
     "text": [
      "/Users/flodje_uds/anaconda3/envs/GCC_DL_Endocrinology/lib/python3.9/site-packages/sklearn/neural_network/_multilayer_perceptron.py:690: ConvergenceWarning:\n",
      "\n",
      "Stochastic Optimizer: Maximum iterations (200) reached and the optimization hasn't converged yet.\n",
      "\n",
      "/Users/flodje_uds/anaconda3/envs/GCC_DL_Endocrinology/lib/python3.9/site-packages/sklearn/neural_network/_multilayer_perceptron.py:690: ConvergenceWarning:\n",
      "\n",
      "Stochastic Optimizer: Maximum iterations (200) reached and the optimization hasn't converged yet.\n",
      "\n",
      "/Users/flodje_uds/anaconda3/envs/GCC_DL_Endocrinology/lib/python3.9/site-packages/sklearn/neural_network/_multilayer_perceptron.py:690: ConvergenceWarning:\n",
      "\n",
      "Stochastic Optimizer: Maximum iterations (200) reached and the optimization hasn't converged yet.\n",
      "\n",
      "/Users/flodje_uds/anaconda3/envs/GCC_DL_Endocrinology/lib/python3.9/site-packages/sklearn/neural_network/_multilayer_perceptron.py:690: ConvergenceWarning:\n",
      "\n",
      "Stochastic Optimizer: Maximum iterations (200) reached and the optimization hasn't converged yet.\n",
      "\n",
      "/Users/flodje_uds/anaconda3/envs/GCC_DL_Endocrinology/lib/python3.9/site-packages/sklearn/neural_network/_multilayer_perceptron.py:690: ConvergenceWarning:\n",
      "\n",
      "Stochastic Optimizer: Maximum iterations (200) reached and the optimization hasn't converged yet.\n",
      "\n",
      "/Users/flodje_uds/anaconda3/envs/GCC_DL_Endocrinology/lib/python3.9/site-packages/sklearn/neural_network/_multilayer_perceptron.py:690: ConvergenceWarning:\n",
      "\n",
      "Stochastic Optimizer: Maximum iterations (200) reached and the optimization hasn't converged yet.\n",
      "\n",
      "/Users/flodje_uds/anaconda3/envs/GCC_DL_Endocrinology/lib/python3.9/site-packages/sklearn/neural_network/_multilayer_perceptron.py:690: ConvergenceWarning:\n",
      "\n",
      "Stochastic Optimizer: Maximum iterations (200) reached and the optimization hasn't converged yet.\n",
      "\n",
      "/Users/flodje_uds/anaconda3/envs/GCC_DL_Endocrinology/lib/python3.9/site-packages/sklearn/neural_network/_multilayer_perceptron.py:690: ConvergenceWarning:\n",
      "\n",
      "Stochastic Optimizer: Maximum iterations (200) reached and the optimization hasn't converged yet.\n",
      "\n",
      "/Users/flodje_uds/anaconda3/envs/GCC_DL_Endocrinology/lib/python3.9/site-packages/sklearn/neural_network/_multilayer_perceptron.py:690: ConvergenceWarning:\n",
      "\n",
      "Stochastic Optimizer: Maximum iterations (200) reached and the optimization hasn't converged yet.\n",
      "\n",
      "/Users/flodje_uds/anaconda3/envs/GCC_DL_Endocrinology/lib/python3.9/site-packages/sklearn/neural_network/_multilayer_perceptron.py:690: ConvergenceWarning:\n",
      "\n",
      "Stochastic Optimizer: Maximum iterations (200) reached and the optimization hasn't converged yet.\n",
      "\n",
      "/Users/flodje_uds/anaconda3/envs/GCC_DL_Endocrinology/lib/python3.9/site-packages/sklearn/neural_network/_multilayer_perceptron.py:690: ConvergenceWarning:\n",
      "\n",
      "Stochastic Optimizer: Maximum iterations (200) reached and the optimization hasn't converged yet.\n",
      "\n",
      "/Users/flodje_uds/anaconda3/envs/GCC_DL_Endocrinology/lib/python3.9/site-packages/sklearn/neural_network/_multilayer_perceptron.py:690: ConvergenceWarning:\n",
      "\n",
      "Stochastic Optimizer: Maximum iterations (200) reached and the optimization hasn't converged yet.\n",
      "\n",
      "/Users/flodje_uds/anaconda3/envs/GCC_DL_Endocrinology/lib/python3.9/site-packages/sklearn/neural_network/_multilayer_perceptron.py:690: ConvergenceWarning:\n",
      "\n",
      "Stochastic Optimizer: Maximum iterations (200) reached and the optimization hasn't converged yet.\n",
      "\n",
      "/Users/flodje_uds/anaconda3/envs/GCC_DL_Endocrinology/lib/python3.9/site-packages/sklearn/neural_network/_multilayer_perceptron.py:690: ConvergenceWarning:\n",
      "\n",
      "Stochastic Optimizer: Maximum iterations (200) reached and the optimization hasn't converged yet.\n",
      "\n",
      "/Users/flodje_uds/anaconda3/envs/GCC_DL_Endocrinology/lib/python3.9/site-packages/sklearn/neural_network/_multilayer_perceptron.py:690: ConvergenceWarning:\n",
      "\n",
      "Stochastic Optimizer: Maximum iterations (200) reached and the optimization hasn't converged yet.\n",
      "\n"
     ]
    }
   ],
   "source": [
    "best_estimator_struct_mlpc = MLPC_cross_validation(X_train_struct_fps,y_train_activities)"
   ]
  },
  {
   "cell_type": "code",
   "execution_count": null,
   "metadata": {},
   "outputs": [],
   "source": [
    "combined_train = np.concatenate([X_train.values,fingerprint_train_df.values],axis=1)\n",
    "combined_test = np.concatenate([X_test.values,fingerprint_test_df.values],axis=1)\n",
    "best_estimator_combined = rf_cross_validation(combined_train, y_train_activities)\n",
    "best_estimator_combined_mlpc = MLPC_cross_validation(combined_train, y_train_activities)"
   ]
  },
  {
   "cell_type": "markdown",
   "metadata": {},
   "source": [
    "## Model Instantiation and Evaluation Function"
   ]
  },
  {
   "cell_type": "code",
   "execution_count": 49,
   "metadata": {},
   "outputs": [],
   "source": [
    "models = {\n",
    "    \"RF\"         : [RandomForestClassifier(random_state=42,class_weight ='balanced')], ##default\n",
    "    \"RF_morpho\"  : [best_estimator_morpho] ,\n",
    "    \"RF_struct\"  : [best_estimator_struct],\n",
    "    \"RF_combined\": [best_estimator_combined],\n",
    "\n",
    "    \"MLPC\"       : [MLPClassifier(random_state=42)],  ##default\n",
    "    \"MLP_morpho\"  : [best_estimator_morpho_mlpc ],\n",
    "    \"MLP_struct\"  : [best_estimator_struct_mlpc],\n",
    "    \"MLP_combined\": [best_estimator_combined_mlpc]\n",
    "}\n",
    "\n",
    "def evaluate_model(y_test,y_pred,y_train,train_pred,check=False) :\n",
    "    \n",
    "    '''\n",
    "    Compute and asses a model with acc balanced acc and f1 metrics \n",
    "        Parameters : \n",
    "            y_test: test to predict \n",
    "            y_pred: pred made by the model\n",
    "        Returns : \n",
    "            classification report \n",
    "    '''    \n",
    "    \n",
    "    ba = balanced_accuracy_score(y_test,y_pred)\n",
    "    mcc = matthews_corrcoef(y_pred=y_pred, y_true=y_test)\n",
    "\n",
    "    print(f'Evaluation of predicition made on Test set : ')\n",
    "    print(f'Metrics to evaluate the model:\\n Balanced accuracy : {ba*100:.2f} % ,\\n MCC : {mcc:.3f}.')\n",
    "    print(f'Summary metrics in a cross table:\\n')\n",
    "    print(classification_report(y_test, y_pred, zero_division=0))\n",
    "    if check == True :\n",
    "        #overfitting and underfitting check\n",
    "        acc = balanced_accuracy_score(y_train,train_pred)\n",
    "        MCC = matthews_corrcoef(y_pred=train_pred, y_true=y_train)\n",
    "        print(f'Accuracy on the train set : {acc*100:.2f} %')\n",
    "        print(f'MCC on the train set : {MCC:.2f} %')\n",
    "\n",
    "   \n",
    "\n",
    "def make_predictions(models_dict ,selected_model,X_train,X_test,y_test,y_train) :\n",
    "\n",
    "    '''\n",
    "    Function to call to evaluate the model and do a cross val \n",
    "        Parameters : \n",
    "            models_dict (dictionary): dict of defined architecture and its parameters\n",
    "            selected_model (str): name of the model to choose\n",
    "            y_test : vector to predict either morphological or structural fingerprint or both \n",
    "    '''      \n",
    "\n",
    "            \n",
    "    if selected_model in models_dict :\n",
    "        model = models_dict[selected_model][0]\n",
    "\n",
    "    #learn by fitting the model on the trainset \n",
    "    model.fit(X_train,y_train) \n",
    "    \n",
    "    #compute prediction on test set \n",
    "    predictions = model.predict(X_test)\n",
    "    predictions_train = model.predict(X_train)\n",
    "    evaluate_model(y_test,predictions,y_train,predictions_train,check=True)     \n",
    "    return model\n",
    "\n"
   ]
  },
  {
   "cell_type": "markdown",
   "metadata": {},
   "source": [
    "## Features importances for RF model"
   ]
  },
  {
   "cell_type": "code",
   "execution_count": 50,
   "metadata": {},
   "outputs": [],
   "source": [
    "# make function for the features importance and plot it\n",
    "def features_importance(model,features):\n",
    "    '''\n",
    "    Compute the features importance of a model \n",
    "        Parameters : \n",
    "            model : model to evaluate\n",
    "            features : features used for the model \n",
    "        Returns : \n",
    "            feature importance \n",
    "    '''      \n",
    "    feature_importance = model.feature_importances_\n",
    "    feature_importance_df = pd.DataFrame(feature_importance, index=features.columns, columns=['importance'])\n",
    "    feature_importance_df = feature_importance_df.sort_values(by='importance', ascending=False)\n",
    "    feature_importance_df.head(10).plot(kind='bar', figsize=(10, 6), color='skyblue')\n",
    "    return feature_importance_df"
   ]
  },
  {
   "cell_type": "markdown",
   "metadata": {},
   "source": [
    "## Make prediction on test set "
   ]
  },
  {
   "cell_type": "markdown",
   "metadata": {},
   "source": [
    "1. Morphological fingerprint RF"
   ]
  },
  {
   "cell_type": "code",
   "execution_count": null,
   "metadata": {},
   "outputs": [],
   "source": [
    "default_morpho_rf = make_predictions(models,'RF',X_train,X_test,y_test_activities,y_train_activities)\n"
   ]
  },
  {
   "cell_type": "code",
   "execution_count": null,
   "metadata": {},
   "outputs": [],
   "source": [
    "print('Features importance for the morphological model, Random Forest')\n",
    "df = features_importance(default_morpho_rf, X_train)\n"
   ]
  },
  {
   "cell_type": "code",
   "execution_count": 53,
   "metadata": {},
   "outputs": [],
   "source": [
    "morpho_model_rf = make_predictions(models,'RF_morpho',X_train,X_test,y_test_activities,y_train_activities)"
   ]
  },
  {
   "cell_type": "markdown",
   "metadata": {},
   "source": [
    "2. Morphological fingerprint MLPC"
   ]
  },
  {
   "cell_type": "code",
   "execution_count": null,
   "metadata": {},
   "outputs": [],
   "source": [
    "default_morpho_MLPC = make_predictions(models,'MLPC',X_train,X_test,y_test_activities,y_train_activities)"
   ]
  },
  {
   "cell_type": "code",
   "execution_count": 55,
   "metadata": {},
   "outputs": [],
   "source": [
    "morpho_MLPC = make_predictions(models,'MLP_morpho',X_train,X_test,y_test_activities,y_train_activities)"
   ]
  },
  {
   "cell_type": "markdown",
   "metadata": {},
   "source": [
    "1.B Structural fingerprint"
   ]
  },
  {
   "cell_type": "code",
   "execution_count": null,
   "metadata": {},
   "outputs": [],
   "source": [
    "default_struct_rf = make_predictions(models,'RF',X_train_struct_fps,X_test_struct_fps,y_test_activities,y_train_activities)"
   ]
  },
  {
   "cell_type": "code",
   "execution_count": null,
   "metadata": {},
   "outputs": [],
   "source": [
    "print('Features importance for the structural fingerprnt model, Random Forest')\n",
    "df = features_importance(default_struct_rf,fingerprint_train_df)"
   ]
  },
  {
   "cell_type": "code",
   "execution_count": 58,
   "metadata": {},
   "outputs": [],
   "source": [
    "struct_model_rf = make_predictions(models,'RF_struct',X_train_struct_fps,X_test_struct_fps,y_test_activities,y_train_activities)"
   ]
  },
  {
   "cell_type": "markdown",
   "metadata": {},
   "source": [
    "2.B Structural fingerprint  MLPC"
   ]
  },
  {
   "cell_type": "code",
   "execution_count": 59,
   "metadata": {},
   "outputs": [],
   "source": [
    "default_struct_MLPC = make_predictions(models,'MLPC',X_train_struct_fps,X_test_struct_fps,y_test_activities,y_train_activities)"
   ]
  },
  {
   "cell_type": "code",
   "execution_count": null,
   "metadata": {},
   "outputs": [],
   "source": [
    "struct_MLPC = make_predictions(models,'MLP_struct',X_train_struct_fps,X_test_struct_fps,y_test_activities,y_train_activities)"
   ]
  },
  {
   "cell_type": "markdown",
   "metadata": {},
   "source": [
    "3. Combined "
   ]
  },
  {
   "cell_type": "markdown",
   "metadata": {},
   "source": [
    "First, before running model on combined fingerprint we will append the structural and morphological fineprrint using "
   ]
  },
  {
   "cell_type": "code",
   "execution_count": null,
   "metadata": {},
   "outputs": [],
   "source": [
    "combined_model_rf_default= make_predictions(models,'RF',combined_train,combined_test,y_test_activities,y_train_activities)"
   ]
  },
  {
   "cell_type": "code",
   "execution_count": null,
   "metadata": {},
   "outputs": [],
   "source": [
    "combined_model_rf = make_predictions(models,'RF_combined',combined_train,combined_test,y_test_activities,y_train_activities)"
   ]
  },
  {
   "cell_type": "code",
   "execution_count": null,
   "metadata": {},
   "outputs": [],
   "source": [
    "print('Features importance for combination of models, Random Forest')\n",
    "colnames = pd.concat([X_train, fingerprint_train_df], axis=1).columns\n",
    "combined_train_df= pd.DataFrame(combined_train, columns=colnames)\n",
    "df = features_importance(combined_model_rf,combined_train_df)"
   ]
  },
  {
   "cell_type": "code",
   "execution_count": null,
   "metadata": {},
   "outputs": [],
   "source": [
    "combined_model_MLP_default = make_predictions(models,'MLPC',combined_train,combined_test,y_test_activities,y_train_activities)"
   ]
  },
  {
   "cell_type": "code",
   "execution_count": null,
   "metadata": {},
   "outputs": [],
   "source": [
    "combined_model_MLP = make_predictions(models,'MLP_combined',combined_train,combined_test,y_test_activities,y_train_activities)"
   ]
  },
  {
   "cell_type": "markdown",
   "metadata": {},
   "source": [
    "## Ensemble Model"
   ]
  },
  {
   "cell_type": "markdown",
   "metadata": {},
   "source": [
    "We create an ensembling model using the voting method "
   ]
  },
  {
   "cell_type": "code",
   "execution_count": 66,
   "metadata": {},
   "outputs": [],
   "source": [
    "from sklearn.ensemble import VotingClassifier"
   ]
  },
  {
   "cell_type": "code",
   "execution_count": null,
   "metadata": {},
   "outputs": [],
   "source": [
    "#random forest and mlpc max voting late fusion\n",
    "hybrid_struct_model = VotingClassifier(estimators=[('RF_struct',default_struct_rf), ('MLP', struct_MLPC)], voting='soft')\n",
    "hybrid_struct_model.fit(X_train_struct_fps, y_train_activities)\n",
    "predictions = hybrid_struct_model .predict(X_test_struct_fps)\n",
    "evaluate_model(y_test_activities,predictions,y_train_activities,hybrid_struct_model.predict(X_train_struct_fps),check=True)\n",
    "\n"
   ]
  },
  {
   "cell_type": "code",
   "execution_count": null,
   "metadata": {},
   "outputs": [],
   "source": [
    "#random forest and mlpc max voting late fusion for morphological profile\n",
    "\n",
    "hybrid_morph_model = VotingClassifier(estimators=[('RF_morpho',default_morpho_rf), ('MLPC_morpho', default_morpho_MLPC)], voting='soft')\n",
    "hybrid_morph_model.fit(X_train, y_train_activities)\n",
    "predictions = hybrid_morph_model.predict(X_test)\n",
    "evaluate_model(y_test_activities,predictions,y_train_activities,hybrid_morph_model.predict(X_train),check=True)"
   ]
  }
 ],
 "metadata": {
  "kernelspec": {
   "display_name": "GCC_DL_Endocrinology",
   "language": "python",
   "name": "python3"
  },
  "language_info": {
   "codemirror_mode": {
    "name": "ipython",
    "version": 3
   },
   "file_extension": ".py",
   "mimetype": "text/x-python",
   "name": "python",
   "nbconvert_exporter": "python",
   "pygments_lexer": "ipython3",
   "version": "3.9.20"
  }
 },
 "nbformat": 4,
 "nbformat_minor": 2
}
